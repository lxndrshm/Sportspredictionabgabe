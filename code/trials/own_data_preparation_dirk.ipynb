{
  "cells": [
    {
      "cell_type": "markdown",
      "metadata": {},
      "source": [
        "<a href=\"https://colab.research.google.com/github/DirkStulgies/mlwtSportsPrediction/blob/main/playground/own_data_preparation_dirk.ipynb\"\n",
        " target=\"_parent\"><img src=\"https://colab.research.google.com/assets/colab-badge.svg\" alt=\"Open In Colab\"/></a>"
      ]
    },
    {
      "cell_type": "code",
      "execution_count": null,
      "metadata": {},
      "outputs": [],
      "source": [
        "# Import packages.\n",
        "import os\n",
        "import pandas as pd"
      ]
    },
    {
      "cell_type": "code",
      "execution_count": null,
      "metadata": {},
      "outputs": [],
      "source": [
        "# Define parameters.\n",
        "RESULT_COLUMN = 'result_team1'\n",
        "SCORE_TEAM1_COLUMN = 'score1'\n",
        "SCORE_TEAM2_COLUMN = 'score2'\n",
        "VALUE_HOME_LOST = 0\n",
        "VALUE_HOME_DRAW = 1\n",
        "VALUE_HOME_WON = 2"
      ]
    },
    {
      "cell_type": "code",
      "execution_count": null,
      "metadata": {},
      "outputs": [],
      "source": [
        "# Load the baseline data set.\n",
        "five_projects = pd.read_csv('../data/five_projects_soccer_match_data_modified.csv', delimiter=',', decimal='.') \n",
        "five_projects = five_projects.loc[:, ['season', 'date', 'team1', 'team2', 'score1', 'score2']]\n",
        "\n",
        "five_projects.sort_values(by=['date'], ascending=True, inplace=True)\n",
        "teams = five_projects['team1'].unique()\n",
        "seasons = five_projects['season'].unique()\n",
        "\n",
        "# Add the result.\n",
        "five_projects[RESULT_COLUMN] = VALUE_HOME_DRAW\n",
        "five_projects.loc[five_projects[SCORE_TEAM1_COLUMN] < five_projects[SCORE_TEAM2_COLUMN], RESULT_COLUMN] = VALUE_HOME_LOST\n",
        "five_projects.loc[five_projects[SCORE_TEAM1_COLUMN] > five_projects[SCORE_TEAM2_COLUMN], RESULT_COLUMN] = VALUE_HOME_WON\n",
        "\n",
        "# Count the matches and calculate the points.\n",
        "new_columns = pd.DataFrame(data={\n",
        "    'date': [],\n",
        "    'match_day_team1': [],\n",
        "    'match_day_team2': [],\n",
        "    'points_team1': [],\n",
        "    'points_team2': []\n",
        "})\n",
        "matches = {}\n",
        "points = {}\n",
        "for team in teams:\n",
        "    for season in seasons:\n",
        "        matches[team + '_' + str(season)] = 0\n",
        "        points[team + '_' + str(season)] = 0\n",
        "\n",
        "for idx, row in five_projects.iterrows():\n",
        "    sea = str(row['season'])\n",
        "    res = row[RESULT_COLUMN]\n",
        "\n",
        "    match1 = matches[row['team1']+'_'+sea] + 1\n",
        "    matches[row['team1']+'_'+sea] = match1\n",
        "\n",
        "    match2 = matches[row['team2']+'_'+sea] + 1\n",
        "    matches[row['team2']+'_'+sea] = match2\n",
        "\n",
        "    if res == 0:\n",
        "        points[row['team2']+'_'+sea] += 3\n",
        "    elif res == 1:\n",
        "        points[row['team1']+'_'+sea] += 1\n",
        "        points[row['team2']+'_'+sea] += 1\n",
        "    elif res == 2:\n",
        "        points[row['team1']+'_'+sea] += 3\n",
        "\n",
        "    new_columns = new_columns.append(\n",
        "        {\n",
        "        'date': row['date'],\n",
        "        'match_day_team1': match1,\n",
        "        'match_day_team2': match2,\n",
        "        'points_team1': points[row['team1']+'_'+sea],\n",
        "        'points_team2': points[row['team2']+'_'+sea] \n",
        "        }, ignore_index=True)\n",
        "\n",
        "a = pd.merge(five_projects, new_columns, on='date')\n",
        "\n",
        "# Show data.\n",
        "a[0:24]"
      ]
    },
    {
      "cell_type": "code",
      "execution_count": null,
      "metadata": {},
      "outputs": [],
      "source": [
        "# Add market values.\n",
        "market = pd.read_csv('../data/market_value_soccer_german_federal_league.txt', delimiter='\\t', decimal='.')\n",
        "b = pd.merge(a, market, left_on=['season', 'team1'], right_on=['season', 'club'])\n",
        "c = pd.merge(b, market, left_on=['season', 'team2'], right_on=['season', 'club'], suffixes=('_team1', '_team2'))"
      ]
    },
    {
      "cell_type": "code",
      "execution_count": null,
      "metadata": {},
      "outputs": [],
      "source": [
        "# Add points and ranks.\n",
        "points = pd.read_csv('../data/points_soccer_german_federal_league.txt', delimiter='\\t', decimal='.')\n",
        "points['season'] = points['season'] + 1\n",
        "points.rename(columns={'points': 'points_last_season_all', 'rank': 'rank_last_season'}, inplace=True)\n",
        "d = pd.merge(c, points, left_on=['season', 'team1'], right_on=['season', 'club'])\n",
        "e = pd.merge(d, points, left_on=['season', 'team2'], right_on=['season', 'club'], suffixes=('_team1', '_team2'))\n",
        "e['points_last_season_team1'] = e['points_last_season_all_team1'] / e['match_day_team1']\n",
        "e['points_last_season_team2'] = e['points_last_season_all_team2'] / e['match_day_team2']\n",
        "e[0:24]"
      ]
    },
    {
      "cell_type": "code",
      "execution_count": null,
      "metadata": {},
      "outputs": [],
      "source": [
        "# Drop same columns and replace empty space in column names.\n",
        "e.drop(['club_team1', 'club_team2', 'foreigners_team2', 'foreigners_team1'], axis=1, inplace=True)\n",
        "e.columns = e.columns.str.replace(' ', '_')"
      ]
    },
    {
      "cell_type": "code",
      "execution_count": null,
      "metadata": {},
      "outputs": [],
      "source": [
        "# Show data\n",
        "e.head()"
      ]
    },
    {
      "cell_type": "code",
      "execution_count": null,
      "metadata": {},
      "outputs": [],
      "source": [
        "# Show data.\n",
        "e.tail()"
      ]
    },
    {
      "cell_type": "code",
      "execution_count": null,
      "metadata": {},
      "outputs": [],
      "source": [
        "# Write data to file.\n",
        "e.to_csv('../data/own_data_preparation_dirk.csv', index=False)"
      ]
    }
  ],
  "metadata": {
    "accelerator": "GPU",
    "colab": {
      "collapsed_sections": [],
      "name": "tensorboard_example.ipynb",
      "provenance": []
    },
    "kernelspec": {
      "display_name": "Python 3",
      "name": "python3"
    },
    "language_info": {
      "codemirror_mode": {
        "name": "ipython",
        "version": 3
      },
      "file_extension": ".py",
      "mimetype": "text/x-python",
      "name": "python",
      "nbconvert_exporter": "python",
      "pygments_lexer": "ipython3",
      "version": "3.8.10"
    }
  },
  "nbformat": 4,
  "nbformat_minor": 0
}
