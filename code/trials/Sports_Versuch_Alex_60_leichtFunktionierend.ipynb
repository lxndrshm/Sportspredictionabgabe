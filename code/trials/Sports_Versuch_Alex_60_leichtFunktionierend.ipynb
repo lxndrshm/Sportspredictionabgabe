{
  "nbformat": 4,
  "nbformat_minor": 0,
  "metadata": {
    "colab": {
      "name": "Sports Versuch Alex 60.ipynb",
      "provenance": [],
      "collapsed_sections": []
    },
    "kernelspec": {
      "name": "python3",
      "display_name": "Python 3"
    },
    "language_info": {
      "name": "python"
    },
    "accelerator": "GPU"
  },
  "cells": [
    {
      "cell_type": "markdown",
      "metadata": {
        "id": "view-in-github"
      },
      "source": [
        "<a href=\"https://colab.research.google.com/github/DirkStulgies/mlwtSportsPrediction/blob/main/Sports%20Versuch%20Alex%2060.ipynb\" target=\"_parent\"><img src=\"https://colab.research.google.com/assets/colab-badge.svg\" alt=\"Open In Colab\"/></a>"
      ]
    },
    {
      "cell_type": "code",
      "execution_count": 372,
      "metadata": {
        "id": "WP2UdBIaZ3vh"
      },
      "outputs": [],
      "source": [
        "import pandas as pd\n",
        "import numpy as np\n",
        "import matplotlib.pyplot as plt\n",
        "import tensorflow as tf\n",
        "from sklearn.model_selection import train_test_split\n",
        "from tensorflow.keras.models import Sequential, load_model\n",
        "from tensorflow.keras.layers import Dense\n",
        "from sklearn.metrics import accuracy_score"
      ]
    },
    {
      "cell_type": "code",
      "source": [
        "### uploaded this one into my one of my public repositories, as this will be an outdated version of the spi dataset (this is just for coding practicing)\n",
        "#df = pd.read_csv(\"https://raw.githubusercontent.com/lxndrshm/DBminutes/main/spi_matches.csv\")\n",
        "\n",
        "import requests as rq\n",
        "from io import BytesIO\n",
        "\n",
        "url = \"https://raw.githubusercontent.com/lxndrshm/DBminutes/main/spi_matches.csv\"\n",
        "data = rq.get(url).content\n",
        "df = pd.read_csv(BytesIO(data))\n",
        "#df = df.drop(df.columns[[0]], axis=1)\n",
        "dataset = df.copy()\n",
        "dataset.tail()"
      ],
      "metadata": {
        "id": "85w7zBugakTu",
        "colab": {
          "base_uri": "https://localhost:8080/",
          "height": 444
        },
        "outputId": "fdbc68aa-d5fd-431d-c18a-a0d59088eb8c"
      },
      "execution_count": 373,
      "outputs": [
        {
          "output_type": "execute_result",
          "data": {
            "text/html": [
              "\n",
              "  <div id=\"df-9cd70b9d-1e49-4946-811f-eedfedc7668c\">\n",
              "    <div class=\"colab-df-container\">\n",
              "      <div>\n",
              "<style scoped>\n",
              "    .dataframe tbody tr th:only-of-type {\n",
              "        vertical-align: middle;\n",
              "    }\n",
              "\n",
              "    .dataframe tbody tr th {\n",
              "        vertical-align: top;\n",
              "    }\n",
              "\n",
              "    .dataframe thead th {\n",
              "        text-align: right;\n",
              "    }\n",
              "</style>\n",
              "<table border=\"1\" class=\"dataframe\">\n",
              "  <thead>\n",
              "    <tr style=\"text-align: right;\">\n",
              "      <th></th>\n",
              "      <th>season</th>\n",
              "      <th>date</th>\n",
              "      <th>league_id</th>\n",
              "      <th>league</th>\n",
              "      <th>team1</th>\n",
              "      <th>team2</th>\n",
              "      <th>spi1</th>\n",
              "      <th>spi2</th>\n",
              "      <th>prob1</th>\n",
              "      <th>prob2</th>\n",
              "      <th>probtie</th>\n",
              "      <th>proj_score1</th>\n",
              "      <th>proj_score2</th>\n",
              "      <th>importance1</th>\n",
              "      <th>importance2</th>\n",
              "      <th>score1</th>\n",
              "      <th>score2</th>\n",
              "      <th>xg1</th>\n",
              "      <th>xg2</th>\n",
              "      <th>nsxg1</th>\n",
              "      <th>nsxg2</th>\n",
              "      <th>adj_score1</th>\n",
              "      <th>adj_score2</th>\n",
              "    </tr>\n",
              "  </thead>\n",
              "  <tbody>\n",
              "    <tr>\n",
              "      <th>54404</th>\n",
              "      <td>2021</td>\n",
              "      <td>2022-05-29</td>\n",
              "      <td>1871</td>\n",
              "      <td>Spanish Segunda Division</td>\n",
              "      <td>Tenerife</td>\n",
              "      <td>FC Cartagena</td>\n",
              "      <td>33.14</td>\n",
              "      <td>30.08</td>\n",
              "      <td>0.4570</td>\n",
              "      <td>0.2483</td>\n",
              "      <td>0.2947</td>\n",
              "      <td>1.39</td>\n",
              "      <td>0.95</td>\n",
              "      <td>NaN</td>\n",
              "      <td>NaN</td>\n",
              "      <td>NaN</td>\n",
              "      <td>NaN</td>\n",
              "      <td>NaN</td>\n",
              "      <td>NaN</td>\n",
              "      <td>NaN</td>\n",
              "      <td>NaN</td>\n",
              "      <td>NaN</td>\n",
              "      <td>NaN</td>\n",
              "    </tr>\n",
              "    <tr>\n",
              "      <th>54405</th>\n",
              "      <td>2021</td>\n",
              "      <td>2022-05-29</td>\n",
              "      <td>1871</td>\n",
              "      <td>Spanish Segunda Division</td>\n",
              "      <td>Sporting Gijón</td>\n",
              "      <td>Las Palmas</td>\n",
              "      <td>28.61</td>\n",
              "      <td>34.88</td>\n",
              "      <td>0.3490</td>\n",
              "      <td>0.3389</td>\n",
              "      <td>0.3122</td>\n",
              "      <td>1.13</td>\n",
              "      <td>1.11</td>\n",
              "      <td>NaN</td>\n",
              "      <td>NaN</td>\n",
              "      <td>NaN</td>\n",
              "      <td>NaN</td>\n",
              "      <td>NaN</td>\n",
              "      <td>NaN</td>\n",
              "      <td>NaN</td>\n",
              "      <td>NaN</td>\n",
              "      <td>NaN</td>\n",
              "      <td>NaN</td>\n",
              "    </tr>\n",
              "    <tr>\n",
              "      <th>54406</th>\n",
              "      <td>2021</td>\n",
              "      <td>2022-05-29</td>\n",
              "      <td>1871</td>\n",
              "      <td>Spanish Segunda Division</td>\n",
              "      <td>Real Sociedad II</td>\n",
              "      <td>Real Zaragoza</td>\n",
              "      <td>26.98</td>\n",
              "      <td>31.08</td>\n",
              "      <td>0.3580</td>\n",
              "      <td>0.3221</td>\n",
              "      <td>0.3199</td>\n",
              "      <td>1.11</td>\n",
              "      <td>1.03</td>\n",
              "      <td>NaN</td>\n",
              "      <td>NaN</td>\n",
              "      <td>NaN</td>\n",
              "      <td>NaN</td>\n",
              "      <td>NaN</td>\n",
              "      <td>NaN</td>\n",
              "      <td>NaN</td>\n",
              "      <td>NaN</td>\n",
              "      <td>NaN</td>\n",
              "      <td>NaN</td>\n",
              "    </tr>\n",
              "    <tr>\n",
              "      <th>54407</th>\n",
              "      <td>2021</td>\n",
              "      <td>2022-05-29</td>\n",
              "      <td>1871</td>\n",
              "      <td>Spanish Segunda Division</td>\n",
              "      <td>Mirandes</td>\n",
              "      <td>Fuenlabrada</td>\n",
              "      <td>29.65</td>\n",
              "      <td>23.93</td>\n",
              "      <td>0.4631</td>\n",
              "      <td>0.2407</td>\n",
              "      <td>0.2962</td>\n",
              "      <td>1.39</td>\n",
              "      <td>0.92</td>\n",
              "      <td>NaN</td>\n",
              "      <td>NaN</td>\n",
              "      <td>NaN</td>\n",
              "      <td>NaN</td>\n",
              "      <td>NaN</td>\n",
              "      <td>NaN</td>\n",
              "      <td>NaN</td>\n",
              "      <td>NaN</td>\n",
              "      <td>NaN</td>\n",
              "      <td>NaN</td>\n",
              "    </tr>\n",
              "    <tr>\n",
              "      <th>54408</th>\n",
              "      <td>2021</td>\n",
              "      <td>2022-05-29</td>\n",
              "      <td>1871</td>\n",
              "      <td>Spanish Segunda Division</td>\n",
              "      <td>Real Oviedo</td>\n",
              "      <td>UD Ibiza</td>\n",
              "      <td>34.47</td>\n",
              "      <td>27.39</td>\n",
              "      <td>0.4816</td>\n",
              "      <td>0.2108</td>\n",
              "      <td>0.3077</td>\n",
              "      <td>1.33</td>\n",
              "      <td>0.77</td>\n",
              "      <td>NaN</td>\n",
              "      <td>NaN</td>\n",
              "      <td>NaN</td>\n",
              "      <td>NaN</td>\n",
              "      <td>NaN</td>\n",
              "      <td>NaN</td>\n",
              "      <td>NaN</td>\n",
              "      <td>NaN</td>\n",
              "      <td>NaN</td>\n",
              "      <td>NaN</td>\n",
              "    </tr>\n",
              "  </tbody>\n",
              "</table>\n",
              "</div>\n",
              "      <button class=\"colab-df-convert\" onclick=\"convertToInteractive('df-9cd70b9d-1e49-4946-811f-eedfedc7668c')\"\n",
              "              title=\"Convert this dataframe to an interactive table.\"\n",
              "              style=\"display:none;\">\n",
              "        \n",
              "  <svg xmlns=\"http://www.w3.org/2000/svg\" height=\"24px\"viewBox=\"0 0 24 24\"\n",
              "       width=\"24px\">\n",
              "    <path d=\"M0 0h24v24H0V0z\" fill=\"none\"/>\n",
              "    <path d=\"M18.56 5.44l.94 2.06.94-2.06 2.06-.94-2.06-.94-.94-2.06-.94 2.06-2.06.94zm-11 1L8.5 8.5l.94-2.06 2.06-.94-2.06-.94L8.5 2.5l-.94 2.06-2.06.94zm10 10l.94 2.06.94-2.06 2.06-.94-2.06-.94-.94-2.06-.94 2.06-2.06.94z\"/><path d=\"M17.41 7.96l-1.37-1.37c-.4-.4-.92-.59-1.43-.59-.52 0-1.04.2-1.43.59L10.3 9.45l-7.72 7.72c-.78.78-.78 2.05 0 2.83L4 21.41c.39.39.9.59 1.41.59.51 0 1.02-.2 1.41-.59l7.78-7.78 2.81-2.81c.8-.78.8-2.07 0-2.86zM5.41 20L4 18.59l7.72-7.72 1.47 1.35L5.41 20z\"/>\n",
              "  </svg>\n",
              "      </button>\n",
              "      \n",
              "  <style>\n",
              "    .colab-df-container {\n",
              "      display:flex;\n",
              "      flex-wrap:wrap;\n",
              "      gap: 12px;\n",
              "    }\n",
              "\n",
              "    .colab-df-convert {\n",
              "      background-color: #E8F0FE;\n",
              "      border: none;\n",
              "      border-radius: 50%;\n",
              "      cursor: pointer;\n",
              "      display: none;\n",
              "      fill: #1967D2;\n",
              "      height: 32px;\n",
              "      padding: 0 0 0 0;\n",
              "      width: 32px;\n",
              "    }\n",
              "\n",
              "    .colab-df-convert:hover {\n",
              "      background-color: #E2EBFA;\n",
              "      box-shadow: 0px 1px 2px rgba(60, 64, 67, 0.3), 0px 1px 3px 1px rgba(60, 64, 67, 0.15);\n",
              "      fill: #174EA6;\n",
              "    }\n",
              "\n",
              "    [theme=dark] .colab-df-convert {\n",
              "      background-color: #3B4455;\n",
              "      fill: #D2E3FC;\n",
              "    }\n",
              "\n",
              "    [theme=dark] .colab-df-convert:hover {\n",
              "      background-color: #434B5C;\n",
              "      box-shadow: 0px 1px 3px 1px rgba(0, 0, 0, 0.15);\n",
              "      filter: drop-shadow(0px 1px 2px rgba(0, 0, 0, 0.3));\n",
              "      fill: #FFFFFF;\n",
              "    }\n",
              "  </style>\n",
              "\n",
              "      <script>\n",
              "        const buttonEl =\n",
              "          document.querySelector('#df-9cd70b9d-1e49-4946-811f-eedfedc7668c button.colab-df-convert');\n",
              "        buttonEl.style.display =\n",
              "          google.colab.kernel.accessAllowed ? 'block' : 'none';\n",
              "\n",
              "        async function convertToInteractive(key) {\n",
              "          const element = document.querySelector('#df-9cd70b9d-1e49-4946-811f-eedfedc7668c');\n",
              "          const dataTable =\n",
              "            await google.colab.kernel.invokeFunction('convertToInteractive',\n",
              "                                                     [key], {});\n",
              "          if (!dataTable) return;\n",
              "\n",
              "          const docLinkHtml = 'Like what you see? Visit the ' +\n",
              "            '<a target=\"_blank\" href=https://colab.research.google.com/notebooks/data_table.ipynb>data table notebook</a>'\n",
              "            + ' to learn more about interactive tables.';\n",
              "          element.innerHTML = '';\n",
              "          dataTable['output_type'] = 'display_data';\n",
              "          await google.colab.output.renderOutput(dataTable, element);\n",
              "          const docLink = document.createElement('div');\n",
              "          docLink.innerHTML = docLinkHtml;\n",
              "          element.appendChild(docLink);\n",
              "        }\n",
              "      </script>\n",
              "    </div>\n",
              "  </div>\n",
              "  "
            ],
            "text/plain": [
              "       season        date  league_id  ... nsxg2 adj_score1 adj_score2\n",
              "54404    2021  2022-05-29       1871  ...   NaN        NaN        NaN\n",
              "54405    2021  2022-05-29       1871  ...   NaN        NaN        NaN\n",
              "54406    2021  2022-05-29       1871  ...   NaN        NaN        NaN\n",
              "54407    2021  2022-05-29       1871  ...   NaN        NaN        NaN\n",
              "54408    2021  2022-05-29       1871  ...   NaN        NaN        NaN\n",
              "\n",
              "[5 rows x 23 columns]"
            ]
          },
          "metadata": {},
          "execution_count": 373
        }
      ]
    },
    {
      "cell_type": "code",
      "source": [
        "### dropping all the coloums we dont need. We can also drop more coloums like importance\n",
        "#df = df.drop([\"xg1\",\"xg2\",\"nsxg1\", \"nsxg2\",\"adj_score1\", \"adj_score2\",\"spi1\", \"spi2\", \"proj_score1\", \"proj_score2\"], axis = 1)\n",
        "df = df.drop([\"adj_score1\", \"adj_score2\",\"proj_score1\", \"proj_score2\", \"season\", \"date\", \"league_id\", \"league\", \"team1\", \"team2\"], axis = 1)\n",
        "#creating a back-up copy \n",
        "copydf = df\n",
        "### drop NA´s (keep in mind, that this drops all unplayed games for now, e.g the games we wanna predict in the future)\n",
        "df = df.dropna()"
      ],
      "metadata": {
        "id": "NQh8Mej2bwy4"
      },
      "execution_count": 374,
      "outputs": []
    },
    {
      "cell_type": "code",
      "source": [
        "### Create a new result coloumn\n",
        "# create a list of our conditions\n",
        "conditions = [\n",
        "    (df['score1'] > df[\"score2\"]),\n",
        "    (df['score1'] < df[\"score2\"]),\n",
        "    (df['score1'] == df[\"score2\"])\n",
        "    ]\n",
        "# create a list of the values we want to assign for each condition\n",
        "values = ['0', '2', '1']\n",
        "\n",
        "# create a new column and use np.select to assign values to it using our lists as arguments\n",
        "df['result'] = np.select(conditions, values)\n",
        "\n",
        "# display updated DataFrame\n",
        "df.head()"
      ],
      "metadata": {
        "colab": {
          "base_uri": "https://localhost:8080/",
          "height": 310
        },
        "id": "DmNrlwPS1sWP",
        "outputId": "59b4d439-e85c-4958-c224-f236f8cf6e13"
      },
      "execution_count": 375,
      "outputs": [
        {
          "output_type": "stream",
          "name": "stderr",
          "text": [
            "/usr/local/lib/python3.7/dist-packages/ipykernel_launcher.py:12: SettingWithCopyWarning: \n",
            "A value is trying to be set on a copy of a slice from a DataFrame.\n",
            "Try using .loc[row_indexer,col_indexer] = value instead\n",
            "\n",
            "See the caveats in the documentation: https://pandas.pydata.org/pandas-docs/stable/user_guide/indexing.html#returning-a-view-versus-a-copy\n",
            "  if sys.path[0] == '':\n"
          ]
        },
        {
          "output_type": "execute_result",
          "data": {
            "text/html": [
              "\n",
              "  <div id=\"df-8f4f85dd-e992-4a4c-82d4-c66daba2dc81\">\n",
              "    <div class=\"colab-df-container\">\n",
              "      <div>\n",
              "<style scoped>\n",
              "    .dataframe tbody tr th:only-of-type {\n",
              "        vertical-align: middle;\n",
              "    }\n",
              "\n",
              "    .dataframe tbody tr th {\n",
              "        vertical-align: top;\n",
              "    }\n",
              "\n",
              "    .dataframe thead th {\n",
              "        text-align: right;\n",
              "    }\n",
              "</style>\n",
              "<table border=\"1\" class=\"dataframe\">\n",
              "  <thead>\n",
              "    <tr style=\"text-align: right;\">\n",
              "      <th></th>\n",
              "      <th>spi1</th>\n",
              "      <th>spi2</th>\n",
              "      <th>prob1</th>\n",
              "      <th>prob2</th>\n",
              "      <th>probtie</th>\n",
              "      <th>importance1</th>\n",
              "      <th>importance2</th>\n",
              "      <th>score1</th>\n",
              "      <th>score2</th>\n",
              "      <th>xg1</th>\n",
              "      <th>xg2</th>\n",
              "      <th>nsxg1</th>\n",
              "      <th>nsxg2</th>\n",
              "      <th>result</th>\n",
              "    </tr>\n",
              "  </thead>\n",
              "  <tbody>\n",
              "    <tr>\n",
              "      <th>10</th>\n",
              "      <td>51.16</td>\n",
              "      <td>85.68</td>\n",
              "      <td>0.0463</td>\n",
              "      <td>0.8380</td>\n",
              "      <td>0.1157</td>\n",
              "      <td>32.4</td>\n",
              "      <td>67.7</td>\n",
              "      <td>0.0</td>\n",
              "      <td>1.0</td>\n",
              "      <td>0.97</td>\n",
              "      <td>0.63</td>\n",
              "      <td>0.43</td>\n",
              "      <td>0.45</td>\n",
              "      <td>2</td>\n",
              "    </tr>\n",
              "    <tr>\n",
              "      <th>11</th>\n",
              "      <td>68.85</td>\n",
              "      <td>56.48</td>\n",
              "      <td>0.5714</td>\n",
              "      <td>0.1669</td>\n",
              "      <td>0.2617</td>\n",
              "      <td>53.7</td>\n",
              "      <td>22.9</td>\n",
              "      <td>2.0</td>\n",
              "      <td>2.0</td>\n",
              "      <td>2.45</td>\n",
              "      <td>0.77</td>\n",
              "      <td>1.75</td>\n",
              "      <td>0.42</td>\n",
              "      <td>1</td>\n",
              "    </tr>\n",
              "    <tr>\n",
              "      <th>12</th>\n",
              "      <td>53.57</td>\n",
              "      <td>66.81</td>\n",
              "      <td>0.3459</td>\n",
              "      <td>0.3621</td>\n",
              "      <td>0.2921</td>\n",
              "      <td>38.1</td>\n",
              "      <td>22.2</td>\n",
              "      <td>2.0</td>\n",
              "      <td>1.0</td>\n",
              "      <td>0.85</td>\n",
              "      <td>2.77</td>\n",
              "      <td>0.17</td>\n",
              "      <td>1.25</td>\n",
              "      <td>0</td>\n",
              "    </tr>\n",
              "    <tr>\n",
              "      <th>13</th>\n",
              "      <td>58.98</td>\n",
              "      <td>59.74</td>\n",
              "      <td>0.4482</td>\n",
              "      <td>0.2663</td>\n",
              "      <td>0.2854</td>\n",
              "      <td>36.5</td>\n",
              "      <td>29.1</td>\n",
              "      <td>0.0</td>\n",
              "      <td>1.0</td>\n",
              "      <td>1.24</td>\n",
              "      <td>1.84</td>\n",
              "      <td>1.71</td>\n",
              "      <td>1.56</td>\n",
              "      <td>2</td>\n",
              "    </tr>\n",
              "    <tr>\n",
              "      <th>14</th>\n",
              "      <td>56.32</td>\n",
              "      <td>60.35</td>\n",
              "      <td>0.4380</td>\n",
              "      <td>0.2692</td>\n",
              "      <td>0.2927</td>\n",
              "      <td>33.9</td>\n",
              "      <td>32.5</td>\n",
              "      <td>1.0</td>\n",
              "      <td>1.0</td>\n",
              "      <td>1.40</td>\n",
              "      <td>0.55</td>\n",
              "      <td>1.13</td>\n",
              "      <td>1.06</td>\n",
              "      <td>1</td>\n",
              "    </tr>\n",
              "  </tbody>\n",
              "</table>\n",
              "</div>\n",
              "      <button class=\"colab-df-convert\" onclick=\"convertToInteractive('df-8f4f85dd-e992-4a4c-82d4-c66daba2dc81')\"\n",
              "              title=\"Convert this dataframe to an interactive table.\"\n",
              "              style=\"display:none;\">\n",
              "        \n",
              "  <svg xmlns=\"http://www.w3.org/2000/svg\" height=\"24px\"viewBox=\"0 0 24 24\"\n",
              "       width=\"24px\">\n",
              "    <path d=\"M0 0h24v24H0V0z\" fill=\"none\"/>\n",
              "    <path d=\"M18.56 5.44l.94 2.06.94-2.06 2.06-.94-2.06-.94-.94-2.06-.94 2.06-2.06.94zm-11 1L8.5 8.5l.94-2.06 2.06-.94-2.06-.94L8.5 2.5l-.94 2.06-2.06.94zm10 10l.94 2.06.94-2.06 2.06-.94-2.06-.94-.94-2.06-.94 2.06-2.06.94z\"/><path d=\"M17.41 7.96l-1.37-1.37c-.4-.4-.92-.59-1.43-.59-.52 0-1.04.2-1.43.59L10.3 9.45l-7.72 7.72c-.78.78-.78 2.05 0 2.83L4 21.41c.39.39.9.59 1.41.59.51 0 1.02-.2 1.41-.59l7.78-7.78 2.81-2.81c.8-.78.8-2.07 0-2.86zM5.41 20L4 18.59l7.72-7.72 1.47 1.35L5.41 20z\"/>\n",
              "  </svg>\n",
              "      </button>\n",
              "      \n",
              "  <style>\n",
              "    .colab-df-container {\n",
              "      display:flex;\n",
              "      flex-wrap:wrap;\n",
              "      gap: 12px;\n",
              "    }\n",
              "\n",
              "    .colab-df-convert {\n",
              "      background-color: #E8F0FE;\n",
              "      border: none;\n",
              "      border-radius: 50%;\n",
              "      cursor: pointer;\n",
              "      display: none;\n",
              "      fill: #1967D2;\n",
              "      height: 32px;\n",
              "      padding: 0 0 0 0;\n",
              "      width: 32px;\n",
              "    }\n",
              "\n",
              "    .colab-df-convert:hover {\n",
              "      background-color: #E2EBFA;\n",
              "      box-shadow: 0px 1px 2px rgba(60, 64, 67, 0.3), 0px 1px 3px 1px rgba(60, 64, 67, 0.15);\n",
              "      fill: #174EA6;\n",
              "    }\n",
              "\n",
              "    [theme=dark] .colab-df-convert {\n",
              "      background-color: #3B4455;\n",
              "      fill: #D2E3FC;\n",
              "    }\n",
              "\n",
              "    [theme=dark] .colab-df-convert:hover {\n",
              "      background-color: #434B5C;\n",
              "      box-shadow: 0px 1px 3px 1px rgba(0, 0, 0, 0.15);\n",
              "      filter: drop-shadow(0px 1px 2px rgba(0, 0, 0, 0.3));\n",
              "      fill: #FFFFFF;\n",
              "    }\n",
              "  </style>\n",
              "\n",
              "      <script>\n",
              "        const buttonEl =\n",
              "          document.querySelector('#df-8f4f85dd-e992-4a4c-82d4-c66daba2dc81 button.colab-df-convert');\n",
              "        buttonEl.style.display =\n",
              "          google.colab.kernel.accessAllowed ? 'block' : 'none';\n",
              "\n",
              "        async function convertToInteractive(key) {\n",
              "          const element = document.querySelector('#df-8f4f85dd-e992-4a4c-82d4-c66daba2dc81');\n",
              "          const dataTable =\n",
              "            await google.colab.kernel.invokeFunction('convertToInteractive',\n",
              "                                                     [key], {});\n",
              "          if (!dataTable) return;\n",
              "\n",
              "          const docLinkHtml = 'Like what you see? Visit the ' +\n",
              "            '<a target=\"_blank\" href=https://colab.research.google.com/notebooks/data_table.ipynb>data table notebook</a>'\n",
              "            + ' to learn more about interactive tables.';\n",
              "          element.innerHTML = '';\n",
              "          dataTable['output_type'] = 'display_data';\n",
              "          await google.colab.output.renderOutput(dataTable, element);\n",
              "          const docLink = document.createElement('div');\n",
              "          docLink.innerHTML = docLinkHtml;\n",
              "          element.appendChild(docLink);\n",
              "        }\n",
              "      </script>\n",
              "    </div>\n",
              "  </div>\n",
              "  "
            ],
            "text/plain": [
              "     spi1   spi2   prob1   prob2  probtie  ...   xg1   xg2  nsxg1  nsxg2  result\n",
              "10  51.16  85.68  0.0463  0.8380   0.1157  ...  0.97  0.63   0.43   0.45       2\n",
              "11  68.85  56.48  0.5714  0.1669   0.2617  ...  2.45  0.77   1.75   0.42       1\n",
              "12  53.57  66.81  0.3459  0.3621   0.2921  ...  0.85  2.77   0.17   1.25       0\n",
              "13  58.98  59.74  0.4482  0.2663   0.2854  ...  1.24  1.84   1.71   1.56       2\n",
              "14  56.32  60.35  0.4380  0.2692   0.2927  ...  1.40  0.55   1.13   1.06       1\n",
              "\n",
              "[5 rows x 14 columns]"
            ]
          },
          "metadata": {},
          "execution_count": 375
        }
      ]
    },
    {
      "cell_type": "code",
      "source": [
        "df[\"result\"] = df['result'].astype(str).astype(int)\n",
        "df.dtypes"
      ],
      "metadata": {
        "colab": {
          "base_uri": "https://localhost:8080/"
        },
        "id": "n4flefvjDrwe",
        "outputId": "a44346b3-3de6-4781-e3a3-d869af47f83f"
      },
      "execution_count": 376,
      "outputs": [
        {
          "output_type": "stream",
          "name": "stderr",
          "text": [
            "/usr/local/lib/python3.7/dist-packages/ipykernel_launcher.py:1: SettingWithCopyWarning: \n",
            "A value is trying to be set on a copy of a slice from a DataFrame.\n",
            "Try using .loc[row_indexer,col_indexer] = value instead\n",
            "\n",
            "See the caveats in the documentation: https://pandas.pydata.org/pandas-docs/stable/user_guide/indexing.html#returning-a-view-versus-a-copy\n",
            "  \"\"\"Entry point for launching an IPython kernel.\n"
          ]
        },
        {
          "output_type": "execute_result",
          "data": {
            "text/plain": [
              "spi1           float64\n",
              "spi2           float64\n",
              "prob1          float64\n",
              "prob2          float64\n",
              "probtie        float64\n",
              "importance1    float64\n",
              "importance2    float64\n",
              "score1         float64\n",
              "score2         float64\n",
              "xg1            float64\n",
              "xg2            float64\n",
              "nsxg1          float64\n",
              "nsxg2          float64\n",
              "result           int64\n",
              "dtype: object"
            ]
          },
          "metadata": {},
          "execution_count": 376
        }
      ]
    },
    {
      "cell_type": "code",
      "source": [
        "### reduces our dataframe to Bundesliga, would be nice to include 2. Bundesliga aswell. I did not know how to inculde that aswell. Also League_id seems off somehow.\n",
        "#df = df[df['league'] == 'German Bundesliga']\n",
        "df = df.drop([\"score1\", \"score2\"], axis = 1)\n",
        "df = df.drop([\"prob1\", \"prob2\",\"probtie\", \"xg1\", \"xg2\", \"nsxg1\", \"nsxg2\"], axis = 1)"
      ],
      "metadata": {
        "id": "PcKXhPFE4RFm"
      },
      "execution_count": 377,
      "outputs": []
    },
    {
      "cell_type": "code",
      "source": [
        "df['result'].value_counts()\n",
        "y = df['result']"
      ],
      "metadata": {
        "id": "Hu-Mi-6T4duN"
      },
      "execution_count": 378,
      "outputs": []
    },
    {
      "cell_type": "code",
      "source": [
        "from sklearn import preprocessing\n",
        "import pandas as pd\n",
        "#df = preprocessing.normalize(df, axis=0)\n",
        "#df = pd.DataFrame(df)\n",
        "#df.head()"
      ],
      "metadata": {
        "id": "VVADGJZ25sOM"
      },
      "execution_count": 379,
      "outputs": []
    },
    {
      "cell_type": "code",
      "source": [
        "# normalize df by dividing everything by 100\n",
        "print(df.dtypes)\n",
        "print(df.head())\n",
        "\n",
        "\n",
        "# print(max(df[\"spi1\"])) #96.57\n",
        "# print(min(df[\"spi1\"])) #6.08\n",
        "\n",
        "df[\"spi1\"] = df[\"spi1\"] * (1/100)\n",
        "\n",
        "# print(max(df[\"spi2\"])) #96.69\n",
        "# print(min(df[\"spi2\"])) #6.24\n",
        "\n",
        "df[\"spi2\"] = df[\"spi2\"] * (1/100)\n",
        "\n",
        "# print(max(df[\"importance1\"])) #100.0\n",
        "# print(min(df[\"importance1\"])) #0.0\n",
        "\n",
        "df[\"importance1\"] = df[\"importance1\"] * (1/100)\n",
        "\n",
        "# print(max(df[\"importance2\"])) #100.0\n",
        "# print(min(df[\"importance2\"])) #0.0\n",
        "\n",
        "df[\"importance2\"] = df[\"importance2\"] * (1/100)\n"
      ],
      "metadata": {
        "colab": {
          "base_uri": "https://localhost:8080/"
        },
        "id": "wvy5_DL20HWp",
        "outputId": "237cb826-0f21-407d-f610-5147733c27e4"
      },
      "execution_count": 380,
      "outputs": [
        {
          "output_type": "stream",
          "name": "stdout",
          "text": [
            "spi1           float64\n",
            "spi2           float64\n",
            "importance1    float64\n",
            "importance2    float64\n",
            "result           int64\n",
            "dtype: object\n",
            "     spi1   spi2  importance1  importance2  result\n",
            "10  51.16  85.68         32.4         67.7       2\n",
            "11  68.85  56.48         53.7         22.9       1\n",
            "12  53.57  66.81         38.1         22.2       0\n",
            "13  58.98  59.74         36.5         29.1       2\n",
            "14  56.32  60.35         33.9         32.5       1\n"
          ]
        }
      ]
    },
    {
      "cell_type": "code",
      "source": [
        "df.head()\n"
      ],
      "metadata": {
        "colab": {
          "base_uri": "https://localhost:8080/",
          "height": 206
        },
        "id": "lxJfgN8h7K0X",
        "outputId": "b33ca2db-03cc-4f19-bebb-fd5986d68dc9"
      },
      "execution_count": 381,
      "outputs": [
        {
          "output_type": "execute_result",
          "data": {
            "text/html": [
              "\n",
              "  <div id=\"df-78c6eb1e-d52a-413e-a347-f0e565529a9f\">\n",
              "    <div class=\"colab-df-container\">\n",
              "      <div>\n",
              "<style scoped>\n",
              "    .dataframe tbody tr th:only-of-type {\n",
              "        vertical-align: middle;\n",
              "    }\n",
              "\n",
              "    .dataframe tbody tr th {\n",
              "        vertical-align: top;\n",
              "    }\n",
              "\n",
              "    .dataframe thead th {\n",
              "        text-align: right;\n",
              "    }\n",
              "</style>\n",
              "<table border=\"1\" class=\"dataframe\">\n",
              "  <thead>\n",
              "    <tr style=\"text-align: right;\">\n",
              "      <th></th>\n",
              "      <th>spi1</th>\n",
              "      <th>spi2</th>\n",
              "      <th>importance1</th>\n",
              "      <th>importance2</th>\n",
              "      <th>result</th>\n",
              "    </tr>\n",
              "  </thead>\n",
              "  <tbody>\n",
              "    <tr>\n",
              "      <th>10</th>\n",
              "      <td>0.5116</td>\n",
              "      <td>0.8568</td>\n",
              "      <td>0.324</td>\n",
              "      <td>0.677</td>\n",
              "      <td>2</td>\n",
              "    </tr>\n",
              "    <tr>\n",
              "      <th>11</th>\n",
              "      <td>0.6885</td>\n",
              "      <td>0.5648</td>\n",
              "      <td>0.537</td>\n",
              "      <td>0.229</td>\n",
              "      <td>1</td>\n",
              "    </tr>\n",
              "    <tr>\n",
              "      <th>12</th>\n",
              "      <td>0.5357</td>\n",
              "      <td>0.6681</td>\n",
              "      <td>0.381</td>\n",
              "      <td>0.222</td>\n",
              "      <td>0</td>\n",
              "    </tr>\n",
              "    <tr>\n",
              "      <th>13</th>\n",
              "      <td>0.5898</td>\n",
              "      <td>0.5974</td>\n",
              "      <td>0.365</td>\n",
              "      <td>0.291</td>\n",
              "      <td>2</td>\n",
              "    </tr>\n",
              "    <tr>\n",
              "      <th>14</th>\n",
              "      <td>0.5632</td>\n",
              "      <td>0.6035</td>\n",
              "      <td>0.339</td>\n",
              "      <td>0.325</td>\n",
              "      <td>1</td>\n",
              "    </tr>\n",
              "  </tbody>\n",
              "</table>\n",
              "</div>\n",
              "      <button class=\"colab-df-convert\" onclick=\"convertToInteractive('df-78c6eb1e-d52a-413e-a347-f0e565529a9f')\"\n",
              "              title=\"Convert this dataframe to an interactive table.\"\n",
              "              style=\"display:none;\">\n",
              "        \n",
              "  <svg xmlns=\"http://www.w3.org/2000/svg\" height=\"24px\"viewBox=\"0 0 24 24\"\n",
              "       width=\"24px\">\n",
              "    <path d=\"M0 0h24v24H0V0z\" fill=\"none\"/>\n",
              "    <path d=\"M18.56 5.44l.94 2.06.94-2.06 2.06-.94-2.06-.94-.94-2.06-.94 2.06-2.06.94zm-11 1L8.5 8.5l.94-2.06 2.06-.94-2.06-.94L8.5 2.5l-.94 2.06-2.06.94zm10 10l.94 2.06.94-2.06 2.06-.94-2.06-.94-.94-2.06-.94 2.06-2.06.94z\"/><path d=\"M17.41 7.96l-1.37-1.37c-.4-.4-.92-.59-1.43-.59-.52 0-1.04.2-1.43.59L10.3 9.45l-7.72 7.72c-.78.78-.78 2.05 0 2.83L4 21.41c.39.39.9.59 1.41.59.51 0 1.02-.2 1.41-.59l7.78-7.78 2.81-2.81c.8-.78.8-2.07 0-2.86zM5.41 20L4 18.59l7.72-7.72 1.47 1.35L5.41 20z\"/>\n",
              "  </svg>\n",
              "      </button>\n",
              "      \n",
              "  <style>\n",
              "    .colab-df-container {\n",
              "      display:flex;\n",
              "      flex-wrap:wrap;\n",
              "      gap: 12px;\n",
              "    }\n",
              "\n",
              "    .colab-df-convert {\n",
              "      background-color: #E8F0FE;\n",
              "      border: none;\n",
              "      border-radius: 50%;\n",
              "      cursor: pointer;\n",
              "      display: none;\n",
              "      fill: #1967D2;\n",
              "      height: 32px;\n",
              "      padding: 0 0 0 0;\n",
              "      width: 32px;\n",
              "    }\n",
              "\n",
              "    .colab-df-convert:hover {\n",
              "      background-color: #E2EBFA;\n",
              "      box-shadow: 0px 1px 2px rgba(60, 64, 67, 0.3), 0px 1px 3px 1px rgba(60, 64, 67, 0.15);\n",
              "      fill: #174EA6;\n",
              "    }\n",
              "\n",
              "    [theme=dark] .colab-df-convert {\n",
              "      background-color: #3B4455;\n",
              "      fill: #D2E3FC;\n",
              "    }\n",
              "\n",
              "    [theme=dark] .colab-df-convert:hover {\n",
              "      background-color: #434B5C;\n",
              "      box-shadow: 0px 1px 3px 1px rgba(0, 0, 0, 0.15);\n",
              "      filter: drop-shadow(0px 1px 2px rgba(0, 0, 0, 0.3));\n",
              "      fill: #FFFFFF;\n",
              "    }\n",
              "  </style>\n",
              "\n",
              "      <script>\n",
              "        const buttonEl =\n",
              "          document.querySelector('#df-78c6eb1e-d52a-413e-a347-f0e565529a9f button.colab-df-convert');\n",
              "        buttonEl.style.display =\n",
              "          google.colab.kernel.accessAllowed ? 'block' : 'none';\n",
              "\n",
              "        async function convertToInteractive(key) {\n",
              "          const element = document.querySelector('#df-78c6eb1e-d52a-413e-a347-f0e565529a9f');\n",
              "          const dataTable =\n",
              "            await google.colab.kernel.invokeFunction('convertToInteractive',\n",
              "                                                     [key], {});\n",
              "          if (!dataTable) return;\n",
              "\n",
              "          const docLinkHtml = 'Like what you see? Visit the ' +\n",
              "            '<a target=\"_blank\" href=https://colab.research.google.com/notebooks/data_table.ipynb>data table notebook</a>'\n",
              "            + ' to learn more about interactive tables.';\n",
              "          element.innerHTML = '';\n",
              "          dataTable['output_type'] = 'display_data';\n",
              "          await google.colab.output.renderOutput(dataTable, element);\n",
              "          const docLink = document.createElement('div');\n",
              "          docLink.innerHTML = docLinkHtml;\n",
              "          element.appendChild(docLink);\n",
              "        }\n",
              "      </script>\n",
              "    </div>\n",
              "  </div>\n",
              "  "
            ],
            "text/plain": [
              "      spi1    spi2  importance1  importance2  result\n",
              "10  0.5116  0.8568        0.324        0.677       2\n",
              "11  0.6885  0.5648        0.537        0.229       1\n",
              "12  0.5357  0.6681        0.381        0.222       0\n",
              "13  0.5898  0.5974        0.365        0.291       2\n",
              "14  0.5632  0.6035        0.339        0.325       1"
            ]
          },
          "metadata": {},
          "execution_count": 381
        }
      ]
    },
    {
      "cell_type": "code",
      "source": [
        "#X = df.drop(['11'], axis=1)\n",
        "#y = df['result']\n",
        "X = df = df.iloc[: , :-1]"
      ],
      "metadata": {
        "id": "MSb2hB9Pdshl"
      },
      "execution_count": 382,
      "outputs": []
    },
    {
      "cell_type": "code",
      "source": [
        "print(len(df))"
      ],
      "metadata": {
        "colab": {
          "base_uri": "https://localhost:8080/"
        },
        "id": "ozb7kjCyZz75",
        "outputId": "42a71cab-f15c-4acb-9ca2-1005d7e63085"
      },
      "execution_count": 383,
      "outputs": [
        {
          "output_type": "stream",
          "name": "stdout",
          "text": [
            "24503\n"
          ]
        }
      ]
    },
    {
      "cell_type": "code",
      "source": [
        "X_train, X_test, y_train, y_test = train_test_split(X, y, test_size=.2)"
      ],
      "metadata": {
        "id": "lGQOXMcTdy4g"
      },
      "execution_count": 384,
      "outputs": []
    },
    {
      "cell_type": "code",
      "source": [
        "y_train.head()"
      ],
      "metadata": {
        "colab": {
          "base_uri": "https://localhost:8080/"
        },
        "id": "hYpE4wMtAvD7",
        "outputId": "af3f5559-ac79-4dab-f315-476b25b3f7f2"
      },
      "execution_count": 385,
      "outputs": [
        {
          "output_type": "execute_result",
          "data": {
            "text/plain": [
              "34841    0\n",
              "6277     0\n",
              "45213    1\n",
              "12596    1\n",
              "5051     2\n",
              "Name: result, dtype: int64"
            ]
          },
          "metadata": {},
          "execution_count": 385
        }
      ]
    },
    {
      "cell_type": "code",
      "source": [
        "num_epochs = 25\n",
        "print(len(X_train))\n",
        "print(len(X_train))"
      ],
      "metadata": {
        "colab": {
          "base_uri": "https://localhost:8080/"
        },
        "id": "3QvsuIEUQPOo",
        "outputId": "a24f7df4-da2a-47b8-a005-f21ef8f6fcba"
      },
      "execution_count": 386,
      "outputs": [
        {
          "output_type": "stream",
          "name": "stdout",
          "text": [
            "19602\n",
            "19602\n"
          ]
        }
      ]
    },
    {
      "cell_type": "code",
      "source": [
        "X_train.head()\n",
        "len(X_train.columns)"
      ],
      "metadata": {
        "colab": {
          "base_uri": "https://localhost:8080/"
        },
        "id": "5Wtt3WtwXruF",
        "outputId": "85ff35b0-c753-4f25-b138-9d535fbcefb2"
      },
      "execution_count": 387,
      "outputs": [
        {
          "output_type": "execute_result",
          "data": {
            "text/plain": [
              "4"
            ]
          },
          "metadata": {},
          "execution_count": 387
        }
      ]
    },
    {
      "cell_type": "code",
      "source": [
        "model = Sequential()\n",
        "model.add(Dense(units=4, activation='relu', input_dim=len(X_train.columns)))\n",
        "# model.add(tf.keras.layers.Dropout(0.4))\n",
        "model.add(Dense(units=12, activation='relu'))\n",
        "model.add(tf.keras.layers.Dropout(0.4))\n",
        "model.add(Dense(units=12, activation='relu'))\n",
        "# model.add(tf.keras.layers.Dropout(0.4))\n",
        "model.add(Dense(units=12, activation='relu'))\n",
        "model.add(Dense(units=3, activation='softmax'))"
      ],
      "metadata": {
        "id": "mZOEFi1Hd53O"
      },
      "execution_count": 388,
      "outputs": []
    },
    {
      "cell_type": "code",
      "source": [
        "model.summary()"
      ],
      "metadata": {
        "colab": {
          "base_uri": "https://localhost:8080/"
        },
        "id": "zSnO4z08D2Gb",
        "outputId": "6d088412-98c5-453a-ad2a-fda4ba692bbe"
      },
      "execution_count": 389,
      "outputs": [
        {
          "output_type": "stream",
          "name": "stdout",
          "text": [
            "Model: \"sequential_17\"\n",
            "_________________________________________________________________\n",
            " Layer (type)                Output Shape              Param #   \n",
            "=================================================================\n",
            " dense_82 (Dense)            (None, 4)                 20        \n",
            "                                                                 \n",
            " dense_83 (Dense)            (None, 12)                60        \n",
            "                                                                 \n",
            " dropout_32 (Dropout)        (None, 12)                0         \n",
            "                                                                 \n",
            " dense_84 (Dense)            (None, 12)                156       \n",
            "                                                                 \n",
            " dense_85 (Dense)            (None, 12)                156       \n",
            "                                                                 \n",
            " dense_86 (Dense)            (None, 3)                 39        \n",
            "                                                                 \n",
            "=================================================================\n",
            "Total params: 431\n",
            "Trainable params: 431\n",
            "Non-trainable params: 0\n",
            "_________________________________________________________________\n"
          ]
        }
      ]
    },
    {
      "cell_type": "code",
      "source": [
        "\n",
        "lr_schedule = tf.keras.optimizers.schedules.ExponentialDecay(\n",
        "    initial_learning_rate=1e-1,\n",
        "    decay_steps=10000,\n",
        "    decay_rate=0.1)\n",
        "\n",
        "\n",
        "model.compile(loss='sparse_categorical_crossentropy', optimizer=tf.keras.optimizers.Adadelta(\n",
        "    # momentum=0.9,\n",
        "    # nesterov=True, \n",
        "    learning_rate=lr_schedule\n",
        "), metrics=['accuracy', 'SparseCategoricalAccuracy'])"
      ],
      "metadata": {
        "id": "tjJ4RB-Od6So"
      },
      "execution_count": 390,
      "outputs": []
    },
    {
      "cell_type": "code",
      "source": [
        "history = model.fit(X_train, y_train, validation_data=(X_test, y_test), epochs=num_epochs )#,  batch_size=1000)"
      ],
      "metadata": {
        "colab": {
          "base_uri": "https://localhost:8080/"
        },
        "id": "lx0PP11md83V",
        "outputId": "f5e8ceb6-db8c-4277-bebc-b50e0f49c688"
      },
      "execution_count": 391,
      "outputs": [
        {
          "output_type": "stream",
          "name": "stdout",
          "text": [
            "Epoch 1/25\n",
            "613/613 [==============================] - 4s 5ms/step - loss: 1.0816 - accuracy: 0.4481 - sparse_categorical_accuracy: 0.4481 - val_loss: 1.0717 - val_accuracy: 0.4466 - val_sparse_categorical_accuracy: 0.4466\n",
            "Epoch 2/25\n",
            "613/613 [==============================] - 3s 4ms/step - loss: 1.0658 - accuracy: 0.4524 - sparse_categorical_accuracy: 0.4524 - val_loss: 1.0650 - val_accuracy: 0.4466 - val_sparse_categorical_accuracy: 0.4466\n",
            "Epoch 3/25\n",
            "613/613 [==============================] - 3s 5ms/step - loss: 1.0618 - accuracy: 0.4524 - sparse_categorical_accuracy: 0.4524 - val_loss: 1.0635 - val_accuracy: 0.4466 - val_sparse_categorical_accuracy: 0.4466\n",
            "Epoch 4/25\n",
            "613/613 [==============================] - 3s 4ms/step - loss: 1.0613 - accuracy: 0.4524 - sparse_categorical_accuracy: 0.4524 - val_loss: 1.0627 - val_accuracy: 0.4466 - val_sparse_categorical_accuracy: 0.4466\n",
            "Epoch 5/25\n",
            "613/613 [==============================] - 3s 5ms/step - loss: 1.0603 - accuracy: 0.4524 - sparse_categorical_accuracy: 0.4524 - val_loss: 1.0619 - val_accuracy: 0.4466 - val_sparse_categorical_accuracy: 0.4466\n",
            "Epoch 6/25\n",
            "613/613 [==============================] - 3s 5ms/step - loss: 1.0590 - accuracy: 0.4524 - sparse_categorical_accuracy: 0.4524 - val_loss: 1.0610 - val_accuracy: 0.4466 - val_sparse_categorical_accuracy: 0.4466\n",
            "Epoch 7/25\n",
            "613/613 [==============================] - 3s 5ms/step - loss: 1.0581 - accuracy: 0.4524 - sparse_categorical_accuracy: 0.4524 - val_loss: 1.0599 - val_accuracy: 0.4466 - val_sparse_categorical_accuracy: 0.4466\n",
            "Epoch 8/25\n",
            "613/613 [==============================] - 3s 5ms/step - loss: 1.0573 - accuracy: 0.4524 - sparse_categorical_accuracy: 0.4524 - val_loss: 1.0589 - val_accuracy: 0.4466 - val_sparse_categorical_accuracy: 0.4466\n",
            "Epoch 9/25\n",
            "613/613 [==============================] - 3s 5ms/step - loss: 1.0569 - accuracy: 0.4525 - sparse_categorical_accuracy: 0.4525 - val_loss: 1.0580 - val_accuracy: 0.4466 - val_sparse_categorical_accuracy: 0.4466\n",
            "Epoch 10/25\n",
            "613/613 [==============================] - 3s 5ms/step - loss: 1.0562 - accuracy: 0.4526 - sparse_categorical_accuracy: 0.4526 - val_loss: 1.0572 - val_accuracy: 0.4466 - val_sparse_categorical_accuracy: 0.4466\n",
            "Epoch 11/25\n",
            "613/613 [==============================] - 3s 5ms/step - loss: 1.0561 - accuracy: 0.4518 - sparse_categorical_accuracy: 0.4518 - val_loss: 1.0564 - val_accuracy: 0.4466 - val_sparse_categorical_accuracy: 0.4466\n",
            "Epoch 12/25\n",
            "613/613 [==============================] - 3s 5ms/step - loss: 1.0548 - accuracy: 0.4514 - sparse_categorical_accuracy: 0.4514 - val_loss: 1.0557 - val_accuracy: 0.4466 - val_sparse_categorical_accuracy: 0.4466\n",
            "Epoch 13/25\n",
            "613/613 [==============================] - 3s 5ms/step - loss: 1.0540 - accuracy: 0.4539 - sparse_categorical_accuracy: 0.4539 - val_loss: 1.0550 - val_accuracy: 0.4466 - val_sparse_categorical_accuracy: 0.4466\n",
            "Epoch 14/25\n",
            "613/613 [==============================] - 3s 5ms/step - loss: 1.0533 - accuracy: 0.4529 - sparse_categorical_accuracy: 0.4529 - val_loss: 1.0544 - val_accuracy: 0.4466 - val_sparse_categorical_accuracy: 0.4466\n",
            "Epoch 15/25\n",
            "613/613 [==============================] - 3s 5ms/step - loss: 1.0530 - accuracy: 0.4570 - sparse_categorical_accuracy: 0.4570 - val_loss: 1.0540 - val_accuracy: 0.4466 - val_sparse_categorical_accuracy: 0.4466\n",
            "Epoch 16/25\n",
            "613/613 [==============================] - 3s 5ms/step - loss: 1.0516 - accuracy: 0.4544 - sparse_categorical_accuracy: 0.4544 - val_loss: 1.0535 - val_accuracy: 0.4466 - val_sparse_categorical_accuracy: 0.4466\n",
            "Epoch 17/25\n",
            "613/613 [==============================] - 3s 5ms/step - loss: 1.0528 - accuracy: 0.4573 - sparse_categorical_accuracy: 0.4573 - val_loss: 1.0532 - val_accuracy: 0.4466 - val_sparse_categorical_accuracy: 0.4466\n",
            "Epoch 18/25\n",
            "613/613 [==============================] - 3s 5ms/step - loss: 1.0516 - accuracy: 0.4558 - sparse_categorical_accuracy: 0.4558 - val_loss: 1.0529 - val_accuracy: 0.4466 - val_sparse_categorical_accuracy: 0.4466\n",
            "Epoch 19/25\n",
            "613/613 [==============================] - 3s 5ms/step - loss: 1.0497 - accuracy: 0.4569 - sparse_categorical_accuracy: 0.4569 - val_loss: 1.0526 - val_accuracy: 0.4554 - val_sparse_categorical_accuracy: 0.4554\n",
            "Epoch 20/25\n",
            "613/613 [==============================] - 3s 5ms/step - loss: 1.0504 - accuracy: 0.4590 - sparse_categorical_accuracy: 0.4590 - val_loss: 1.0523 - val_accuracy: 0.4579 - val_sparse_categorical_accuracy: 0.4579\n",
            "Epoch 21/25\n",
            "613/613 [==============================] - 3s 5ms/step - loss: 1.0503 - accuracy: 0.4612 - sparse_categorical_accuracy: 0.4612 - val_loss: 1.0521 - val_accuracy: 0.4603 - val_sparse_categorical_accuracy: 0.4603\n",
            "Epoch 22/25\n",
            "613/613 [==============================] - 3s 5ms/step - loss: 1.0504 - accuracy: 0.4611 - sparse_categorical_accuracy: 0.4611 - val_loss: 1.0519 - val_accuracy: 0.4613 - val_sparse_categorical_accuracy: 0.4613\n",
            "Epoch 23/25\n",
            "613/613 [==============================] - 3s 5ms/step - loss: 1.0502 - accuracy: 0.4631 - sparse_categorical_accuracy: 0.4631 - val_loss: 1.0518 - val_accuracy: 0.4624 - val_sparse_categorical_accuracy: 0.4624\n",
            "Epoch 24/25\n",
            "613/613 [==============================] - 3s 5ms/step - loss: 1.0492 - accuracy: 0.4620 - sparse_categorical_accuracy: 0.4620 - val_loss: 1.0516 - val_accuracy: 0.4636 - val_sparse_categorical_accuracy: 0.4636\n",
            "Epoch 25/25\n",
            "613/613 [==============================] - 3s 5ms/step - loss: 1.0494 - accuracy: 0.4621 - sparse_categorical_accuracy: 0.4621 - val_loss: 1.0515 - val_accuracy: 0.4636 - val_sparse_categorical_accuracy: 0.4636\n"
          ]
        }
      ]
    },
    {
      "cell_type": "code",
      "source": [
        "\n",
        "# plot training and validation loss  \n",
        "plt.plot(history.history['loss'], color = 'blue', label = 'training loss')\n",
        "plt.plot(history.history['val_loss'], color = 'red', label = 'validation loss')\n",
        "plt.xlabel('Epoch number')\n",
        "plt.ylim(0, 1.5)\n",
        "plt.title('training and validation loss')\n",
        "plt.legend()\n",
        "plt.show()\n",
        "\n",
        "# plot training and validation accuracy \n",
        "# SparseCategoricalAccuracy\n",
        "plt.plot(history.history['sparse_categorical_accuracy'], color = 'blue', label = 'training accuracy')\n",
        "plt.plot(history.history['val_sparse_categorical_accuracy'], color = 'red', label = 'validation accuracy')\n",
        "plt.xlabel('Epoch number')\n",
        "plt.ylim(0, 1)\n",
        "plt.title('training and validation accuracy')\n",
        "plt.legend()\n",
        "plt.show()\n",
        "\n",
        "# model evaluation\n",
        "train_loss = history.history['loss'][num_epochs-1] \n",
        "train_acc = history.history['sparse_categorical_accuracy'][num_epochs-1]\n",
        "#validation_loss = model.evaluate(validation_input, validation_target)[0]\n",
        "#validation_acc = model.evaluate(validation_input, validation_target)[1]\n",
        "test_loss = model.evaluate(X_test, y_test)[0]\n",
        "test_acc = model.evaluate(X_test, y_test)[1]\n",
        "\n",
        "print(\"\\n\")\n",
        "print(\"final training loss: %f\" % train_loss)\n",
        "print(\"final training accuracy: %f\" % train_acc)\n",
        "# #print(\"final validation loss: %f\" % validation_loss)\n",
        "# #print(\"final validation accuracy: %f\" % validation_acc)\n",
        "print(\"final test loss: %f\" % test_loss)\n",
        "print(\"final test accuracy: %f\" % test_acc)\n",
        "print(\"\\n\")\n"
      ],
      "metadata": {
        "colab": {
          "base_uri": "https://localhost:8080/",
          "height": 746
        },
        "id": "7ayAAfZhOsAK",
        "outputId": "8dbb5cfe-5cf3-47da-a84f-91ed06d02ae2"
      },
      "execution_count": 392,
      "outputs": [
        {
          "output_type": "display_data",
          "data": {
            "image/png": "[encoded data removed]",
            "text/plain": [
              "<Figure size 432x288 with 1 Axes>"
            ]
          },
          "metadata": {
            "needs_background": "light"
          }
        },
        {
          "output_type": "display_data",
          "data": {
            "image/png": "[encoded data removed]",
            "text/plain": [
              "<Figure size 432x288 with 1 Axes>"
            ]
          },
          "metadata": {
            "needs_background": "light"
          }
        },
        {
          "output_type": "stream",
          "name": "stdout",
          "text": [
            "154/154 [==============================] - 0s 3ms/step - loss: 1.0515 - accuracy: 0.4636 - sparse_categorical_accuracy: 0.4636\n",
            "154/154 [==============================] - 1s 3ms/step - loss: 1.0515 - accuracy: 0.4636 - sparse_categorical_accuracy: 0.4636\n",
            "\n",
            "\n",
            "final training loss: 1.049367\n",
            "final training accuracy: 0.462096\n",
            "final test loss: 1.051473\n",
            "final test accuracy: 0.463579\n",
            "\n",
            "\n"
          ]
        }
      ]
    },
    {
      "cell_type": "code",
      "source": [
        "print(\"echte werte für team 1 sieg\")\n",
        "print(model(np.array([[0.9635,0.6995,0.685,0.273]])))\n",
        "print(\"echte werte für team 2 sieg\")\n",
        "print(model(np.array([[0.6995,0.9635,0.273,0.685]])))\n",
        "print(\"echte werte für unentschieden\")\n",
        "print(model(np.array([[0.5411,0.5257,0.288,0.247]])))\n",
        "print(\"fiktive werte für team 2 sieg\")\n",
        "print(model(np.array([[0.1111,0.9999,0.111,0.999]])))"
      ],
      "metadata": {
        "colab": {
          "base_uri": "https://localhost:8080/"
        },
        "id": "x9D1p9iyE6CO",
        "outputId": "44f93032-be69-4a69-86d9-e0e9ab9ffdfc"
      },
      "execution_count": 393,
      "outputs": [
        {
          "output_type": "stream",
          "name": "stdout",
          "text": [
            "echte werte für team 1 sieg\n",
            "tf.Tensor([[0.5437891  0.21588404 0.24032685]], shape=(1, 3), dtype=float32)\n",
            "echte werte für team 2 sieg\n",
            "tf.Tensor([[0.355936   0.28933397 0.3547301 ]], shape=(1, 3), dtype=float32)\n",
            "echte werte für unentschieden\n",
            "tf.Tensor([[0.46244127 0.25398177 0.28357697]], shape=(1, 3), dtype=float32)\n",
            "fiktive werte für team 2 sieg\n",
            "tf.Tensor([[0.34267268 0.3011698  0.35615745]], shape=(1, 3), dtype=float32)\n"
          ]
        }
      ]
    },
    {
      "cell_type": "markdown",
      "source": [
        "# veränderungen:\n",
        "------------------------------\n",
        "normaliesed, alle werte zwischen 0,1 ursprungs bereich 0,100\n",
        "\n",
        "Layer hinzugefügt und vergrößert\n",
        "\n",
        "-------------------------\n",
        "## Adadelta:\n",
        "\n",
        "Epoch 50/50\n",
        "613/613 [==============================] - 2s 4ms/step - loss: 1.0170 - accuracy: 0.5006\n",
        "\n",
        "## Adam:\n",
        "\n",
        "Epoch 50/50\n",
        "613/613 [==============================] - 2s 4ms/step - loss: 1.0680 - accuracy: 0.4502\n",
        "\n",
        "## Adamax: //fängt früh an zu overfitten\n",
        "\n",
        "Epoch 50/50\n",
        "613/613 [==============================] - 2s 4ms/step - loss: 0.9949 - accuracy: 0.5120\n",
        "\n",
        "## SGD: //momentum & nesterov 0.9 //fängt auch relativ früh an zu \"overfitten\"\n",
        "\n",
        "Epoch 50/50\n",
        "613/613 [==============================] - 2s 4ms/step - loss: 0.9937 - accuracy: 0.5141\n",
        "\n",
        "## Adagrad: //fängt auch vorher an zu overfitten\n",
        "\n",
        "Epoch 50/50\n",
        "613/613 [==============================] - 2s 4ms/step - loss: 0.9974 - accuracy: 0.5133\n",
        "\n",
        "\n",
        "## FTRL //macht garnichts\n",
        "\n",
        "Epoch 2/50\n",
        "613/613 [==============================] - 3s 4ms/step - loss: 1.0675 - accuracy: 0.4512\n",
        "\n",
        "Epoch 3/50\n",
        "613/613 [==============================] - 3s 4ms/step - loss: 1.0675 - accuracy: 0.4512\n",
        "\n",
        "Epoch 4/50\n",
        "613/613 [==============================] - 3s 4ms/step - loss: 1.0674 - accuracy: 0.4512\n",
        "\n",
        "Epoch 5/50\n",
        "613/613 [==============================] - 3s 4ms/step - loss: 1.0675 - accuracy: 0.4512\n",
        "\n",
        "Epoch 6/50\n",
        "613/613 [==============================] - 3s 4ms/step - loss: 1.0674 - accuracy: 0.4512\n",
        "\n",
        "## RMSprop // frühes overfitten\n",
        "\n",
        "poch 19/50\n",
        "613/613 [==============================] - 2s 4ms/step - loss: 1.0728 - accuracy: 0.4503\n",
        "\n",
        "\n",
        "\n",
        "\n",
        "\n",
        "\n",
        "\n",
        "\n",
        "\n"
      ],
      "metadata": {
        "id": "m3ZAGdjccQY6"
      }
    }
  ]
}