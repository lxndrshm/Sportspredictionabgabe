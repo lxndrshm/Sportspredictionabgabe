{
  "cells": [
    {
      "cell_type": "code",
      "execution_count": null,
      "metadata": {
        "id": "7j_DffRJaeUx"
      },
      "outputs": [],
      "source": [
        "# Mount gdrive \n",
        "from google.colab import drive\n",
        "drive._mount('/content/gdrive')"
      ]
    },
    {
      "cell_type": "markdown",
      "metadata": {
        "id": "YX3fu1ofaeVD"
      },
      "source": [
        "# Package installation and import.\n",
        "* pathlib: For working with directories.\n",
        "* pandas: For reading, modifying and writing data.\n",
        "* numpy: For converting the data into a format that can be easier understood by tensorflow.\n",
        "* tensorflow: For creating and using the neural net.\n",
        "* tensorboard: For visualizing the results.\n",
        "* matplotlib: For visualizing the results."
      ]
    },
    {
      "cell_type": "code",
      "execution_count": null,
      "metadata": {
        "id": "Wpn5xBPvaeVI"
      },
      "outputs": [],
      "source": [
        "# Install the needed packages\n",
        "%pip install pathlib2 pandas numpy tensorflow tensorboard --quiet\n",
        "\n",
        "# Import packages.\n",
        "import os\n",
        "import signal\n",
        "import tempfile\n",
        "from pathlib2 import Path\n",
        "import pandas as pd\n",
        "import numpy as np\n",
        "import matplotlib.pyplot as plt\n",
        "import tensorflow as tf\n",
        "import tensorboard as tb"
      ]
    },
    {
      "cell_type": "markdown",
      "source": [
        "# Introduction to Dataset and Visualization"
      ],
      "metadata": {
        "id": "KLfvWHTFbyu-"
      }
    },
    {
      "cell_type": "markdown",
      "source": [
        "* Loading the SPI Dataset and doing basic preprocessing"
      ],
      "metadata": {
        "id": "Odt2C4NSeL0-"
      }
    },
    {
      "cell_type": "code",
      "source": [
        "### load dataset and shuffle\n",
        "df = pd.read_csv(\"https://raw.githubusercontent.com/lxndrshm/DBminutes/main/spi_matches.csv\")\n",
        "dataset = df.copy()\n",
        "dataset = dataset.sample(frac=1)"
      ],
      "metadata": {
        "id": "RUnXPFDkcDAc"
      },
      "execution_count": null,
      "outputs": []
    },
    {
      "cell_type": "code",
      "source": [
        "### dropping all the coloums we dont need. We can also drop more coloums like importance\n",
        "df = df.drop([\"adj_score1\", \"adj_score2\",\"proj_score1\", \"proj_score2\", \"season\", \"date\", \"league_id\", \"team1\", \"team2\"], axis = 1)\n",
        "### drop NA´s (keep in mind, that this drops all unplayed games for now, e.g the games we wanna predict in the future)\n",
        "df = df.dropna()"
      ],
      "metadata": {
        "id": "4Gm4X5UlcCyv"
      },
      "execution_count": null,
      "outputs": []
    },
    {
      "cell_type": "markdown",
      "source": [
        "## Prepare new coloumns with Result, Projected Result and Accuracy"
      ],
      "metadata": {
        "id": "J7ncJBupeXkb"
      }
    },
    {
      "cell_type": "code",
      "source": [
        "#get the highest value from the probabilites to identify predicted result\n",
        "df[\"maxValue\"] = df.iloc[:, [3,4,5]].max(axis=1)"
      ],
      "metadata": {
        "id": "BoaspOjhc8lK"
      },
      "execution_count": null,
      "outputs": []
    },
    {
      "cell_type": "code",
      "source": [
        "# assign a probability tier\n",
        "conditions = [\n",
        "    (df['maxValue'] <= 0.1),\n",
        "    (df['maxValue'] > 0.1) & (df['maxValue'] <= 0.2),\n",
        "    (df['maxValue'] > 0.2) & (df['maxValue'] <= 0.3),\n",
        "    (df['maxValue'] > 0.3) & (df['maxValue'] <= 0.4),\n",
        "    (df['maxValue'] > 0.4) & (df['maxValue'] <= 0.5),\n",
        "    (df['maxValue'] > 0.5) & (df['maxValue'] <= 0.6),\n",
        "    (df['maxValue'] > 0.6) & (df['maxValue'] <= 0.7),\n",
        "    (df['maxValue'] > 0.7) & (df['maxValue'] <= 0.8),\n",
        "    (df['maxValue'] > 0.8) & (df['maxValue'] <= 0.9),\n",
        "    (df['maxValue'] > 0.9)\n",
        "    ]\n",
        "\n",
        "# create a list of the values we want to assign for each condition\n",
        "values = ['0.05', '0.15', '0.25', '0.35', '0.45', '0.55', '0.65', '0.75', '0.85', '0.95']\n",
        "\n",
        "# create a new column and use np.select to assign values to it using our lists as arguments\n",
        "df['tier'] = np.select(conditions, values)\n",
        "#change datatype\n",
        "df[\"tier\"] = df['tier'].astype(str).astype(float)"
      ],
      "metadata": {
        "id": "MOeEu7vbcCnk"
      },
      "execution_count": null,
      "outputs": []
    },
    {
      "cell_type": "code",
      "source": [
        "### Create a new result coloumn\n",
        "# create a list of our conditions\n",
        "conditions = [\n",
        "    (df['score1'] > df[\"score2\"]),\n",
        "    (df['score1'] < df[\"score2\"]),\n",
        "    (df['score1'] == df[\"score2\"])\n",
        "    ]\n",
        "# create a list of the values we want to assign for each condition\n",
        "values = ['Homewin', 'Awaywin', 'Draw']\n",
        "\n",
        "# create a new column and use np.select to assign values to it using our lists as arguments\n",
        "df['result'] = np.select(conditions, values)"
      ],
      "metadata": {
        "id": "81sLZV5zcCbn"
      },
      "execution_count": null,
      "outputs": []
    },
    {
      "cell_type": "code",
      "source": [
        "#make a new coloumn with a projected result from prediction\n",
        "dct = {'prob1': 'Homewin', 'prob2': 'Awaywin', 'probtie': 'Draw'}\n",
        "df[\"proj_result\"] = df[[\"prob1\", \"prob2\", \"probtie\"]].idxmax(axis=1).map(dct)"
      ],
      "metadata": {
        "id": "1aVgFXaDcCOR"
      },
      "execution_count": null,
      "outputs": []
    },
    {
      "cell_type": "code",
      "source": [
        "### check if result and proj_result are the same\n",
        "# create a list of our conditions\n",
        "conditions = [\n",
        "    (df['result'] != df[\"proj_result\"]),\n",
        "    (df['result'] == df[\"proj_result\"])\n",
        "    ]\n",
        "# create a list of the values we want to assign for each condition\n",
        "values = ['False', \"Correct\"]\n",
        "\n",
        "# create a new column and use np.select to assign values to it using our lists as arguments\n",
        "df['acc'] = np.select(conditions, values)"
      ],
      "metadata": {
        "id": "CX415ysrcCCI"
      },
      "execution_count": null,
      "outputs": []
    },
    {
      "cell_type": "code",
      "source": [
        "#code for visualizing accuracy per probability tier\n",
        "probacc = df.groupby('tier')['acc'].value_counts(normalize=True, sort=False).unstack()\n",
        "probacc = probacc.drop([\"False\"], axis = 1)\n",
        "#probacc.plot(kind=\"bar\")"
      ],
      "metadata": {
        "id": "ILemIrDGcBzl"
      },
      "execution_count": null,
      "outputs": []
    },
    {
      "cell_type": "code",
      "source": [
        "# code for accuracy per league\n",
        "leagues = df.groupby('league')['acc'].value_counts(normalize=True, sort=True).unstack()\n",
        "leagues[\"correct\"] = leagues[\"False\"]\n",
        "leagues = leagues.drop([\"False\", \"Correct\"], axis = 1)\n",
        "leagues = leagues.sort_values(by=[\"correct\"])"
      ],
      "metadata": {
        "id": "NlESv_JRcR-r"
      },
      "execution_count": null,
      "outputs": []
    },
    {
      "cell_type": "markdown",
      "source": [
        "### SPORTS PREDICTION WITH A NEURAL NET"
      ],
      "metadata": {
        "id": "ikFp6Z3ad6ii"
      }
    },
    {
      "cell_type": "markdown",
      "source": [
        "![Analytics-series.jpg](data:image/jpeg;base64,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)"
      ],
      "metadata": {
        "id": "OrVEdHvtc3Ac"
      }
    },
    {
      "cell_type": "markdown",
      "source": [
        "## Visualize Dataset and Accuracy for each Tier, League and Overall"
      ],
      "metadata": {
        "id": "m_YEvf-Celb0"
      }
    },
    {
      "cell_type": "code",
      "source": [
        "#datahead\n",
        "dataset.head()"
      ],
      "metadata": {
        "colab": {
          "base_uri": "https://localhost:8080/",
          "height": 444
        },
        "id": "0zbo1j83cRzD",
        "outputId": "8f80f60d-6a3e-465a-93f2-b0c37b36989a"
      },
      "execution_count": null,
      "outputs": [
        {
          "output_type": "execute_result",
          "data": {
            "text/html": [
              "\n",
              "  <div id=\"df-3535a15e-e167-49b1-9921-5f453c020060\">\n",
              "    <div class=\"colab-df-container\">\n",
              "      <div>\n",
              "<style scoped>\n",
              "    .dataframe tbody tr th:only-of-type {\n",
              "        vertical-align: middle;\n",
              "    }\n",
              "\n",
              "    .dataframe tbody tr th {\n",
              "        vertical-align: top;\n",
              "    }\n",
              "\n",
              "    .dataframe thead th {\n",
              "        text-align: right;\n",
              "    }\n",
              "</style>\n",
              "<table border=\"1\" class=\"dataframe\">\n",
              "  <thead>\n",
              "    <tr style=\"text-align: right;\">\n",
              "      <th></th>\n",
              "      <th>season</th>\n",
              "      <th>date</th>\n",
              "      <th>league_id</th>\n",
              "      <th>league</th>\n",
              "      <th>team1</th>\n",
              "      <th>team2</th>\n",
              "      <th>spi1</th>\n",
              "      <th>spi2</th>\n",
              "      <th>prob1</th>\n",
              "      <th>prob2</th>\n",
              "      <th>probtie</th>\n",
              "      <th>proj_score1</th>\n",
              "      <th>proj_score2</th>\n",
              "      <th>importance1</th>\n",
              "      <th>importance2</th>\n",
              "      <th>score1</th>\n",
              "      <th>score2</th>\n",
              "      <th>xg1</th>\n",
              "      <th>xg2</th>\n",
              "      <th>nsxg1</th>\n",
              "      <th>nsxg2</th>\n",
              "      <th>adj_score1</th>\n",
              "      <th>adj_score2</th>\n",
              "    </tr>\n",
              "  </thead>\n",
              "  <tbody>\n",
              "    <tr>\n",
              "      <th>40305</th>\n",
              "      <td>2020</td>\n",
              "      <td>2021-02-27</td>\n",
              "      <td>1871</td>\n",
              "      <td>Spanish Segunda Division</td>\n",
              "      <td>Logrones</td>\n",
              "      <td>Mallorca</td>\n",
              "      <td>24.37</td>\n",
              "      <td>51.30</td>\n",
              "      <td>0.1519</td>\n",
              "      <td>0.5791</td>\n",
              "      <td>0.2690</td>\n",
              "      <td>0.68</td>\n",
              "      <td>1.61</td>\n",
              "      <td>49.6</td>\n",
              "      <td>73.4</td>\n",
              "      <td>0.0</td>\n",
              "      <td>1.0</td>\n",
              "      <td>NaN</td>\n",
              "      <td>NaN</td>\n",
              "      <td>NaN</td>\n",
              "      <td>NaN</td>\n",
              "      <td>NaN</td>\n",
              "      <td>NaN</td>\n",
              "    </tr>\n",
              "    <tr>\n",
              "      <th>26154</th>\n",
              "      <td>2019</td>\n",
              "      <td>2019-10-19</td>\n",
              "      <td>2417</td>\n",
              "      <td>Scottish Premiership</td>\n",
              "      <td>St Mirren</td>\n",
              "      <td>St Johnstone</td>\n",
              "      <td>18.98</td>\n",
              "      <td>19.85</td>\n",
              "      <td>0.4218</td>\n",
              "      <td>0.2941</td>\n",
              "      <td>0.2841</td>\n",
              "      <td>1.20</td>\n",
              "      <td>0.95</td>\n",
              "      <td>47.3</td>\n",
              "      <td>43.4</td>\n",
              "      <td>2.0</td>\n",
              "      <td>0.0</td>\n",
              "      <td>NaN</td>\n",
              "      <td>NaN</td>\n",
              "      <td>NaN</td>\n",
              "      <td>NaN</td>\n",
              "      <td>NaN</td>\n",
              "      <td>NaN</td>\n",
              "    </tr>\n",
              "    <tr>\n",
              "      <th>7110</th>\n",
              "      <td>2017</td>\n",
              "      <td>2018-01-06</td>\n",
              "      <td>1975</td>\n",
              "      <td>Mexican Primera Division Torneo Clausura</td>\n",
              "      <td>Necaxa</td>\n",
              "      <td>Veracruz</td>\n",
              "      <td>39.88</td>\n",
              "      <td>32.04</td>\n",
              "      <td>0.5097</td>\n",
              "      <td>0.1938</td>\n",
              "      <td>0.2964</td>\n",
              "      <td>1.40</td>\n",
              "      <td>0.75</td>\n",
              "      <td>47.8</td>\n",
              "      <td>57.8</td>\n",
              "      <td>0.0</td>\n",
              "      <td>0.0</td>\n",
              "      <td>0.43</td>\n",
              "      <td>0.33</td>\n",
              "      <td>0.87</td>\n",
              "      <td>0.72</td>\n",
              "      <td>0.00</td>\n",
              "      <td>0.00</td>\n",
              "    </tr>\n",
              "    <tr>\n",
              "      <th>29903</th>\n",
              "      <td>2019</td>\n",
              "      <td>2020-02-09</td>\n",
              "      <td>1846</td>\n",
              "      <td>German 2. Bundesliga</td>\n",
              "      <td>SpVgg Greuther Fürth</td>\n",
              "      <td>Hannover 96</td>\n",
              "      <td>31.88</td>\n",
              "      <td>38.26</td>\n",
              "      <td>0.3485</td>\n",
              "      <td>0.3716</td>\n",
              "      <td>0.2800</td>\n",
              "      <td>1.37</td>\n",
              "      <td>1.42</td>\n",
              "      <td>15.0</td>\n",
              "      <td>18.7</td>\n",
              "      <td>1.0</td>\n",
              "      <td>3.0</td>\n",
              "      <td>2.20</td>\n",
              "      <td>1.48</td>\n",
              "      <td>1.73</td>\n",
              "      <td>0.51</td>\n",
              "      <td>0.84</td>\n",
              "      <td>2.63</td>\n",
              "    </tr>\n",
              "    <tr>\n",
              "      <th>23592</th>\n",
              "      <td>2019</td>\n",
              "      <td>2019-08-16</td>\n",
              "      <td>1844</td>\n",
              "      <td>French Ligue 2</td>\n",
              "      <td>Paris FC</td>\n",
              "      <td>Niort</td>\n",
              "      <td>31.20</td>\n",
              "      <td>25.00</td>\n",
              "      <td>0.4791</td>\n",
              "      <td>0.1980</td>\n",
              "      <td>0.3229</td>\n",
              "      <td>1.26</td>\n",
              "      <td>0.70</td>\n",
              "      <td>20.7</td>\n",
              "      <td>25.9</td>\n",
              "      <td>0.0</td>\n",
              "      <td>1.0</td>\n",
              "      <td>NaN</td>\n",
              "      <td>NaN</td>\n",
              "      <td>NaN</td>\n",
              "      <td>NaN</td>\n",
              "      <td>NaN</td>\n",
              "      <td>NaN</td>\n",
              "    </tr>\n",
              "  </tbody>\n",
              "</table>\n",
              "</div>\n",
              "      <button class=\"colab-df-convert\" onclick=\"convertToInteractive('df-3535a15e-e167-49b1-9921-5f453c020060')\"\n",
              "              title=\"Convert this dataframe to an interactive table.\"\n",
              "              style=\"display:none;\">\n",
              "        \n",
              "  <svg xmlns=\"http://www.w3.org/2000/svg\" height=\"24px\"viewBox=\"0 0 24 24\"\n",
              "       width=\"24px\">\n",
              "    <path d=\"M0 0h24v24H0V0z\" fill=\"none\"/>\n",
              "    <path d=\"M18.56 5.44l.94 2.06.94-2.06 2.06-.94-2.06-.94-.94-2.06-.94 2.06-2.06.94zm-11 1L8.5 8.5l.94-2.06 2.06-.94-2.06-.94L8.5 2.5l-.94 2.06-2.06.94zm10 10l.94 2.06.94-2.06 2.06-.94-2.06-.94-.94-2.06-.94 2.06-2.06.94z\"/><path d=\"M17.41 7.96l-1.37-1.37c-.4-.4-.92-.59-1.43-.59-.52 0-1.04.2-1.43.59L10.3 9.45l-7.72 7.72c-.78.78-.78 2.05 0 2.83L4 21.41c.39.39.9.59 1.41.59.51 0 1.02-.2 1.41-.59l7.78-7.78 2.81-2.81c.8-.78.8-2.07 0-2.86zM5.41 20L4 18.59l7.72-7.72 1.47 1.35L5.41 20z\"/>\n",
              "  </svg>\n",
              "      </button>\n",
              "      \n",
              "  <style>\n",
              "    .colab-df-container {\n",
              "      display:flex;\n",
              "      flex-wrap:wrap;\n",
              "      gap: 12px;\n",
              "    }\n",
              "\n",
              "    .colab-df-convert {\n",
              "      background-color: #E8F0FE;\n",
              "      border: none;\n",
              "      border-radius: 50%;\n",
              "      cursor: pointer;\n",
              "      display: none;\n",
              "      fill: #1967D2;\n",
              "      height: 32px;\n",
              "      padding: 0 0 0 0;\n",
              "      width: 32px;\n",
              "    }\n",
              "\n",
              "    .colab-df-convert:hover {\n",
              "      background-color: #E2EBFA;\n",
              "      box-shadow: 0px 1px 2px rgba(60, 64, 67, 0.3), 0px 1px 3px 1px rgba(60, 64, 67, 0.15);\n",
              "      fill: #174EA6;\n",
              "    }\n",
              "\n",
              "    [theme=dark] .colab-df-convert {\n",
              "      background-color: #3B4455;\n",
              "      fill: #D2E3FC;\n",
              "    }\n",
              "\n",
              "    [theme=dark] .colab-df-convert:hover {\n",
              "      background-color: #434B5C;\n",
              "      box-shadow: 0px 1px 3px 1px rgba(0, 0, 0, 0.15);\n",
              "      filter: drop-shadow(0px 1px 2px rgba(0, 0, 0, 0.3));\n",
              "      fill: #FFFFFF;\n",
              "    }\n",
              "  </style>\n",
              "\n",
              "      <script>\n",
              "        const buttonEl =\n",
              "          document.querySelector('#df-3535a15e-e167-49b1-9921-5f453c020060 button.colab-df-convert');\n",
              "        buttonEl.style.display =\n",
              "          google.colab.kernel.accessAllowed ? 'block' : 'none';\n",
              "\n",
              "        async function convertToInteractive(key) {\n",
              "          const element = document.querySelector('#df-3535a15e-e167-49b1-9921-5f453c020060');\n",
              "          const dataTable =\n",
              "            await google.colab.kernel.invokeFunction('convertToInteractive',\n",
              "                                                     [key], {});\n",
              "          if (!dataTable) return;\n",
              "\n",
              "          const docLinkHtml = 'Like what you see? Visit the ' +\n",
              "            '<a target=\"_blank\" href=https://colab.research.google.com/notebooks/data_table.ipynb>data table notebook</a>'\n",
              "            + ' to learn more about interactive tables.';\n",
              "          element.innerHTML = '';\n",
              "          dataTable['output_type'] = 'display_data';\n",
              "          await google.colab.output.renderOutput(dataTable, element);\n",
              "          const docLink = document.createElement('div');\n",
              "          docLink.innerHTML = docLinkHtml;\n",
              "          element.appendChild(docLink);\n",
              "        }\n",
              "      </script>\n",
              "    </div>\n",
              "  </div>\n",
              "  "
            ],
            "text/plain": [
              "       season        date  league_id  ... nsxg2 adj_score1 adj_score2\n",
              "40305    2020  2021-02-27       1871  ...   NaN        NaN        NaN\n",
              "26154    2019  2019-10-19       2417  ...   NaN        NaN        NaN\n",
              "7110     2017  2018-01-06       1975  ...  0.72       0.00       0.00\n",
              "29903    2019  2020-02-09       1846  ...  0.51       0.84       2.63\n",
              "23592    2019  2019-08-16       1844  ...   NaN        NaN        NaN\n",
              "\n",
              "[5 rows x 23 columns]"
            ]
          },
          "metadata": {},
          "execution_count": 13
        }
      ]
    },
    {
      "cell_type": "code",
      "source": [
        "#win probabilties distribution\n",
        "distribution = df[\"result\"].value_counts(normalize=True)\n",
        "distribution.plot(kind=\"pie\", labels=distribution)"
      ],
      "metadata": {
        "colab": {
          "base_uri": "https://localhost:8080/",
          "height": 265
        },
        "id": "JXJgxo9acRnl",
        "outputId": "56f2a343-e2fd-4976-d993-e794696a749f"
      },
      "execution_count": null,
      "outputs": [
        {
          "output_type": "execute_result",
          "data": {
            "text/plain": [
              "<matplotlib.axes._subplots.AxesSubplot at 0x7f4a438b2f10>"
            ]
          },
          "metadata": {},
          "execution_count": 14
        },
        {
          "output_type": "display_data",
          "data": {
            "image/png": "[encoded data removed]",
            "text/plain": [
              "<Figure size 432x288 with 1 Axes>"
            ]
          },
          "metadata": {}
        }
      ]
    },
    {
      "cell_type": "code",
      "source": [
        "distribution"
      ],
      "metadata": {
        "colab": {
          "base_uri": "https://localhost:8080/"
        },
        "id": "M54elFcMcYdc",
        "outputId": "83b2fe8e-a0b5-46dd-bee2-ab0717446c17"
      },
      "execution_count": null,
      "outputs": [
        {
          "output_type": "execute_result",
          "data": {
            "text/plain": [
              "Homewin    0.451210\n",
              "Awaywin    0.292821\n",
              "Draw       0.255969\n",
              "Name: result, dtype: float64"
            ]
          },
          "metadata": {},
          "execution_count": 15
        }
      ]
    },
    {
      "cell_type": "markdown",
      "source": [
        "## Accuracy of SPI Model"
      ],
      "metadata": {
        "id": "8QX3Osx26LPr"
      }
    },
    {
      "cell_type": "code",
      "source": [
        "#accuracy of SPI Model\n",
        "df['acc'].value_counts(normalize=True)"
      ],
      "metadata": {
        "colab": {
          "base_uri": "https://localhost:8080/"
        },
        "id": "51BhlGWWcBjR",
        "outputId": "920d8747-5589-42fa-92fa-37e25af940f5"
      },
      "execution_count": null,
      "outputs": [
        {
          "output_type": "execute_result",
          "data": {
            "text/plain": [
              "Correct    0.5141\n",
              "False      0.4859\n",
              "Name: acc, dtype: float64"
            ]
          },
          "metadata": {},
          "execution_count": 11
        }
      ]
    },
    {
      "cell_type": "code",
      "source": [
        "#Visual for Accuracy per League\n",
        "leagues.plot(kind=\"barh\")"
      ],
      "metadata": {
        "colab": {
          "base_uri": "https://localhost:8080/",
          "height": 283
        },
        "id": "gHJZS3azcYPh",
        "outputId": "93dea9fc-4f18-42d3-878a-d66c52186ab3"
      },
      "execution_count": null,
      "outputs": [
        {
          "output_type": "execute_result",
          "data": {
            "text/plain": [
              "<matplotlib.axes._subplots.AxesSubplot at 0x7f4a433a9610>"
            ]
          },
          "metadata": {},
          "execution_count": 16
        },
        {
          "output_type": "display_data",
          "data": {
            "image/png": "[encoded data removed]",
            "text/plain": [
              "<Figure size 432x288 with 1 Axes>"
            ]
          },
          "metadata": {
            "needs_background": "light"
          }
        }
      ]
    },
    {
      "cell_type": "code",
      "source": [
        "#Visual for Accuracy per Tier\n",
        "probacc.plot(kind=\"bar\")"
      ],
      "metadata": {
        "colab": {
          "base_uri": "https://localhost:8080/",
          "height": 309
        },
        "id": "8J4sMVwBcRaH",
        "outputId": "78f5b412-da04-4fcd-cce7-23d31f3830cb"
      },
      "execution_count": null,
      "outputs": [
        {
          "output_type": "execute_result",
          "data": {
            "text/plain": [
              "<matplotlib.axes._subplots.AxesSubplot at 0x7f4a43336350>"
            ]
          },
          "metadata": {},
          "execution_count": 17
        },
        {
          "output_type": "display_data",
          "data": {
            "image/png": "[encoded data removed]",
            "text/plain": [
              "<Figure size 432x288 with 1 Axes>"
            ]
          },
          "metadata": {
            "needs_background": "light"
          }
        }
      ]
    },
    {
      "cell_type": "markdown",
      "metadata": {
        "id": "WnTnkV5IaeVO"
      },
      "source": [
        "# Defining the parameter.\n",
        "## Path for data files.\n",
        "* DATA_FOLDER: Folder with the data files.\n",
        "* FIVETHIRTYEIGHT_PROJECTS_FILE: A file downloaded from https://projects.fivethirtyeight.com. \n",
        "* MARKET_VALUE_FILE: A file containing the market value of each team, the average age of the players, etc. This information is taken from https://www.transfermarkt.com.\n",
        "* POINTS_FILE: A file containing information about how many points and which rank each team had in the last season. This information is taken from https://www.sport.de/fussball/deutschland-bundesliga and http://www.trainer-baade.de/alle-aufsteiger-in-die-1-bundesliga/.\n",
        "* PREPARED_DATA_FILE: The file containing the data, that is used for the neural net.\n",
        "\n",
        "## Column names and values.\n",
        "* FILTER_COLUMN: Column name for filtering the fivethirtyeight data set.\n",
        "* FILTER_VALUE: Value for filtering the fivethirtyeight data set. \n",
        "* RESULT_COLUMN: The column for storing the calculated result of each match.\n",
        "* RESULT_HEADERS: The column headers for the predicted results.\n",
        "* RESULT_INFO_COLUMNS: Columns that are shown together with the predicted results.\n",
        "* VALUE_COLUMNS: Not category columns, that are used for the neural net.\n",
        "* VALUE_HOME_DRAW: The value of the RESULT_COLUMN, if the match result is a draw.\n",
        "* VALUE_HOME_LOST: The value of the RESULT_COLUMN, if team 1 lost.\n",
        "* VALUE_HOME_WON: The value of the RESULT_COLUMN, if team 1 won."
      ]
    },
    {
      "cell_type": "code",
      "execution_count": null,
      "metadata": {
        "id": "9y4uZsn9aeVR"
      },
      "outputs": [],
      "source": [
        "# Path for data files.\n",
        "DATA_FOLDER = '/content/gdrive/MyDrive/data'\n",
        "FIVETHIRTYEIGHT_PROJECTS_FILE = os.path.join(DATA_FOLDER, 'spi_matches.csv')\n",
        "MARKET_VALUE_FILE = os.path.join(DATA_FOLDER, 'market_value_soccer_german_federal_league.txt')\n",
        "POINTS_FILE = os.path.join(DATA_FOLDER, 'points_soccer_german_federal_league.txt')\n",
        "PREPARED_DATA_FILE = os.path.join(DATA_FOLDER, 'own_data.csv')\n",
        "\n",
        "# Column names and values.\n",
        "FILTER_COLUMN = 'league'\n",
        "FILTER_VALUE = 'German Bundesliga'\n",
        "RESULT_COLUMN = 'result_team1'\n",
        "RESULT_HEADERS = ['loss_team1', 'draw', 'win_team1']\n",
        "RESULT_INFO_COLUMNS = ['season', 'date', 'team1', 'team2']\n",
        "VALUE_COLUMNS = [\n",
        "    'average_age',\n",
        "    'points_last_season',\n",
        "    'points_this_season',\n",
        "    'rank_last_season',\n",
        "    'squad',\n",
        "    'total_market_value_in_euro'\n",
        "    ]\n",
        "VALUE_HOME_DRAW = 1\n",
        "VALUE_HOME_LOST = 0\n",
        "VALUE_HOME_WON = 2"
      ]
    },
    {
      "cell_type": "markdown",
      "metadata": {
        "id": "8_r6xvpFaeVU"
      },
      "source": [
        "## Read the fivethirtyeight file and calculate the match result, the match day and this season points.\n",
        "### Description\n",
        "The data from fivethirtyeight projects was taken as a basis for creating a own data set. From this data only the season, the date of the match, the club names and the score made in each match were kept. Based on this columns the match day, the match result and the points were calculated.\n",
        "\n",
        "### Process\n",
        "1. Load the file and keep only the rows for the 1. federal league and only searten columns.\n",
        "2. Sort the data by date and reset the index.\n",
        "3. Create a new column for the match result and set it value for each row. The match result is calculated on the scores made by each team in this match.\n",
        "4. Create new columns for the points made in this season and the match day. Calculate the values by looping over each row of the data set."
      ]
    },
    {
      "cell_type": "code",
      "execution_count": null,
      "metadata": {
        "id": "7iPDFAqsaeVW",
        "outputId": "9ec294ec-edbd-4dba-ea79-b1343c8dfad7"
      },
      "outputs": [
        {
          "data": {
            "text/html": [
              "<div>\n",
              "<style scoped>\n",
              "    .dataframe tbody tr th:only-of-type {\n",
              "        vertical-align: middle;\n",
              "    }\n",
              "\n",
              "    .dataframe tbody tr th {\n",
              "        vertical-align: top;\n",
              "    }\n",
              "\n",
              "    .dataframe thead th {\n",
              "        text-align: right;\n",
              "    }\n",
              "</style>\n",
              "<table border=\"1\" class=\"dataframe\">\n",
              "  <thead>\n",
              "    <tr style=\"text-align: right;\">\n",
              "      <th></th>\n",
              "      <th>index</th>\n",
              "      <th>season</th>\n",
              "      <th>date</th>\n",
              "      <th>team1</th>\n",
              "      <th>team2</th>\n",
              "      <th>score1</th>\n",
              "      <th>score2</th>\n",
              "      <th>result_team1</th>\n",
              "      <th>match_day_team1</th>\n",
              "      <th>match_day_team2</th>\n",
              "      <th>points_this_season_team1</th>\n",
              "      <th>points_this_season_team2</th>\n",
              "    </tr>\n",
              "  </thead>\n",
              "  <tbody>\n",
              "    <tr>\n",
              "      <th>0</th>\n",
              "      <td>70</td>\n",
              "      <td>2016</td>\n",
              "      <td>2016-08-26</td>\n",
              "      <td>Bayern Munich</td>\n",
              "      <td>Werder Bremen</td>\n",
              "      <td>6.0</td>\n",
              "      <td>0.0</td>\n",
              "      <td>2</td>\n",
              "      <td>1</td>\n",
              "      <td>1</td>\n",
              "      <td>3</td>\n",
              "      <td>0</td>\n",
              "    </tr>\n",
              "    <tr>\n",
              "      <th>1</th>\n",
              "      <td>75</td>\n",
              "      <td>2016</td>\n",
              "      <td>2016-08-27</td>\n",
              "      <td>Hamburg SV</td>\n",
              "      <td>FC Ingolstadt 04</td>\n",
              "      <td>1.0</td>\n",
              "      <td>1.0</td>\n",
              "      <td>1</td>\n",
              "      <td>1</td>\n",
              "      <td>1</td>\n",
              "      <td>1</td>\n",
              "      <td>1</td>\n",
              "    </tr>\n",
              "    <tr>\n",
              "      <th>2</th>\n",
              "      <td>76</td>\n",
              "      <td>2016</td>\n",
              "      <td>2016-08-27</td>\n",
              "      <td>Eintracht Frankfurt</td>\n",
              "      <td>Schalke 04</td>\n",
              "      <td>1.0</td>\n",
              "      <td>0.0</td>\n",
              "      <td>2</td>\n",
              "      <td>1</td>\n",
              "      <td>1</td>\n",
              "      <td>3</td>\n",
              "      <td>0</td>\n",
              "    </tr>\n",
              "    <tr>\n",
              "      <th>3</th>\n",
              "      <td>77</td>\n",
              "      <td>2016</td>\n",
              "      <td>2016-08-27</td>\n",
              "      <td>FC Augsburg</td>\n",
              "      <td>VfL Wolfsburg</td>\n",
              "      <td>0.0</td>\n",
              "      <td>2.0</td>\n",
              "      <td>0</td>\n",
              "      <td>1</td>\n",
              "      <td>1</td>\n",
              "      <td>0</td>\n",
              "      <td>3</td>\n",
              "    </tr>\n",
              "    <tr>\n",
              "      <th>4</th>\n",
              "      <td>78</td>\n",
              "      <td>2016</td>\n",
              "      <td>2016-08-27</td>\n",
              "      <td>FC Cologne</td>\n",
              "      <td>SV Darmstadt 98</td>\n",
              "      <td>2.0</td>\n",
              "      <td>0.0</td>\n",
              "      <td>2</td>\n",
              "      <td>1</td>\n",
              "      <td>1</td>\n",
              "      <td>3</td>\n",
              "      <td>0</td>\n",
              "    </tr>\n",
              "  </tbody>\n",
              "</table>\n",
              "</div>"
            ],
            "text/plain": [
              "   index  season        date                team1             team2  score1  \\\n",
              "0     70    2016  2016-08-26        Bayern Munich     Werder Bremen     6.0   \n",
              "1     75    2016  2016-08-27           Hamburg SV  FC Ingolstadt 04     1.0   \n",
              "2     76    2016  2016-08-27  Eintracht Frankfurt        Schalke 04     1.0   \n",
              "3     77    2016  2016-08-27          FC Augsburg     VfL Wolfsburg     0.0   \n",
              "4     78    2016  2016-08-27           FC Cologne   SV Darmstadt 98     2.0   \n",
              "\n",
              "   score2 result_team1 match_day_team1 match_day_team2  \\\n",
              "0     0.0            2               1               1   \n",
              "1     1.0            1               1               1   \n",
              "2     0.0            2               1               1   \n",
              "3     2.0            0               1               1   \n",
              "4     0.0            2               1               1   \n",
              "\n",
              "  points_this_season_team1 points_this_season_team2  \n",
              "0                        3                        0  \n",
              "1                        1                        1  \n",
              "2                        3                        0  \n",
              "3                        0                        3  \n",
              "4                        3                        0  "
            ]
          },
          "execution_count": 5,
          "metadata": {},
          "output_type": "execute_result"
        }
      ],
      "source": [
        "# Read the fivethirtyeight file.\n",
        "matches = pd.read_csv(FIVETHIRTYEIGHT_PROJECTS_FILE, delimiter=',', decimal='.')\n",
        "\n",
        "# Filter the matches by the league.\n",
        "matches = matches.loc[matches[FILTER_COLUMN] == FILTER_VALUE]\n",
        "\n",
        "# Keep only the needed columns.\n",
        "matches = matches.loc[:, ['season', 'date', 'team1', 'team2', 'score1', 'score2']]\n",
        "\n",
        "# Sort the data by date.\n",
        "matches.sort_values(by=['date'], ascending=True, inplace=True)\n",
        "\n",
        "# Reset the data frame index.\n",
        "matches.reset_index(inplace=True)\n",
        "\n",
        "# Add the result column and calculate the value.\n",
        "matches[RESULT_COLUMN] = None\n",
        "matches.loc[matches['score1'] < matches['score2'], RESULT_COLUMN] = VALUE_HOME_LOST\n",
        "matches.loc[matches['score1'] == matches['score2'], RESULT_COLUMN] = VALUE_HOME_DRAW\n",
        "matches.loc[matches['score1'] > matches['score2'], RESULT_COLUMN] = VALUE_HOME_WON\n",
        "\n",
        "# Create new columns for adding match days and points in this season.\n",
        "matches['match_day_team1'] = None\n",
        "matches['match_day_team2'] = None\n",
        "matches['points_this_season_team1'] = None\n",
        "matches['points_this_season_team2'] = None\n",
        "\n",
        "# Get a list of all teams and seasons.\n",
        "seasons = matches['season'].unique()\n",
        "teams = matches['team1'].unique()\n",
        "\n",
        "# Loop over each season and team and update the matches and point in the data set.\n",
        "for season in seasons:\n",
        "    for team in teams:\n",
        "        points = 0\n",
        "        match = 0\n",
        "        for idx, row in matches.iterrows():\n",
        "            result = matches.loc[idx, RESULT_COLUMN]\n",
        "\n",
        "            # Get only the column for this season and this team as team1.\n",
        "            if matches.loc[idx,'season'] == season and matches.loc[idx,'team1'] == team:\n",
        "                # Update the played matches for team 1.\n",
        "                match += 1\n",
        "                matches.loc[idx,'match_day_team1'] = match\n",
        "\n",
        "                # Update the points for team 1.\n",
        "                if result == 1:\n",
        "                    points += 1\n",
        "                elif result == 2:\n",
        "                    points += 3\n",
        "                matches.loc[idx,'points_this_season_team1'] = points\n",
        "\n",
        "            # Get only the column for this season and this team as team2.\n",
        "            if matches.loc[idx,'season'] == season and matches.loc[idx,'team2'] == team:\n",
        "                # Update the played matches for team 2.\n",
        "                match += 1\n",
        "                matches.loc[idx,'match_day_team2'] = match\n",
        "\n",
        "                # Update the points for team 2.\n",
        "                if result == 1:\n",
        "                    points += 1\n",
        "                elif result == 0:\n",
        "                    points += 3\n",
        "                matches.loc[idx,'points_this_season_team2'] = points\n",
        "\n",
        "# Print the created table.\n",
        "matches.head()"
      ]
    },
    {
      "cell_type": "markdown",
      "metadata": {
        "id": "wxgqK9x-aeVb"
      },
      "source": [
        "## Add columns regarding club value, average age, etc.\n",
        "### Description\n",
        "Data regarding the club value, the average age of the players, etc. was taken from the website http://www.transfermarkt.com. The data were manually stored in a separate file containing the values for each season from 2015 to 2021. Merging the data with the already existing data was done in two steps, first the data was added for team 1 and then for team 2.\n",
        "\n",
        "### Process\n",
        "1. Load the file.\n",
        "2. Merge the new data for team 1 based on the columns season=season and team1=club.\n",
        "3. Merge the new data for team 2 based on the columns season=season and team2=club."
      ]
    },
    {
      "cell_type": "code",
      "execution_count": null,
      "metadata": {
        "id": "qMZA8PrDaeVf",
        "outputId": "6b05acad-74e7-4dd2-fcc7-02444a6d8cd6"
      },
      "outputs": [
        {
          "data": {
            "text/html": [
              "<div>\n",
              "<style scoped>\n",
              "    .dataframe tbody tr th:only-of-type {\n",
              "        vertical-align: middle;\n",
              "    }\n",
              "\n",
              "    .dataframe tbody tr th {\n",
              "        vertical-align: top;\n",
              "    }\n",
              "\n",
              "    .dataframe thead th {\n",
              "        text-align: right;\n",
              "    }\n",
              "</style>\n",
              "<table border=\"1\" class=\"dataframe\">\n",
              "  <thead>\n",
              "    <tr style=\"text-align: right;\">\n",
              "      <th></th>\n",
              "      <th>index</th>\n",
              "      <th>season</th>\n",
              "      <th>date</th>\n",
              "      <th>team1</th>\n",
              "      <th>team2</th>\n",
              "      <th>score1</th>\n",
              "      <th>score2</th>\n",
              "      <th>result_team1</th>\n",
              "      <th>match_day_team1</th>\n",
              "      <th>match_day_team2</th>\n",
              "      <th>...</th>\n",
              "      <th>average age_team1</th>\n",
              "      <th>foreigners_team1</th>\n",
              "      <th>average market value in euro_team1</th>\n",
              "      <th>total market value in euro_team1</th>\n",
              "      <th>club_team2</th>\n",
              "      <th>squad_team2</th>\n",
              "      <th>average age_team2</th>\n",
              "      <th>foreigners_team2</th>\n",
              "      <th>average market value in euro_team2</th>\n",
              "      <th>total market value in euro_team2</th>\n",
              "    </tr>\n",
              "  </thead>\n",
              "  <tbody>\n",
              "    <tr>\n",
              "      <th>0</th>\n",
              "      <td>70</td>\n",
              "      <td>2016</td>\n",
              "      <td>2016-08-26</td>\n",
              "      <td>Bayern Munich</td>\n",
              "      <td>Werder Bremen</td>\n",
              "      <td>6.0</td>\n",
              "      <td>0.0</td>\n",
              "      <td>2</td>\n",
              "      <td>1</td>\n",
              "      <td>1</td>\n",
              "      <td>...</td>\n",
              "      <td>25.1</td>\n",
              "      <td>18</td>\n",
              "      <td>18040000</td>\n",
              "      <td>595400000</td>\n",
              "      <td>Werder Bremen</td>\n",
              "      <td>41</td>\n",
              "      <td>24.5</td>\n",
              "      <td>20</td>\n",
              "      <td>1830000</td>\n",
              "      <td>75080000</td>\n",
              "    </tr>\n",
              "    <tr>\n",
              "      <th>1</th>\n",
              "      <td>707</td>\n",
              "      <td>2016</td>\n",
              "      <td>2016-11-26</td>\n",
              "      <td>Hamburg SV</td>\n",
              "      <td>Werder Bremen</td>\n",
              "      <td>2.0</td>\n",
              "      <td>2.0</td>\n",
              "      <td>1</td>\n",
              "      <td>12</td>\n",
              "      <td>12</td>\n",
              "      <td>...</td>\n",
              "      <td>23.6</td>\n",
              "      <td>20</td>\n",
              "      <td>2500000</td>\n",
              "      <td>94980000</td>\n",
              "      <td>Werder Bremen</td>\n",
              "      <td>41</td>\n",
              "      <td>24.5</td>\n",
              "      <td>20</td>\n",
              "      <td>1830000</td>\n",
              "      <td>75080000</td>\n",
              "    </tr>\n",
              "    <tr>\n",
              "      <th>2</th>\n",
              "      <td>1756</td>\n",
              "      <td>2016</td>\n",
              "      <td>2017-04-07</td>\n",
              "      <td>Eintracht Frankfurt</td>\n",
              "      <td>Werder Bremen</td>\n",
              "      <td>2.0</td>\n",
              "      <td>2.0</td>\n",
              "      <td>1</td>\n",
              "      <td>28</td>\n",
              "      <td>28</td>\n",
              "      <td>...</td>\n",
              "      <td>23.1</td>\n",
              "      <td>22</td>\n",
              "      <td>1890000</td>\n",
              "      <td>66100000</td>\n",
              "      <td>Werder Bremen</td>\n",
              "      <td>41</td>\n",
              "      <td>24.5</td>\n",
              "      <td>20</td>\n",
              "      <td>1830000</td>\n",
              "      <td>75080000</td>\n",
              "    </tr>\n",
              "    <tr>\n",
              "      <th>3</th>\n",
              "      <td>1225</td>\n",
              "      <td>2016</td>\n",
              "      <td>2017-02-05</td>\n",
              "      <td>FC Augsburg</td>\n",
              "      <td>Werder Bremen</td>\n",
              "      <td>3.0</td>\n",
              "      <td>2.0</td>\n",
              "      <td>2</td>\n",
              "      <td>19</td>\n",
              "      <td>19</td>\n",
              "      <td>...</td>\n",
              "      <td>25.3</td>\n",
              "      <td>21</td>\n",
              "      <td>1870000</td>\n",
              "      <td>69030000</td>\n",
              "      <td>Werder Bremen</td>\n",
              "      <td>41</td>\n",
              "      <td>24.5</td>\n",
              "      <td>20</td>\n",
              "      <td>1830000</td>\n",
              "      <td>75080000</td>\n",
              "    </tr>\n",
              "    <tr>\n",
              "      <th>4</th>\n",
              "      <td>2154</td>\n",
              "      <td>2016</td>\n",
              "      <td>2017-05-05</td>\n",
              "      <td>FC Cologne</td>\n",
              "      <td>Werder Bremen</td>\n",
              "      <td>4.0</td>\n",
              "      <td>3.0</td>\n",
              "      <td>2</td>\n",
              "      <td>32</td>\n",
              "      <td>32</td>\n",
              "      <td>...</td>\n",
              "      <td>24.4</td>\n",
              "      <td>13</td>\n",
              "      <td>2580000</td>\n",
              "      <td>77400000</td>\n",
              "      <td>Werder Bremen</td>\n",
              "      <td>41</td>\n",
              "      <td>24.5</td>\n",
              "      <td>20</td>\n",
              "      <td>1830000</td>\n",
              "      <td>75080000</td>\n",
              "    </tr>\n",
              "  </tbody>\n",
              "</table>\n",
              "<p>5 rows × 24 columns</p>\n",
              "</div>"
            ],
            "text/plain": [
              "   index  season        date                team1          team2  score1  \\\n",
              "0     70    2016  2016-08-26        Bayern Munich  Werder Bremen     6.0   \n",
              "1    707    2016  2016-11-26           Hamburg SV  Werder Bremen     2.0   \n",
              "2   1756    2016  2017-04-07  Eintracht Frankfurt  Werder Bremen     2.0   \n",
              "3   1225    2016  2017-02-05          FC Augsburg  Werder Bremen     3.0   \n",
              "4   2154    2016  2017-05-05           FC Cologne  Werder Bremen     4.0   \n",
              "\n",
              "   score2 result_team1 match_day_team1 match_day_team2  ... average age_team1  \\\n",
              "0     0.0            2               1               1  ...              25.1   \n",
              "1     2.0            1              12              12  ...              23.6   \n",
              "2     2.0            1              28              28  ...              23.1   \n",
              "3     2.0            2              19              19  ...              25.3   \n",
              "4     3.0            2              32              32  ...              24.4   \n",
              "\n",
              "  foreigners_team1 average market value in euro_team1  \\\n",
              "0               18                           18040000   \n",
              "1               20                            2500000   \n",
              "2               22                            1890000   \n",
              "3               21                            1870000   \n",
              "4               13                            2580000   \n",
              "\n",
              "   total market value in euro_team1     club_team2  squad_team2  \\\n",
              "0                         595400000  Werder Bremen           41   \n",
              "1                          94980000  Werder Bremen           41   \n",
              "2                          66100000  Werder Bremen           41   \n",
              "3                          69030000  Werder Bremen           41   \n",
              "4                          77400000  Werder Bremen           41   \n",
              "\n",
              "   average age_team2  foreigners_team2 average market value in euro_team2  \\\n",
              "0               24.5                20                            1830000   \n",
              "1               24.5                20                            1830000   \n",
              "2               24.5                20                            1830000   \n",
              "3               24.5                20                            1830000   \n",
              "4               24.5                20                            1830000   \n",
              "\n",
              "   total market value in euro_team2  \n",
              "0                          75080000  \n",
              "1                          75080000  \n",
              "2                          75080000  \n",
              "3                          75080000  \n",
              "4                          75080000  \n",
              "\n",
              "[5 rows x 24 columns]"
            ]
          },
          "execution_count": 6,
          "metadata": {},
          "output_type": "execute_result"
        }
      ],
      "source": [
        "# Read the file with the market values.\n",
        "market = pd.read_csv(MARKET_VALUE_FILE, delimiter='\\t', decimal='.')\n",
        "\n",
        "# Merge the columns from the market file for team 1.\n",
        "matches_market_half = pd.merge(matches, market, left_on=['season', 'team1'], right_on=['season', 'club'])\n",
        "\n",
        "# Merge the columns from the market file for team 2.\n",
        "matches_market_full = pd.merge(matches_market_half, market, left_on=['season', 'team2'], right_on=['season', 'club'], suffixes=('_team1', '_team2'))\n",
        "\n",
        "# Print the created table.\n",
        "matches_market_full.head()"
      ]
    },
    {
      "cell_type": "markdown",
      "metadata": {
        "id": "waP4vWYSaeVk"
      },
      "source": [
        "## Add columns regarding points and rank last season.\n",
        "### Description\n",
        "Data regarding points and ranks last season was taken from the website https://www.sport.de/fussball/deutschland-bundesliga. Clubs that joined the 1. federal league in the next season, were added as rank 19 and 20 with 0 points. The information about which clubs to add came from http://www.trainer-baade.de/alle-aufsteiger-in-die-1-bundesliga/. The data were manually stored in a separate file containing the values for each season from 2015 to 2021.\n",
        "\n",
        "Because the data added in this step are meant to add information about the last season, the season value was increased by one before merging the data. Merging the data with the already existing data was done in two steps, first the data was added for team 1 and then for team 2. After merging the data, a new column containing the points of the last season divided by the match day in this season was added.\n",
        "\n",
        "### Process\n",
        "1. Load the file.\n",
        "2. Increase the season by one and change the column names.\n",
        "3. Merge the new data for team 1 based on the columns season=season and team1=club.\n",
        "4. Merge the new data for team 2 based on the columns season=season and team2=club.\n",
        "5. Add a new column, containing the points of the last season divided by the match day in this season."
      ]
    },
    {
      "cell_type": "code",
      "execution_count": null,
      "metadata": {
        "id": "Y-yWKxPmaeVm",
        "outputId": "036280ea-b98d-4f82-ca16-bae6e8d83b86"
      },
      "outputs": [
        {
          "name": "stderr",
          "output_type": "stream",
          "text": [
            "/tmp/ipykernel_4832/789736296.py:12: FutureWarning: Passing 'suffixes' which cause duplicate columns {'club_team1'} in the result is deprecated and will raise a MergeError in a future version.\n",
            "  matches_market_points_full = pd.merge(matches_market_points_half, points, left_on=['season', 'team2'], right_on=['season', 'club'], suffixes=('_team1', '_team2'))\n"
          ]
        },
        {
          "data": {
            "text/html": [
              "<div>\n",
              "<style scoped>\n",
              "    .dataframe tbody tr th:only-of-type {\n",
              "        vertical-align: middle;\n",
              "    }\n",
              "\n",
              "    .dataframe tbody tr th {\n",
              "        vertical-align: top;\n",
              "    }\n",
              "\n",
              "    .dataframe thead th {\n",
              "        text-align: right;\n",
              "    }\n",
              "</style>\n",
              "<table border=\"1\" class=\"dataframe\">\n",
              "  <thead>\n",
              "    <tr style=\"text-align: right;\">\n",
              "      <th></th>\n",
              "      <th>index</th>\n",
              "      <th>season</th>\n",
              "      <th>date</th>\n",
              "      <th>team1</th>\n",
              "      <th>team2</th>\n",
              "      <th>score1</th>\n",
              "      <th>score2</th>\n",
              "      <th>result_team1</th>\n",
              "      <th>match_day_team1</th>\n",
              "      <th>match_day_team2</th>\n",
              "      <th>...</th>\n",
              "      <th>average market value in euro_team2</th>\n",
              "      <th>total market value in euro_team2</th>\n",
              "      <th>rank_last_season_team1</th>\n",
              "      <th>club_team1</th>\n",
              "      <th>points_last_season_all_team1</th>\n",
              "      <th>rank_last_season_team2</th>\n",
              "      <th>club_team2</th>\n",
              "      <th>points_last_season_all_team2</th>\n",
              "      <th>points_last_season_team1</th>\n",
              "      <th>points_last_season_team2</th>\n",
              "    </tr>\n",
              "  </thead>\n",
              "  <tbody>\n",
              "    <tr>\n",
              "      <th>0</th>\n",
              "      <td>70</td>\n",
              "      <td>2016</td>\n",
              "      <td>2016-08-26</td>\n",
              "      <td>Bayern Munich</td>\n",
              "      <td>Werder Bremen</td>\n",
              "      <td>6.0</td>\n",
              "      <td>0.0</td>\n",
              "      <td>2</td>\n",
              "      <td>1</td>\n",
              "      <td>1</td>\n",
              "      <td>...</td>\n",
              "      <td>1830000</td>\n",
              "      <td>75080000</td>\n",
              "      <td>1</td>\n",
              "      <td>Bayern Munich</td>\n",
              "      <td>88</td>\n",
              "      <td>13</td>\n",
              "      <td>Werder Bremen</td>\n",
              "      <td>38</td>\n",
              "      <td>88.0</td>\n",
              "      <td>38.0</td>\n",
              "    </tr>\n",
              "    <tr>\n",
              "      <th>1</th>\n",
              "      <td>707</td>\n",
              "      <td>2016</td>\n",
              "      <td>2016-11-26</td>\n",
              "      <td>Hamburg SV</td>\n",
              "      <td>Werder Bremen</td>\n",
              "      <td>2.0</td>\n",
              "      <td>2.0</td>\n",
              "      <td>1</td>\n",
              "      <td>12</td>\n",
              "      <td>12</td>\n",
              "      <td>...</td>\n",
              "      <td>1830000</td>\n",
              "      <td>75080000</td>\n",
              "      <td>10</td>\n",
              "      <td>Hamburg SV</td>\n",
              "      <td>41</td>\n",
              "      <td>13</td>\n",
              "      <td>Werder Bremen</td>\n",
              "      <td>38</td>\n",
              "      <td>3.416667</td>\n",
              "      <td>3.166667</td>\n",
              "    </tr>\n",
              "    <tr>\n",
              "      <th>2</th>\n",
              "      <td>1756</td>\n",
              "      <td>2016</td>\n",
              "      <td>2017-04-07</td>\n",
              "      <td>Eintracht Frankfurt</td>\n",
              "      <td>Werder Bremen</td>\n",
              "      <td>2.0</td>\n",
              "      <td>2.0</td>\n",
              "      <td>1</td>\n",
              "      <td>28</td>\n",
              "      <td>28</td>\n",
              "      <td>...</td>\n",
              "      <td>1830000</td>\n",
              "      <td>75080000</td>\n",
              "      <td>16</td>\n",
              "      <td>Eintracht Frankfurt</td>\n",
              "      <td>36</td>\n",
              "      <td>13</td>\n",
              "      <td>Werder Bremen</td>\n",
              "      <td>38</td>\n",
              "      <td>1.285714</td>\n",
              "      <td>1.357143</td>\n",
              "    </tr>\n",
              "    <tr>\n",
              "      <th>3</th>\n",
              "      <td>1225</td>\n",
              "      <td>2016</td>\n",
              "      <td>2017-02-05</td>\n",
              "      <td>FC Augsburg</td>\n",
              "      <td>Werder Bremen</td>\n",
              "      <td>3.0</td>\n",
              "      <td>2.0</td>\n",
              "      <td>2</td>\n",
              "      <td>19</td>\n",
              "      <td>19</td>\n",
              "      <td>...</td>\n",
              "      <td>1830000</td>\n",
              "      <td>75080000</td>\n",
              "      <td>12</td>\n",
              "      <td>FC Augsburg</td>\n",
              "      <td>38</td>\n",
              "      <td>13</td>\n",
              "      <td>Werder Bremen</td>\n",
              "      <td>38</td>\n",
              "      <td>2.0</td>\n",
              "      <td>2.0</td>\n",
              "    </tr>\n",
              "    <tr>\n",
              "      <th>4</th>\n",
              "      <td>2154</td>\n",
              "      <td>2016</td>\n",
              "      <td>2017-05-05</td>\n",
              "      <td>FC Cologne</td>\n",
              "      <td>Werder Bremen</td>\n",
              "      <td>4.0</td>\n",
              "      <td>3.0</td>\n",
              "      <td>2</td>\n",
              "      <td>32</td>\n",
              "      <td>32</td>\n",
              "      <td>...</td>\n",
              "      <td>1830000</td>\n",
              "      <td>75080000</td>\n",
              "      <td>9</td>\n",
              "      <td>FC Cologne</td>\n",
              "      <td>43</td>\n",
              "      <td>13</td>\n",
              "      <td>Werder Bremen</td>\n",
              "      <td>38</td>\n",
              "      <td>1.34375</td>\n",
              "      <td>1.1875</td>\n",
              "    </tr>\n",
              "  </tbody>\n",
              "</table>\n",
              "<p>5 rows × 32 columns</p>\n",
              "</div>"
            ],
            "text/plain": [
              "   index  season        date                team1          team2  score1  \\\n",
              "0     70    2016  2016-08-26        Bayern Munich  Werder Bremen     6.0   \n",
              "1    707    2016  2016-11-26           Hamburg SV  Werder Bremen     2.0   \n",
              "2   1756    2016  2017-04-07  Eintracht Frankfurt  Werder Bremen     2.0   \n",
              "3   1225    2016  2017-02-05          FC Augsburg  Werder Bremen     3.0   \n",
              "4   2154    2016  2017-05-05           FC Cologne  Werder Bremen     4.0   \n",
              "\n",
              "   score2 result_team1 match_day_team1 match_day_team2  ...  \\\n",
              "0     0.0            2               1               1  ...   \n",
              "1     2.0            1              12              12  ...   \n",
              "2     2.0            1              28              28  ...   \n",
              "3     2.0            2              19              19  ...   \n",
              "4     3.0            2              32              32  ...   \n",
              "\n",
              "  average market value in euro_team2 total market value in euro_team2  \\\n",
              "0                            1830000                         75080000   \n",
              "1                            1830000                         75080000   \n",
              "2                            1830000                         75080000   \n",
              "3                            1830000                         75080000   \n",
              "4                            1830000                         75080000   \n",
              "\n",
              "  rank_last_season_team1           club_team1  points_last_season_all_team1  \\\n",
              "0                      1        Bayern Munich                            88   \n",
              "1                     10           Hamburg SV                            41   \n",
              "2                     16  Eintracht Frankfurt                            36   \n",
              "3                     12          FC Augsburg                            38   \n",
              "4                      9           FC Cologne                            43   \n",
              "\n",
              "   rank_last_season_team2     club_team2  points_last_season_all_team2  \\\n",
              "0                      13  Werder Bremen                            38   \n",
              "1                      13  Werder Bremen                            38   \n",
              "2                      13  Werder Bremen                            38   \n",
              "3                      13  Werder Bremen                            38   \n",
              "4                      13  Werder Bremen                            38   \n",
              "\n",
              "  points_last_season_team1  points_last_season_team2  \n",
              "0                     88.0                      38.0  \n",
              "1                 3.416667                  3.166667  \n",
              "2                 1.285714                  1.357143  \n",
              "3                      2.0                       2.0  \n",
              "4                  1.34375                    1.1875  \n",
              "\n",
              "[5 rows x 32 columns]"
            ]
          },
          "execution_count": 7,
          "metadata": {},
          "output_type": "execute_result"
        }
      ],
      "source": [
        "# Read in the file with the points and ranks.\n",
        "points = pd.read_csv(POINTS_FILE, delimiter='\\t', decimal='.')\n",
        "\n",
        "# Preparing the data to be merged with the data from the next season.\n",
        "points['season'] = points['season'] + 1\n",
        "points.rename(columns={'points': 'points_last_season_all', 'rank': 'rank_last_season'}, inplace=True)\n",
        "\n",
        "# Merge the columns from the points file for team 1.\n",
        "matches_market_points_half = pd.merge(matches_market_full, points, left_on=['season', 'team1'], right_on=['season', 'club'])\n",
        "\n",
        "# Merge the columns from the points file for team 2.\n",
        "matches_market_points_full = pd.merge(matches_market_points_half, points, left_on=['season', 'team2'], right_on=['season', 'club'], suffixes=('_team1', '_team2'))\n",
        "\n",
        "# For each row the points from the last season are divided by the math day in this season.\n",
        "matches_market_points_full['points_last_season_team1'] = matches_market_points_full['points_last_season_all_team1'] / matches_market_points_full['match_day_team1']\n",
        "matches_market_points_full['points_last_season_team2'] = matches_market_points_full['points_last_season_all_team2'] / matches_market_points_full['match_day_team2']\n",
        "\n",
        "# Print the created table.\n",
        "matches_market_points_full.head()"
      ]
    },
    {
      "cell_type": "markdown",
      "metadata": {
        "id": "_hOKrEleaeVo"
      },
      "source": [
        "## Final data preparations.\n",
        "### Description\n",
        "In this step, the difference between the feature values of team 1 and team 2 are calculated. Those differences are then normalized. To normalize the data, min and max value for the features are determined. After this, the sum of the row and the min value is divided by the sum of the max and min value. \n",
        "\n",
        "Before storing the data to file, it is again sorted by date and only intended columns are kept.\n",
        "\n",
        "### Process\n",
        "1. Replace all space characters in the column names.\n",
        "2. Calculate the team difference for each feature.\n",
        "3. Normalize the calculated columns.\n",
        "4. Sort the data and reset the index.\n",
        "5. Get only the intended columns.\n",
        "6. Store the data to file."
      ]
    },
    {
      "cell_type": "code",
      "execution_count": null,
      "metadata": {
        "id": "ScmUyForaeVp",
        "outputId": "cf34edff-f843-4c06-bb34-2acd9f011926"
      },
      "outputs": [
        {
          "data": {
            "text/html": [
              "<div>\n",
              "<style scoped>\n",
              "    .dataframe tbody tr th:only-of-type {\n",
              "        vertical-align: middle;\n",
              "    }\n",
              "\n",
              "    .dataframe tbody tr th {\n",
              "        vertical-align: top;\n",
              "    }\n",
              "\n",
              "    .dataframe thead th {\n",
              "        text-align: right;\n",
              "    }\n",
              "</style>\n",
              "<table border=\"1\" class=\"dataframe\">\n",
              "  <thead>\n",
              "    <tr style=\"text-align: right;\">\n",
              "      <th></th>\n",
              "      <th>season</th>\n",
              "      <th>date</th>\n",
              "      <th>team1</th>\n",
              "      <th>team2</th>\n",
              "      <th>average_age</th>\n",
              "      <th>points_last_season</th>\n",
              "      <th>points_this_season</th>\n",
              "      <th>rank_last_season</th>\n",
              "      <th>squad</th>\n",
              "      <th>total_market_value_in_euro</th>\n",
              "      <th>result_team1</th>\n",
              "    </tr>\n",
              "  </thead>\n",
              "  <tbody>\n",
              "    <tr>\n",
              "      <th>0</th>\n",
              "      <td>2016</td>\n",
              "      <td>2016-08-26</td>\n",
              "      <td>Bayern Munich</td>\n",
              "      <td>Werder Bremen</td>\n",
              "      <td>0.569767</td>\n",
              "      <td>0.913386</td>\n",
              "      <td>0.550847</td>\n",
              "      <td>0.200</td>\n",
              "      <td>0.277778</td>\n",
              "      <td>0.793784</td>\n",
              "      <td>2</td>\n",
              "    </tr>\n",
              "    <tr>\n",
              "      <th>1</th>\n",
              "      <td>2016</td>\n",
              "      <td>2016-08-27</td>\n",
              "      <td>FC Cologne</td>\n",
              "      <td>SV Darmstadt 98</td>\n",
              "      <td>0.348837</td>\n",
              "      <td>0.559055</td>\n",
              "      <td>0.550847</td>\n",
              "      <td>0.375</td>\n",
              "      <td>0.250000</td>\n",
              "      <td>0.525165</td>\n",
              "      <td>2</td>\n",
              "    </tr>\n",
              "    <tr>\n",
              "      <th>2</th>\n",
              "      <td>2016</td>\n",
              "      <td>2016-08-27</td>\n",
              "      <td>Borussia Dortmund</td>\n",
              "      <td>Mainz</td>\n",
              "      <td>0.604651</td>\n",
              "      <td>0.740157</td>\n",
              "      <td>0.550847</td>\n",
              "      <td>0.400</td>\n",
              "      <td>0.277778</td>\n",
              "      <td>0.632884</td>\n",
              "      <td>2</td>\n",
              "    </tr>\n",
              "    <tr>\n",
              "      <th>3</th>\n",
              "      <td>2016</td>\n",
              "      <td>2016-08-27</td>\n",
              "      <td>FC Augsburg</td>\n",
              "      <td>VfL Wolfsburg</td>\n",
              "      <td>0.709302</td>\n",
              "      <td>0.464567</td>\n",
              "      <td>0.500000</td>\n",
              "      <td>0.600</td>\n",
              "      <td>0.333333</td>\n",
              "      <td>0.411738</td>\n",
              "      <td>0</td>\n",
              "    </tr>\n",
              "    <tr>\n",
              "      <th>4</th>\n",
              "      <td>2016</td>\n",
              "      <td>2016-08-27</td>\n",
              "      <td>Hamburg SV</td>\n",
              "      <td>FC Ingolstadt 04</td>\n",
              "      <td>0.476744</td>\n",
              "      <td>0.527559</td>\n",
              "      <td>0.525424</td>\n",
              "      <td>0.475</td>\n",
              "      <td>0.666667</td>\n",
              "      <td>0.532917</td>\n",
              "      <td>1</td>\n",
              "    </tr>\n",
              "  </tbody>\n",
              "</table>\n",
              "</div>"
            ],
            "text/plain": [
              "   season        date              team1             team2  average_age  \\\n",
              "0    2016  2016-08-26      Bayern Munich     Werder Bremen     0.569767   \n",
              "1    2016  2016-08-27         FC Cologne   SV Darmstadt 98     0.348837   \n",
              "2    2016  2016-08-27  Borussia Dortmund             Mainz     0.604651   \n",
              "3    2016  2016-08-27        FC Augsburg     VfL Wolfsburg     0.709302   \n",
              "4    2016  2016-08-27         Hamburg SV  FC Ingolstadt 04     0.476744   \n",
              "\n",
              "   points_last_season  points_this_season  rank_last_season     squad  \\\n",
              "0            0.913386            0.550847             0.200  0.277778   \n",
              "1            0.559055            0.550847             0.375  0.250000   \n",
              "2            0.740157            0.550847             0.400  0.277778   \n",
              "3            0.464567            0.500000             0.600  0.333333   \n",
              "4            0.527559            0.525424             0.475  0.666667   \n",
              "\n",
              "   total_market_value_in_euro result_team1  \n",
              "0                    0.793784            2  \n",
              "1                    0.525165            2  \n",
              "2                    0.632884            2  \n",
              "3                    0.411738            0  \n",
              "4                    0.532917            1  "
            ]
          },
          "execution_count": 8,
          "metadata": {},
          "output_type": "execute_result"
        }
      ],
      "source": [
        "# Remove space characters in the column names.\n",
        "matches_market_points_full.columns = matches_market_points_full.columns.str.replace(' ', '_')\n",
        "\n",
        "# Calculate the difference between team1 and team2 for each feature.\n",
        "for column in VALUE_COLUMNS:\n",
        "    matches_market_points_full[column] = matches_market_points_full[column + '_team1'] - matches_market_points_full[column + '_team2']\n",
        "\n",
        "# Normalize the feature values.\n",
        "for column in VALUE_COLUMNS:\n",
        "    abs_min_value = abs(matches_market_points_full[column].min())\n",
        "    max_value = matches_market_points_full[column].max()\n",
        "    matches_market_points_full[column] = matches_market_points_full[column].apply(lambda x: (x+abs_min_value)/(max_value+abs_min_value))\n",
        "\n",
        "# Sort the data by date.\n",
        "data = matches_market_points_full.sort_values(by=['date'], ascending=True)\n",
        "\n",
        "# Reset the data frame index.\n",
        "data.reset_index(inplace=True)\n",
        "\n",
        "# Keep only the columns for the neural net.\n",
        "data = data.loc[:, RESULT_INFO_COLUMNS + VALUE_COLUMNS + [RESULT_COLUMN]]\n",
        "\n",
        "# Store the new data table as file.\n",
        "data.to_csv(PREPARED_DATA_FILE, index=False)\n",
        "\n",
        "# Print the created table.\n",
        "data.head()"
      ]
    },
    {
      "cell_type": "markdown",
      "metadata": {
        "id": "xhrmz8TEaeVr"
      },
      "source": [
        "## Final features for the prediction.\n",
        "* season: This column contains the year in which the season started (2016 = season from fall 2016 to summer 2017).\n",
        "* date: The date of the match (YYYY-MM-DD).\n",
        "* team1: The club name of team 1.\n",
        "* team2: The club name of team 2.\n",
        "* average_age: The average age of the players (normalized difference).\n",
        "* points_last_season: Points of the last season (normalized difference).\n",
        "* points_this_season: Points in this season (normalized difference).\n",
        "* rank_last_season: Rank in the last season (normalized difference).\n",
        "* squad: Squad size (normalized difference).\n",
        "* total_market_value_in_euro: Total market value in euro (normalized difference).\n",
        "* result_team1: The result of team 1 (0 = loss, 1 = draw, 2 = won)."
      ]
    },
    {
      "cell_type": "markdown",
      "source": [
        "# Model"
      ],
      "metadata": {
        "id": "SBeVVKQUMnOn"
      }
    },
    {
      "cell_type": "code",
      "source": [
        "# Mount gdrive \n",
        "from google.colab import drive\n",
        "drive._mount('/content/gdrive')"
      ],
      "metadata": {
        "id": "O8RZhVW6MvFF"
      },
      "execution_count": null,
      "outputs": []
    },
    {
      "cell_type": "code",
      "source": [
        "# Parameters for using the neural net.\n",
        "BATCH_SIZE = 32\n",
        "EPOCHS = 100\n",
        "LEARNING_RATE = 0.001\n",
        "LOGS_PATH = '/content/logs'\n",
        "LOSS_FUNCTION = 'sparse_categorical_crossentropy'\n",
        "METRICS = 'sparse_categorical_accuracy'\n",
        "OPTIMIZER_FUNCTION = 'Adam'\n",
        "VALIDATION_SIZE = 0.2"
      ],
      "metadata": {
        "id": "rIHVlGEuMv0R"
      },
      "execution_count": null,
      "outputs": []
    },
    {
      "cell_type": "code",
      "source": [
        "# Load the data.,\n",
        "data = pd.read_csv(PREPARED_DATA_FILE, delimiter=',', decimal='.')\n",
        "result_info = data[data[RESULT_COLUMN].isna()]\n",
        "result_info = result_info.loc[:, RESULT_INFO_COLUMNS]\n",
        "\n",
        "# Get the wanted columns and create dummy columns for the teams.\n",
        "data_cal = data.loc[:, VALUE_COLUMNS + [RESULT_COLUMN]]\n",
        "\n",
        "# Separate columns with match results from the ones that have none.\n",
        "data_prediction = data_cal[data_cal[RESULT_COLUMN].isna()]\n",
        "data_modeling = data_cal.dropna()\n",
        "\n",
        "# Split the data set.,\n",
        "split_index = int(len(data_modeling) * VALIDATION_SIZE)\n",
        "data_modeling = data_modeling.sample(frac=1)\n",
        "data_train = data_modeling[split_index:]\n",
        "data_valid = data_modeling[:split_index]\n",
        "\n",
        "par_train = data_train.loc[:, data_train.columns != RESULT_COLUMN]\n",
        "res_train = data_train.loc[:, [RESULT_COLUMN]]\n",
        "par_valid = data_valid.loc[:, data_train.columns != RESULT_COLUMN]\n",
        "res_valid = data_valid.loc[:, [RESULT_COLUMN]]\n",
        "data_prediction = data_prediction.loc[:, data_train.columns != RESULT_COLUMN]\n",
        "\n",
        "sel_train = par_train.to_numpy()\n",
        "sel_valid = par_valid.to_numpy()"
      ],
      "metadata": {
        "id": "cOPiSW8OM8Sp"
      },
      "execution_count": null,
      "outputs": []
    },
    {
      "cell_type": "code",
      "source": [
        "# Define the model\n",
        "dim = sel_train.shape[1]\n",
        "nodes = dim*2-1\n",
        "model = tf.keras.models.Sequential([\n",
        "    tf.keras.layers.Dense(nodes, activation='relu', input_dim=dim),\n",
        "    tf.keras.layers.Dropout(0.1),\n",
        "    tf.keras.layers.Dense(3, activation='softmax')\n",
        "])\n",
        "\n",
        "# Define the optimizer function.\n",
        "optimizer = tf.keras.optimizers.Adam(learning_rate=LEARNING_RATE)\n",
        "\n",
        "# Compile the model.\n",
        "model.compile(loss=LOSS_FUNCTION, optimizer=optimizer, metrics=[METRICS])\n",
        "\n",
        "# Define callback function for writing data for tensorBoard\n",
        "tensorboard_callback = tf.keras.callbacks.TensorBoard(log_dir=LOGS_PATH, histogram_freq=1)\n",
        "\n",
        "# Run the model.\n",
        "history = model.fit(\n",
        "    x=sel_train,\n",
        "    y=res_train,\n",
        "    epochs=EPOCHS,\n",
        "    batch_size=BATCH_SIZE,\n",
        "    validation_data=(sel_valid, res_valid),\n",
        "    callbacks=[tensorboard_callback],\n",
        "    verbose=0,\n",
        ")"
      ],
      "metadata": {
        "id": "MTC7n7PgM-07"
      },
      "execution_count": null,
      "outputs": []
    },
    {
      "cell_type": "code",
      "source": [
        "# Make predictions.\n",
        "result_info = result_info.to_numpy()\n",
        "pre_data = data_prediction.to_numpy()\n",
        "\n",
        "predictions = model.predict(pre_data)\n",
        "\n",
        "# Show the predictions as table.\n",
        "result = []\n",
        "for i in range(0, len(predictions)):\n",
        "    item = list(result_info[i]) + list(predictions[i])\n",
        "    result.append(item)\n",
        "\n",
        "result = pd.DataFrame(result, columns = RESULT_INFO_COLUMNS + RESULT_HEADERS)\n",
        "result"
      ],
      "metadata": {
        "id": "42CT01cnNBzJ"
      },
      "execution_count": null,
      "outputs": []
    },
    {
      "cell_type": "code",
      "source": [
        "# Kill the existing tensorboard process and delete the tensorflow temp folder. After this start a new tensorboard process.\n",
        "try:    \n",
        "    # Iterating through each instance of the process.\n",
        "    for line in os.popen(\"ps ax | grep \" + TENSORBOARD_PROCESS + \" | grep -v grep\"):\n",
        "        fields = line.split()\n",
        "            \n",
        "        # Extracting Process ID from the output.\n",
        "        pid = fields[0]\n",
        "            \n",
        "        # Terminating process.\n",
        "        os.kill(int(pid), signal.SIGKILL)\n",
        "\n",
        "    # Delete tensorboard temp folder.\n",
        "    tb_temp_folder = os.path.join(tempfile.gettempdir(), '.tensorboard-info')\n",
        "    os.system(\"rm -rf \"+tb_temp_folder)\n",
        "    print(\"Process Successfully terminated\") \n",
        "except Exception as e:\n",
        "    print(e)\n",
        "\n",
        "%load_ext tensorboard\n",
        "%tensorboard --logdir $LOGS_PATH --host localhost --port 6008"
      ],
      "metadata": {
        "id": "DZp1CGWUND3H"
      },
      "execution_count": null,
      "outputs": []
    },
    {
      "cell_type": "markdown",
      "source": [
        "# Outlook"
      ],
      "metadata": {
        "id": "ByHktGWSrRWF"
      }
    },
    {
      "cell_type": "markdown",
      "source": [
        "![Sports compare.JPG](data:image/jpeg;base64,/9j/4AAQSkZJRgABAQEAkACQAAD/4RD4RXhpZgAATU0AKgAAAAgABAE7AAIAAAAPAAAISodpAAQAAAABAAAIWpydAAEAAAAeAAAQ0uocAAcAAAgMAAAAPgAAAAAc6gAAAAgAAAAAAAAAAAAAAAAAAAAAAAAAAAAAAAAAAAAAAAAAAAAAAAAAAAAAAAAAAAAAAAAAAAAAAAAAAAAAAAAAAAAAAAAAAAAAAAAAAAAAAAAAAAAAAAAAAAAAAAAAAAAAAAAAAAAAAAAAAAAAAAAAAAAAAAAAAAAAAAAAAAAAAAAAAAAAAAAAAAAAAAAAAAAAAAAAAAAAAAAAAAAAAAAAAAAAAAAAAAAAAAAAAAAAAAAAAAAAAAAAAAAAAAAAAAAAAAAAAAAAAAAAAAAAAAAAAAAAAAAAAAAAAAAAAAAAAAAAAAAAAAAAAAAAAAAAAAAAAAAAAAAAAAAAAAAAAAAAAAAAAAAAAAAAAAAAAAAAAAAAAAAAAAAAAAAAAAAAAAAAAAAAAAAAAAAAAAAAAAAAAAAAAAAAAAAAAAAAAAAAAAAAAAAAAAAAAAAAAAAAAAAAAAAAAAAAAAAAAAAAAAAAAAAAAAAAAAAAAAAAAAAAAAAAAAAAAAAAAAAAAAAAAAAAAAAAAAAAAAAAAAAAAAAAAAAAAAAAAAAAAAAAAAAAAAAAAAAAAAAAAAAAAAAAAAAAAAAAAAAAAAAAAAAAAAAAAAAAAAAAAAAAAAAAAAAAAAAAAAAAAAAAAAAAAAAAAAAAAAAAAAAAAAAAAAAAAAAAAAAAAAAAAAAAAAAAAAAAAAAAAAAAAAAAAAAAAAAAAAAAAAAAAAAAAAAAAAAAAAAAAAAAAAAAAAAAAAAAAAAAAAAAAAAAAAAAAAAAAAAAAAAAAAAAAAAAAAAAAAAAAAAAAAAAAAAAAAAAAAAAAAAAAAAAAAAAAAAAAAAAAAAAAAAAAAAAAAAAAAAAAAAAAAAAAAAAAAAAAAAAAAAAAAAAAAAAAAAAAAAAAAAAAAAAAAAAAAAAAAAAAAAAAAAAAAAAAAAAAAAAAAAAAAAAAAAAAAAAAAAAAAAAAAAAAAAAAAAAAAAAAAAAAAAAAAAAAAAAAAAAAAAAAAAAAAAAAAAAAAAAAAAAAAAAAAAAAAAAAAAAAAAAAAAAAAAAAAAAAAAAAAAAAAAAAAAAAAAAAAAAAAAAAAAAAAAAAAAAAAAAAAAAAAAAAAAAAAAAAAAAAAAAAAAAAAAAAAAAAAAAAAAAAAAAAAAAAAAAAAAAAAAAAAAAAAAAAAAAAAAAAAAAAAAAAAAAAAAAAAAAAAAAAAAAAAAAAAAAAAAAAAAAAAAAAAAAAAAAAAAAAAAAAAAAAAAAAAAAAAAAAAAAAAAAAAAAAAAAAAAAAAAAAAAAAAAAAAAAAAAAAAAAAAAAAAAAAAAAAAAAAAAAAAAAAAAAAAAAAAAAAAAAAAAAAAAAAAAAAAAAAAAAAAAAAAAAAAAAAAAAAAAAAAAAAAAAAAAAAAAAAAAAAAAAAAAAAAAAAAAAAAAAAAAAAAAAAAAAAAAAAAAAAAAAAAAAAAAAAAAAAAAAAAAAAAAAAAAAAAAAAAAAAAAAAAAAAAAAAAAAAAAAAAAAAAAAAAAAAAAAAAAAAAAAAAAAAAAAAAAAAAAAAAAAAAAAAAAAAAAAAAAAAAAAAAAAAAAAAAAAAAAAAAAAAAAAAAAAAAAAAAAAAAAAAAAAAAAAAAAAAAAAAAAAAAAAAAAAAAAAAAAAAAAAAAAAAAAAAAAAAAAAAAAAAAAAAAAAAAAAAAAAAAAAAAAAAAAAAAAAAAAAAAAAAAAAAAAAAAAAAAAAAAAAAAAAAAAAAAAAAAAAAAAAAAAAAAAAAAAAAAAAAAAAAAAAAAAAAAAAAAAAAAAAAAAAAAAAAAAAAAAAAAAAAAAAAAAAAAAAAAAAAAAAAAAAAAAAAAAAAAAAAAAAAAAAAAAAAAAAAAAAAAAAAAAAAAAAAAAAAAAAAAAAAAAAAAAAAAAAAAAAAAAAAAAAAAAAAAAAAAAAAAAAAAAAAAAAAAAAAAAAAAAAAAAAAAAAAAAAAAAAAAAAAAAAAAAAAAAAAAAAAAAAAAAAAAAAAAAAAAAAAAAAAAAAAAAAAAAAAAAAAAAAAAAAAAAAAAAAAAAAAAAAAAAAAAAAAAAAAAAAAAAAAAAAAAAAAAAAAAAAAAAAAAAAAAAAAAAAAAAAAAAAAAAAAAAAAAAAAAAAAAAAAAAAAAAAAAAAAAAAAAAAAAAAAAAAAAAAAAAAAAAAAAAAAAAAAAAAAAAAAAAAAAAAAAAAAAAAAAAAAAAAAAAAAAAAAAAAAAAAAAAAAAAAAAAAAAAAAAAAAAAAAAAAAAAAAAAAAAAAAAAAAAAAAAAAAAAAAAAAAAAAAAAAAAAAAAAAAAAAAAAAAAAAAAAAAAAAAAAAAAAAAAAAAAAAAAAAAAAAAAAAAAAAAAAAAAAAAAAAAAAAAAAAAAAAAAAAAAAAAAAAAAAAAAAAAAAAAAAAAAAAAAAAAAAAAAAAAAAAAAAAAAAAAAAAAAAAAAAAAAAAAAAAAAAAAAAAAAAAAAAAAAAAAAAAAAAAAAAAAAAAAAAAAAAAAAAAAAAAAAAAAAAAAAAAAAAAAAAAAAAAAAAAAAAAAAAAAAAAAAAAAAAAAAAAAAAAAAAAAAAAAAAAAAAAAAAAAAAAAAAAAAAAAAAAAAAAAAAAAAAAAAAAAAAAAAAAAAAAAAAAAAAAAAAAAAAAAAAAAAAAAAAAAAAAAAAAAAAAAAAAAAAAAAAAAAAAAAAAAAAAAAAAAAAAAAAAAAAAAAAAAAAAAAAAAAAAAAAAAAAAAAAAAAAAAAAAAAAAAAAAAAAAAAAAAEFsZXhhbmRlciBTdWhtAAAABZADAAIAAAAUAAAQqJAEAAIAAAAUAAAQvJKRAAIAAAADNjcAAJKSAAIAAAADNjcAAOocAAcAAAgMAAAInAAAAAAc6gAAAAgAAAAAAAAAAAAAAAAAAAAAAAAAAAAAAAAAAAAAAAAAAAAAAAAAAAAAAAAAAAAAAAAAAAAAAAAAAAAAAAAAAAAAAAAAAAAAAAAAAAAAAAAAAAAAAAAAAAAAAAAAAAAAAAAAAAAAAAAAAAAAAAAAAAAAAAAAAAAAAAAAAAAAAAAAAAAAAAAAAAAAAAAAAAAAAAAAAAAAAAAAAAAAAAAAAAAAAAAAAAAAAAAAAAAAAAAAAAAAAAAAAAAAAAAAAAAAAAAAAAAAAAAAAAAAAAAAAAAAAAAAAAAAAAAAAAAAAAAAAAAAAAAAAAAAAAAAAAAAAAAAAAAAAAAAAAAAAAAAAAAAAAAAAAAAAAAAAAAAAAAAAAAAAAAAAAAAAAAAAAAAAAAAAAAAAAAAAAAAAAAAAAAAAAAAAAAAAAAAAAAAAAAAAAAAAAAAAAAAAAAAAAAAAAAAAAAAAAAAAAAAAAAAAAAAAAAAAAAAAAAAAAAAAAAAAAAAAAAAAAAAAAAAAAAAAAAAAAAAAAAAAAAAAAAAAAAAAAAAAAAAAAAAAAAAAAAAAAAAAAAAAAAAAAAAAAAAAAAAAAAAAAAAAAAAAAAAAAAAAAAAAAAAAAAAAAAAAAAAAAAAAAAAAAAAAAAAAAAAAAAAAAAAAAAAAAAAAAAAAAAAAAAAAAAAAAAAAAAAAAAAAAAAAAAAAAAAAAAAAAAAAAAAAAAAAAAAAAAAAAAAAAAAAAAAAAAAAAAAAAAAAAAAAAAAAAAAAAAAAAAAAAAAAAAAAAAAAAAAAAAAAAAAAAAAAAAAAAAAAAAAAAAAAAAAAAAAAAAAAAAAAAAAAAAAAAAAAAAAAAAAAAAAAAAAAAAAAAAAAAAAAAAAAAAAAAAAAAAAAAAAAAAAAAAAAAAAAAAAAAAAAAAAAAAAAAAAAAAAAAAAAAAAAAAAAAAAAAAAAAAAAAAAAAAAAAAAAAAAAAAAAAAAAAAAAAAAAAAAAAAAAAAAAAAAAAAAAAAAAAAAAAAAAAAAAAAAAAAAAAAAAAAAAAAAAAAAAAAAAAAAAAAAAAAAAAAAAAAAAAAAAAAAAAAAAAAAAAAAAAAAAAAAAAAAAAAAAAAAAAAAAAAAAAAAAAAAAAAAAAAAAAAAAAAAAAAAAAAAAAAAAAAAAAAAAAAAAAAAAAAAAAAAAAAAAAAAAAAAAAAAAAAAAAAAAAAAAAAAAAAAAAAAAAAAAAAAAAAAAAAAAAAAAAAAAAAAAAAAAAAAAAAAAAAAAAAAAAAAAAAAAAAAAAAAAAAAAAAAAAAAAAAAAAAAAAAAAAAAAAAAAAAAAAAAAAAAAAAAAAAAAAAAAAAAAAAAAAAAAAAAAAAAAAAAAAAAAAAAAAAAAAAAAAAAAAAAAAAAAAAAAAAAAAAAAAAAAAAAAAAAAAAAAAAAAAAAAAAAAAAAAAAAAAAAAAAAAAAAAAAAAAAAAAAAAAAAAAAAAAAAAAAAAAAAAAAAAAAAAAAAAAAAAAAAAAAAAAAAAAAAAAAAAAAAAAAAAAAAAAAAAAAAAAAAAAAAAAAAAAAAAAAAAAAAAAAAAAAAAAAAAAAAAAAAAAAAAAAAAAAAAAAAAAAAAAAAAAAAAAAAAAAAAAAAAAAAAAAAAAAAAAAAAAAAAAAAAAAAAAAAAAAAAAAAAAAAAAAAAAAAAAAAAAAAAAAAAAAAAAAAAAAAAAAAAAAAAAAAAAAAAAAAAAAAAAAAAAAAAAAAAAAAAAAAAAAAAAAAAAAAAAAAAAAAAAAAAAAAAAAAAAAAAAAAAAAAAAAAAAAAAAAAAAAAAAAAAAAAAAAAAAAAAAAAAAAAAAAAAAAAAAAAAAAAAAAAAAAAAAAAAAAAAAAAAAAAAAAAAAAAAAAAAAAAAAAAAAAAAAAAAAAAAAAAAAAAAAAAAAAAAAAAAAAAAAAAAAAAAAAAAAAAAAAAAAAAAAAAAAAAAAAAAAAAAAAAAAAAAAAAAAAAAAAAAAAAAAAAAAAAAAAAAAAAAAAAAAAAAAAAAAAAAAAAAAAAAAAAAAAAAAAAAAAAAAAAAAAAAAAAAAAAAAAAAAAAAAAAAAAAAAAAAAAAAAAAAAAAAAAAAAAAAAAAAAAAAAAAAAAAAAAAAAAAAAAAAAAAAAAAAAAAAAAAAAAAAAAAAAAAAAAAAAAAAAAAAAAAAAAAAAAAAAAAAAAAAAAAAAAAAAAAAAAAAAAAAAAAAAAAAAAAAAAAAAAAAAAAAAAAAAAAAAAAAAAAAAAAAAAAAAAAAAAAAAAAAAAAAAAAAAAAAAAAAAAAAAAAAAAAAAAAAAAAAAAAAAAAAAAAAAAAAAAAAAAAAAAAAAAAAAAAAAAAAAAAAAAAAAAAAAAAAAAAAAAAAAAAAAAAAAAAAAAAAAAAAAAAAAAAAAAAAAAAAAAAAAAAAAAAAAAAAAAAAAAAAAAAAAAAAAAAAAAAAAAAAAAAAAAAAAAAAAAAAAAAAAAAAAAAAAAAAAAAAAAAAAAAAAAAAAAAAAAAAAAAAAAAAAAAAAAAAAAAAAAAAAAAAAAAAAAAAAAAAAAAAAAAAAAAAAAAAAAAAAAAAAAAAAAAAAAAAAAAAAAAAAAAAAAAAAAAAAAAAAAAAAAAAAAAAAAAAAAAAAAAAAAAAAAAAAAAAAAAAAAAAAAAAAAAAAAAAAAAAAAAAAAAAAAAAAAAAAAAAAAAAAAAAAAAAAAAAAAAAAAAAAAAAAAAAAAAAAAAAAAAAAAAAAAAAAAAAAAAAAAAAAAAADIwMjI6MDE6MzAgMTM6NTE6MTYAMjAyMjowMTozMCAxMzo1MToxNgAAAEEAbABlAHgAYQBuAGQAZQByACAAUwB1AGgAbQAAAP/hCyFodHRwOi8vbnMuYWRvYmUuY29tL3hhcC8xLjAvADw/eHBhY2tldCBiZWdpbj0n77u/JyBpZD0nVzVNME1wQ2VoaUh6cmVTek5UY3prYzlkJz8+DQo8eDp4bXBtZXRhIHhtbG5zOng9ImFkb2JlOm5zOm1ldGEvIj48cmRmOlJERiB4bWxuczpyZGY9Imh0dHA6Ly93d3cudzMub3JnLzE5OTkvMDIvMjItcmRmLXN5bnRheC1ucyMiPjxyZGY6RGVzY3JpcHRpb24gcmRmOmFib3V0PSJ1dWlkOmZhZjViZGQ1LWJhM2QtMTFkYS1hZDMxLWQzM2Q3NTE4MmYxYiIgeG1sbnM6ZGM9Imh0dHA6Ly9wdXJsLm9yZy9kYy9lbGVtZW50cy8xLjEvIi8+PHJkZjpEZXNjcmlwdGlvbiByZGY6YWJvdXQ9InV1aWQ6ZmFmNWJkZDUtYmEzZC0xMWRhLWFkMzEtZDMzZDc1MTgyZjFiIiB4bWxuczp4bXA9Imh0dHA6Ly9ucy5hZG9iZS5jb20veGFwLzEuMC8iPjx4bXA6Q3JlYXRlRGF0ZT4yMDIyLTAxLTMwVDEzOjUxOjE2LjY2OTwveG1wOkNyZWF0ZURhdGU+PC9yZGY6RGVzY3JpcHRpb24+PHJkZjpEZXNjcmlwdGlvbiByZGY6YWJvdXQ9InV1aWQ6ZmFmNWJkZDUtYmEzZC0xMWRhLWFkMzEtZDMzZDc1MTgyZjFiIiB4bWxuczpkYz0iaHR0cDovL3B1cmwub3JnL2RjL2VsZW1lbnRzLzEuMS8iPjxkYzpjcmVhdG9yPjxyZGY6U2VxIHhtbG5zOnJkZj0iaHR0cDovL3d3dy53My5vcmcvMTk5OS8wMi8yMi1yZGYtc3ludGF4LW5zIyI+PHJkZjpsaT5BbGV4YW5kZXIgU3VobTwvcmRmOmxpPjwvcmRmOlNlcT4NCgkJCTwvZGM6Y3JlYXRvcj48L3JkZjpEZXNjcmlwdGlvbj48L3JkZjpSREY+PC94OnhtcG1ldGE+DQogICAgICAgICAgICAgICAgICAgICAgICAgICAgICAgICAgICAgICAgICAgICAgICAgICAgICAgICAgICAgICAgICAgICAgICAgICAgICAgICAgICAgICAgICAgICAgICAgICAgCiAgICAgICAgICAgICAgICAgICAgICAgICAgICAgICAgICAgICAgICAgICAgICAgICAgICAgICAgICAgICAgICAgICAgICAgICAgICAgICAgICAgICAgICAgICAgICAgICAgICAKICAgICAgICAgICAgICAgICAgICAgICAgICAgICAgICAgICAgICAgICAgICAgICAgICAgICAgICAgICAgICAgICAgICAgICAgICAgICAgICAgICAgICAgICAgICAgICAgICAgIAogICAgICAgICAgICAgICAgICAgICAgICAgICAgICAgICAgICAgICAgICAgICAgICAgICAgICAgICAgICAgICAgICAgICAgICAgICAgICAgICAgICAgICAgICAgICAgICAgICAgCiAgICAgICAgICAgICAgICAgICAgICAgICAgICAgICAgICAgICAgICAgICAgICAgICAgICAgICAgICAgICAgICAgICAgICAgICAgICAgICAgICAgICAgICAgICAgICAgICAgICAKICAgICAgICAgICAgICAgICAgICAgICAgICAgICAgICAgICAgICAgICAgICAgICAgICAgICAgICAgICAgICAgICAgICAgICAgICAgICAgICAgICAgICAgICAgICAgICAgICAgIAogICAgICAgICAgICAgICAgICAgICAgICAgICAgICAgICAgICAgICAgICAgICAgICAgICAgICAgICAgICAgICAgICAgICAgICAgICAgICAgICAgICAgICAgICAgICAgICAgICAgCiAgICAgICAgICAgICAgICAgICAgICAgICAgICAgICAgICAgICAgICAgICAgICAgICAgICAgICAgICAgICAgICAgICAgICAgICAgICAgICAgICAgICAgICAgICAgICAgICAgICAKICAgICAgICAgICAgICAgICAgICAgICAgICAgICAgICAgICAgICAgICAgICAgICAgICAgICAgICAgICAgICAgICAgICAgICAgICAgICAgICAgICAgICAgICAgICAgICAgICAgIAogICAgICAgICAgICAgICAgICAgICAgICAgICAgICAgICAgICAgICAgICAgICAgICAgICAgICAgICAgICAgICAgICAgICAgICAgICAgICAgICAgICAgICAgICAgICAgICAgICAgCiAgICAgICAgICAgICAgICAgICAgICAgICAgICAgICAgICAgICAgICAgICAgICAgICAgICAgICAgICAgICAgICAgICAgICAgICAgICAgICAgICAgICAgICAgICAgICAgICAgICAKICAgICAgICAgICAgICAgICAgICAgICAgICAgICAgICAgICAgICAgICAgICAgICAgICAgICAgICAgICAgICAgICAgICAgICAgICAgICAgICAgICAgICAgICAgICAgICAgICAgIAogICAgICAgICAgICAgICAgICAgICAgICAgICAgICAgICAgICAgICAgICAgICAgICAgICAgICAgICAgICAgICAgICAgICAgICAgICAgICAgICAgICAgICAgICAgICAgICAgICAgCiAgICAgICAgICAgICAgICAgICAgICAgICAgICAgICAgICAgICAgICAgICAgICAgICAgICAgICAgICAgICAgICAgICAgICAgICAgICAgICAgICAgICAgICAgICAgICAgICAgICAKICAgICAgICAgICAgICAgICAgICAgICAgICAgICAgICAgICAgICAgICAgICAgICAgICAgICAgICAgICAgICAgICAgICAgICAgICAgICAgICAgICAgICAgICAgICAgICAgICAgIAogICAgICAgICAgICAgICAgICAgICAgICAgICAgICAgICAgICAgICAgICAgICAgICAgICAgICAgICAgICAgICAgICAgICAgICAgICAgICAgICAgICAgICAgICAgICAgICAgICAgCiAgICAgICAgICAgICAgICAgICAgICAgICAgICAgICAgICAgICAgICAgICAgICAgICAgICAgICAgICAgICAgICAgICAgICAgICAgICAgICAgICAgICAgICAgICAgICAgICAgICAKICAgICAgICAgICAgICAgICAgICAgICAgICAgICAgICAgICAgICAgICAgICAgICAgICAgICAgICAgICAgICAgICAgICAgICAgICAgICAgICAgICAgICAgICAgICAgICAgICAgIAogICAgICAgICAgICAgICAgICAgICAgICAgICAgICAgICAgICAgICAgICAgICAgICAgICAgICAgICAgICAgICAgICAgICAgICAgICAgICAgICAgICAgICAgICAgICAgICAgICAgCiAgICAgICAgICAgICAgICAgICAgICAgICAgICAgICAgICAgICAgICAgICAgICAgICAgICAgICAgICAgICAgICAgICAgICAgICAgICAgICAgICAgICAgICAgICAgICAgICAgICAKICAgICAgICAgICAgICAgICAgICAgICAgICAgIDw/eHBhY2tldCBlbmQ9J3cnPz7/2wBDAAcFBQYFBAcGBQYIBwcIChELCgkJChUPEAwRGBUaGRgVGBcbHichGx0lHRcYIi4iJSgpKywrGiAvMy8qMicqKyr/2wBDAQcICAoJChQLCxQqHBgcKioqKioqKioqKioqKioqKioqKioqKioqKioqKioqKioqKioqKioqKioqKioqKioqKir/wAARCAE/BbIDASIAAhEBAxEB/8QAHwAAAQUBAQEBAQEAAAAAAAAAAAECAwQFBgcICQoL/8QAtRAAAgEDAwIEAwUFBAQAAAF9AQIDAAQRBRIhMUEGE1FhByJxFDKBkaEII0KxwRVS0fAkM2JyggkKFhcYGRolJicoKSo0NTY3ODk6Q0RFRkdISUpTVFVWV1hZWmNkZWZnaGlqc3R1dnd4eXqDhIWGh4iJipKTlJWWl5iZmqKjpKWmp6ipqrKztLW2t7i5usLDxMXGx8jJytLT1NXW19jZ2uHi4+Tl5ufo6erx8vP09fb3+Pn6/8QAHwEAAwEBAQEBAQEBAQAAAAAAAAECAwQFBgcICQoL/8QAtREAAgECBAQDBAcFBAQAAQJ3AAECAxEEBSExBhJBUQdhcRMiMoEIFEKRobHBCSMzUvAVYnLRChYkNOEl8RcYGRomJygpKjU2Nzg5OkNERUZHSElKU1RVVldYWVpjZGVmZ2hpanN0dXZ3eHl6goOEhYaHiImKkpOUlZaXmJmaoqOkpaanqKmqsrO0tba3uLm6wsPExcbHyMnK0tPU1dbX2Nna4uPk5ebn6Onq8vP09fb3+Pn6/9oADAMBAAIRAxEAPwD6Roorzb4k6n4n/wCE78GeHPCniH+wf7a+3faLj7FFc/6mJJF+Vx/vDgj73fFAHpNFebf8IT8Tv+iuf+W1bf8AxVH/AAhPxO/6K5/5bVt/8VQB6TRXm3/CE/E7/orn/ltW3/xVH/CE/E7/AKK5/wCW1bf/ABVAHpNFebf8IT8Tv+iuf+W1bf8AxVH/AAhPxO/6K5/5bVt/8VQB6TRXm3/CE/E7/orn/ltW3/xVH/CE/E7/AKK5/wCW1bf/ABVAHpNFebf8IT8Tv+iuf+W1bf8AxVH/AAhPxO/6K5/5bVt/8VQB6TRXm3/CE/E7/orn/ltW3/xVH/CE/E7/AKK5/wCW1bf/ABVAHpNFebf8IT8Tv+iuf+W1bf8AxVH/AAhPxO/6K5/5bVt/8VQB6TRXm3/CE/E7/orn/ltW3/xVH/CE/E7/AKK5/wCW1bf/ABVAHpNFebf8IT8Tv+iuf+W1bf8AxVH/AAhPxO/6K5/5bVt/8VQB6TRXm3/CE/E7/orn/ltW3/xVH/CE/E7/AKK5/wCW1bf/ABVAHpNFebf8IT8Tv+iuf+W1bf8AxVH/AAhPxO/6K5/5bVt/8VQB6TRXm3/CE/E7/orn/ltW3/xVH/CE/E7/AKK5/wCW1bf/ABVAHpNFebf8IT8Tv+iuf+W1bf8AxVH/AAhPxO/6K5/5bVt/8VQB6TRXm3/CE/E7/orn/ltW3/xVH/CE/E7/AKK5/wCW1bf/ABVAHpNFebf8IT8Tv+iuf+W1bf8AxVH/AAhPxO/6K5/5bVt/8VQB6TRXm3/CE/E7/orn/ltW3/xVH/CE/E7/AKK5/wCW1bf/ABVAHpNFebf8IT8Tv+iuf+W1bf8AxVH/AAhPxO/6K5/5bVt/8VQB6TRXm3/CE/E7/orn/ltW3/xVH/CE/E7/AKK5/wCW1bf/ABVAHpNFebf8IT8Tv+iuf+W1bf8AxVH/AAhPxO/6K5/5bVt/8VQB6TRXm3/CE/E7/orn/ltW3/xVH/CE/E7/AKK5/wCW1bf/ABVAHpNFebf8IT8Tv+iuf+W1bf8AxVH/AAhPxO/6K5/5bVt/8VQB6TRXm3/CE/E7/orn/ltW3/xVH/CE/E7/AKK5/wCW1bf/ABVAHpNFebf8IT8Tv+iuf+W1bf8AxVH/AAhPxO/6K5/5bVt/8VQB6TRXm3/CE/E7/orn/ltW3/xVH/CE/E7/AKK5/wCW1bf/ABVAHpNFebf8IT8Tv+iuf+W1bf8AxVH/AAhPxO/6K5/5bVt/8VQB6TRXm3/CE/E7/orn/ltW3/xVH/CE/E7/AKK5/wCW1bf/ABVAHpNFebf8IT8Tv+iuf+W1bf8AxVH/AAhPxO/6K5/5bVt/8VQB6TRXm3/CE/E7/orn/ltW3/xVH/CE/E7/AKK5/wCW1bf/ABVAHpNFebf8IT8Tv+iuf+W1bf8AxVH/AAhPxO/6K5/5bVt/8VQB6TRXm3/CE/E7/orn/ltW3/xVH/CE/E7/AKK5/wCW1bf/ABVAHpNFebf8IT8Tv+iuf+W1bf8AxVH/AAhPxO/6K5/5bVt/8VQB6TRXm3/CE/E7/orn/ltW3/xVH/CE/E7/AKK5/wCW1bf/ABVAHpNFebf8IT8Tv+iuf+W1bf8AxVH/AAhPxO/6K5/5bVt/8VQB6TRXm3/CE/E7/orn/ltW3/xVH/CE/E7/AKK5/wCW1bf/ABVAHpNFebf8IT8Tv+iuf+W1bf8AxVH/AAhPxO/6K5/5bVt/8VQB6TRXm3/CE/E7/orn/ltW3/xVH/CE/E7/AKK5/wCW1bf/ABVAHpNFebf8IT8Tv+iuf+W1bf8AxVH/AAhPxO/6K5/5bVt/8VQB6TRXm3/CE/E7/orn/ltW3/xVH/CE/E7/AKK5/wCW1bf/ABVAHpNFebf8IT8Tv+iuf+W1bf8AxVH/AAhPxO/6K5/5bVt/8VQB6TRXm3/CE/E7/orn/ltW3/xVH/CE/E7/AKK5/wCW1bf/ABVAHpNFebf8IT8Tv+iuf+W1bf8AxVH/AAhPxO/6K5/5bVt/8VQB6TRXm3/CE/E7/orn/ltW3/xVH/CE/E7/AKK5/wCW1bf/ABVAHpNFebf8IT8Tv+iuf+W1bf8AxVH/AAhPxO/6K5/5bVt/8VQB6TRXm3/CE/E7/orn/ltW3/xVH/CE/E7/AKK5/wCW1bf/ABVAHpNFebf8IT8Tv+iuf+W1bf8AxVH/AAhPxO/6K5/5bVt/8VQB6TRXm3/CE/E7/orn/ltW3/xVH/CE/E7/AKK5/wCW1bf/ABVAHpNFebf8IT8Tv+iuf+W1bf8AxVH/AAhPxO/6K5/5bVt/8VQB6TRXm3/CE/E7/orn/ltW3/xVH/CE/E7/AKK5/wCW1bf/ABVAHpNFebf8IT8Tv+iuf+W1bf8AxVH/AAhPxO/6K5/5bVt/8VQB6TRXm3/CE/E7/orn/ltW3/xVH/CE/E7/AKK5/wCW1bf/ABVAHpNFebf8IT8Tv+iuf+W1bf8AxVH/AAhPxO/6K5/5bVt/8VQB6TRXm3/CE/E7/orn/ltW3/xVH/CE/E7/AKK5/wCW1bf/ABVAHpNFebf8IT8Tv+iuf+W1bf8AxVH/AAhPxO/6K5/5bVt/8VQB6TRXm3/CE/E7/orn/ltW3/xVH/CE/E7/AKK5/wCW1bf/ABVAHpNFebf8IT8Tv+iuf+W1bf8AxVH/AAhPxO/6K5/5bVt/8VQB6TRXm3/CE/E7/orn/ltW3/xVH/CE/E7/AKK5/wCW1bf/ABVAHpNFebf8IT8Tv+iuf+W1bf8AxVH/AAhPxO/6K5/5bVt/8VQB6TRXm3/CE/E7/orn/ltW3/xVH/CE/E7/AKK5/wCW1bf/ABVAHpNFebf8IT8Tv+iuf+W1bf8AxVH/AAhPxO/6K5/5bVt/8VQB6TRXm3/CE/E7/orn/ltW3/xVH/CE/E7/AKK5/wCW1bf/ABVAHpNFebf8IT8Tv+iuf+W1bf8AxVH/AAhPxO/6K5/5bVt/8VQB6TRXm3/CE/E7/orn/ltW3/xVH/CE/E7/AKK5/wCW1bf/ABVAHpNFebf8IT8Tv+iuf+W1bf8AxVH/AAhPxO/6K5/5bVt/8VQB6TRXm3/CE/E7/orn/ltW3/xVH/CE/E7/AKK5/wCW1bf/ABVAHpNFebf8IT8Tv+iuf+W1bf8AxVH/AAhPxO/6K5/5bVt/8VQB6TRXm3/CE/E7/orn/ltW3/xVH/CE/E7/AKK5/wCW1bf/ABVAHpNFebf8IT8Tv+iuf+W1bf8AxVH/AAhPxO/6K5/5bVt/8VQB6TRXm3/CE/E7/orn/ltW3/xVH/CE/E7/AKK5/wCW1bf/ABVAHpNFebf8IT8Tv+iuf+W1bf8AxVH/AAhPxO/6K5/5bVt/8VQB6TRXm3/CE/E7/orn/ltW3/xVH/CE/E7/AKK5/wCW1bf/ABVAHpNFebf8IT8Tv+iuf+W1bf8AxVH/AAhPxO/6K5/5bVt/8VQB6TRXm3/CE/E7/orn/ltW3/xVH/CE/E7/AKK5/wCW1bf/ABVAHpNFebf8IT8Tv+iuf+W1bf8AxVH/AAhPxO/6K5/5bVt/8VQB6TRXm3/CE/E7/orn/ltW3/xVH/CE/E7/AKK5/wCW1bf/ABVAHpNFebf8IT8Tv+iuf+W1bf8AxVH/AAhPxO/6K5/5bVt/8VQB6TRXm3/CE/E7/orn/ltW3/xVH/CE/E7/AKK5/wCW1bf/ABVAHpNFebf8IT8Tv+iuf+W1bf8AxVH/AAhPxO/6K5/5bVt/8VQB6TRXm3/CE/E7/orn/ltW3/xVH/CE/E7/AKK5/wCW1bf/ABVAHpNFebf8IT8Tv+iuf+W1bf8AxVH/AAhPxO/6K5/5bVt/8VQB6TRXm3/CE/E7/orn/ltW3/xVH/CE/E7/AKK5/wCW1bf/ABVAHpNFebf8IT8Tv+iuf+W1bf8AxVH/AAhPxO/6K5/5bVt/8VQB6TRXm3/CE/E7/orn/ltW3/xVH/CE/E7/AKK5/wCW1bf/ABVAHpNFebf8IT8Tv+iuf+W1bf8AxVH/AAhPxO/6K5/5bVt/8VQB6TRXm3/CE/E7/orn/ltW3/xVH/CE/E7/AKK5/wCW1bf/ABVAHpNFebf8IT8Tv+iuf+W1bf8AxVH/AAhPxO/6K5/5bVt/8VQB6TRXm3/CE/E7/orn/ltW3/xVH/CE/E7/AKK5/wCW1bf/ABVAHpNFebf8IT8Tv+iuf+W1bf8AxVH/AAhPxO/6K5/5bVt/8VQB6TRXm3/CE/E7/orn/ltW3/xVH/CE/E7/AKK5/wCW1bf/ABVAHpNFebf8IT8Tv+iuf+W1bf8AxVH/AAhPxO/6K5/5bVt/8VQB6TRXkkM3jvwr8WPB+ja944/4SDT9c+2+bD/ZMFrt8mDePmXJPzMDwR93vmvW6ACiiigArzbxt/yXb4Yf9xb/ANJlr0mvNvG3/Jdvhh/3Fv8A0mWgD0miiigAooooAKKKKACiiigArlPiT43/AOFe+C59f/s/+0fKljj8jz/KzubGd21un0rq68o/aS/5Ive/9fUH/oYqJtpaeX5lRSb18/yOo8dePP8AhC/h0/ir+zvtu0Qn7L5/l58xlH39p6bvTmum028/tDSrS92eX9ohSXZnO3coOM9+tfPPxX8NeNbD4LyXmt+Pv7W00LbZ07+xoYM5Zdv7xTu+U4PvitPxMv8Awk3xJ8B+DPENzNF4butGS4e2SZolu5tjYVmBBP3V4znnjrWtvekl3t6aN/oZX92Lfa/rql+p75RXgGi2cHhL4peNvCPhaec+Ho/D0lzJZNM0sdpPtHALEkEhj3yc89OOHfwnYQfsxWHjdZ786/azgWtybyQC1QXJTZGoOFH8XTOTnPaourc3TT8W1+hpZ7ev5Jn1vRXz1feH7bwZ8R/hnq+jXN9/aGvyFNVuLi6eVrzcseS+Tj/loeBgcDjiud1K01r4g/Ebxql54UuPE9xp909tZ415LEaWgLKjJG33s7Qc9Mjnk03dfj+Fv8/IUbPXo7fjf/J9z6nryDxF8YfGHhjVNPsdV+GflSapc/ZrH/ifQt575AA+VDtzuH3sda6z4Strh+Gelp4pmW41KLzIpJVuUuNwV2C5kRmDHAAPOeOea4744/8AI7fDP/sOp/6HFTcbVFG+jaX3sE7xba6P8EeleFtT1zVtJa48TeHv+EfuxKVW1+2pdZTAw+9ABySRj2rarxT9obVNTS48J6FaRS3Fhqt663dpFeC1+2bdgWFpTwqncevHT0rJ8EWGteBvEniJ9R0S48J+F20aW6fS4tcivZYXQDMsQDbwSM8kYzjJ6YlNNN7b/gh8trLv+rsfQNFfIOsyLplt4d8XeGvCeoaF9q1GPyNfu9f8+41BeQwkhzkbsZJHHGOhr0jVPDGn+MP2oNY0nW2uX09tDjlmtoLh4luMFAFcqQSuWzjI5Aqrbeba+5XJutfRP73Y92or5Y8MeCdM1vwP8Q49UuNQuIPC892ujwNeyeXaFA7BlUHBJ2jOcj2zzXufwg1G61X4Q+HbvUJnnuHtdryucs21ioJJ6nAHNJaq/p+I3o7ev4f8OdpRRRQAUUUUAFFFFABRRRQAUUUUAFFFFABRRRQBwXxQ+J6fDm2sBb6S+s318ZWS0SfyisUabpJCdrcAY4x6+ldR4Y1+28U+FtO1yxBWG/t1mVCclCRypPqDkfhXiWseKrfUfj7rd7deG9e8Rado1gdIiTR7D7SEkcHzS/ICnl198e1YPhK1l8TfArxl4DuILmDUdBma8sra8i8udY8+YqlDyGyrA/749alS9xyfr8r/AOVmU176S9Pn/wAPofUFFfJmteNdR8VzeGfFOnS74vBenWlxf7ckmZ5lSQZ91UHntnrXWaXq+l3dj8TfiPqs+oLp13dJptrPpsnlzNChVQY2OMbsx5Ppmqeib7X/AAaS++5Edbedvx1f3I+h6K+WdJil8NfFrwPc6T4Rn8HxaxPtkDa59tOowvt5dM5T72eepPqtT+JNZl+Fd18RPBkW9IdbRbvRgoOSZ2CSKuOmAWA/65+9DvbTfX71bQas3933O+p9M3ss8FhPLZ2/2q4jjZooN4TzWA4XceBk8ZPSvI7z4x+M7DxXY+Grv4YeXq+oRtLbW3/CQQnzFUEk7gm0fdPUjpXovgnw/H4W8D6Rosa7fsdqiP7vjLn8WJNeceL/APk6zwN/2D5//QJqbVqijfTX8E2JO9Nytsr/AJHqeg3upahodvda5pX9kX0gPm2X2lZ/KOSAN68NkYPHrWjXgXxqutT1f4u+H/Cp0qXXNKksmuRo6akLFbyXLj5pD12hAQOvXHWqvhx9S8DeC/HMHi+21HRNAhEL2enWGsRXV1ZeYxHlpIrEoCccsBxnqcmp5k4uW2/4O39bl8tmlvt+P9eR9D0V8s6TFN4a+LXge50jwlP4Pi1efbIG1z7adRhfby6Zyn3s89SfVa39G8FaT42+JvxQg8Qm7mtbS5SSO1juXjiMhV8SMqkbmXbxnjk8Gh6K/r+Fv8yVZv7vxv8A5H0PRXyRZeHoNS/ZpuPGl/e6lPrmlTrFp9w97Ji0jWZFCIucAYYn16YIr6k8N3U1/wCFNJu7lt81xZQyyN6syAk/mavl38rfirom+3nf8NzToooqSgooooAK40eP8/GA+Bf7N6af9t+3ef742+Xt/Xd+FdlXgfibTda1X9qhrfw3r/8AYN7/AGGrfbPsaXPyg8rscgc8c+1L7SXr+TD7Lfp+aPSpfH/lfGCDwL/ZufN083v27z+nLDb5e3/Z67vwrsq8B0TTdd0j9qa1g8R69/wkN9/Ybut19jS1+X5sJsQkcEHn3rH8IeGtD+IfgLxT4w8fXtzNr9pPcf6Q126HTgibk2oDgAHOAQRxgUXtG/ZNv72gt71vNL8Ln0tRXy9qF7qnib4cfCR9ZvrxLq61lrY3kcpWcp5nlhw/Xdt/i9s1qn4e6HY/tDDwbYtqFt4e1DSRd3tjFfyhbpwW++27cRkZ69fbiqcWpOPm19yuK6tf+t7H0ZRXzPpWr6p4O+GnxV07w7dXEcOiap9nsCZCz2sbymNip6jCjOR0PPWqnhXw54k07U/CHiDw74WfQxPPAL7VZfE0M66rHIV3boiw5PJCrzk4wSBRH3ml00/FXG9E311/A+nb2WeCwnls7f7VcRxs0UG8J5rAcLuPAyeMnpXkd58Y/Gdh4rsfDV38MPL1fUI2ltrb/hIIT5iqCSdwTaPunqR0rsdP8S+NbnxX9gv/AAD9i0jznT+1f7Zhk+QZ2v5QG75sDjqM+1cZ4v8A+TrPA3/YPn/9AmpR1lHs/wDJsb0jLuj1PQb3UtQ0O3utc0r+yL6QHzbL7Ss/lHJAG9eGyMHj1rRrwL41XWp6v8XfD/hU6VLrmlSWTXI0dNSFit5Llx80h67QgIHXrjrVXw4+peBvBfjmDxfbajomgQiF7PTrDWIrq6svMYjy0kViUBOOWA4z1OTS5k4uW2/4O39bj5bNLfb8f68j6Hor5Z0mKbw18WvA9zpHhKfwfFq8+2QNrn206jC+3l0zlPvZ56k+q1v6N4K0nxt8TfihB4hN3Na2lykkdrHcvHEZCr4kZVI3Mu3jPHJ4ND0V/X8Lf5kqzf3fjf8AyPoemTM6QSNEnmSKpKoWxuOOBntXyXZeHoNS/ZpuPGl/e6lPrmlTrFp9w97Ji0jWZFCIucAYYn16YIr6k8N3U1/4U0m7uW3zXFlDLI3qzICT+ZqnF2fl+quhKWz73/Dc5TwZ8U7XxV8OtT8U3GnnTjpZnF1aGfzChjXd97aOox2/Ok+HPxWs/HvgrUfEEliNM/s6R1uLfz/N2qqB927avUZ7dq8V8U3c/hPVviL4Ds/lk8Q39rJp6Z6+e4LgccjDBfbFHim5X4W634/8KWOY4dd0u2NhGufmZisbgc9SHlP/AAGou5Ruuq0/xWuy7JSs+j1/wvY9b0T4saxr2g+GdVsfA97NBrl5JbymCcyLZRq4XzXby8YPzHnaPlPNenV4T410QeGrv4OaMuM2V/HCxHdgI9x/E5NVtG8FaT45+NHxGsfERu57GCWB1tIrp4omkZOJGCkbmXbxnjk8GrdtbdL/AIW/z/rpC2TfZfi3/ke/0V5X+zrqN3f/AAnjW+uJLj7JezW8TSsWYRrghcnsMnHoOK9UpyVmCv1/qwUUUVIwooooA828T/FHWdL+JH/CHeGvB51+9+xLdlv7TS1+Ukg/fUjjjv36Vf8ACHxNj8QeI5/DOu6Ld+HfEVvF5zWNy4kWRP70cg4cc+g74zg45Yf8ngN/2L//ALNUOt3EGu/tXeG49FlWeTSNOlOoyQtuEYIcBGx3y68f7Yohryp9b/hf/IJbSa6W/T/M9porwP4LeEtL1rVPEGvay1zcTaP4guDYRfaHWK2YHczhFIBZs4Oc8KK8/wDF8tjqvhXUfGHhvwrq+IrwLD4t1DxBi4WQSDgQZ5HO0beQOexqebRX6pP77f5jtq152/P/ACPryivAvEmqt4P+I3gX4g6hJi01fRxZ6lJ0Bfyt4J9yWHX+5Xnmn+JtW8KeFvFUerOTc+N9MXULNApG55p2jYAY6lHLfQCqd02lurr562XzSuKLTSfez+T6/J6H2BRWH4L0FfC/gjSNFQYNnapG/u+MsfxYk1uVUlZtImLukwoooqSgooooAK8t8UfG+z8NfEiPwy2kPc2aTW9ve6mtxtW0kmyVUrtOflGfvDv6V6Vf3sGmabc3144jt7WJppXP8KqCSfyFfKCX0niT4W+KHu/B/im81XxDqDanFqNrpZktY9jfIBJnO0DeCQOMn0qea0vJav7/APK7+RVrrzen/B/L7z63or5y8Q+IjqXhD4a/FKJw02k3SWmqMOoBISQtjkcq3/fwetYll43vPD3j/W/iDcTD+y/Ekeo21iQCFY26r5HPI5KhR+NVLRtdr/ha333JWqT72/G9/usfVFFfN0enaX4f+Engjw7qmk6rrWpa+8l2mkWt99jiu3k2nE75yAFZMe45pnw30N9U8V+PfAVzpkmg6ZcaapGkHURerZzHaAyyDIJy249+gPSh6NxXS/4LUSasn3t9zdkz6UqG9lngsJ5bO3+1XEcbNFBvCeawHC7jwMnjJ6V8waHrNz42tfAvwz1NXF3pGqypqsOOkNsMoD2IwWXr/D9K9007xJ41uPFf9n3/AIA+xaR5zp/av9swyfIM7X8kDd82Bx1Gfam1daPfb001/rsF7PVbb/jp+Bx158Y/Gdh4rsfDV38MPL1fUI2ltrb/AISCE+YqgkncE2j7p6kdK9R0G91LUNDt7rXNK/si+kB82y+0rP5RyQBvXhsjB49a8s8X/wDJ1ngb/sHz/wDoE1Y3xqutT1f4u+H/AAqdKl1zSpLJrkaOmpCxW8ly4+aQ9doQEDr1x1qU/dj3d/wb/wAimrSfZJP7z32ivnjw4+peBvBfjmDxfbajomgQiF7PTrDWIrq6svMYjy0kViUBOOWA4z1OTWBpMU3hr4teB7nSPCU/g+LV59sgbXPtp1GF9vLpnKfezz1J9VqlZzUV1t97Jk+WLb6X/A+pqK+eNG8FaT42+JvxQg8Qm7mtbS5SSO1juXjiMhV8SMqkbmXbxnjk8GuPsvD0Gpfs03HjS/vdSn1zSp1i0+4e9kxaRrMihEXOAMMT69MEVCl7t32T+/8Ar+ti3H3uVd2vmfWkzOkEjRJ5kiqSqFsbjjgZ7Vwngz4p2vir4dan4puNPOnHSzOLq0M/mFDGu7720dRjt+ddX4bupr/wppN3ctvmuLKGWRvVmQEn8zXzT4pu5/CerfEXwHZ/LJ4hv7WTT0z189wXA45GGC+2KqSam4Ld6L1uiYOLipvbS/p/Vj2r4c/Faz8e+CtR8QSWI0z+zpHW4t/P83aqoH3btq9Rnt2qhonxY1jXtB8M6rY+B72aDXLyS3lME5kWyjVwvmu3l4wfmPO0fKea8k8U3K/C3W/H/hSxzHDrul2xsI1z8zMVjcDnqQ8p/wCA12fjXRB4au/g5oy4zZX8cLEd2Aj3H8Tk1Ss5JrZuK+fX+vMl3UWnvaT/AAuvz/A92orwDRvBWk+OfjR8RrHxEbuexglgdbSK6eKJpGTiRgpG5l28Z45PBrq/2ddRu7/4TxrfXElx9kvZreJpWLMI1wQuT2GTj0HFTH3lfyT+8qXuu3nb9T1SiiigArzbxP8AFHWdK+I//CHeGvB51+9Fkt2W/tNLX5SSD99SOOO/fpXpNeB+Jv8AhJf+GqG/4Qz+yv7S/sNf+Qt5nk7M8/6v5s9MdqX2kvX8mP7Lf9bo9I+HvxHt/HR1Kzl0y40jV9JlEV9YXDBvLYkgYcY3DKkdB09wa7SvD9S+Hd34O+E3xB1fXtRj1HXddt5J7uSBCkSdSFQHryzc4HYY45oDSv8AhDP2c7jxpoc143iTUdIt1uNRkuXZ1jd0GFGdqhFOFIAIAHNEpWTfZL73f/ISV2kurdvTT/M9/pkzmOB3HJVSRn6V8v8AhXw54k07U/CHiDw74WfQxPPAL7VZfE0M66rHIV3boiw5PJCrzk4wSBW5o2iaT8QPiF8RNR8c31xFdaHcNFYOt80H9nwqXAkQggDG0HJyuckjmiaaT+f4W/z8hxs7P0/G/wDl5nWeHfi14j1P4TweKV8KtrmoS6k1o1jpSuuyME/vOQ54xz25HSvWkYtGrMpUkAlT29q+S0/5NS07ByP+EkHPry1eg3mj6d8Rf2hta0Dxq81xpulafE2n6abl4kclVLSYUgkjceR7elW97L+rRT/Unzf9e80eo+I/G+m+GPEOgaPfwXUlxr07QWzQopRGG3JclgQPnHQHvTdQ8T6pZ/EHTPD9v4avLrT7yBpZtYQnybZhu+Rvlxk7R1YfeHBrxf4k+A/Ci+OPhxbQh9QtNSuWsrm4lvXkNxDGUVE3hv4dxXK4PqeK6TVdNtdD/aP8DabpUHlWtnok0UEO8ttVVkAGWJJ+pNTG1k33l+Cb/r+ruV0n6J/e7f1/wdPaaK+afCHhrQ/iH4C8U+MPH17cza/aT3H+kNduh04Im5NqA4ABzgEEcYFVtV1DVvEfwi+Fsur315HeXGti3+2xyFZ9m9o1cN13bcfMc5xnmmk3Zdfd/wDJgej+/wDA+n6K8O0jQLLwD+0xp2jeGDcWunaro7z3du9y8qyyAyfOdxJJ+Qcn1PrXuNHRP+t2v0F1a/rZP9QooopDCiiigArhvG3xNg8K61ZeH9K0m51/xFfrvg062YJhOfmdzkKODzg9CTgc13NeIW08ej/thX7ay4hXVNIRNPeU8McRjCk9CTHIMDv9aFrNR9fwQ9ot9v8ANI6HWfiT4p0rwD4g1XU/Br6DqelwxywpdXC3dtOGfbxJGVyR3HGMiu78NalNrPhTStTulRJryzinkWMEKGdAxAyScZPrXHfG+7t3+D/ia1SeJriO2jd4Q4LqplXBI6gHB59q8/8AEEula1Z+CvDMnhrVPFepvoEE6aUmq/YbQJs/1jNkZcbSPTFJPf5fk/8AITVrfP8A9t/zPoSivmz4cJrGrfDb4geGtP1QeHmt79YLBLjUPMSzLuQYBMOoO3ZuXqTkZzWh8PrWx8PatrnhZ9KuvBHib+xHaS4XUzc2cgwALokk7GB5HOACec03+l/XS/8AX+QLX77fjY+g6K+ePhvplt4H+JGjaT4n0G6sPEN8kxh1my1VrmDVxhiTLGSdo6EHAOcEgCvoem1pdCvrYKKKKQwooooAKKKKACiiigArhfG3xIk8M+I9N8NaFoU2v6/qSNNFZpcLbosYzlmkYED7rYGOx5HGe6rzj4j/AA6tfG2s2mo6L4hbQ/FWkQ5huIHBYRknAdQQwXO4Bh/ebhulJ7rt1KWzOt8K61f67oxudY0O50K9jlaKWzuHD4Ix8yOOHU54Ye/pW1XzBr/jjXfFn7OmtPr8sM97pGsw2o1G3ACXO11O4YAGRnqAAQRxWp4g0PS/BXjf4d6x4K1K6uNT1u7jS9la+a4bUYmKBpHJJBByeRhfbirS5n80vvSa/Mh6L739zdz2bw14n1TW/EOu6fqHhq80m20ycRW17OTsvlyw3plRxwDwW6jmulryL4Q/8lQ+J/8A2FU/nJXrtSvhi+6X4ob+KS82FFFFABRRRQAUUUUAcn8RPHKeAfDkWoLYNqd5dXUdpaWKSbGnkc9AdrY4BPT271N8PfGtv8QPBttr1tbG0aRnjmtmk3mF1OCu7Az2PQcEV5j8SPE6zfHjQLL+x9X1uz8NQNfXFrpFp9okE8g+QsuRgKAhyT/F71hfD7xZceGb/wCI2k2Wm6jpLS2s+t6RZanamGZCFORs5/2cYzkIamMvdbfm18v89WU17yS8vx/pH0jXOeGPG+m+LNW13T9OguopdDuzaXLTooV3BYZTDHI+U9cfSvMPhV4B8I6t4L0XxZqd9cz67qDOt1fPqTh7h2LK1uwLYII4xjccdao/BLwN4bj+JPjK5TTwLjw/q7Qaa3nyf6PGTIuMbvm4GMtmtEveafRfqv8AP+usN3ipLv8Ao/8AL+un0BRXzn4Gvba1+BHxNjuriKBlv75SJHC4Z4lVBz3LcAdzxT5L/Sm+Dfw70LUNL1TXLvU4WW10mzv/ALJDdkHBE0meg3Aj361F7pP/AA/+TK/4FNWev978D3nX7+XSvDWp6hbqjS2lpLOiuCVLKhYA4xxkVi/DTxPe+Mvh3pevapFBFdXiuZEt1ZUGHZRgMSegHevEvh+91pWu/Enw6umSaFYw6JJMNGOo/bUtZPLAOJAcEncSe/QHpXqnwG/5Ij4e/wCucv8A6Neqjqm/Jf8At3+RMnql5v8AJP8AUzLn4ueI7nxjr+heFvALa3/YUgS4mGrxwEgg4IRk56HgEniuw8AeObD4heFY9b02GW3HmNDNBNjdFIuMjI69QQfft0rw630zxff/ABN+KcvgbxB/ZV1bOHe3FqkhvOHwgduYzwcEdyOnWq17r8Gk/sr6W3gn7RY/btSFrqrfaQJg53GQGTA27tqc4HykA9TUQd4Jve0fvb/L8S5L32ltd/clf7z6gor568C+GvEPhn4oaNcaZ4WPhDRbyGSO9t5PEcN6t3hGYSqpbcWHB4BAHPAznN0jSI/BPjjStQ8b6fcalcapqo+weMNL1ZpPtJZhtjeHJBQjhsDpwM4zVpXaXf8Azt/WxL0TZ9L1w3xb8baj4C8Hwaro8NrNPJfRWxW6RmXa2cnCspzx61x/w9vLax+LPxZa9njt1SWKZmlYIFQCTLEnoBkc+9eZqc/sp6eR0/4SUfzapj7zj/26/vaVhy93mXa6+5Nn0jceONNtfiFYeDZYLo6jfWZvI5VRfJCDdkE7t2fkPY9ua6SvnrxX4A8L6p+09pWnajpoltdW0yS8u4zcSL5sw8z5shgR9wcDA46V9BxosUaxoMKoCqPQCmvhTe+v5tE/aa9PyTPOPG3/ACXb4Yf9xb/0mWvSa828bf8AJdvhh/3Fv/SZa9JoGFFFFABXm3jb/ku3ww/7i3/pMtek15J8V/D2l+Kvix8ONG162+1afc/2p5sPmMm7bAjj5lII+ZQeD2oA9borzb/hnz4Y/wDQs/8Ak/c//HKP+GfPhj/0LP8A5P3P/wAcoA9Jorzb/hnz4Y/9Cz/5P3P/AMco/wCGfPhj/wBCz/5P3P8A8coA9Jorzb/hnz4Y/wDQs/8Ak/c//HKP+GfPhj/0LP8A5P3P/wAcoA9Jorzb/hnz4Y/9Cz/5P3P/AMco/wCGfPhj/wBCz/5P3P8A8coA9JrJ8S+GNI8X6K+k+IrT7ZYyOrtF5rx5KnIOUIPX3rjP+GfPhj/0LP8A5P3P/wAco/4Z8+GP/Qs/+T9z/wDHKLXA7LXfCujeJfDh0HW7P7TprBAYPNdPuEFfmUhuCB3qn4h+H/hbxVpdrp3iDR4b23s1CW+5mV4lAAwrqQw4AzzzjmuZ/wCGfPhj/wBCz/5P3P8A8co/4Z8+GP8A0LP/AJP3P/xyh67gtNjqNB8BeGPC+j3Wl6Do8Nna3alLgIzF5QQRhnJLHgnvxnioW+HPhV/A6+D20vOhK24Wn2iXg79/392/73PX9K53/hnz4Y/9Cz/5P3P/AMco/wCGfPhj/wBCz/5P3P8A8co33/qwLTY62+8GaDqV3ot1e2HmzaE27Tm86QeQcKOgbDfdX72elZfiT4UeCPFuq/2nr+gQ3N6QA0yyyRM+OBu2MN3AA5zxWN/wz58Mf+hZ/wDJ+5/+OUf8M+fDH/oWf/J+5/8AjlG4bbHf6bpllo2mwafpVrFaWduuyKGJdqoPYVR1vwnoviO+0y81myFzPpU/2izcyuvlSZB3YUgH7o65HFcd/wAM+fDH/oWf/J+5/wDjlH/DPnwx/wChZ/8AJ+5/+OUdbhbSx2niLwxovi3SjpviPTob+0LbgkoOVbpuVhgqeTyCDzWZ4a+G3hDwhDdReH9Ct7ZbxDHcFy0xkQ9UJkLHafTpXPf8M+fDH/oWf/J+5/8AjlH/AAz58Mf+hZ/8n7n/AOOUBuWovgZ8OIXkeLwxCrPIshb7RNlWByNvz/KM9hgHpXUReFdGh8XTeJ47PbrE9uLWS581/miBB27c7f4RzjPFcb/wz58Mf+hZ/wDJ+5/+OUf8M+fDH/oWf/J+5/8AjlAHUWHgPw3pllrVpY6d5UGuvI+op58h88uCGOS2VyGP3cVpaHomn+G9EttI0W3+zWNqpWGLez7QST1Yknknqa4X/hnz4Y/9Cz/5P3P/AMco/wCGfPhj/wBCz/5P3P8A8coA9Jorzb/hnz4Y/wDQs/8Ak/c//HKP+GfPhj/0LP8A5P3P/wAcoA9Jorzb/hnz4Y/9Cz/5P3P/AMco/wCGfPhj/wBCz/5P3P8A8coA9Jorzb/hnz4Y/wDQs/8Ak/c//HKP+GfPhj/0LP8A5P3P/wAcoA9Jorzb/hnz4Y/9Cz/5P3P/AMco/wCGfPhj/wBCz/5P3P8A8coA9Jorzb/hnz4Y/wDQs/8Ak/c//HKP+GfPhj/0LP8A5P3P/wAcoA9Jorzb/hnz4Y/9Cz/5P3P/AMco/wCGfPhj/wBCz/5P3P8A8coA9Jorzb/hnz4Y/wDQs/8Ak/c//HKP+GfPhj/0LP8A5P3P/wAcoA7Lw94V0bwtHeJoVn9mF9ctdXJMryNJK3ViXJPbp0qK18GaBZeLb3xNa6eI9Xv4hDc3AlfEiYUYKbtv8C8gZ49zXJf8M+fDH/oWf/J+5/8AjlH/AAz58Mf+hZ/8n7n/AOOUf8MBvaV8MfB+iaNqulaZoscFlq423sXnSN5owRjJYlepxtIxVzT/AAP4b0zwi3he00qIaK4YNaSM0ituOTksSSc85zxxjpXK/wDDPnwx/wChZ/8AJ+5/+OUf8M+fDH/oWf8Ayfuf/jlAGjpPwZ8AaHe2t5pXh6OC5s5xcQTfaJmdHHQ5ZySP9k5HtWH458B6l4w+NHhO/fSoxomjoZ7m/aVN0rhtyxbM7iAyqc4x8zVb/wCGfPhj/wBCz/5P3P8A8co/4Z8+GP8A0LP/AJP3P/xynd3T7a/oHRrvoek1j3fhPRb7xVZeJLqyEmrWETRW1z5rjy1bORtB2n7x5IzzXHf8M+fDH/oWf/J+5/8AjlH/AAz58Mf+hZ/8n7n/AOOUutw6WOr8VeB/Dfja1it/FGlQ36QkmJmLI8eeu11IYZwMgHnFV9K+HPhHRfDt3oWm6FaxabejFzAwMnnem5mJY47c8dq5z/hnz4Y/9Cz/AOT9z/8AHKP+GfPhj/0LP/k/c/8AxylZWa7h2fY0dJ+DPgDQ721vNK8PRwXNnOLiCb7RMzo46HLOSR/snI9q3tO8I6HpOqavqWn2Xk3etMGv5PNdvOIzjgsQv3j90DrXIf8ADPnwx/6Fn/yfuf8A45R/wz58Mf8AoWf/ACfuf/jlPff+v6sgOhh+G/hS38FTeEodK26HO++S0+0yncdwbO/du6qD1rorO0gsLGCztE8u3t41iiTJO1VGAMnk8DvXnn/DPnwx/wChZ/8AJ+5/+OUf8M+fDH/oWf8Ayfuf/jlO7A9Jorzb/hnz4Y/9Cz/5P3P/AMco/wCGfPhj/wBCz/5P3P8A8cpAek0V5t/wz58Mf+hZ/wDJ+5/+OVX1D4A/DODTbmWLw1teOF2U/b7k4IBI/wCWlAm7K56jWN/wiWif8Jh/wlP2L/ic/Z/s32rzX/1f93Znb+OM14f/AMKj8Ef9AT/ybn/+Lo/4VH4I/wCgJ/5Nz/8AxdY+1icf1yn2Z7g/hLRH8YJ4payzrMdv9mW681+I+fl2Z29zzjNYWqfBzwBrOtvq+o+GreW8kfzJHWSRFds5JZFYKST1yOe9eWf8Kj8Ef9AT/wAm5/8A4uj/AIVH4I/6An/k3P8A/F0e1iH12n2Z7bqngzw/rB0j7fpqMNFmWfT0jdolt3XG0hUIBAwODkcdKe/hLRH8YJ4payzrMdv9mW681+I+fl2Z29zzjNeH/wDCo/BH/QE/8m5//i6P+FR+CP8AoCf+Tc//AMXT9tEPrlO1rM9s0/wV4e0t9Zaz0yMf25K0uorK7SrcM2c5VyQAdx4AA5rI0X4QeA/D2tpq+keHIIL6Nt8cjSySCNvVVZiqn0wBivKv+FR+CP8AoCf+Tc//AMXR/wAKj8Ef9AT/AMm5/wD4ukqsU7oHjKbVmmfRNY934T0W+8VWXiS6shJq1hE0Vtc+a48tWzkbQdp+8eSM814d/wAKj8Ef9AT/AMm5/wD4uj/hUfgj/oCf+Tc//wAXR7aN7h9cp2tZntfirwP4b8bWsVv4o0qG/SEkxMxZHjz12upDDOBkA84qvpXw58I6L4du9C03QrWLTb0YuYGBk8703MxLHHbnjtXjn/Co/BH/AEBP/Juf/wCLo/4VH4I/6An/AJNz/wDxdHtY2atuP67T0dnoeo6T8GfAGh3treaV4ejgubOcXEE32iZnRx0OWckj/ZOR7Vvad4R0PSdU1fUtPsvJu9aYNfyea7ecRnHBYhfvH7oHWvEP+FR+CP8AoCf+Tc//AMXR/wAKj8Ef9AT/AMm5/wD4un7aL3/r+rIX1yn2Z7DD8N/Clv4Km8JQ6Vt0Od98lp9plO47g2d+7d1UHrXRWdpBYWMFnaJ5dvbxrFEmSdqqMAZPJ4Hevnz/AIVH4I/6An/k3P8A/F0f8Kj8Ef8AQE/8m5//AIuj2yD65T7M9k1X4eeFtb8WWniXVNJSfV7PYYLkzSLt2HcuVDBTgnuDR4g+HnhbxTrllrGvaSl3f2IUW8xmkXaFbcAQrAMAecEHrXjf/Co/BH/QE/8AJuf/AOLo/wCFR+CP+gJ/5Nz/APxdJVoq1ugfXab6M9y1nwro3iDUNMvdXs/tFxpU/wBos38108qTjnCkA9Bwcik03wro2ka7qes6dZ+Tf6sVN7N5rt5pUYHykkL17AV4d/wqPwR/0BP/ACbn/wDi6P8AhUfgj/oCf+Tc/wD8XR7WIfXab6M9y8NeFdG8H6U2m+HLP7HaNK0xj815PnbGTlyT2Hetevnb/hUfgj/oCf8Ak3P/APF1p6F8GPAN5fPHc6DvURlgPtk45yPR/eqVVSdio4uEpWSep7tRXlH/AAoX4bf9C3/5PXP/AMco/wCFC/Db/oW//J65/wDjlaHRzI9Xoryj/hQvw2/6Fv8A8nrn/wCOUf8AChfht/0Lf/k9c/8AxygOZHT+KPhR4L8Z6wNU8SaKLy98tYvN+1TR/KM4GEcDuecVq+GfBnh7wbZtbeGdJt9Pjf75jBLyem52JZvxJrg/+FC/Db/oW/8Ayeuf/jlH/Chfht/0Lf8A5PXP/wAcoWmiByT3PQPD/hXRvC0d4mg2f2Vb65a6uB5rvvlbq3zE46dBgVzVx8Efh1d311eT+F7czXe7zdssqrz1KqG2ofdQDWJ/woX4bf8AQt/+T1z/APHKP+FC/Db/AKFv/wAnrn/45S0Hznb674E8N+JfDlroOt6aLrTbTZ5EJmkXZsXauGVg3AOOvNQ6p8O/CuszaPLqWkRzPogUaeRLIvkhdpAwrAMBtXhs9Pc1x3/Chfht/wBC3/5PXP8A8co/4UL8Nv8AoW//ACeuf/jlO+t+u/zFzK1j1eivKP8AhQvw2/6Fv/yeuf8A45R/woX4bf8AQt/+T1z/APHKA5ker0V5R/woX4bf9C3/AOT1z/8AHKP+FC/Db/oW/wDyeuf/AI5QHMj1eivJ2+A3w2A/5Fz/AMnrn/45Tf8AhQ/w3/6Fz/yeuf8A45SuHOj03WNIste0e60rVYjNZ3cZimjEjJvU9RuUgj8DS6bpNjpGjW+k6dbrDY20IgihyWCoBgDJyTx3PJrzH/hQ/wAN/wDoXP8Ayeuf/jlH/Ch/hv8A9C5/5PXP/wAco0D2iOvtfhj4QsvCN54Xt9HC6Ney+dPam4lYM/y8hi25fur0I6Ul/wDC/wAHan4VsPDl7oqSaTpz77W3E8q+W3OTuDBjncepOa5H/hQ/w3/6Fz/yeuf/AI5R/wAKH+G//Quf+T1z/wDHKL/16bB7Rf15nd+JfA3hvxhpcGneI9Kivba3IMKlmRo+MfKykMOAMgHnHNQeGvh14U8H373vhrR47C4kgFu7xyOdyA5AIZiCcj73U9zXF/8ACh/hv/0Ln/k9c/8Axyj/AIUP8N/+hc/8nrn/AOOU79Rc6tYm8CeA9StPjH4u8Z61pUempdv5GnRrKjmRMjdKQpO0tsU4OD8zV6pXkv8Awof4b/8AQuf+T1z/APHKP+FD/Df/AKFz/wAnrn/45STtFR7aDc0233PQrvwnot94qsvEl1ZCTVrCJora581x5atnI2g7T948kZ5qHxV4H8N+NrWK38UaVDfpCSYmYsjx567XUhhnAyAecVwf/Ch/hv8A9C5/5PXP/wAco/4UP8N/+hc/8nrn/wCOUaWsHtFe52mlfDnwjovh270LTdCtYtNvRi5gYGTzvTczEscdueO1Zuk/BnwBod7a3mleHo4LmznFxBN9omZ0cdDlnJI/2Tke1c7/AMKH+G//AELn/k9c/wDxyj/hQ/w3/wChc/8AJ65/+OU+bW4uaNrHoGneEdD0nVNX1LT7LybvWmDX8nmu3nEZxwWIX7x+6B1qjD8N/Clv4Km8JQ6Vt0Od98lp9plO47g2d+7d1UHrXG/8KH+G/wD0Ln/k9c//AByj/hQ/w3/6Fz/yeuf/AI5S0H7RXueqWdpBYWMFnaJ5dvbxrFEmSdqqMAZPJ4HesDVfh54W1vxZaeJdU0lJ9Xs9hguTNIu3Ydy5UMFOCe4NcV/wof4b/wDQuf8Ak9c//HKP+FD/AA3/AOhc/wDJ65/+OU+bW/UXPG1uh2viD4eeFvFOuWWsa9pKXd/YhRbzGaRdoVtwBCsAwB5wQetXtZ8K6N4g1DTL3V7P7RcaVP8AaLN/NdPKk45wpAPQcHIrzz/hQ/w3/wChc/8AJ65/+OUf8KH+G/8A0Ln/AJPXP/xyle2w+dM9C03wro2ka7qes6dZ+Tf6sVN7N5rt5pUYHykkL17AUvhrwro3g/Sm03w5Z/Y7RpWmMfmvJ87YycuSew7155/wof4b/wDQuf8Ak9c//HKP+FD/AA3/AOhc/wDJ65/+OUXtsHOmetUV5L/wof4b/wDQuf8Ak9c//HKx9X+CvgC1u1SDQNqlASPtlwecn1eonUUFdidRI9yrH/4RPRf+Ew/4Sn7F/wATn7P9l+1ea/8Aq8527c7fxxmvFv8AhT3gX/oB/wDk3P8A/F0f8Ke8C/8AQD/8m5//AIusPrcOzJ9tE911fSLLXtHutK1aD7RZXcZimi3su9T1GVII/A1Ha6Dpln4dj0KGzjOlxW4tltZcyKYsY2ndksMcc5rw7/hT3gX/AKAf/k3P/wDF0f8ACnvAv/QD/wDJuf8A+Lo+tU+zD20T03RfhB4D8Pa2mr6R4cggvo23xyNLJII29VVmKqfTAGKn1n4W+CfEPiBdb1nw9a3WoDBaViwEmOhdAQr8cfMD0FeV/wDCnvAv/QD/APJuf/4uj/hT3gX/AKAf/k3P/wDF0fW4aaPQPbR18z1aT4ZeEJfDI8PvpA/stbs3otxcSgCYkndkNnueM49qd4q+GnhDxrcQ3HibRIryeFdqTCR4n2+hZGBI9jnFeT/8Ke8C/wDQD/8AJuf/AOLo/wCFPeBf+gH/AOTc/wD8XR9bp9n/AFoHtonresfDnwlr3hyz0HVNEgl02xx9lgVnj8nAx8rKQw9+ee+alt/Anhu01bStTttNEd3o9r9jsZBNJiGHBG3buweCeSCfevH/APhT3gX/AKAf/k3P/wDF0f8ACnvAv/QD/wDJuf8A+Lo+twvfUXtY2tY9L1T4OeANZ1t9X1Hw1by3kj+ZI6ySIrtnJLIrBSSeuRz3ra1Xwb4f1uHS4tR01Hi0iZJ7GON2iWB0+6QEIGBjocj2rxr/AIU94F/6Af8A5Nz/APxdH/CnvAv/AEA//Juf/wCLoWLprRJjdaLd2e1T+FdGufFtt4nms92sWsBtobnzXG2M5yu3O0/ePJGea16+fv8AhT3gX/oB/wDk3P8A/F0f8Ke8C/8AQD/8m5//AIuj63Dsw9tE+gaK+fv+FPeBf+gH/wCTc/8A8XR/wp7wL/0A/wDybn/+Lo+tw7MPbRPoGivn7/hT3gX/AKAf/k3P/wDF0f8ACnvAv/QD/wDJuf8A+Lo+tw7MPbRPoGsPxR4K8OeM7RLbxPpMGoJHny2fKvHnrtdSGXOBnB5wK8a/4U94F/6Af/k3P/8AF0f8Ke8C/wDQD/8AJuf/AOLpfWqb3TD20T1Gw+E/gjTPD1/olhoMcNhqQUXaCaUtKFOQDIW34B7A0/Xfhb4M8S2On2mt6HFcxabCsFqfOkR44wMBd6sGYexJ9a8r/wCFPeBf+gH/AOTc/wD8XR/wp7wL/wBAP/ybn/8Ai6f1uD6MPbRPVrT4YeDLHSdT0u00G3jsdVKG8t9zlJCv3SAT8pHX5cc89ab4f+Fvgvwvb3sGiaBbwpfxGG58x3mMkZ6oTIzHae4HBryv/hT3gX/oB/8Ak3P/APF0f8Ke8C/9AP8A8m5//i6PrcOzD20T1Lw18KvBXhDVjqfh7QYbW9KlRM0skpQHrt3sdvpxjjiuvr5+/wCFPeBf+gH/AOTc/wD8XR/wp7wL/wBAP/ybn/8Ai6PrkPMPax7H0DRXz9/wp7wL/wBAP/ybn/8Ai6P+FPeBf+gH/wCTc/8A8XR9bh2Ye2ifQNFfP3/CnvAv/QD/APJuf/4uj/hT3gX/AKAf/k3P/wDF0fW4dmHton0DRXz9/wAKe8C/9AP/AMm5/wD4uj/hT3gX/oB/+Tc//wAXR9bh2Ye2ifQNFfP3/CnvAv8A0A//ACbn/wDi6P8AhT3gX/oB/wDk3P8A/F0fW4dmHton0DXK+Kvhl4P8bXkV34m0SK9uYk2LMJZIn2+hKMpI5PB9a8o/4U94F/6Af/k3P/8AF0f8Ke8C/wDQD/8AJuf/AOLpfWqfZh7aJ2XxS+Hsl58HJPC3gLRoVKTxNFaQukQwHyxLOQCe5JOT71u+HPhV4N8OatHrWmeHra11TZzKGZhGxGDsUsVQ9RlQOp9a8w/4U94F/wCgH/5Nz/8AxdH/AAp7wL/0A/8Aybn/APi6axkFffX/ACsDrRdvI9q0jwro2g6pqmo6TZ/Z7vVpRNeyea7ea4zg4YkL1PTFa9fP3/CnvAv/AEA//Juf/wCLo/4U94F/6Af/AJNz/wDxdH1uHZh7aJ9A0V8/f8Ke8C/9AP8A8m5//i6P+FPeBf8AoB/+Tc//AMXR9bh2Ye2ifQNFfP3/AAp7wL/0A/8Aybn/APi6P+FPeBf+gH/5Nz//ABdH1uHZh7aJ9A0V414b+Bvw7v8A7T9r8PeZs27f9NuBjOc9JPatz/hnz4Y/9Cz/AOT9z/8AHK6ITU48yNYy5ldHZaZ4V0bR9e1PWtPs/K1HVSpvJ2ldzLt4XhiQoGeigDp6VFd+DNAvvF1t4nutPV9YtoTBFc+a4xGQwKlAdrcO3UHr7CuS/wCGfPhj/wBCz/5P3P8A8co/4Z8+GP8A0LP/AJP3P/xyrH38zY0v4S+BtF8SLr2l+Hbe31FXLpIskhVGPdYy2xfbAGO1W1+HXhRfGv8AwlqaPGuuZLfalkcZJXaTsDbM4PXGa5z/AIZ8+GP/AELP/k/c/wDxyj/hnz4Y/wDQs/8Ak/c//HKO3kD1vfqa938I/Ad9r8+tXfhu1kv7jcZZCz7WJ6ts3bQ3fcBnPOc1Y1H4ZeD9W8L2Ph3UdEjn0zTxi1iaWTdD9JA2/nvzz3rA/wCGfPhj/wBCz/5P3P8A8co/4Z8+GP8A0LP/AJP3P/xylZWsHW5u6N8L/Bvh/wC1/wBjaJHafbLM2Vx5c0n7yE9Qct1P9773vW3oOg6b4Y0O30jQ7b7LY2wIii8xn2gkk8sSTyT1NcP/AMM+fDH/AKFn/wAn7n/45R/wz58Mf+hZ/wDJ+5/+OVV3/X9eYHY6X4T0TRdd1PWdMsvIv9WZWvZvNdvNK5wdpJA6noBVCy+HHhLT9H1LSbbRYf7P1SYz3dtK7yJI/wDeAZjtPA+7jGB6Vzv/AAz58Mf+hZ/8n7n/AOOUf8M+fDH/AKFn/wAn7n/45S6WDrc2/DPwr8FeD9Qa+8PaDDa3TKV85pJJWUHggF2bbkccYqHTPhB4C0bxAmt6b4ct4b+N/MR/MkZUb1VGYopHbA47Vlf8M+fDH/oWf/J+5/8AjlH/AAz58Mf+hZ/8n7n/AOOUX1uKytY3da+F3gvxF4hTXNa8P213qC4zKxYCTHA3oCFfjj5geAKWT4ZeEJfDI8PvpA/stbs3otxcSgCYkndkNnueM49qwf8Ahnz4Y/8AQs/+T9z/APHKP+GfPhj/ANCz/wCT9z/8coWmw3rudJ4q+HnhXxtJayeJ9IjvpLTIhcyPGyg9sowJHsciukRVRFRBhVGAB2Feb/8ADPnwx/6Fn/yfuf8A45R/wz58Mf8AoWf/ACfuf/jlGysAeNv+S7fDD/uLf+ky16TXiVx8PvDHgT47fDv/AIRTTPsH23+0/tH+kSy79lt8v32bGN7dMda9toAKKKKACvNvG3/Jdvhh/wBxb/0mWvSa828bf8l2+GH/AHFv/SZaAPSaKKKACiiigArhvidqutWEfhyz8Paq2lTaprMVlLcpBHMVRkcnCuCOoFdzXl3xxk02Kx8Jya7MYNOXxBCbmVZXjKJ5cmTuQhh9Qc0uqv3X5ofR+j/Jl/w3qviXSfifN4R1/Wo/EFvLpf8AaMV2bVLeWAiQJsZUwpB6g4BrT1X4q+CtF1eXTNR12OO5gYJNthkkjhYnGHkVSiH2YjHeuE8JTaEfi1ZSfCm5ur7TLq3m/wCEhlkkmnhXao8g+bNk+ZuOMBjx2qDwx4x8PeDvh1qHhLxXHNH4hWS7S501rN3l1B5Hfay4UiQOCvOcY9hRJtRXez+er/rzBJN2818tD1bXfGXh7w1Y2l7rmqwWlpetst52yySHYXHzAEcqCQT14A5IqKx8deHdSs9NubS/ZotUuWtLQvbSoZJVDErhlBXhW5YAcV5mdEvNL8I/CLSvEEIa6g1aISxSgNsIilZVI9V4HsRXV/FW7XSJ/Ceu3aSf2dpesrLezIhYQRtFIm9gATgFh2q2km1/et+X+ZCbaut7X/P/ACOxbXdOXxGmgm4xqb2pvFg2NzEGClt2Nv3iBjOfasuy+IPhjUtcXSbDUjcXTStCrR20pheRQSyibb5ZIAPAbtXGaL4m03xT8fYb/RWmnsV8NyxpdGFkSYi4Qny9wBYDOMgYzwM4qj4c8Q2mjeJ9I0f4eeIRrukX1663Oiz27GbTY23M8okwGRQ38MoJ5wDUxu+W/W/5tL8ipaJtdLflc9BufiD4YtNeOjy6kWvVmSCQRW0skcUjHCo8iqURjkcMwNLDqYT4gajZzeIFeOHTo7g6U1psFuCzAzGf+LOCNueMZrzzVfEVp4Z8UXsnw/8AEP2zUbzVQL/wtc2zO00rOqSPGcB48KC245Q4z0rbmuZ7P41+J7m0tWvJ4fC8MkVsvWZhJKQg+p4/GpT91Sfn+Eb/ANfoxtauPp+dv6/VHRab8S/CWrarb6dYatvnumZbZnt5UiuCvURysoRz/usc1007FLeRlOCqEg/hXzpqHi3UfFEng6e88V2F7KddsJZ9G0/SHj/s9jJt2vMWJUjJXDAFuccCvom5/wCPSb/cb+VOaapt9dV+C/zCNudL0/Nnkvg+P4k+JfAFh4msvHUcl5cxtKun3mlQeQ5VmAQugVwDtHI6eldl4U8fWWufD5PE2seXpCwb479J3AW3ljba4ye2Rx35HeuA+GPxU8KaF8KtH0uS+kvNYghkX+zLK3kmnkfe7BQqjGTxySBzyRTL3wxq2kfB3R7jWNOlmdPECa3rNhEhlYQtMzupXndtDKSOfun3NXLSTS27/P8Ayu36LYlapPr/AMD/ADsl6no/h74keE/FWo/YNE1dZrvZ5iwSwSQO6/3lEiruHuM029+JnhHT9efRbrWFXUo7hbd7VYJXdXYKRkKpwvzr833cnGc1xmreJtI+Ivj7waPBEz6jJpV815eX0UDqlrB5ZDIzsBgucDb145rb8AwxD4l/ESYRp5p1G2QybRuKi3UgZ9Mk8Uo6vXz/ADX+f4A9Pw/X/L8Q0D4pW2rfETXPD88cywWs0ENiyaZchnZky/mkrhAG6FgoI55HNXrr4v8AgSymMVz4giR1naCQeRKfJdX2HzCF+QbgQGbAOCQSKxNK1vT/AA78dvFNhrM5tbjXRYNpqtGxFztiKNtIGOGHP/1jWRoNpbv8EPiGWgjJlvNYaQ7RlypfBPrjA/Ko5rR5uyv81bT8S7Xny92l96Z31p8SvB994kTQrPXrabUJGKxqgYxyMOqrLjYzD+6GJ9q2otasJteuNFjnzqFvAlxLDsb5Y3LBW3YwclW4BzxXmHiS2gtvhr8NVtoY4Vj1fSSgjQKFyOcY6Zyc/U1e1fxLpvgr41Xt/wCJ5msLDU9GghtbponZJJY5ZC0Y2g/NhwcVo0lKz7tfcrmabcebyT+92O0PjHQhpmsagb7/AEXRJZIdQk8l/wBy8ahnGNuWwCPu59qztO+KHgzVtei0bT9dgmvZiREojcJKQMlVkK7Gbn7oJPbFebWV2NQ+EXxavFhngW41C+kWO4jMcgUwRkblPIOOx5rf8ZQQ2/gT4eLbxJEsWtaUIwihQgPHGOnFKKu1fryf+Tf5FS0vb+9/5Kdn4k8f+GPCN3Ba+INVW2uZ13xwJFJK5Tn5iqKxC8H5jgcGsT4Va4+v/wDCWXS6m2pWi+IJ0tJfPMqLDsjKqhyQF5OAOOax5/EemeBfjN4jvPF8klpDq9paf2ZdtA7q6xqwkhUqD8247tvU5HtVv4LzRXNv4vuLazlsoZvEc8iW80PlOitHERlP4TznHvShrd+T/NDlpp5r8mel0UUUCCiiigAooooAKKKKACiiigDzfXLnxRrHxdl8O6J4pl0Oyg0aO9IisYJy7mVkPMikjjHftVrxFrmv+EtG0bQrW/TXPE2s3bW1teXkCRRqBl3kdI8DCJ2HJ4rF1rwrpHiz9oC5tddglnhh8OxSIsV1LAQ32hhnMbKTwehqx438PL4SPhDXtA0+6ubDwxdy/aLaJpLiVbadSsjjcWZtp5xzx6AUlblV+r/9uf3dvTUb+KVui/HlX36nRaHoHjPTNWgn1bxrHrVmQRcW02lRQHocGN4yCOccNu475qP4ra3qfh74d3moaFdmzvVmgjjnEaSbA8yKflYEHgnqKfofxT8I+JtUt9P8PalJqVzOCSsFrKREuCcyMVAQcY+Yg5NZnxyjWX4S6hG+Sr3FqpwSODcR9xVO90vNfmJWV/Q2tC0PxFo15Jd6/wCNLjWrRYWzbyadBCFPB37o1DHAB496PD/xI8J+KtRSx8P6ut9PJD54EcEgULxkFioUMMjKk7h6VHpvgHw74Uhv7vQrS4gmltXjcy3084K4zjEjsByBzjNc/wDDnTZbr9nCwstICW91daRKsTIAv71w4DfXJzmpcrKT7L/P/IaWqXf/AIH+Z0MPxO8H3Gqpp8WsoZZJzbRymCUQSS/3FnK+Wzewbmny6k48Z6xYjXzIYtLSddJFntNvksPO87+LcRjbnjGa8m0NNA1fwTpnhnXPG2vW9yqQ28/hxbKETQyoV+QItv5gAYZ3enJPWu5Ax8cfEg/6liD/ANGy0qitH7//AElscHrt2/8ASkZvw5+LPhmHwL4csvEPiYS6vPAkc0s5kl/eknCyTYKq3szA16ZNrVhb67a6PNPtv7uGSeGHYx3ohUMd2MDG5eCc814Dp/irQJf2c7fwTHaTt4ivrEQ22lfY2D3EsjbkmU42lej789vXiu58TajD4L8ceC9Y8SSPBpsGmXFhc35VnSOZhEV3EAkbih5NbT+N37v8n+tl8zKN1Ben+X6X+49Bh8QaZcavqWmQ3O680uOOS7i8th5SuCVOcYOQp6E1kaD8SvCPie/Wz0HWEvJmgM/yQyBQgAJy5UKGGRlSQw7iuR8Gaxba/wDEX4g6lYJOLWexsTC88LRGVRHKN4VsHaccEgZHNWPAEUdv+zRaeTalw2jTO0UGEaVirk4P94+vrWLfLGUn0S/G/wDkapJzUV1/4H+ZtH4veCft8FnHq0001y5S3MGn3MqTkHB8t1jKuB6qSK7Wvn7wn4jXWIfAun+Ida0zT9O0mSCS0kSzu4nvZViKRpvliWNRhjnazBj0wDX0DWko2+9mad/uCiiipKCqmq/8ge9/693/APQTVuqmq/8AIHvf+vd//QTSexM/hZ5pRRRXCfPhRRRQAUUUUAFFFFAGB41v7zTvDEk2m3X2S4aeCJZ9ivsDyqpOGBB4Jp+h6dqttctPf+JpNXgKFREbWGMK2R825AD6jHvVjxDd6PZ6QzeJEiewZgrieAyx56jcMEAcdTxXE6T/AGZe/EC2u/h7bxxWcdpKmoSwQGK1kbA8pTwAWDcnAzjvVx2fz/L+vvNoq8P+B+pd8b+KdVtb4QeHpxBFYTQC/mMavuaV1VYRuBwdpLEjp8vrVvxPrGoxavfW1pqq6XHYaWb5WMSN9ofLDDbwflG0Z24Pzdelcn4g0rxZovgr7Pfpo0qSahFNPcRzSmWaZplO4goBjOBx0A4rtfEEgXSbBdU0rTdQ1+Z/Ls4PL8xFl6lwWG4IoG4nA6epFO3uq3d/kjS0U1b+tf69PkKmt3+s3enWGmH7NMIorrVJQgb7OrLuEIByN7H16Lk9SK6ivNNWtU8O3b2d/rF7aRvYPdJdwytC15fljuJ2/ebATbGcjBxg447/AEd7uXQ7GTUl23jW8ZnGMYfaN365pSStdf1/Vv6uYzjZK39f1f8AQuUUUVBmFFFFABRRRQAVs+GP+QnJ/wBcT/MVjVs+GP8AkJyf9cT/ADFXD4ka0f4iOqooorrPWCiiigAry7xvdePPCeg3vix/FFk8dnKrnR009RA8RcKE80nzN3zA5yOeMV6jXiWqfEXwl4z8WCHxBrlvY+HNHudyWcu7fqU6nh3AHESnop+8eSMYFL7SRSWl3sek65Y+J9Z+yf2FrcWgWxi3zuLRbicueijf8gX1OCfpXGWPjnxHD4B8Rf2hc28+paLq40r+1FgCoymSNDM0f3QVDkkfd4HvWh8Q/ifYaDZafYaXqVvbXutQ+ZBqE4JhtYCP9eRj5j/dXueuB1veArnwQfB1zpnh3UrbU7C0UvqM8/Pms4JeSUsMHdhic8YGOgp930/4P6bfPyF0V9/+B+u/9Iq2XjG60GXxFaarfya+bC4t4NPdY40muppo9wt8IFUsDzkKMKcnpmuw8Pwarb6HAviG7S61JgXnaJAsaMTnYmAMqudoJ5OMnrXmN5YTTeEr7xZoWn/2TZ2y7dDtLK1EZt7d3VZ7wIF/1jx7ivBKqB3Y11Hw+vBc6xr0Wk6rc6v4fiaD7FdXFy1z+8KEyosrElgPkPJOCSOKa/r+v67b3uPbT+v6/wCDtY7miiikIKKKKAGt0ptObpTaQmFFFFAgooooAKKKKACmTeb9nk+z7PO2ny/Mzt3Y4zjtmn1Fd3UNjZzXd0/lwQRtJI5GdqqMk/kKTtbUa30PNNcvvG/gy80TUtS8SW2rw6hqcVjcaYunpCi+aesTg78rg/eJz1PpXS+O9fvtNsbfS/D7qut6mzJbOyhhbxqN0k7A8EKvY9WKivP9M+InhLxZ4vg8Q+JtdtrS209yuj6TJuLK54NxLgY3n+FeQo5610eraH45t/Fuua7p6+HrqC5thb2xvLidZLe3VclQqoRksSxOTnjsKU78mvm/+B/WyfcuKXP9333/AK9bdiKw8Wa3e/DTwbcy6kLe9124jt7rUvJjzECHbKqRsDHYFGQR83Qmp7DxpqieHrmxSaPVtefVLjTdLlKKgudh/wBdIF4CoD85UAfLgDJFUvhvMkPwLtZvG9vpcmiQ2geJSpl3xAn/AFiOuC+7gAZzx3qrfaZdaboth4h1BJNCjvryG2uIrMeT/Y+mElhEGTHlksEMjjGC2MgKDWkklUkul/ztb+uzfVK8R+FP+na//A/Dueq6fBcW2m28N9dte3McYWW4ZFQytjltqgAZPYVYrkfh1d3F3o2oE3txf6fHqMyabd3Ehkaa3G3B3nlwG3gMSSQBzXXUn3J20CiiikMKKKKACiiigArntf8A+P8AT/rkP5muhrntf/4/0/65D+ZrmxP8MmWxmUUUV5hkFc3491W90XwhPe6ZN5Fwk0Kq+wNgNKqnggjoTXSVx3xUQSfD28R/utNbg4OOPOSrp6zivNfmVHfUvePtVvdE8E31/pk3kXUTRBJNgbGZVU8EEdCav6z4i0rw9axTazeLbiVtsa7Wd5D6KqgsfwFcH8QPAvh/SPBF7fWFrPHcRNDsZ72eQDMqA/KzkHgnqK1fEF7b+H/iRp+ua4Gj0s6a9tHdGMulvOXBOSAdu5eM+31rRRi4q3d/ktCuVNaf1sdPpHiTSNespbrSb1LiKEkSgKytGR2ZSAw/EVlxfEjwlNNbRR61Dm5x5bGNwmSMhWcrtVsdmIPtWPoNxHrfjTxDr+ko/wDZMthHbi4MZRbqVcksucEgD5c1jPa27fs5WKmCPaUt3I2jBY3C5P1OT+dNU43s/L8bi5Ve39dDvdK8ZeH9b1N9P0vU4ri5RS+wKwDqDglGIAce6k0ar4y0LRbx7TUL4rPGgkkSKCSXyl9X2Kdg/wB7FZPiSNIfiF4KESKgWS7QBRjC+R0+nA4rm4ZI9F8S+IbfXfE97oMlzfvcQgQxeXdRMBtKs8bFiPukA8Y6VKhF2t2/Ww1Fb/11/wAvxPUba5hvLWO5tZUmglUPHJG2VZT0IPepaxvCVhaaZ4VsbXTXuZLVEJja6j2SEFi3K7Vx16YHGK2azkkpNIzCiiipAKKKKACiiigDm/Huq3ui+EJ73TJvIuEmhVX2BsBpVU8EEdCaXx9qt7ongm+v9Mm8i6iaIJJsDYzKqnggjoTVH4qIJPh7eI/3WmtwcHHHnJWB8QPAvh/SPBF7fWFrPHcRNDsZ72eQDMqA/KzkHgnqK3pqL5b/AM3/AMiaRSujvNZ8RaV4etYptZvFtxK22NdrO8h9FVQWP4CjSPEmka9ZS3Wk3qXEUJIlAVlaMjsykBh+IrmPEF7b+H/iRp+ua4Gj0s6a9tHdGMulvOXBOSAdu5eM+31qLQbiPW/GniHX9JR/7JlsI7cXBjKLdSrkllzgkAfLmp5Vyc3k/wDhgUVZfL8bf18jYi+JHhKaa2ij1qHNzjy2MbhMkZCs5XarY7MQfarmleMvD+t6m+n6XqcVxcopfYFYB1BwSjEAOPdSa4J7W3b9nKxUwR7Slu5G0YLG4XJ+pyfzrp/EkaQ/ELwUIkVAsl2gCjGF8jp9OBxWjpwTa82vuVyUk1f+tDW1XxloWi3j2moXxWeNBJIkUEkvlL6vsU7B/vYrXtrmG8tY7m1lSaCVQ8ckbZVlPQg968uhkj0XxL4ht9d8T3ugyXN+9xCBDF5d1EwG0qzxsWI+6QDxjpXe+ErC00zwrY2umvcyWqITG11HskILFuV2rjr0wOMVnKCUE/Qc0ouyNmiiisiAooooAKKKKACub8e6re6L4QnvdMm8i4SaFVfYGwGlVTwQR0JrpK474qIJPh7eI/3WmtwcHHHnJV09ZxXmvzKjvqXvH2q3uieCb6/0ybyLqJogkmwNjMqqeCCOhNX9Z8RaV4etYptZvFtxK22NdrO8h9FVQWP4CuD+IHgXw/pHgi9vrC1njuImh2M97PIBmVAflZyDwT1FaviC9t/D/wASNP1zXA0elnTXto7oxl0t5y4JyQDt3Lxn2+taKMXFW7v8loVyprT+tjp9I8SaRr1lLdaTepcRQkiUBWVoyOzKQGH4isuL4keEppraKPWoc3OPLYxuEyRkKzldqtjsxB9qx9BuI9b8aeIdf0lH/smWwjtxcGMot1KuSWXOCQB8uaxntbdv2crFTBHtKW7kbRgsbhcn6nJ/Omqcb2fl+Nxcqvb+uh3uleMvD+t6m+n6XqcVxcopfYFYB1BwSjEAOPdSaNV8ZaFot49pqF8VnjQSSJFBJL5S+r7FOwf72KyfEkaQ/ELwUIkVAsl2gCjGF8jp9OBxXNwyR6L4l8Q2+u+J73QZLm/e4hAhi8u6iYDaVZ42LEfdIB4x0qVCLtbt+thqK3/rr/l+J6jbXMN5ax3NrKk0Eqh45I2yrKehB71LWN4SsLTTPCtja6a9zJaohMbXUeyQgsW5XauOvTA4xWzWcklJpGYUUUVIHS+D/wDl8/4B/wCzV01cz4P/AOXz/gH/ALNXTV6+H/hI7KfwIKKKK3NAooooA80Hi3W/+GkD4W+2/wDEm/sf7T9l8pP9Zn72/G78M4ouPFutp+0ha+FlvcaNJo5uWtfKTmTLfNvxu7DjOK47xN4U0Xxl+1Q2l+JLL7bZf2Gsvlea8fzA8HKEHue9N0Twjovg39qa10rwvZ/YLVtDeXZ5ryYc7gTlyT2HGe1KO0b/AN7/ANuCX2rf3f8A209J1v4weAvD2svpWreI7eG9jbZJGkckojb0ZkUhSO4JGK1dW8eeGNDtNMutV1m3gtdVbbZ3GS0UvGc7wCoGD1JA968H8E+KdC8BeBPFPg/xrY3C+I7m4uB9keykkbUdybU2sFIIJBwSQOcior3w7e6P4D+EOj+JLXEza7mW1nQHakkwYIyn/ZbkH1xTjql58vprv9wS0bT/AL34dfmexW3xs+HV3a3lxD4ptRHZgGUSRyIxGcfIrKC/P90Gt/QfGvhzxNoMutaJq1vcadBu864YmMQ7Rk7w4BXA55A45rzG9s7Z/wBsDT91vE2zQvMXKD5WG8Bh7gcZrkYNH1DVfC3xo0zw/C7z/wBsbo7aBeWVZmZlUDuVU8Dr0qW/dv5N/dK3/BGleSXml96uez6D8WfA/ibW/wCyNE8Q29xfEkLEY3j8wjsjOoDn/dJrsa+WPDK2/irU/BthJ48vL+90e5gaHR7fwqIXsdpXerzKVAQbcFsnpnBNfU9aNJL+v6/Mm+tv6/r7goooqRhRRRQB5t42/wCS7fDD/uLf+ky16TXm3jb/AJLt8MP+4t/6TLXpNABRRRQAV5t42/5Lt8MP+4t/6TLXpNebeNv+S7fDD/uLf+ky0Aek0UUUAFFFFABRRRQAUUUUAFFFVo9RspdQmsIry3e8gRXltllUyRq33Sy5yAexPWgCzRVefULO2u7a1ubuCG4uiwt4ZJArzFRlgqnlsDk46CsWx8e+GdSvtQtbPVUY6aHN1M0bpDGEID/vmURnbkZwxxQB0VFY+l+LvDet3X2bRfEGlajcBd3lWl7HK+PXCsTitigAorNtfEmh32qy6ZZazp9xfw5EtpFdI8qY65QHIx9K0qACiiigAooooAKKKKACiiigAooooAKKKKACiiigAooooAKKKKACiiigAooooAKKKxL7xp4W0vUHsdT8S6PZ3kZAe3uL+KORSRkZUsCMgj86ANuiql7q2nabpp1DUb+1tLJQCbmeZUjAPAO4nHORj61X0nxLoWvtIuha1p2ptEMyCzu0m2fXaTigDToqK5uYLK1lubyeO3t4ULySyuFRFAySSeAB606GaK4gjmt5ElikUOkiMGV1IyCCOoI70APooqumo2UmoyafHeW7XsUYkktllUyIh4DFc5APrQBYooooAKzvEOiW3iTw5f6LfPIlvfwPBI0TYZQwxkH1qzc6jZWU1vDeXlvby3Unl26SyqrTPjO1QT8xxzgVYpNJqzGm07o8+b4da7qen2WkeJ/FyahotrJG7WtvpSW8lwI2DIryb2G0FRnaq59RXoNFFU23uTZIKKKKQwqtqKNLpd1GgyzQuoHqSpqzTJv9RJ/un+VAnqrHnn9iah/z7/8Aj6/40f2JqH/Pv/4+v+NdbRXP7NHm/VoHJf2JqH/Pv/4+v+NH9iah/wA+/wD4+v8AjXW0UezQfVoHJf2JqH/Pv/4+v+NH9iah/wA+/wD4+v8AjXW0UezQfVoHJf2JqH/Pv/4+v+NH9iah/wA+/wD4+v8AjXW0UezQfVoHJf2JqH/Pv/4+v+NH9iah/wA+/wD4+v8AjXUzzxWtu89zKkMMalnkkYKqgdSSegqrpeuaTrkTyaLqllqMcZ2u9pcJKFPoSpOKPZoPq0PMwP7E1D/n3/8AH1/xo/sTUP8An3/8fX/GtCfxz4TtbmS3ufFGiwzxOUkik1CJWRgcEEFsgg9qv6jrmk6QYBq2qWVibhtsP2m4SPzT6LuIyeR09aPZoPq0fMwP7E1D/n3/APH1/wAaP7E1D/n3/wDH1/xrp7q8tbGES3tzDbRllQPNIEUsxwoye5JAA71NR7NB9Wh5nJf2JqH/AD7/APj6/wCNH9iah/z7/wDj6/411tFHs0H1aByX9iah/wA+/wD4+v8AjR/Ymof8+/8A4+v+NdbRR7NB9Wgcl/Ymof8APv8A+Pr/AI0f2JqH/Pv/AOPr/jXW0UezQfVoHJf2JqH/AD7/APj6/wCNaeg6ddWd88lzFsUxlQdwPOR6H2rapV601BJ3KjQjGSaJMijIptFanSOyKMim0UAOyKMim1myeJNDi1ddKl1nT01FiAtm10gmJPI+TO79KANTIoyKo6nrGm6LbC41jUbTT4C20S3U6xKT6ZYgZp8Wp2M+m/2jBe28lj5Zk+1JKpi2DktvBxj3o6XGW8ijIqlpuq6drNp9q0i/tb+33FfOtZllTI6jcpIzUtreWt9E0llcw3Eau0bNDIHAZThlJHcHgjtQBYyKMim0UCHZFGRTaKAI7q7htIg9w+xS2AcE8/hVP+29P/5+P/HG/wAKh8R/8g6P/rqP5GuZrGc2nY5KtaUJWR1n9t6f/wA/H/jjf4Uf23p//Px/443+FcnRU+1kZfWZnWf23p//AD8f+ON/hR/ben/8/H/jjf4VydFHtZB9ZmdZ/ben/wDPx/443+FH9t6f/wA/H/jjf4VydFHtZB9ZmdZ/ben/APPx/wCON/hR/ben/wDPx/443+FcnSEgAknAHU0e1YfWZ9jrf7b0/wD5+P8Axxv8KP7b0/8A5+P/ABxv8K88h8WeHLi4SC31/S5ZpGCJGl7GzMxOAAAeTntVrUNZ0zSQh1XUbSy8z7n2mdY9303EZp+0l2H7epe1juf7b0//AJ+P/HG/wo/tvT/+fj/xxv8ACuLnvrS1sjeXV1DDaqoYzySBUAPQ7jxjmnW95bXdot1a3EU9u67lmjcMjD1DDjFL2khfWJ9jsv7b0/8A5+P/ABxv8KP7b0//AJ+P/HG/wrj7e4hu7dJ7WaOeGQbkkjYMrD1BHBqSj2kg+sz7HWf23p//AD8f+ON/hR/ben/8/H/jjf4VydFHtZB9ZmdZ/ben/wDPx/443+FH9t6f/wA/H/jjf4VydFHtZB9ZmdZ/ben/APPx/wCON/hR/ben/wDPx/443+FcnRR7WQfWZnWf23p//Px/443+FZGrXUN3drJbvvUIFJwRzk+tZVSR/d/Gsa03KFioVpTdmPooorhNgooooAKKr3GoWdnNBDd3cEEty2yBJZArSt6KCeT7CrFMAooopAFFFFABRRRQAUUUUAFFFFABRRRQAUUVXuNQs7OaCG7u4IJbltkCSyBWlb0UE8n2FMCxRRRSAKKKKACiiigAooooAKKKKACiiigAooooAKKr3GoWdnNBDd3cEEty2yBJZArSt6KCeT7CrFMAooopAFFFFABRRRQAUUUUAdL4P/5fP+Af+zV01cz4P/5fP+Af+zV01evh/wCEjsp/Agooorc0CiiigAoorPsfEGjanf3NjpurWN5d2pIuLe3uUkkhIOCGUHK88c0AaFFFFABRRRQAUUUUAFFFFABRRRQB5t42/wCS7fDD/uLf+ky16TXm3jb/AJLt8MP+4t/6TLXpNABRRRQAV5t42/5Lt8MP+4t/6TLXpNebeNv+S7fDD/uLf+ky0Aek0UUUAFFFFABRRRQAUUUUAFed+MW/4Rn4peF/EyALb6kW0O/bHZ/ngJ+jqRn/AGq9ErnfHnhg+L/BWoaRE6xXUiCS0mckCKdDujYkcgBgM47ZpXs1Lt/T/C49013/AKX4nMFb3xN8XtYvNLlt0PhnT1sbSS5jaSIXU+HkYqrKThAqnBH3q5jwxFq8f7Neum+nsHsG02/Nulvbukqtvl3l2LkMCc4wBj3r0rwF4bvfDXhf7PrM8Nzq13cS3d/PBnZJNIxJ25AOAMAcdBWVp/gfUrT4L3nhGSe1OoT2t1Csqu3lBpWcrk7c4+cZ49etTOLUHFdvx1b/ABY4P31J9/8Agfkeb3d9oN3ZfDuOy0O50S8gvbOSXW7rS3s4lCoN6CYqN5k6AcqepPSveNWtJb/Rr20tp/s81xbvFHNjPlsykBvwJzXmd34I8e+JPCVp4Q8RT+HbLRFjgiuZrB55riSOIqQqh1VVJ2DnnHpXpuoW91NpNxb6ZdCzumhZILhoxIInxhWKnhsHnHetalpRku7f4pGdO8eXySPIfBx0HwzL4f8ADHjvwdFomuWciRafqyQK1veTDgMlwvId8ZKNjOeeuKveDofE/wDwurxruvtIMazWJvQLOXMieT8gj/e/K23gk7gTyAOlaN74T8c+LbjTbTxneaBBpVhex3rnS1mM120bZRSHwI1PU4LH0rSTwz4j0r4oahruizaXJpOtC2+3x3RkE8RiUrmLaNpyuOpGD+onrd+f6av7vyG1ZNLy/Pb9R+jeMdQ1HwBr2uTw2y3OnT38cSIrBGEDuqbgWzyFGcEe2K4vxxqfiDxD4U+G2sQTabbvf6nYTtG9tIwW5eNmB4kH7sZOV69PmrWPgXxxY2OveH9F1TRU0PVZ7mdLm5SVrqHz8l4woGzGSQGzxknaelaGqeAtYn+GXhjSNPurFNa8OvZ3ETTFzbySwLtKkgbtpBPOM+w7RHo305P/ALYp9Uv7347GD4ug8Yf8LV8CK2o6Gb0xX3kuLCby1byl37l87JBGMYIwc5zXRah4k8XXviLUtD8MjQ4bjRrKGa7udSjlKTyyqxCoisCiDacsS3XGDgmk8Q+GvF+qSeGNes5NETxHozzGaCVphaSJKu1grAF8gBcHHJz06VwWp6HJ4t+JfiY3t/occ9lBbW9zFqUtzETiEF1jEU8Z+zknOXDZJPHHI7tcq8/69NQVt/T8/wDI7vw/4n8Xa/8ADPTNehfw/DdX2ZZp7lZYre1i6fc3Eucg/wAaggg1P4O8b32s3XiPS9TfTLq+0QRuLvS2Y29wkiFkIBZipG0gjca5S20m9+Jfg/w9qFlpeheXoN9PB/ZU5c6ZfImYhJGQpO0YO3Kkda6DwP8AD/UvDeseJb67g0Ozj1m3gSG00eFoooGRXDDBAz94fMMZ5O1elOf2mvl+Fv6+8I20v8/v1I/A/iL4heMvC9trk8Ph3TbW8tC0CFJpZPMBwHIDgBDg/JnI4+Y9Kg+AsetL8NNMe9ubB9MMcv2eKG3dZlbzmyXcuVI68BR2rrvAPh668LfD/SNC1GSGS5srcRSvAxKE5PQkA459BWV8OfDPiTwfZPoWpTaXPolq0v2CW3Mn2hg0hYCQEbRgMRwT2/G3ZTkl/Vr/AOZCu4K+529FFFQUFFFFABRRRQAUUUUAFFFFABRRRQAUUUUAFeE6jrulaF8Q/iJca34MvfEdur2zPJBYxXEcCi2GRIXOVB7kA8Ak9K92rldA8LXOm+MPFuqXzW8tprktu0MakswVItjBwRjk+hPFS0236P8ANDVuvc8z1fSJtA/ZVit7yWK5VpoLlFtnMyJFJdK6xof4gFYD37VfN7od78a/CUmjaLceGzDHciW4vNNfT/twZMLAgZR5hBO7B6dua1J/hrr6/CPUPBlrd2EhivxJpck0sm1bYTrKqSfISCMFeMjpV268K+NfFur6OfGk2g2em6Tfx6isWktNLLPLHnYC0iqFXJycAk+1aJpyv0v+DSX4fmTa0Wn2f5v8/wAPkb/xK/5Jb4n/AOwXcf8Aos1LoN/BpXwx0zULxitvaaPFPKQOirCGP6CrXi7SJ9f8F6xpFm8aXF9ZS28bSkhAzIQCSATjn0Ncxoei+OW0m38O+KLbw22h/YjZXD2VzO07R+UUGA0YXJ4zz61nraSW+lvlcrS8W9le/wCH+Rya/G28i0+21yfUvCctnNKhfRLe7LahFC5AB37trSLnJTYOhGa7VNa2fFjWrCPTrBWt9DhuheLBi4kJdxsd88oNuQOxJqp4e8PeOtC06x0PzvDk9lYhIU1OSOU3DwrwMwgBd+BjPmY74NaM3hq8g+IGteJXkgNndaKlmkYY+YHRnYkjGMYYd8+1Oo0lePn/AOku34hG7dn5fmv0OOg+IvxBl+Hdr46OjaD/AGRHAs93ZiSX7TLGDh5IznYnchTuOByc8V03jvxN4j0bw8viHw5daJHpa2qymPUbaaSaaRvuJGEdRlsqAD3NcH4J8NeOfEvwX0fQU1TRovDuo2gWa5MMgvYYSx3RKozGx/h3EjgnjPNdl4v8J+LL3xNoNx4c/sS40jRYQ8Njqc0qf6SMqsp2I27amNvIwSTjpVzXvNba/wDD/wDA8/ImD91Py/yt/wAHrbzHanrerW9v4AbxLo+lNq2o6ikV0rQF/sbtE7EwksdrjAGcnv1qlr/jnxe1j4q1TwvFoVvYeGppIJE1NZXluWjQO7AoyhBhsKDnPqM1t6t4b8QeIT4Ru9TOmwXuk6n9svUt5ZGjZQjqBGSuSfmXrjvzXlcWiw6/qHizX3vfDbww6vOz22uzXCOwjbCrOsc4TaCuEDRt8oHrgQ9303f/AKT9/UqK267L/wBK/wCAe7+Hbq8vvDen3mpvC91cQLK5giaJPmGRhWZiOCOpPNaVYngzXX8TeCtJ1mWyNg17bLL9nzkID0xwOCOR7EVt1c9JMiHwoKKKKkoKZN/qJP8AdP8AKn0yb/USf7p/lQJ7GTRRRUHMFFFFABRRRQAUUUUAUdW0XTtesxaazZxXtsJFk8mZdyFlORkdD9DxXAaBp9jP8dNRvfDFrFbadp2mfYtQktYwkUt0XDBMDhmVRyeo4BrrvGtn4j1HwxPZ+D7u1stRmIQ3Fy7L5cZ+8VKq2G7A44znrisjwXo/izw/HaaXdaf4ctdHhVt32G5neYtgncd6AMS3JJOTzRHe/wDW1vy/H0G/h/rvc5yAp4Ms9VuvFngSa5shqVzcvqkUdtcbYpJWZXK7/M2gEE8cCtPxRpV9qeqXmq6RpMWu2Os6ELGB/PjRbckswdt5H7tg4JK5Py9DxU+uaN8Q/EWn3eiXd34cstNvFaGa8t0nefyjwdsbfKGI45Y4/ls6x4Zurvw7p3hvS7gWulKqQXspkYTtbooHlpgdXwFLZGBnAJPCteKXy/CzuXze9f5v701Y4vT9f0lrrSrrxLqDHStFgC6YiwSS/a5IlCSX7hFO2IElUZvl6tnkV6vDNHcQRzQSLLFIodHQ5VlIyCD3Fcbr3hPVBq73nhZdNSO40n+yZLe6LRpAgYlHTYrBsbiNhABwORXT6Lpq6NoNhpkcjSpZW0cAdurBFC5P5VbfMrv+t/8AgffboZtJWt/W3/B/PqXqKKKkAooooAKKKKAClXrSUq9aAHUUUUygooooAK8o+Knhjw5Z+DRoui6LaLr2sXirpwhiHntNvDPLv+8Aq5LMTgA4PBr1evLrHw18R7PxRf6/PH4X1C/uCY4Zrm6uB9lgzxFGoiwo7k9SepNL7SKjornT+JrbQ7FbHUdf0K5126gjMETQ6c9665GWO0Ahc4+9x6ZrgfCehPrnwt8QxaBFBGt3rZvIdFLhTbIksbG2kHRGYJ908DcK9B1aLxyHtLnQrjRGY26pd2N6sojEnJLxyqN2MnGGXoOxNV/B/hXVdAk1zV9Wu7W91vWpVnljtw0VtGUTaiKTubHqxGfbjlrRt/1un/wRbJJeX5M5C81G/wBM1jXv3a+G5tbEU1wzyRu2l2kUex7lyhZfMc/IignJAPYiu+8HX/h6bRV07wsxS200LA1vJDJFJDxkb0kAcE9ckfNyeax5fAN1d+C9StLy+ik1/VJUu7q9KExmVHV44wOvlLtCgdcZPUmtTw1oup22t6vreu/ZI7zUhDH9nspWkjjSJSAdzKpZiWY/dGBgc4p9Lf1/X/D+QO3T+v6/rXU6SiiikIKKKKAMnxH/AMg6P/rqP5GuZrpvEf8AyDo/+uo/ka5muap8R52I/iBRRRWZzhRRRQAUUUUAFMlUtC6rySpAp9RziU28gtiizbT5ZkBKhscZAIJGfek9UNbnnmiXVv4R0TSYPFHhSSxMXlwNqWyCVFkzwzFGLKM/xEda6nXtP8N2dvfa5rtjZyBYNs89xEHJQcBRn1zjA6kisjUtA8V+J4Y9O8QT6Ra6Z5qST/YfMeWYKwYKN4AQEjryf6niXQfE+qeJre6tRpNzpdmA9vZ3k0qgy/8APRwqEMR/DzgdcZrWXvbm+jle/r/X9foZmheHtWg+HvhzdZPPNY3v21tPkdVbyiX2oN5A3KHVsMRyMcVB5xhgvtH1A/2dZXN691qaxHe0SSsNlouzO6STqwXOATjOQa7eA+I20G4+1R6YmqnIg8mWQwjgYLEru45OMc4HIzms2fwjLb6Hp8OmTxy39jerfPLdZAu5cMHLsMkbtx5wcYAwQMU+b3m3/W3+X9agp333/wCH/wA9P+Abmj6hp+paakukSK1tGTEFVCnlleNhUgFSPQgYq9WP4c0q50y3vZL9ojdX1291KkBJjjLAAKpIBOAo5wMnPFbFZvcwdk2lsFFFFIQUUUUAFFFFABUkf3fxqOpI/u/jWdX4TWj8Q+iiiuQ7AoopkvmCF/ICmXadgc4Untn2oA8v8V2y+KNa12/t541n8OxRx6cWfH+kowmkI9+ET866i/8AF8ieG9C16wjiaxvriBbreCTFHJ8uRgjkMQDnPfimeH/AOl2mixL4h0vS9S1SRnlurp7VJN8juWOGZckDOBnsKjsPBdxB4P1rw3dSwmyuJpjp5QnMEb/MikY4Ktzxmuhyily9v6f3mjcZP8Pl/wAD9S0vim4PxFbQzDF/Z/klFnAO/wC0hRIUznGPLOemcil07XNZ1fQ7++0+CxyL2WGyNwzxp5KNt8xyMk8hjgYyMdOtZz+EtcPhiIi4sf8AhIkvzfecXfydxBQjdjdjyzjp1FWNZ8FyXfgTTtCsHgzYNC5iuN3k3OzqkmOdrHnOOvapaht6L/N/oL3dP62/z0DRPFGo3Xia50G+udKu5/sX2u3utP3eWPm2lXQsTkEg8NyKgHjm7Hw7l1VreH+24rg2DWm1tn2rzNgXGc45DYznHejw54OvtM8af23NZ6Jp8DWL2xtdLjZcMZFYMTtAbgHnAxwMHrWemjG4+M9xDBOG063WPVriADhboo0S/TI+f6irtBu3l+T/AFX42Hpq10/r8z0SLzPJTzipk2jeVGBnvj2p9FFc5mFFFFIAooooAKKKKACvLPFdsvijWtdv7eeNZ/DsUcenFnx/pKMJpCPfhE/OvUJfMEL+QFMu07A5wpPbPtXKeH/AOl2mixL4h0vS9S1SRnlurp7VJN8juWOGZckDOBnsK0pvlfN16f1/W5cWktR9/wCL5E8N6Fr1hHE1jfXEC3W8EmKOT5cjBHIYgHOe/FPXxTcH4itoZhi/s/ySizgHf9pCiQpnOMeWc9M5FVbDwXcQeD9a8N3UsJsriaY6eUJzBG/zIpGOCrc8ZqF/CWuHwxERcWP/AAkSX5vvOLv5O4goRuxux5Zx06ir9zX+t/8ALUElt8v+D8zR07XNZ1fQ7++0+CxyL2WGyNwzxp5KNt8xyMk8hjgYyMdOtVtE8UajdeJrnQb650q7n+xfa7e60/d5Y+baVdCxOQSDw3Io1nwXJd+BNO0KweDNg0LmK43eTc7OqSY52sec469qg8OeDr7TPGn9tzWeiafA1i9sbXS42XDGRWDE7QG4B5wMcDB60JQ1+f5aBePLf+t/8gHjm7Hw7l1VreH+24rg2DWm1tn2rzNgXGc45DYznHeu0i8zyU84qZNo3lRgZ749q87TRjcfGe4hgnDadbrHq1xABwt0UaJfpkfP9RXo9TO1k111/r53/AUrJ2X9X/4FgooorIkKKKKACiiigAoopkvmCF/ICmXadgc4Untn2oA8v8V2y+KNa12/t541n8OxRx6cWfH+kowmkI9+ET866i/8XyJ4b0LXrCOJrG+uIFut4JMUcny5GCOQxAOc9+KZ4f8AAOl2mixL4h0vS9S1SRnlurp7VJN8juWOGZckDOBnsKjsPBdxB4P1rw3dSwmyuJpjp5QnMEb/ADIpGOCrc8Zrocopcvb+n95o3GT/AA+X/A/UtL4puD8RW0Mwxf2f5JRZwDv+0hRIUznGPLOemcil07XNZ1fQ7++0+CxyL2WGyNwzxp5KNt8xyMk8hjgYyMdOtZz+EtcPhiIi4sf+EiS/N95xd/J3EFCN2N2PLOOnUVY1nwXJd+BNO0KweDNg0LmK43eTc7OqSY52sec469qlqG3ov83+gvd0/rb/AD0DRPFGo3Xia50G+udKu5/sX2u3utP3eWPm2lXQsTkEg8NyKgHjm7Hw7l1VreH+24rg2DWm1tn2rzNgXGc45DYznHejw54OvtM8af23NZ6Jp8DWL2xtdLjZcMZFYMTtAbgHnAxwMHrWemjG4+M9xDBOG063WPVriADhboo0S/TI+f6irtBu3l+T/VfjYemrXT+vzPRIvM8lPOKmTaN5UYGe+Pan0UVzmYUUUUgOl8H/APL5/wAA/wDZq6auZ8H/APL5/wAA/wDZq6avXw/8JHZT+BBRRRW5oFFFFAGF428RJ4T8D6vrkhGbO1d4wejSYwg/Fio/GvAvC+i3Hwv8W/D3xHes/wDxUsD2uqySEkmWZt6Fie/zpn/rma9h+KvgvVPH2g6fomn3Ntb2DX8U2pGZ2VngU5KoFU5OeeSOQOa5Pxh+zn4XuvDUyeBtOh0rW1dHt7qe9uGRcMCwOWbHGedp5xSi+WXM+6+7r99/wHLWPKv6fT7rfibS/E69034keLPD/iOG0hs9J006lYyxIyvNEqgtuyxDHnHAH3T+HJ6b8etYvfg/qGvSafYJ4ig1GKyt7QRv5Unm7WQ7S+7ld/fnGa0/iR8I/Evjd9Bv7PU7Cz1WOw+wazKXcLOjY3bMIcjJfggdR0o1P4JXVx8WNO1mxu7WPwzFJa3F1YPI/mPNboUjIXaVIxt6sOrU4rW0vT7nv81p6ib6pef4bffqbHjHxj4z0OeCG2l8GaQot0drnX9RaIXUpXLrFGrAqFPHzGuff43a1L8LdH8a2ulWS2y6mLLWomDv5aZA3xEMMZz33csOuObfiz4S65qHxKv/ABLo6+GdSg1OCOKWLxFaPObPaAu6FQCpOBnnHp71Y8N/DA+Gfgbr3hXxZe2TwzG5na6hyUjTaCrkMBgqU3Y6DHWp5mouT9fue33D5byUV6fhv95u23jq/wBV+Mn/AAi+jx2kukWumLe3t0VZpN7/AOrVSGwMhlPIPGa7yvEf2ZNDuE8H3/iXUpHmudUlW3hkkJJ8iBdigE9s7h/wEV7dWko8tl/Wuv8AwCItu7/rTT8woooqSgooooA828bf8l2+GH/cW/8ASZa9Jrzbxt/yXb4Yf9xb/wBJlr0mgAooooAK828bf8l2+GH/AHFv/SZa9Jrzbxt/yXb4Yf8AcW/9JloA9JooooAKKKKACiiigAooooAKKKKACiuH1/xxrtn46bwz4b8LxaxOlgt9JLLqYtgqs5TGDG2eQO/ermpeNpfDnhO31PxTpL2mpXM4toNJspxdSTysxCIjYUEkDJ4GBmlfS/8AXb8w2dv62v8AkdZRXI6H4l8W3erQW/iDwPJpVrODi6h1SK5ERAJAkUBSM4xldwyfxra8R+IdP8K+H7rWdYlMdrbLltoyzknCqo7sSQAPU03orsFq7I1KK4jTPGHi+8vLV734e3NnplzIq+f/AGnC88KscB5IcDA5yQGJHpXb07CunsFFcx8QvEt54T8K/wBp6dHBLN9stoNs6krtkmVGPBBzhjjnrXT0t1f+v61H1sFZOq+FfD2u3CXGt6DpmpTIu1ZLyzjmZR6AsCQK1qKAGQwx28KQ28aRRRqFREUKqgdAAOgp9FFABRRRQAUUUUAFFFFABRRRQAUUUUAFFFFABRRRQAUV59efEDxLJ4r1zR/DfgyPV00VolmmbVlgZy8YcBUaMjPUfe7dq6fwj4os/GXhe01vTo5YorgMDFMMPG6sVZT7ggihaq4PR2NqiiigAooooAKKKKACkZVdSrgMrDBBGQRWb4l1n/hHfC2p6z5H2j7BayXHk79nmbFLbd2DjOOuDWR8PfHCeO/Drag1g2m3cMphubJ5RIYmwGU7sDIZWUg4HWje67A9LPudHZWVrp1nFZ6fbQ2ltCu2OCCMIiD0CjgCp64S5+JqR/Fiz8F2ulNPHMzRT6j54VYZhCZvLCbTuO3bk5GN1d3Rurhs7BWNe+D/AAzqWo/2hqPh3Sbu9yD9pnsY3k46fMVzxWzRR5gHSis7Tb3UrnUNRi1DSfsNvbzBLS4+0rJ9rTbkvtHKYPGDz3q5dStBZzSoAWjjZgD0yBmk2krsaV3ZEtFc74A8QXXirwBo+uahHDHc31uJZEgUhAcnoCScceproqppp2ZKaaugpHG6NlPQjFLQehpDKf2OP1b86Pscfq351YoosiOVFf7HH6t+dH2OP1b86sUUWQcqK/2OP1b86Pscfq351Yoosg5UV/scfq350fY4/VvzqxRRZByor/Y4/Vvzo+xx+rfnUGt61Z+H9Jm1HUmdYIioxFG0juzMFVVVQSzFiAAO5rF8DeMn8Z2mqTS6TNpL6fqD2RguJA0h2qrZYDhT8+NuTjHWhJNtIHFJXOh+xx+rfnR9jj9W/OuFtPHfjDVpr1tD8DW13ZW17NaLcSa2sRkMTlCdhiOOR0ya0vEvja90fVLiw0jRBqk1jp/9o3u+7EHlxZYAJ8jb3Ox+DtHA55paWT7/AOV/yHyK9rf1e35nUfY4/Vvzo+xx+rfnWDd+M4NuhR6PatqF5rgSWC38zZ5duQGeaQ4O1VBA92IUda6aq5bCtFlf7HH6t+dH2OP1b86sUUrIOVFf7HH6t+dH2OP1b86sUUWQcqK/2OP1b86Pscfq351Yoosg5UV/scfq350htUUZBb86s0x/u/jRZByog8hfU0eQvqakooFZEfkL6mjyF9TUlFAWRH5C+po8hfU1JXEv8SraTx9pvhzT9LuriC8nntn1N/3cKywozOiAjMhBXBIwAe55FHWwWVrnZeQvqaPIX1Nc54k8W3Ola7YaFomknVtWvYnnETXIt44okIBd3IJ6sAAFJPNZcXxLMej63JquiS2mraNcQ2stglwsqySTFRDtlAA2sWGSQCO47UtH/Xy/PQfKdv5C+po8hfU1zWleNAy63H4ntIdGuNDCPd4uvOh8p03K6vtUnoRgqOR3rW8O6pda1oVvqN7pz6a9wC6W0r7pFjJ+QuMDaxXBK84zjNOwrIv+QvqaPIX1NSUUBZEfkL6mjyF9TUlFAWRzXjNzaaNE8fJNwB83+61cR/ac392P8j/jXa+Pf+QDD/18r/6C1efVw1naZ4mNk1Vsi5/ac392P8j/AI0f2nN/dj/I/wCNU6Kyuzj55dy5/ac392P8j/jR/ac392P8j/jVOii7Dnl3Ln9pzf3Y/wAj/jR/ac392P8AI/41Toouw55dy5/ac392P8j/AI0f2nN/dj/I/wCNU6QkAEngCldhzy7l3+05v7sf5H/Gj+05v7sf5H/GuRtPEWpap/pOkaJ5+nF9sdxLdCJpQDguqbTx6ZIyKsajqOvW960enaDDeW4A2zNfiInjn5dhx+dV72xpaonZv8UdN/ac392P8j/jR/ac392P8j/jXD2HjK5vdKS4OkCO5nvmsraH7TlJWUEs+/bwo2t0B6Vfi8URDQ7q+vrdoJrSZ7eS2RvMLyg4CIcDduyMcDrTtJA4VU7M6n+05v7sf5H/ABo/tOb+7H+R/wAazbWSaW0ikuoRBMyAvEr7wh7jdgZqapuzPnl3Ln9pzf3Y/wAj/jR/ac392P8AI/41Toouw55dy5/ac392P8j/AI0f2nN/dj/I/wCNU6KLsOeXcuf2nN/dj/I/40f2nN/dj/I/41Toouw55dy5/ac392P8j/jWjp87XFuzOACGxx9BWFWxpH/Ho3++f5Cs5t2OjDSbqal+iiisD0wooooAKK5TxP45i8Na5p+ntYvcrcFWup1k2raRNII1duDnLHpx0NdXVcrSUujG01uFFFFSIKgisrWC5nuILaGOe4IM0qRgNLgYG4jk4HHNT0UwCiiikAUUUUAFFFFABRRRQAUUVynifxzF4a1zT9Paxe5W4KtdTrJtW0iaQRq7cHOWPTjoaqMXJ8q3HZs6uiiipEFFFFAEEVlawXM9xBbQxz3BBmlSMBpcDA3EcnA45qeiimAUUUUgCiiigAooooAKKKKACiuU8T+OYvDWuafp7WL3K3BVrqdZNq2kTSCNXbg5yx6cdDXV1XK0lLoxtNbhRRRUiCoIrK1guZ7iC2hjnuCDNKkYDS4GBuI5OBxzU9FMAooopAFFFFAHS+D/APl8/wCAf+zV01cz4P8A+Xz/AIB/7NXTV6+H/hI7KfwIKKKK3NAooooAKKRmVELOQqqMknsK8v8AAXxstfHHjSbQho0lhDJFLPp148+4XsaSFCQuwbehOMn7pHahauyB6K7PUaKKKACoru0t7+zltb63iubaZSksMyB0kU9QVPBHsalooAgsrK102yis9OtobS2hXbHBBGERB6BRwBU9FFABRRRQAUUUUAebeNv+S7fDD/uLf+ky16TXm3jb/ku3ww/7i3/pMtek0AFFFFABXm3jb/ku3ww/7i3/AKTLXpNebeNv+S7fDD/uLf8ApMtAHpNFFFABRRRQAUUUUAFFFFABRRRQB5PrWn67qH7QFzH4b1yLRp18OxNJLLYi6Dr9ob5dpZcc4Ofan+Mor3RPFHw41DxPqUd9DaajPBd3otxBGZZYysLFQSFweOuK9FXQtOTxG+vLb41KS2Fo0+9uYg24Ltzt6nOcZ96k1XSdP13S5tO1izhvbOcYkgnQMrenB7g8g9QeaSukrdH+rf5fjqN6yb7q34JFppY0KB3VTIdqAnG44zgevANeefGsGHwnpOoygmx03XLK7vgBn9wsmGJ9gSDWxoPwu8HeGtTi1DR9GWO7gUrDLNcSzmEEY+TzGYJxxxiuoubWC9tZbW8gjuLeZCksUqBkdSMEEHgg+lN9GujT+53Euqfp94LdQNbpcLNGYZApSTcNrbumD75GPrXlGh+FdE+IviTxde+N4W1K507VpLC2t5bh1SygRV2lFUjaWyWLdc/Q11GnfCHwLpWow3tloEay28nmwrJcSyRxPnO5Y2copB6YHHarWv8Awz8IeJ9UbUda0ZJryRBHLLFNJCZlHAD+Wy7xjj5s8cdKTSvf+un/AA3zDpb+uv8Aw/yPK31C7v8A9n1luruW+hs/EcVpZ3kz72ngS9QIxbvxxn2rq7jQ9N8e/GDxFpfjBGvbLRrW1On6c8rLF+8Ul5ioI3Nn5cnoPwru7vwnod74eg0KbTol0y3aNorWImJUMbBkxtI6MAffvVXxJ4B8M+LrqC61/S1uLm3UpHcRzSQyhf7u+NlYryeCccn1pv7/APhkr+un4h3/AK6t29Oh5YmoXeh+APiXpGiancLp+j3i22lT+ezvF5gTdbxvyQVZtq88FutXPDXg3RL34oaLqvh7wRe6PZ6bZyG9n1OzaHfMdvlBA5y0ikMTIMg56niuu8X+BE/4VZdeGPBWnWdvCxQmyJCLcIHDSJvIOGYAgOeQcHI6jnNG8E3Z8X6HfaJ4I/4QiGwk82+uFv4mN0m0gwCOFmD5O0lnwQBxzTj8Sfay/C1/19fxJfC/n+d7fp2/TB0fwJomu/D/AMX61qsdzcX9nqWqPZSm6dfsbJIzAxKCAp3DJOMnvxxWj4j1PWNf8K/DTTpUjvodet1kv47m8e2ju5Ft1dY5JFVjhiWbbj5ioFeq2fhfR7DR77S7Sz8uy1CSaS5i81z5jSkmQ5JyM5PQjHbFQ3ngzw/qHhi28PXumRzaXaIiW8LsxMOwYQq+dwYDjcDnrzUrSNv8P4Xv+n6jvrf/ABfjt9xy3gLwjrPhzxdfXB0/TNE0a6tADpen38lwnnhv9aqtGgTK8HHXAr0WsXQfCGh+GppptIs2S4nAWW4nnknlZR0UySMzbR6ZxW1VdEierYUUUUhhRRRQAUUUUAFFFFABRRRQAUUUUAeQ6dpniTUvif8AENPDXiG20bM1ortLp32lixtxhlJkULj3DVQ0DWtFs/g8+g63pl3dCw1p9DNtply4OpXO/dlW3KdrliWDHHBHI4rvdX+FXg/XdZutV1PTJpLy8KmeSPULiISYUKMqkgXoAOlaMvgbw1N4VTw22j266RGQUto8psYHIZWUhg2edwOfekl7tn2X4W/4P3+Q76/f/X9fqebeB7aTT/jDeaJ/wiZ8Labf6C002lG6jnindZVTzdsbFVJVip9cVn/aLlPB1x8JVm/4mH9tjSImz839nt+/8w+whDL+Veq6J4B8NeHdXOq6Rpxi1BoWge6kuJZZJEZgxDM7EtyowTkgDAwOKybPwpcXPxt1HxXf6akFva6bFY2E5dWNwxJaSTAJK4BCc4yM1StdJ/P77r/L5sTvZtfL7rf8H5HH61pd74l+K+r6NJoGma1YaLZWq2NhqeoSW8UaOh3SrGsbhzkbdx+7tAHWoPFPh/WdE+Bt1pOtXSxH+27cWa2l687WcDXEeyMSuoYlMnBI4GK9S17wT4f8S3sF5q9gXvIEKR3VvPJbzKh52+ZGysVyScE45obwR4cPhxNBGmRrpqzLP5KO67pFcOHZgdzNuAJJJz3zSjpa/dfnf7wl2Xb9LHA/Erwdo3hX4U3Nn4dgksFutUsnlljmZpGk8+MeZuYn5u+fXmpJ/C2leBfi54PbwxHNZnWDeQajm5kk+1hYTIrSbmO5g3O7rzXpGtaHp3iLTvsOsW/2i281Jdm9k+dGDKcqQeCAaL3QtO1HVtO1O8t/MvNMaRrSTew8ouu1uAcHK8cg002tfP8ACyQPX7vx1Mj4lf8AJLfE/wD2C7j/ANFmvO4dct/hjqGk+IL0hNI8QeHYROM4/wBMtoAyfi6HYPUgV7DqenWusaXdabqMXnWl3E0M0e4rvRhgjIII4PY1nan4P0HWdEstI1TTkubCweKS2hd2/dtGMIcg5OBxyTnvmpXXzt+t/wA7rzQ3rbyv+lvy18jy/TdDudF8UfDWTVB/xNdTvNR1DUGxgmeW3LEf8BGF/wCA11vgeeJPG/xDDyKvl6pC77jjav2WPk+3B/KuuvdC07UdW07U7y38y80xpGtJN7Dyi67W4BwcrxyDWRrXw48JeIdcGr6xo0Vze7VRpDI6rKo6CRFYLIB6MDT9OzXpt/kLe1/+Hev+Z5GoFz+yzYCGd4xJrC7JoWwy51E4ZT69wa6ufwtpXgX4ueD28MRzWZ1g3kGo5uZJPtYWEyK0m5juYNzu6813I8DeHR4Zj8PLpwGlRzi4S2E0gCyCXzc7t277/OM47dOKv3uhadqOradqd5b+ZeaY0jWkm9h5RddrcA4OV45Bpp2d/P8ARIHq3fs/vu3+qPH9c1e90PTvi/f6XLJBcpeWqLNHndEHhiRnBHIKqxOe2K7bR/h54R8L2/8Aafh+BoLuazdDcC7kb7YGTcS4LEOf4s447V0sXhjRoZtWkWwjc6ywbUFlJdbjCbOVYkAbRjAAFZGhfDDwf4avjeaNoywXBjaJXe4ll8tG+8EDsQmf9nFQ17nL5Jfhb7ik7ST82/vdzxuDwfpWmfs3af4ztftY8RWVtFc21+13IXgPmgbEGcKmCRtAxz6819HRsWiRj1KgmsRvBegP4MHhRrDOiCIRC186T7gO4Dfu3dR61uKAqgDoBgVpJpt27mcVaKvv/X/BFoPQ0UHoakojooopiCiiigAooooAKKKKACuA+F3/AB/eOP8AsZ7n/wBFx12OsaPZa/pM2m6pG8trOAJESZ4icEEfMhDDkDoa57Qfhb4R8M6sup6Jps9tdqzNvOoXEgYsMEsrSFWOD3BojpJt9rfin+gP4bLv+j/zOf8AFfhy+8C+FNc8QeGvF+o2LQPNqP2O7W3ktXdmLtHgxhhuJ2j5sjI61Y8R2Wlan4Rh8Ya5d6lpEl5pUUF5b6dIA12kmCtuQyEklnKqV2t8x5Fai/CPwMNRS9bQY5XSTzVilnlkhVvUQsxjHX+7XSX+i6fqd3Y3N/b+fJp8vnWwZ22pJjAfbnaSATgkHGeMUre7Z/8ADdPy+X3jv71/X59fzPLbBvEegaxeizttLh1n+xxqV0L0PJHbWykpDYwlWXaFCMWfkFiTtOePUdB1Qa54d07VViMIvrWO4EZOSm9Q2O3TNVNd8H6H4lmim1izaWWONog8c8kLNG33o2KMN6HHKtlT6VsRRJBCkUKLHHGoVEUYCgcAAVV9Nf63/wCB91+pNtdP62/4P326D6KKKQwooooAKKKKACmP938afTH+7+NAhlFFFIQUUUUAFcD4z/5Kv8Pf+vi+/wDSY131cXqXwj8F6tqsmpahpdxLdySNKZP7SuVwzfeKgSALn0GBR1Q9LMxfHVvP4l+JekeH9BnOj61ZWTaidbBJeKAuEMSx9JNxHIb5QB3Jqt4O0KO6bxT4G8SoLnUIZYby61m1kYSXbSZaOQ7smORdgwoJUY4GOvbal4E8O6taWEF/YM/9nRiO1mW5lSeJQAMCZWD9hnLc96s6P4T0XQNNuLLR7L7LFdEmd0lcyykjG5pSd5bHfdkdqFoml5/np6fL13E9Xf0/rz6/eeV6tCkC6vqtpJcazpunXsX2m41CRf8AibX4ZYYkbYqr5EBYEhVwzjuVJPonhfXNXute1nQ/EAspLvTBBILmxjeOOVJVYgFGZirAqf4jkYPFai+GtHTwyPDy6fD/AGT5PkfZCMqU9PUnvnrnnOaNE8O6Z4dhmTSoHQzuHmkmnknkkIGBueRmY4AAAJ4HSn5f1/X6aeYnqalFFFIYUUUUAcx49/5AMP8A18r/AOgtXn1eg+Pf+QDD/wBfK/8AoLV59XDX+M8HHfxgooorA4gooooAKKKKACqesLI+h3ywf6xraQJ9dpxVyih6oqL5WmeZrCdN+F9nr1hrWoC6ht4miU3P7otwvleWPlI6jpnjrXV+LNWnsPDOLVduo35W1to88iSTj/x0ZP4VJD4K8OwakL6LS4lnEnmj5mKK/wDeCZ2g+4FaVzplpd31reXMXmT2hYwMWOELDBOM4Jx3I4rWUoyd33/pHRKpDmT3tf8A4C9DOXwxZw+HrHTVmlgGn7XhuYiFdHUHL8gjnLZyCOTXLwK6SWV9YDzoJ74w6e94SwllfcXu3AxnhSEAxxyMA13t7ZwahZS2l2peCZdsihyu4dxkEHFR3ml2V/YrZ3NurQIVKKpKbCv3SpXBUjsRjFJT1u/67kQq2Vn/AF/X9blXQNSudRgu0vkiFzZ3T20jQghHIAIYA5I4YcZOD3rVqtYafbaZai3so/Lj3FjlixZickliSSSe5Oas1DtfQyk05NrYKKKKRIUUUUAFFFFABWxpH/Ho3++f5CsetjSP+PRv98/yFTPY6sL/ABC/RRRWB6gUUUyWJZoXikyUdSrYJBweOo5FAHlym+8Tr4ou08O3WpWurE2VrcQ3ECqsUOVUgPIDnzNzdPSrFxqE+sfC/Tddfd/aXh+5jmulPLB4W2TA/Vdxr0LTNNtNH0yDT9NhEFrbrsjjBJ2j6nk/jUFtoOmWkeoR29qETUpGlu03sVkdhhjgnAyOuMVt7RLZbWt8v8+ppzJvX+k/6RxYu9nxCHicyH7DLO2jlv4dgiEgb/v6GWm272Fp8P8A7drtrd3MniK/88Wtq5jknaVv3ceQy8bAuQTjg11h8H6E3hpdANh/xLFbcIfNfIbduzv3bs55zmreoaHpuqaSNMv7VZrRQoWMkjbt+6QwOQR6g5oc47en3f53Fzbf16fgcD4Vhez+JNzpf/CPHQbG70lpZbD7QkscrCQLvwhKg4JB9cVT86ZfDc3w8Ev+mf2oNOQ5+b7G377f/wB+gVr0DS/COiaNqJv9OsjHeGNomneaSR3UkEhizEtyByckYwOKzrbw/NP8Ub3xBd2SxQwWUdraS7lJmJJZ3wDkYzt5xxmr9pFv5finp/kPm3a+X5f8H5HURRJDCkUShURQqqOwHQU+iiuczCiiikAUUUUAFFFFABXlam+8Tr4ou08O3WpWurE2VrcQ3ECqsUOVUgPIDnzNzdPSvUZYlmheKTJR1KtgkHB46jkVBpmm2mj6ZBp+mwiC1t12Rxgk7R9Tyfxq4yUblxly7HntxqE+sfC/Tddfd/aXh+5jmulPLB4W2TA/VdxqcXez4hDxOZD9hlnbRy38OwRCQN/39DLXaW2g6ZaR6hHb2oRNSkaW7TexWR2GGOCcDI64xVU+D9Cbw0ugGw/4lituEPmvkNu3Z37t2c85zWntFr/W+/8AwATilb+rdPxOTt3sLT4f/btdtbu5k8RX/ni1tXMck7St+7jyGXjYFyCccGoPCsL2fxJudL/4R46DY3ektLLYfaEljlYSBd+EJUHBIPriu+1DQ9N1TSRpl/arNaKFCxkkbdv3SGByCPUHNVdL8I6Jo2om/wBOsjHeGNomneaSR3UkEhizEtyByckYwOKFOOvnf8rIOa8fP/g3PP8Azpl8NzfDwS/6Z/ag05Dn5vsbfvt//foFa9XiiSGFIolCoihVUdgOgrl7bw/NP8Ub3xBd2SxQwWUdraS7lJmJJZ3wDkYzt5xxmurqZyul979f61+YptX0/q+v/A+QUUUVkSFFFFABRRRQAUUUyWJZoXikyUdSrYJBweOo5FAHlym+8Tr4ou08O3WpWurE2VrcQ3ECqsUOVUgPIDnzNzdPSrFxqE+sfC/Tddfd/aXh+5jmulPLB4W2TA/Vdxr0LTNNtNH0yDT9NhEFrbrsjjBJ2j6nk/jUFtoOmWkeoR29qETUpGlu03sVkdhhjgnAyOuMVt7RLZbWt8v8+ppzJvX+k/6RxYu9nxCHicyH7DLO2jlv4dgiEgb/AL+hlptu9hafD/7drtrd3MniK/8APFrauY5J2lb93HkMvGwLkE44NdYfB+hN4aXQDYf8SxW3CHzXyG3bs7927Oec5q3qGh6bqmkjTL+1Wa0UKFjJI27fukMDkEeoOaHOO3p93+dxc239en4HA+FYXs/iTc6X/wAI8dBsbvSWllsPtCSxysJAu/CEqDgkH1xVPzpl8NzfDwS/6Z/ag05Dn5vsbfvt/wD36BWvQNL8I6Jo2om/06yMd4Y2iad5pJHdSQSGLMS3IHJyRjA4rOtvD80/xRvfEF3ZLFDBZR2tpLuUmYklnfAORjO3nHGav2kW/l+Ken+Q+bdr5fl/wfkdRFEkMKRRKFRFCqo7AdBT6KK5zMKKKKQHS+D/APl8/wCAf+zV01cz4P8A+Xz/AIB/7NXTV6+H/hI7KfwIKKKK3NAooooA4H41+JG8NfCjVZbckXd8osbYL94vL8px7hdx/CvEtW1pPC6/D/VrHwl4o0c+FytvfXWp6WYIponx5mGyeSTJgHH36+lNe8K6N4nk099cs/tZ065W6tgZXVUlXoxCkBvo2RUniHw7pXivQ59H1+0F5YTlTJEXZM7WDD5lII5A6GlG8Xzdbr8P+HY3Zqz2s/x/4ZHhfi/X1+GPxa8S6tBKgsvFGgNc2bjlWulXCY7HnJ/4HXFWr6npXge5+Et67f2lqmsWJjQA5EM6LI5AI6Kyrn3Jr6T1f4a+EtesdIs9X0hbqDRlCWKtPKDEoCgAkNlhhV+9nOKs3fgbw5feMbXxVdaYr61aII4brzXG0AED5Q208MeSCfyFOKSdntt8k7r/AC9BNt69d/na3/B9Tx7x3ZaHrfji88O2Hg3U/FtxoljEssU+ufYLWwjCDa0eSASQRnPp9a5zTLXVfEX7M9tr0U8txqvhLVWurKR33ssUZUsuT1Cg5+iACvePEfwu8GeLdZj1bxBoMF5fRgATb3TeB03hWAf0+YHjjpUsfhXTfCfgjVNM8I6GjpLHNKmneb8s8rrjbmRsKDwMZAAqbyjFvrv807/1+o0k5JdP0tY85+Hmrw/E34133jCEM1jpGk29tbZBwk0q7nHPcHzFr22vO/gj4FuvAXw7jstWgWDVLqd7m7jVw+wn5VXcCQcKo6E8k16JWkrLRf11f4siN3q/6tp+gUUUVJQUUUUAebeNv+S7fDD/ALi3/pMtek15t42/5Lt8MP8AuLf+ky16TQAUUUUAFebeNv8Aku3ww/7i3/pMtek15t42/wCS7fDD/uLf+ky0Aek0VHcEraylTghCQR24r54s57+x+Dul+L7DxvrsvieV18iwn1RrmO7kMxTyvIYnOVyeORjNC1dvT8QPouiub8SeN7Hwu1ja3Nre6hql8CbfTdNh86eQKBvYAkAKM8kkUnhzx1pniSPUEht76wvtMwbzTr+DyriEEEqSuSCCBkEEilda+QLWx0tFcV4U+KGm+Mo1uNH0fWxYtbtN9vnswkAZfvR7t3Ljpxlcg88Vcn+IGlW/w1Xxu9veHTGtkuREEXztrEADG7bnn+9VNNbgtbW6nU0VzWu+NrXRdUttLg0zU9X1G4gNyLTToVZkiBxvYuyqBnjrkntRqvjiz0mx0qSTTNUnvdW4tdMhth9pYhdzBlZgq7R1yw/Gl0uB0tFcR4q8Q2k/gKHVdTTxHoUZvoI2ittsF2r+cECt8xUoSRnBOVPFaeveMf7Fv2s7fw9rusSxxebKdOtAyRr2G92VWb/ZUk+1K6Su/wCtLh1/r0OkorO0DXbDxLoNprGkSmWzu03xsVKnrggg9CCCCPavJfiJruvaJ8Xf7T07U74adomlW99eabHK3kzwtcNHKSnTcFbdnH8NPaSiw+y2v66HtdFcb8QtduYvDtlp3h662an4huI7OynhYZjRvmkmU/7MYZgR321zngvxDDafs+jUPFmu6iFb7VbPqHntJdkmeSNNjcsZOgX0IHYUujfb+v8AIfbz/wCD/kz1WivNvCninT38YWNlqA8X6Xe3GnC1s7XxAoWK88v5mkG0kGbH3iSDjtV/UfivpllreqaRaaJr2rX+lSKlzDp1kJdqlA4fO4DbzjBIYkHAOM03b+vUSuzuqK5qTx/4fj8CxeLvtTtpUyKYikTGSRmbaIwg5L7vlx6+3Ncp4v8AGKeJPhX4vt30HXNGmi0iWQJq1n5PmKVPKsGZTjuM5GelKV4p+Q4rma8z1CivOfC/xQ0h7bw9ps2nazawX0MVvaanc2JjtbiXYMIrE7snBwSoBxwa6HXPG9po+srpFppmp61qXk+fLa6ZCrtBGcgM7OyquSDgZycdKqS5XYmL5lc6WiuPufif4ftfA7eKpftYsIrlbW4jMO2a2lMgRlkRiMFSeRzx0zxRovxJ03WPEkWiy6XrOlXN1G8tk+p2RgS8VfvGPkngYOGCnBHFFr/18/yHt/XyOworh9f+Kem6FJqfk6LrmrwaQ2y/udOtUeK3fAYqS7rkgEE7QQAeSKy59S/tf4weBtQFrPaLc6TfyLDcbd6g+XjOxmXkc8E9aUdWrf1o3+Ngei/rul+p6ZRXF3/xOsNMmZ7/AEPXrfS0uBbvq0tkEt0YttDHLCTZuIG7ZjnrWh4p8b2Hha5srN7LUNU1G+DNb2GmW/nTOq43PgkAKMjkkUr3Vw62OkorybwVrdvr/wARviHfWsN1bg2VijwXcDRSxOIpQVZT0IPpkHsSKzPhv8UtI8PfCnw7HfaZrRsIIVgudWjsCbS3cuR8zkgkAkAlQRnjOapa6en43/y/EHo/67J/r+B7ZRWFrvihdFltobfR9W1ie5Uukem24cKo/iaRmVF9gWyewNQ6X470TUvCd54heSaxtNPMi3yXkRSW1eP76Ooz8w9BnORjNTdWb7AdHRXFaZ8QIPEiTWq+H/EGmpPayS29zqNh5UM6hf4WDHBI5AbaSK4r4Z/FDSNC+F/hu3vtN1n7FHEltPqyWJ+xwSFyMM5IJGcDKgjJxmqSd7en43/yF0T9fwt/me1UUdaKQwornfiDcz2Xw38RXNnPJb3EOmzvHLE5V0YRkggjkEeteZRfa/D6eB9Q0DxhrOp6pq9zax3emXupNeRywyIDM+xslNnXcOneiOsren43/wAglor+v4W/zPb6K5vXvGP9i37Wdv4e13WJY4vNlOnWgZI17De7KrN/sqSfaoh8Q9EfS/D+pwfaJrDXrlbW3uUjAWKRs7VkBIK5ZSvAPNC129Aeh1NFYtz4psLXxdD4ddZTdyWT3zyAL5cESsFy5JBGScDAPQ9KwI/ixpDrBdyaXrUOi3Ewhi1uW0AtHLHCtndvCMSAHKBeetC12/rp+Yf1+p3NFcbr/wATNN0HxS/hwaTrOp6qtsl0tvptoJS8bFgSDuAG3bzux1GMniureUyae0qq8ZaLcFYYZeM4PoaTdo8w7a2J6K4z4Q313qfwn0K81G6mu7mWFzJPPIZHc+Yw5Y8ngVHe/FTSrR72aHSdavtLsJTFd6taWge2iKnDnO4OwUg7iisBg1UlyycRR95XR29FYVn4u06+8VHQYVm89rBNRgmIXyriFjt3IQcnBxnIHUdapP8AETRIrPW7ub7Slto179gkk8sN9onwv7uIKSXbcwXGBz7c0v6/G356Bv8A15X/ACOqorltF8e2mq67Ho97pOraJf3EJntodUt1T7Qi/e2MjMMrkZUkMM9Kp6H8UNN8Ra8+maRo+tzmC7ls7q7FmPs9tIhI+d93Q4yMZ4IzjNOzbsB2tFeS+AvFVj4Z8L3y3Udxd3l94mv4LOxtEDz3D+cSdoJAwByWJAA6mvRLfxHa3Piy78PLFOt5a2kV3IzKuzZIzKACDnIKHPGOnJpLVJ9/8rg9L+X+djWorl1+IOijSPEGp3H2m3tdAvHs7tniyWkUL9wKSSDvAHQ57Vb0LxQdaW4N1oeraKsEaybtUhSNXU55DK7DjHIJBHpRf/MDdorho/ixpDrBdyaXrUOi3Ewhi1uW0AtHLHCtndvCMSAHKBeetWdd+JWmaF4nl8Pf2Zq+paqlsl0ltp1qJTKjMVyPmAG3byW2jkYJJxQB2FRXf/HlP/1zb+VZXhTxVp/jDRf7R0xbiIJK0E9vdReXNbyr96N17MPqa1bv/jyn/wCubfyoasJ7M5iiiisDzwooooAKKKKACiiigAorN12ym1HSZLa31SbSt5HmXUAXzFTPIUtkKSON2DiuL8KNcaf8Tb3R9L16/wBc0dNPE1yby6+0m0uC+FUSHkZUE7c+9Nauw7aXPRqK8o+Iuu6re3Uj6HqFzZadot5bQXEttKUN1cSSoGiyOqoh5H95gO1XvH2pNb+ILuDUdYvtLt00ky6X9kneH7Rd7mBHy/6xhiPCHI+Y8HNLon6/lf8AHoVya2/re3/DnpNFcRZ3+qeKb6w05JpbWLTFhl1q4gYoZLnYG+yqRjGCQz47YXucdvVNWICiiipAKKKKACiiigAqa1/1p/3ahqa1/wBaf92mhx3LdFFFWbBRRRQAUUV5R8Q9I1Xwt4ZvfFVv4z1t9WgnR4ITOFtZCzhRF9nA2kYPucjOaOo0r6Hq9FecePPFPka7o3h691ibRIbu2e7vpbJWa4kC4VYYtoLAliSSo3YTjHNV7jVbGL4f6zceDfEOrXvlzxR3Zup5ZLixj3qspAlHmIdm48jtkdKOl/63sFtvM9Pory3SPFbaW2sQaBeXGv291dRW+gi4umn86cxZlAlbLNEmNzMSQvzAc8V6BoGmXGkaJBaX2oT6jdAFp7qZiTJITliAfurk8KOAMCiwjSooooAKKKKAKmo/8e6/7/8AQ1mVp6j/AMe6/wC//Q1mVnLc5qnxBRRRUmYUUUUAFFFFABRRRQAUV5bqeuapqvjrQ9Tsr+4t9EbVv7Pt4YpSqXgVHMkrAcMu5Qq/7pPetW4gvfGPjzWNOfWNR03TNFjhjVNOuDA800i7yzMOSAMADpTSur/10/zRo4Wer/q9jvaK8qGt6lBpMuk6xq10LXTNeFjfamsnlym1Kb0Z5FwVOSilhj6jJq7pOv6jNoraLo95Nd3t/eXCaZeXDGRorJWA+0sx5cKSQpJ+c7eSM0Wvt/Wz/X8+wOm1v/W/+X5HpFFQWNqLGwgtRNNOIUCebPIXkfA6sx5JNT0jMKKKKACiiigAooooAKqXf+tH+7Vuql3/AK0f7tYV/gKjuQUUUVwmoUUUUAFFeb+N9U1l9fuLjRLu4jtvDMEV3dwQsQLlncM0bY6gRKTj/arsb3xJY2MGlTv5ksGqTxwQTRgFQXBKlskYBxjvyRWnI7J9/wCvxKcWv6+Zr0VkL4ksW8XN4dAl+2Lbfad+0eWRnG3Oc7uQcY6Gol8V2kljf3UNpfTpZXbWhWGDzGmkXAOwKTkZOMnHQ5qeV/19wrM3KKwdM8VwalfXNg+nX9jf28In+yXcaK8sZ43IVYqRnjr1pB4y0w+CT4oxOLIRlzGVHm5DbdmM43buMZ60csg5Xexv0UyJ/NhRyjJuUHa3Vc9j70+kIKKKKQBRRRQAUUUUAFFFeb+N9U1l9fuLjRLu4jtvDMEV3dwQsQLlncM0bY6gRKTj/aqox5pWKjFvY9IorIvfEljYwaVO/mSwapPHBBNGAVBcEqWyRgHGO/JFC+JLFvFzeHQJfti232nftHlkZxtznO7kHGOho5ZdielzXorDXxXaSWN/dQ2l9OlldtaFYYPMaaRcA7ApORk4ycdDmm6Z4rg1K+ubB9Ov7G/t4RP9ku40V5YzxuQqxUjPHXrRyu1x8rN6isAeMtMPgk+KMTiyEZcxlR5uQ23ZjON27jGetbkT+bCjlGTcoO1uq57H3ocWtxD6KKKkAooooAKKKKACiiigAorzfxvqmsvr9xcaJd3Edt4Zgiu7uCFiBcs7hmjbHUCJScf7Vdje+JLGxg0qd/Mlg1SeOCCaMAqC4JUtkjAOMd+SK05HZPv/AF+JTi1/XzNeishfEli3i5vDoEv2xbb7Tv2jyyM425zndyDjHQ1Eviu0ksb+6htL6dLK7a0KwweY00i4B2BScjJxk46HNTyv+vuFZm5RWDpniuDUr65sH06/sb+3hE/2S7jRXljPG5CrFSM8detIPGWmHwSfFGJxZCMuYyo83IbbsxnG7dxjPWjlkHK72N+imRP5sKOUZNyg7W6rnsfen0hBRRRSA6Xwf/y+f8A/9mrpq5nwf/y+f8A/9mrpq9fD/wAJHZT+BBRRRW5oFFFFABRVLWtVt9D0K+1W8OLeyt3nkP8AsqpJ/lXgPw28UeLNL+IXh288XaveXOn+NrWeWG2nmZorWXzGZAisTtG0IABjiQDtRHWXL/XW332YPSPN/Xn91z6LorltP+IWkah4s17w75V1bXmhRCa5a4VBG8ZGdyEMcjBHUDrWLa/GzwvefDe88aRRX/2CzuBbSW7RoJy5KgALv287gfvdM0r3V/610HbW3yPQ6K4XW/itp2jTpbxaB4j1W6+zx3FxBpmmmZrVHXcvmHIUHHoT0qKX4zeF08O6HrkYvZtO1m8Fkk6RKBbS5xiUMwK455G7ocZ4zVtbf12Jvpf+u/5Hf0Vzk3jfTYviHB4NSC6m1KW0N40kaKYoYwSPnJbIJI4wD1FdHS6XH1sFFFFABRRRQB5t42/5Lt8MP+4t/wCky16TXm3jb/ku3ww/7i3/AKTLXpNABRRRQAV5t42/5Lt8MP8AuLf+ky16TXm3jb/ku3ww/wC4t/6TLQB6LcAtayhRklCAB34r5z0fStO/4VTFoTfC/WX8WG3kjivxoZt2S4LMY5DdMFKhTtOc9sc19IUUrb+Y07HlV1a+IPCHi3w/4m1XTr/xCq6Aulai+mx+fNFOHVzL5fBZWOckenPbNnw3aapr3jjxH4wn0i90iyuNMTTrO2vY/LnuNpZjI0fVeTgA84r0yinL3k7+f43v+bFHT8Pwtb8kcV8MdNvLT4N6Jp19bS2l2tgY3huIzG8bHPDKRkda801C58Qv8BZfAkfgvX31eytVtp5BaEW5WOQHfG+T5uQBgKCeewGa+gKKbd5OXf8Ar9Qj7qS7f1+h5z49h019RtZJ9K8Uw6tBaf6JrGgWskjKCeYSUyDyASsg289etVb9JrvwR4a/4WLo+uT64sTSHUNCtnaaxmxjJ8nJVmUjIClCQQe1eoUVNtLAtLeljx3VbPxZq3wXEOsWuoXt7/bMDWqzWw+1taLdIUaZIxgOFBLccAZPOaueMZ/Ecvjq9tL248WWujCCI6WPDNoj+fIeJBLKUbYc8AMVXHOa9WopvX+vJL9AWn9ebf629DhPgxpt9pHwq02y1W1urS6jlud8V2m2QZnkILfUEHPQ5yKjm0OXUPjTqrX1hNJpV34ZWzkmaNvKcmZt0e7pnaemc4rv6KJe87vz/FNfqGqTt/WtzyP4YeHfEI8Rv/wlltMkHhO3fSdJllVgLoM5JnXPX92sSZGe/wBKz9P8M68Pgn4fMGk3L6houunU302VfKlnjS5lJUBsclW3DPXAxnjPtlFF3o+un33v+YaWa/rZq33Hll9e6j8RfGPhY2HhzWtJsdFvf7Qu7zVrQ2pyEKrEik5cknkjgDua2/BVheWvjrx3cXVpPDDdahA9vJJGVWZRbqCVJ4YAjGR3ruKKOj+f42/yQPX+vX/M8Qs/Devx/BPw68GkXUl/omvHU5dMkjMc08SXMpKqrY52sGHrgY7V0niTxJeeNfhz4pstN8KeIbQnSpQh1CxMLTSMuBHHHku568gY7Z5r0uik1eLi+v8Alb9Cr+9zf1vf9TzfxjpeoXXg3wRDbWNzNLa6vpkk8ccLM0SJjczAD5QO5PSsnxH4eGm/FLVtW1rTvEl5pWr29uYLjQZ7nMEsalGjkjgYMQRhgxBHJHrXr1FU3dt92396S/QhKyt5Jfc7nkXiDw4n/CpJIfDXh7WLZrrWba6e2vC891L/AKRHulYFnYZVc4JBAGSBXS+LrC8ufid4Dura0nmt7We8NxNHGWSENbkKWYcLk8DPU13FFH9fgl+gf5W/P/M+fJpNdvrrxtZ2S60NAvdWuFvf7H0yC6Vkwqv5UrTBgzKMMAj4OcYOa7ay8jWPH3gTWfDUE8+hR6Ndxx3IhbZEMRqiucfK3ykYPPBrWf4X2cct6uleI/EOk2V9K001hZXaLDuY5cruRnTcSSdrDrxiur0nSrLQ9ItdL0qBbeztIhFDEpJ2qOnJ5P1PJpR0ivJL8mv10HPVvzb/ADT/AE1Pn7xfa+MPEXg7V7bWV8bXOvmRw+m2dkiaaI1lBXawT96NuMbWLk9uDXoniU6h4Z+J+m+LF0TUdX02XSG02ddNgM81s/mCRW8sclT0JHoM9s+k0ULRK3T/ACsNu+/9ap/oeYeDhq+o+OfHOsajoF/pEOoWdoLSO7T5pAqSr1XK7uhKgkjIB5rlLG88Qt8D7bwA3gnXE1m8sBZxyyW2LVFcn95JL/yz2qclWAYMMY7171RRZO6ezt+F/wDML683X/hv8jy3xiviHTdT0XS1ufENt4cj03ZLc+HLMT3D3KYAVvkZkTaOCBgk4Nc7pHgzxBqXwg8eaQlnqceoX2rvc2q6xtE90oELjcwwhLbCuQducjsa90oou9X1f+dxLS1ulvwVjiNH8b3PiOM6evhDxFp0htXNxLqFl5MUTBSNqsT+8JPA2g8c8VyNxoerN+ybHpA0u9OpjT40NkLd/O3CUEjZjdnHOMV7LRT7+dvwv/mEfdafb/gf5DIgRCgPB2in0UUhJWVjnfiDbT3vw38RW1nBJcXE2mzpHFEhZ3YxkAADkk+lePz6Va6p4S0nS/Bvw81XRvFkQttmsvo32BbaRSvmSPMQpYY3cc7s9K+gqKI6Sv6fgU3ovn+Nv8jyjxfP4lk8b3lnf3Piy20cW8J0z/hGLRH8+QjEnmylG2HdwAxVcc5qDwx4K1DU/wBm8+Hr+1uLLVV+0y263ilZYp1uHkiY/UhTkdQeODXr1VtSshqWl3VkZ5rYXMLRGaBgske4Y3KSCARng4NS7qDS3Gnqr7f0jy3wFaXnxD8L+JfFOoRtZXfiO0Om2hY/6mGOIxkjHQGVpG/AVj6D4e02Tw/p+g+I/CnjabVIljt7q0+2XZsmZcAuJDKIfL43AZ46AV7HoOi2nhzw/Y6NpoYWtjCsMW8gsQBjJIxknqfc1oVo7KV47afh/wAPqZq/LZ/1f/hkcPYafeR/HTVr9rSdbKTQraJLkxny2cSyEqG6EgEHHXmu0uAWtZQoyShAA78VJRUNXjy+v4tv9SlpK/8AWiS/Q8k+FfimXRPBeheGdT8LeKILyP8AcSSto0whQtIcMXIwFAYZPasHQ/C9roOj3Ph3xRoHjS8vYZpo0OmXV21pfRM7FGBSQRJlT8wcrg5z1r3miqfvO76gtFZHmfjrTL3w3ZeGPE3hPRru5udBH2R9MtlM0r2kke0pxksVZUOcnoTmszV/h/qkXwa0S0htri71Wyv4dX1G3t5zFNdSMxadVcEEMN7YII+6MV6/RS7+t/1/PVhorelv0/LQ818JaZoN34qs76x0DxctxZxyMl3rk10sdsWXaVCzyfMxBx8qsPU9K0/hVYXmneH9Wj1C0ntXk1y+lRZ4yhZGmJVgD1BHIPQ129FO+vyt+Kf6Ct+f6NfqeEeHfDeveEb668cWOkX13OurX1tf6W8LGWWzkuNyzW6nkMDhsLw49+a6zVdRvvDHxWm8QN4f1jVNL1bSILeN9Ns2mkiljd22yJwUyH6nv1xzXpdFJaKK7f5W/wCD6jerb7/53/4HoeS+F7SZfCHjiXxf4S1KW31HXJZ30pIfNlkidYsFQCN+OuUJ5U4yRUnhzTda1VfEui2U+vJ4YutLa3s38QQtHPDcOGUiMuBK0YUjl88jg16tRSaTVvK34W/rzHd3v53/ABueGaD4e02Tw/p+g+I/CnjabVIljt7q0+2XZsmZcAuJDKIfL43AZ46AV3dhp95H8dNWv2tJ1spNCtokuTGfLZxLISoboSAQcdea7iiqu27+v4qxPKrWXl+DucP8N7C8sb3xk17aT2wufEdxNAZoynmxlIwHXPVTg8jjiuzu/wDjyn/65t/KpagvmCafcOeixMTj6Gl9lLskvuVgl1fqzmqKpf2nD/dk/If40f2nD/dk/If41z8yPM549y7RVL+04f7sn5D/ABo/tOH+7J+Q/wAaOZBzx7l2iqX9pw/3ZPyH+NH9pw/3ZPyH+NHMg549y7RVL+04f7sn5D/Gj+04f7sn5D/GjmQc8e5T8UXRtNEdm0KXXbd2CXNnCqOxjIOSEbh+cfL7+1cPoFhPd+Por7wj4fvfC+jrZyx332m0FqlxKQPLKwZ5KnndgcAjPTPon9pw/wB2T8h/jR/acP8Adk/If40KS/r7ivaxtY8n8SeAPFmk+BY9NsvEI1SBb2GQwQ6P+9dzMGMrMHYnBO4k9cdRXoGrz6/Y6DZ6bYub/Wrw+Qb9bUpDB3aZwCQu0dFz8xwB3xsf2nD/AHZPyH+NH9pw/wB2T8h/jT501ZjdVN3PN/EXhS10u7W0n0e/1bTF0l47IwwvO4vi5ZpX2/dkfKnzTgDB5Hf0XQoby38O6dDqj+Zex2saXDk53SBQGOe/Oeaf/acP92T8h/jR/acP92T8h/jRzq1v66/5/kKVSLtr/Wn+Rdoql/acP92T8h/jR/acP92T8h/jS5kTzx7l2iqX9pw/3ZPyH+NH9pw/3ZPyH+NHMg549y7RVL+04f7sn5D/ABo/tOH+7J+Q/wAaOZBzx7l2prX/AFp/3azP7Th/uyfkP8at6dex3FwyoGBCZ5HuKaauVGUW9zTopM0ZrQ6BaKTNGaAFrx6XxJPrnjQan4o8K+KPsGkzn+ytPh0aaRGccfaZDjDP/dA4Xrkk17BmjNJaO401ax554jlvdM8b6H40tND1LULGTTnsruC2ty9zbh2V0YxdeDkNjkfzm8HxX9z4s8S+ML/Tb3S7K+igitrS4iIuJFiU5kaJckEk4C/e9q73NGaeysvO3zBu6+6/y/4Y8y1fQ9c17wtq3iK5tLlNWvI1jstPVtstrZeYpeMc8SyICWwQeVXjFa3gDT0tNX12fSdNudK0GdoPsdpPbvb4kCHzXWJwCgOVHQZKk812+aM0Xtov6/r89RN3Wv8AX9fkLRSZozQAtFJmjNAFXUf+Pdf9/wDoazK17mBrmMJGQCDn5qq/2VP/AHo/zP8AhWbTuYTi29ClRV3+yp/70f5n/Cj+yp/70f5n/Clysjkl2KVFXf7Kn/vR/mf8KP7Kn/vR/mf8KOVhyS7FKirv9lT/AN6P8z/hR/ZU/wDej/M/4UcrDkl2KVUNbsJ9U0K9sLO9awmuYWiS5RdxiyMbgMjn8RW5/ZU/96P8z/hR/ZU/96P8z/hQ4tqw1Gad0jxnWfBni2xk8K2dnr0dzb2d6qwm30UKtmBGwEjYc5HbnHJ61stPf+C/GurXt1pOpatZaxDbyCfTbXzSk0aFGDIDlQQAQenOK9N/sqf+9H+Z/wAKP7Kn/vR/mf8ACqvIr3nuv6vc898Kx6ho2i674h1fTbhLrU7yS9TT4U8yZU2hY0IXPzkKM+mecYOM7VfDl/8A2Lb6nrNrJf3l7fwzazb2ymTFqA2LdFHLohKkqM7juODnFep/2VP/AHo/zP8AhR/ZU/8Aej/M/wCFLW97dvwD39dN7nFeA7KWy0m+UW01nYyX8slhbToyNDAcYGxuUBYMQpAwCOK6irv9lT/3o/zP+FH9lT/3o/zP+FDTZLhJtuxSoq7/AGVP/ej/ADP+FH9lT/3o/wAz/hS5WLkl2KVFXf7Kn/vR/mf8KP7Kn/vR/mf8KOVhyS7FKirv9lT/AN6P8z/hR/ZU/wDej/M/4UcrDkl2KVVLv/Wj/drY/sqf+9H+Z/wrM1K2e3uVRypJQHj6msMRpDU1pUak5WirlOilxRivP5kdX1LEfyMSmSyCKF5CrMEUttRcscdgB1NSYoxRzIPqWI/kZ574b8I32paPc6lqWqavpVzrM0txc2cYiUKGJCqQ8ZYHYFGM1FY6Lqdz8MtS8PXNvOt5o87x6fLLGR54iYPC6noc4C8elej4oxWjrdv+Gtt9xf1XE3u4dTzVo9SXT4vGI0m9Oof2k0zWf2djP5Bj8jbs+92D4q9dWWueH/htp1vown+2eZG+oSW0IknVXJaZkQjltzdMdPpXeYoxQ6y/L8OgvqmJ/kf9f5HmnhSwvB8TPt+PENxZHSpIlutai2kt5qnao2qVHXhgCeSOKrvpdwPiC/hEQ50qa+XXWIPyiPBzHj0MwBx6V6nisy10G3tPEN9rIlmlur2OOJhIwKxImcKgA4BJJOSeapVle/ZfrdfiN4TENP3Hr/w35XNKilxRiseZEfUsR/IxKKXFGKOZB9SxH8jEopcUYo5kH1LEfyMSilxRijmQfUsR/IyOWQRQvIVZgiltqLljjsAOprgfDfhG+1LR7nUtS1TV9KudZmluLmzjEShQxIVSHjLA7AoxmvQsUYqlUSTKWExKWkGecWOi6nc/DLUvD1zbzreaPO8enyyxkeeImDwup6HOAvHpTGj1JdPi8YjSb06h/aTTNZ/Z2M/kGPyNuz73YPivSsUYqvbb+f8AT++w/qmI/k/rscHdWWueH/htp1vown+2eZG+oSW0IknVXJaZkQjltzdMdPpVDwpYXg+Jn2/HiG4sjpUkS3WtRbSW81TtUbVKjrwwBPJHFel4oxTVZK773/EX1TE8tuR/1qeWPpdwPiC/hEQ50qa+XXWIPyiPBzHj0MwBx6V6lWba6Db2niG+1kSzS3V7HHEwkYFYkTOFQAcAkknJPNaeKmVRNJf1/VrBLB4hyvyP+t/xuJRS4oxUcyJ+pYj+RiUUuKMUcyD6liP5GJRS4oxRzIPqWI/kYlMlkEULyFWYIpbai5Y47ADqakxRijmQfUsR/Izz3w34RvtS0e51LUtU1fSrnWZpbi5s4xEoUMSFUh4ywOwKMZqKx0XU7n4Zal4eubedbzR53j0+WWMjzxEweF1PQ5wF49K9HxRitHW7f8Nbb7i/quJvdw6nmrR6kunxeMRpN6dQ/tJpms/s7GfyDH5G3Z97sHxV66stc8P/AA20630YT/bPMjfUJLaESTqrktMyIRy25umOn0rvMUYodZfl+HQX1TE/yP8Ar/I808KWF4PiZ9vx4huLI6VJEt1rUW0lvNU7VG1So68MATyRxVd9LuB8QX8IiHOlTXy66xB+UR4OY8ehmAOPSvU8VmWug29p4hvtZEs0t1exxxMJGBWJEzhUAHAJJJyTzVKsr37L9br8RvCYhp+49f8AhvyuaVFLijFY8yI+pYj+RiUUuKMUcyD6liP5GdJ4P/5fP+Af+zV01c14QGPtn/AP/Zq6WvXw38JGihKmuWSswoooroGFFFFAHm3xxg1rVvA8Hh3w7ZXVxPrV7FazSwQs628O7LO5A+VchQSccE1wnxD+GHjzT/Cenajb+K5PEsvh2eGTT9OtdCjhkTDKoKmMljgAHGDwPavoSiktNVve/wB39fiPff0+/f8AryPnn4raP4nn1/T/ABR4S8P6hJN4m0NtN1G3S3ctbFwv+sAHykBgPmx9ys27+GOu6X8QLLwVp2mXT+FL29sdRuLyOBzChhiKyKzfdBYgnBPXbX0xRVR913Xf9bpfJktXVn2/S1/u0PC/iEPGUvxKu7e9HjY+H2gT+yh4RKxgyEAN58n8I3Z+906jiqXg34danqn7NWueG9Z026sdT+2T3FtFdIUfzECshBI5BKkbhwQTX0DVTVtPXV9GvNOe4ntlu4Xhaa3YLIgYYJUkEA88HFZ2ag0t2v1ui01zpvv+ljxf9ng6l4ovdc8ca7g3E0cGlwtg/dhjXeefU7CffNe51ieEPCem+CfC9roOi+abW23YeZgzuWYsWYgAE5PoK262k03p/X9MzirLX+u34BRRRUFBRRRQB5t42/5Lt8MP+4t/6TLXpNebeNv+S7fDD/uLf+ky16TQAUUUUAFebeNv+S7fDD/uLf8ApMtek15t42/5Lt8MP+4t/wCky0Aek0UUUAFFFFABRRRQAUUUUAZ0Ov6ZP4juNBjuc6nbQJcy25jYYjY4DAkYYZGOCcd6L7X9N07VrHTLy58u81ASG2iEbMXEa7nOQCFAHc49OtcZ8QGPhzxv4T8XRnZCLk6RqB9YZ8bCfZZFU/jS6Up8Q/FfxLrbAtaaHaDR7RuxlYeZOR7j5F/A1Lfu37Xv8tvzj947a29Px/4Zv0Rd0/4weCdVure30/VLmd7mRY4iumXQVmJwPmMWBz3JxXTWOu6dqWq6jptlceZd6Y6Jdx7GHlF13KMkYORzwTXl/wAGtf8AEkfgHw7YReDLiXTMFDqg1C3ChDI2X8stv454xk4roPBH/JVPiJ/19WX/AKT1paza9fzX+ZN+v9dTttT1G10fSrrUdQkMVraRNNM4Rn2ooyThQScAdhVa58RaVaeGG8RXF2E0pbYXRudjH90V3BtoG7oemM+1Xbu1ivrKe0uUDwzxtHIp/iVhgj8jXh9lJLqHwz0b4eXuWuR4hOiXaZJLW1u5mY/QxKgz6H3qNXdLfS332/VFaLV7a3+6/wCj/A9lPiDSx4Z/4SE3Q/sr7L9s+07Gx5O3fuxjP3ecYz7VasryDUdPt72zcyW9zEssTlSu5WGQcHBHB6GvDkmlf4T/APCumlcXo8Q/8I8Tzu+z+Z5u/wCnkfhXd+JdU1y88b2HgrwnqEWi408391fm2WZ0iDiNI40b5ck5ySDgdKrR6x2e33X/ACa/EnVaPpv99vzv+B3U0qwQSSuCVjUsQOuAM1yr/EjR08AWPi3yL5rXUDGtpaJCGuZpHbasaoGwWJ98e9ZGga5rtr4m8QeDfFGoRatNaact/aaglusDyxPuUrIi/KCGGARjI5rg4dPvrr4OfDGS01m5sUOoWcQjiiiYCQu+JcuhO5fTO09waS1fq4/i2n+VvUbdvuf4JNfme6aVftqemxXcljdae0mc214qrLGQSOQpI7Z4JGKp654ls9AvtItbyOd31e8FnAYlBCuVZstkjAwp6ZPtXF+M9Z17w9qelWV94jvNK0QWbG58QR6bFOz3O7CpJ8hSJSOc7ACeMiqfxEbUbu0+HbaRq9lfX0usReVqTRboZSYJMy7EbBBGSADjPfFC1at3S/G39XB6Jryb/A9YorzvR9R8UeHfiZa+GvEmtpr9nq1jLc2twbOO3kt5Iiu5CE4KkMCCec8dsmXQfE2rXvwz8Sarc3e+9srjUkt5fLQbBC8gjGAMHAUdQc45zSk0o83k39zsNJuXL5pfernf0V5Rq3irxXJ4H+HU2janBBqniCW3iu7i4tldG327MzFQBggjcAuOQB0zWj4g1DxF4ch8N6DdeKk8/Vr2WGfX57KJGiVULqip/qw7Y2gkEdeCapxabXZ2/L/MlNNX8r/n/kejUV538NdR1vUPEnii31TxVJ4hstMuktbaZbaCKNiUDtzGgJdSdp5x7CvRKOiY+rQUUUUgCiiigAooooAKKKKAKup6ja6Ppd1qWoy+TaWkTTTSbS2xFGScAEngdhUcmtafF4ebXJLjGnLa/azPsbiLbv3bcbvu84xn2rG+JX/JLfE//YLuP/RZrz698T+LW+C89q3gC6SyOgGM3x1S1KiP7PjzNm7djHOOvapcrRk+1v1/yKiryin1v+n+Z7BYX1vqenW1/YyebbXUSzQvtI3IwyDg8jg96sV5JqHjC88PeAPAekaXPLaXOsWMYa8hsXvJLeKOBWYpCoO5iSoGQQMknpWj4P8AE+vXGuarp11c6lqmmx2BurbU9Q0Z7GSOUHBhYGNEfjDAhR3BzVztFyt0v+BELyjFvrb8dD0qsbUvFWl6f4QvPEsdwt/ptpA9w0li6y+YqZyFOdpPBHXrXEfDoeOPFXguy1/W/GXlf2hZEJb2enQDyznCylmU5fg5GNvPA4zXJeGdPvoP2WdWu59ZuLm1l0i8WOxeGJY4SHfLBlUOc4PViOampeKl5L/P/IqFpcvmz3ayu0v9Pt7yEMsdxEsqBhyAwyM+/NT15DDf+NfCVh4O1TUvEFrf2GpXNpp8+lRWCxxwrKoCskmS5ZcDO44PPA6VteP/ABHHo+rCO8+JNp4WjMOYbSOzimnZjn5337js44AVe/zVVS0W/VomF2l6XPRK5fxD8R/C/hbV10vW9QlhvWhE4iisp5jsJIDZjRgOQaZ8MvFFz4x+Hema3fCP7TOrpK0SlVdkkZNwB6A7c4965bVNT1HTP2gbqTSdCudakbw3ErRW88MRQfaG5JldRjtxk+1KSaly+v4Jv9B/Zb/rdI73TfFWhav4c/t7T9VtptKCM7Xe/aiAdd2cbcdwcYrP8O/Efwn4r1E2GhaulxdeX5ixPDJE0if3k3qN491yK8/8JaAPF/gjx54bvnfRNc1LUpbm9sSmfsDSbWjHBxIpCA7hjdk9K6LQ/F2q2PiTS/DfxC8PwWeqSq6abqtmwltbplTLBcjdExX+E9cfQUdfkvyvv1/XoD0Xzf8AVv6sbviD4keE/C+ojT9a1dY7zbva3hhknkRfVljVio5HJxW3pGsafr+kwano13FeWVwCYpomyrYOD+IIII7EVwnwPiS48Cz6zcKDquqajdS38rcuXErKFJ9FUAAdBXoyRpGpEaKgJLEKMck5J/OjZa7/ANf1cHu12bOR1n4reDdA1i70zVdVlhu7PH2hVsbiRYsqGGXWMr0IPWuo0/ULTVdPgv8ATbmO6tLhA8U0TBldT3BrynT9Y1rS/id8RBoXha5153ltD+6uoIURhbjCt5jA8/7INZ3h/wAWL4K+BWm2+jyE6q2qNpkySWjsbG5kkZ5FMK5ZigJwo+9x60L4b+n4/wBbja1+/wDD+tv8j2+ivLvCnifXz43sdNe/1jX9MvIJPtFxqPh97A2ciLlSH8tFKtyNpyQcc1J8P7vxn4n1C91TUvE0Uel2Or3dpHYRWEZa4jSRlHmSYyCOANuOF5yTTSu7fP8AGwr/ANfK50lt8RNBl0G41i6knsrODUn0xmniJJmWTy+Am7gt0P54rqa8Q03XNR8O/CfWb7R7j7Pc/wDCXTRb9iv8j3oVhhgRyCRXT6vf+LtX+LN94Z0HxBFo+nw6VBdtKbJJ5UcyOp2Bhj5sDJbIAHAyc0lrFef/AMimD0b8v/kmj0iqup/8gm7/AOuD/wDoJrl/htruravperWfiG4ivL/RdUm06S7iiEQuQgUhyg4UkNyBxxXUan/yCbv/AK4P/wCgmiW39dSZbNep53RRRXCeEFFFFABRRRQAUUUUAUtX1ex0LTZNQ1SYwW0ZUM4RnwSQBwoJPJHaqWjeL9F1+8a10u4mlmVDIQ9pNENoIHV1A7jijxbpN3rPh9rTTjALkTwzJ57FUOyRXwSASM7fSqFv4n1O28Rw6H4g0yC2nvIJJbS4s7gzRylBlkIKqykDn0NNWs/66GqinG63J73x94Y07VH0+81aOOeNxHJ+7cpGx7M4G1T9SMVc1XxPpGiSImo3ZRnjMuI4nl2xjq7bAdq/7RwPeuX8GWltcfBgidFcXltcS3JbB3uxfcT7/wCFUdI0rVrnwfZaraT2QS90COzu3vnZfJVQxEowDu4Y5BxnA5qnFK67f8H9UXyQv+H5HoF5q1jYW9vNc3CrHcypFAVBfzXb7oULknPXjtk9KuV5ppmsQWt5a397Z399HZWOdNt4YgzQWigIbqQMw+aTBwBlgoxjk16Na3MV7Zw3Vs++GZFkjbGNykZB/KiUbf1/X9adDKUeWxLRRRUEBRRRQAUUUUAFaWh/8fz/APXM/wAxWbWlof8Ax/P/ANcz/MVUdzSn8aN6iiiuk9AKKKKACuUm+J/gyDWP7Ml16AXHneQWCOYhJ/cMoXYD7Fq6uvO/iikGoeHovAujW0T6nrTr5UEaALbRLIGknfH3VGOvUk8ZNC3SHFJ7nTa/420HwxdxW2tXU8MsqeYgjs5pgVzjrGjAdOhqtp3xH8K6ra6jc2eqHytMRXu2mtpYfKDZ28OoJJwcAZJ/Gtm9vbXQNBnvLyQra2FuZJHPJ2ouT9TgV5/oHhK/1/4b3moXTR2+t+ILuPVyZQSqbXV4I2xztCIo9Rk0d/66/wCV/uBWsm/67/15neaL4h0zxBFO+l3DSG3fy5o5YXhkibAIDI4DDIIIyORU2lavY65p632lz/aLVmZUlCMFfaSpK5AyMg8jg9jXlmtXF9bapryavcRWxvRBLrbaW7yfZLZV2RQRsVUtNMxI+6MKfoa9B8L65Y6hFPplnptzpEuliOJ7C5iVGhQr+7xsZlKkDjBOMYOKfS/9f1/XqNW/r+v69dN6iiikIKKKKAHxfe/Cpaii+9+FS0FIKKKKYwooooAKKKKACkd1jjZ5GCIoJZmOAAO5NLSOiyRskih0YEMrDIIPYikByunfE/wbqutRaVYa5DLdzMUhHlusczA4ISQqEc/7pOaseI/H/hjwndLba9qq29w0Zl8lIpJnVP7zLGrFV9zgVzfjqKHxL4n8O+D9GhRpdOvoNTvpIxhLGCPO1cjoz9FUc456c10nibUdU0dJZvD3hOTWrmeIl3inhhGV4VXLsGPU9AaG0o83r/X36fIq3vWLk/izQ7fw/BrbahHJp9wVWCWBWlMzMcBUVAWZs54AJ4PoaksPEek6locmsWl6hsYg5llkBj8rZneHVgChXByCARXnXg3w8198MfDh8N3kE9/ouovcyQ3aPBGJsyCWBhtLR7fMIBwegOOaoSOyT3em6uDeWEmsNNqVvpylxfX0hBjsIt20MiqoaRm2g4wcfMKpr3nH7vw/zf4LqhK1r/f+P+S/Hsz1/T7631TTre+smZ7e4jEkTNGyFlIyDtYAjj1FWKyvD3iC18RWEs9rDcWz287W1xbXKBZIJF6qwBI7g5BIIPWtWkxeoUUUUAFFFFABRRRQAVz+vf8AH+n/AFyH8zXQVz+vf8f6f9ch/M1yYv8AhHoZd/H+RmUUUV4x9GFU9V1Wy0TT3vtTm8i2jKqz7GbBYhRwAT1Iq5XHfFYlfhzfFV3ESwEKDjP75OKuCUpqL6tfmRUk4wlJdEzpdV1Wz0TTZdQ1ObyLWHG+TYWxkhRwAT1Iq4DkZFeX/EHXPEF34Gv4L/wlPYW7mLfctfQSBP3q4+VWyeeOPWuj1zUtXvPFNn4a0G9TTXazN7c3rQiV1QMFVUVvlyTnJPQVfsnyr1f4JMj2yu/l07ux1tFcdomr6xZ+JNV8Oa3epqE1tZre216sIiZ0JKkOo+XIYcY6iuYj13xtH8O7Hxg+t2spAjL2Bs1CTIz7Ms4+YNkg/LgDpjuRUm3v2/G9vyFKuktn1/C3+Z6xRXEx3niTQ/GWjWetatBqVvrAlRoY7URC2kRN/wAhByV7fMSay73xbqGpa5q0Vrqt/pcFhO1rClloz3YkdcbmkfYwxnI2qQcd6PZN7ev6Fe2S30/q56VRWR4V1K+1fwxZXurWrWl5Ih86Jo2TBBIztbkA4zg+ta9Zyi4tpmkZKUVJdQoooqRhRRRQAUUUUAU9V1Wy0TT3vtTm8i2jKqz7GbBYhRwAT1Io1XVbPRNNl1DU5vItYcb5NhbGSFHABPUiua+KxK/Dm+KruIlgIUHGf3ycVgfEHXPEF34Gv4L/AMJT2Fu5i33LX0EgT96uPlVsnnjj1renT5+Xzdvy/wAzCpV5G15X/P8AyPUAcjIorktc1LV7zxTZ+GtBvU012sze3N60IldUDBVVFb5ck5yT0FR6Jq+sWfiTVfDmt3qahNbWa3tterCImdCSpDqPlyGHGOoqOR8vN8y1UTly+i+b/wCHOxoryePXfG0fw7sfGD63aykCMvYGzUJMjPsyzj5g2SD8uAOmO56KO88SaH4y0az1rVoNSt9YEqNDHaiIW0iJv+Qg5K9vmJNW6LTauuv4GccQpJOz6P5P5nbUV5re+LdQ1LXNWitdVv8AS4LCdrWFLLRnuxI643NI+xhjORtUg4712fhXUr7V/DFle6tataXkiHzomjZMEEjO1uQDjOD61EqbjHmf9XNI1Yylyrz/AANeiiiszQKKKKACiiigAqnquq2Wiae99qc3kW0ZVWfYzYLEKOACepFXK474rEr8Ob4qu4iWAhQcZ/fJxVwSlNRfVr8yKknGEpLomdLquq2eiabLqGpzeRaw43ybC2MkKOACepFXAcjIry/4g654gu/A1/Bf+Ep7C3cxb7lr6CQJ+9XHyq2Tzxx610eualq954ps/DWg3qaa7WZvbm9aESuqBgqqit8uSc5J6Cr9k+Ver/BJke2V38und2OtorjtE1fWLPxJqvhzW71NQmtrNb22vVhETOhJUh1Hy5DDjHUVzEeu+No/h3Y+MH1u1lIEZewNmoSZGfZlnHzBskH5cAdMdyKk29+343t+QpV0ls+v4W/zPWKK4mO88SaH4y0az1rVoNSt9YEqNDHaiIW0iJv+Qg5K9vmJNZd74t1DUtc1aK11W/0uCwna1hSy0Z7sSOuNzSPsYYzkbVIOO9Hsm9vX9CvbJb6f1c9KorI8K6lfav4Ysr3VrVrS8kQ+dE0bJggkZ2tyAcZwfWtes5RcW0zSMlKKkuoUUUVIzpfCP/L5/wAA/wDZq6Sub8I/8vn/AAD/ANmrpK93CfwV/XU+fxn8eXy/IKKKK6TkCiiigDK8SeJtI8I6JJq/iG8FnYxMqvL5bPgscAbVBJ59q53Q/jJ4A8R6klhpPiS3e5kICRzRSQbyegBkVQT7Dmuf/aS/5Ive/wDX1B/6GKPjLpOnah8Abm5v4YjPZWcEttOyjdG+UHyntnOPxqVK0ZSeya/Iq15Riuq/Wx6vRXhd7408cNd/DfR9E1KC1ufEGkbrp7q3WRQ+xT5pyNxYDJC5AJxnitnx34i1nwhp+lWGsfE7S9Fl8gm41A6R593dSbjgrbrlVTHBPqKuXu/e191yIu/3X+89bor580j4neMfEHwh8X3ula1Fc6p4duVaDVYbJE+12+SSzROpAO0Mfugjj3zN4m+Nerw634LuNElxpc1lb32uAQoyhJpFj2kkEqQd3QjOR1oSvJR72/FXQNpRcvX8HY99orzvwL4n1rxR8SvGfmXofw/pVwljZ24iQYlUfvG3Bdx5B6kj5q9EpdE++o+rXYKKKKACiiigDzbxt/yXb4Yf9xb/ANJlr0mvNvG3/Jdvhh/3Fv8A0mWvSaACiiigArzbxt/yXb4Yf9xb/wBJlr0mvNvG3/Jdvhh/3Fv/AEmWgD0miiigAooooAKKKKACiiigDG8XeG4PF3hLUdDun8pbyEos2zcYn6o4GRkqwB6jpVfwf4UHhTwkmjvetfXDNLLc3rx7WnlkYszlcnHJ6Z7V0NFKys13Dt5GF4K8Nf8ACH+DNO0D7X9s+xIyef5fl78sW+7k46+prnbnwF4lt/F+ta34a8YwaWmsPE8tvLpC3G0xxhB8xkHoT0HWu/opvV8zBaKxBYxXMGn28V/crdXSRqs06x+WJXA5YLk7cnnGTiuQs/hxFafFe68ZLqLGKeJtunCHCxzsiI02/dySqYxt79a7aijrzB0scSnw2gj+LLeNF1BvLaPcdO8kbftHl+V52/PXZxjHvmrXinwXc6xrllr2ga3JoetWkLWwuRbrcRywsQxjeNiM8jIIII9+MdZRR28v6/ry0Dv/AF/X+epyPhvwLJpF1qup6xrMus63qsYhnvpIViVI1BCpHGpwqjOepJPU1VtPhx9l8FeF/D/9q7v+EfvILr7R9nx5/lEnbt3fLnPXJx713FFH/A/DYHrv5/juc74g0bxJqN4X0PxNDptq8HlSW0+mJcjdk/Op3qQcHGDuHHTrWFe/Cm3k8LeGdD0vWbvTk8PXH2iG5jRWldwjgH+6PmfcRgggbcYNd/RQHW5xvh3wPqFj4ofxF4p8RPr+ppbfZLVltFtYreIkFsIpOWYgZYn2rKm+FmpqNY0/S/GNzYaBq0008thHZI0iPLkuFnJ3BCTyMZxkAjOa9Hooavo/Qd3e5xv/AAr/AP4lHgyx/tP/AJFeWGTf9n/4+vLhMeMbvkznP8XpXL/GOOyn8UeFk1y7/snSlFyJdUntI7mAMyqBCySIyAtjIZhgBTjrx61RQ7yd33uJabdrHmXws1OeTWNT0nSL+31jwtZwobXUbfTktEWYsd0K+WqxyYADFlAwSB3r02iim3cXUKKKKQwooooAKKKKACiiigDM8S6N/wAJF4W1PRvP+z/b7WS387Zv8vepXdtyM4z0yKq3Hhrz/h7J4X+17d+lnT/tPl5xmLy9+3P44z+NbtFJpNNd/wCv1Gm0010/r9DjdQ+H32vw34etLPVpbHVfDqR/YdSihVvmWPy2DRk4KMOq59Oa0tJ0XXYluz4g8RjU3ni8qOOCxW3hi/2tu5mLfV8egFdBRTl7179RL3bW6GJ4N8Of8Il4M0zQPtX2z7BAIvP8vy/M5PO3Jx19TXK2Pwu1Cy8I634WXxQZNEvreeCyt209d1l5rFslw2ZMbjgfL1+mPRaKJe8231CPupJdDltc8F/2zofh/Tvt/k/2Ne2l35nk7vO8j+HG4bd3rzj0NU9Q8C6mPGWoeIPDniIaVJqkMUV6klgly37sYBiZmGw47EMuecV2tFN6u79fvElZW+Rz/gbwr/whfhG20P7a1/8AZ5JX+0NGEL75GfkAkZG7HvjoOlY+v+B9dvPHTeJvDfiiLR53sFsZIpdMFyGVXL5yZFxyR27V3FFJ6u4+jXf/ADv+Zw2m/Dm5stP1iaTxPft4h1iWKW51mGJImBix5arFgqEAGCpzkE5NLpngHVZPEun634y8Uvr02lbzYQx2KWkUbsu1pGVSxdsdOQB6V3FFHUDgJfh3rGl61f3ngbxc+g22pTNc3VjNp6XcXnNjdJHllKZxkjJGfwA6/Q9PutL0mK11DVJ9WuVJaS7uERGkJOfuoAFAzgAdBWhRQtFYHq7nn914C8SweLtb1rw14yh0pNYeJ5YJNIW4KmOMIMMZB6E9O9SR/CrT18Fz6K+pXjX1xf8A9qvqw2ib7buDCYLjaOQBtxjHHvXeUUbK39aD6nOaJoviW11BLjxB4qXUoo4yq29tpyWyOT/E53OSR22lR7GpPB/hf/hE9NvbT7Z9r+1ahcXu/wArZt81y23GTnGcZ7+grfooEcBJ8L/M8F3nh/8AtfH2rWjqvn/Zvu5uBN5e3fz027s++O1dBb+F/I+IV74o+2bvtWnxWX2bysbdjs27dnnO7GMdutb9FC0tbp/lb8get/663/M5/wALeF/+Ean1yT7Z9p/tfVJNQx5Wzyt6qNnU7sbevHXpWtqf/IJu/wDrg/8A6CatVU1U40a9I/595P8A0E0ntbsvyJns36nnlFVvOf8AvfpR5z/3v0rhueBzIs0VW85/736Uec/979KLhzIs0VW85/736Uec/wDe/Si4cyLNFVvOf+9+lHnP/e/Si4cyI9Wtb+8sfL0rUv7OuAwYTeQswI9CrdvoQfesbS/Cd1Fr0eteIdZfV72CNorYC3WCKBW+8QgJyxx1J/pW75z/AN79KPOf+9+lNSsV7TSxyUngC+W3utLsPEs9poN27tJYraozorkl0SUn5VOT2OK3NS8NQ3+m2GlJIINJtigltFTPnog+SMtnhcgZGDnGMjnOj5z/AN79KPOf+9+lPmY3WbdzH1rwzcahqT32makLCaazNlPut/NDRZJBX5htYFmweRzyDWzYWUOm6bbWNsCIbaJYowf7qjA/lSec/wDe/Sjzn/vfpS5tLEupfcs0VW85/wC9+lHnP/e/SlcXMizRVbzn/vfpR5z/AN79KLhzIs0VW85/736Uec/979KLhzIs1paH/wAfz/8AXM/zFYnnP/e/Stbw7Izag4Y5/dH+Yqov3jSlJc6OjooorqPSCiiigArzmw+HnizS9W1HUrPxvb/a9Rl3zTzaIskhA+6gYy8Ko4CjA9q9Gopdbju7WOb8T+FZ/FXhm10a/wBT2x+bC9+8cGPtaIQWQAN8gYgeuBxXQSI4tmS1ZIn2ERsyblU44yoIyPbI+tSUU+lhdjlP+EDtW8E3WhS3sz3F5J9pudR2jzJbneH80jpwyrhegUBaveH/AA9c6XqGoanqt+moalqHlrLLFb+RGqRghFVNzEfeYkljkntW7RRcLuwUUUUAFFFFAD4vvfhUtJaqGlIYZ+Wrfkp/d/WmkXGLaKtFWvJT+7+tHkp/d/WnYrlZVoq15Kf3f1o8lP7v60WDlZVoq15Kf3f1o8lP7v60WDlZVqK6jmls5o7Wb7PO8bLHMU3+WxHDbe+DzjvV/wAlP7v60eSn939aTV1Yai0eW+H/AId+LfDcMkWn+ObY+fMZ7mWXQ1eW4cnlnczZJ7e1b+teG/El1q0t54f8ZTaVFOoElrNYx3UaEADdHuIKHjpkjOTiuz8lP7v60eSn939adgs9zjdF8GHw34PutH0LU5Yr26eSaXUriMSu00h+aTaCoz6DoMDOecpd+BbUeGNL0rRrlrCTSLhLqzuHTzv3q5y0i5G/dvfdyCSxOQa7PyU/u/rR5Kf3f1o/4H4bByv8/wAdznPDWgNoNpd/aLv7Ze31093dXAi8tXkYAfKmTtUKqgDJPHWtmrXkp/d/WjyU/u/rRYXKyrRVryU/u/rR5Kf3f1osHKyrRVryU/u/rR5Kf3f1osHKyrRVryU/u/rR5Kf3f1osHKyrXP69/wAf6f8AXIfzNdV5Kf3f1rmPEoCalGF4Hkj+ZrkxcW6R04arHD1Oeexk0U3Joya8jkZ6X9rUOz/D/MdWP4q0H/hJvD02l/afs3mvG3m+XvxtcN0yOuMda1smjJpqMotNdBSzTDyTi09fT/MyvFWg/wDCTeGrrSftP2b7Rs/e+Xv27XDdMjP3cdaqa94Xm1LU7TVdI1STStUtY2gE4hEySRMQSjISM8jIIIxXQZNGTTXMtv66CeZ4eW8X/XzOf0Pwo+m3N/qGpalJqeq36COW6eIRqiDO1EQcKBnPU5qt/wAIT/xbeHwp/aH+qSNftXk9dsgf7m7vjHWupyaMmqvO979vw2J/tHDW+F9fx36+Rk6poP8AafiDRdT+0+V/Zckr+V5efN3oUxnPGM56Gs+TwrqNnrF9e+HNcGnR6g4lubeazE6eZgAunzKVJAGc5BNdNk0ZNJcyG8zwz3i/6+ZFZQS2tlFDPdSXcqLh55QoaQ+pCgAfgKnpuTRk1Li27lrNaCVrP8P8x1FNyaMmlyMP7Wodn+H+Y6ikFLUvQ9KlUVWCnHZhRRRSNDH8VaD/AMJN4em0v7T9m814283y9+NrhumR1xjrS+KtB/4Sbw1daT9p+zfaNn73y9+3a4bpkZ+7jrWvRVKTVrdHf56f5EuKbbfXT+vvOd17wvNqWp2mq6RqkmlapaxtAJxCJkkiYglGQkZ5GQQRijQ/Cj6bc3+oalqUmp6rfoI5bp4hGqIM7URBwoGc9Tmuiop875eXoHJFS5jlP+EJ/wCLbw+FP7Q/1SRr9q8nrtkD/c3d8Y61p6poP9p+INF1P7T5X9lySv5Xl583ehTGc8Yznoa2KKbqSbvfu/v3JVOCXKlpa33HLyeFdRs9Yvr3w5rg06PUHEtzbzWYnTzMAF0+ZSpIAznIJrobKCW1sooZ7qS7lRcPPKFDSH1IUAD8BU9FS5NqzKUUndBRRRUlBRRSE00rmFevGhDnlsLRTcmjJquRnB/a1Ds/w/zHVj+KtB/4Sbw9Npf2n7N5rxt5vl78bXDdMjrjHWtbJoyaajKLTXQUs0w8k4tPX0/zMrxVoP8Awk3hq60n7T9m+0bP3vl79u1w3TIz93HWqmveF5tS1O01XSNUk0rVLWNoBOIRMkkTEEoyEjPIyCCMV0GTRk01zLb+ugnmeHlvF/18zn9D8KPptzf6hqWpSanqt+gjluniEaogztREHCgZz1Oarf8ACE/8W3h8Kf2h/qkjX7V5PXbIH+5u74x1rqcmjJqrzve/b8Nif7Rw1vhfX8d+vkZOqaD/AGn4g0XU/tPlf2XJK/leXnzd6FMZzxjOehrPk8K6jZ6xfXvhzXBp0eoOJbm3msxOnmYALp8ylSQBnOQTXTZNGTSXMhvM8M94v+vmRWUEtrZRQz3Ul3Ki4eeUKGkPqQoAH4Cp6bk0ZNS4tu5azWglaz/D/MdRTcmjJpcjD+1qHZ/h/mdP4R/5fP8AgH/s1dJXNeED/wAfn/AP/Zq6WvawqtRX9dTz61aNabqR2YUUUV0mQUUUUAcp8SPBA+IXgq48Pm/On+dJHILjyfN27WzjbuXOfrXKy/B7WdfhtrHx749vNd0e2KsunW9hHZJIV6B2QksP19CDXqtFC02B6nHaz8P49U+IPhnxLDfLax6BHJGlktvkSh12jDbhtx9DVLxj8NbvXvGVj4r8OeJJPD+s2lubUzGyju0aMknhHIAb5jzzxXfUUdvL9Q/r7jgvA/wwTwgviRL3WJdaXxBL5k7XEIRskMH3EHDZLE9Biub8P/s+WOjeEfEei3etvfvrMKQw3L2u02ioSyALvO7DEHqM4r2Gik0n91gWn33+ZyXw28CRfDzwmNHW9OoTPcSXFxdtF5Zmdj1I3N2AHU9K62iiqbb3EklsFFFFIYUUUUAebeNv+S7fDD/uLf8ApMtek15t42/5Lt8MP+4t/wCky16TQAUUUUAFebeNv+S7fDD/ALi3/pMtek15t42/5Lt8MP8AuLf+ky0Aek0UUUAFFFFABRRRQAUUUUAFFFFABRRRQAV5lF8TNVh+M934Z1Gzs10IXEdlBdoGEq3DwiVFcliCGw4GAOQPx9NrxfUNAn8Ra38UbfTyV1K2urC8sJFGWS4igDpj3JG36MaV0nd7Jfqv0vYdrqy6/wDB/U7X4meNLzwfoEJ0SC3utYvJGW1huc+WFRGkkdgpBKqiHoepFaWheKYLj4f6T4i8Q3Vnpy3ljDcTySSCKFGdASAXPAyeMmvNtM1n/hZGm+IvGrRPHZafoMmnWcbqRid4fMuWAPoSqZ77TVka1DYfDz4baeuiaZqeo6hZRCym1aQR29q6W6kuW2sd2DgADJ5xTs0pJ76fjf8ANK/zFo7Nef4W/K9vkepWusWWr6RJfaDqNjfRbWEdxFOskO4Duyk8A9ao6Jryv4c0u517VdGa7vVwJbC4zbTvgkiEscsMAnueDXm/wzuribxl8RUuW0cN5Vq8iaJKZLUSGOQMQSB83yjdx1FYtpp1pq3wv+EFjqUCXFrNqUaywv8AdceXKcEdx6joehp9fXl/G4m7fK/4JM9w0rXtI16KSXQ9VstSjibbI9ncJMEPoSpODVK18b+FL7UEsbLxPo1xeSPsS3h1CJ5Gb0Chsk+1cjZ6ZYaJ+0MkOj2dvYQ3PhpnmjtoxGsjLcKFYgcZAOM+lZ3htvC3i/4kHX4G0m2sNJla20iCMxxyXlweJLgqMFgPuoDn+Ju4ojq153/B2/r1HLS/y/FX/r0PW6KKKQBRRRQAUUUUAFFFFABRRRQAUUUUAFFFFABRRRQAVzfj/XNU8M+DLzW9Ft4LmSw2zTwzqx3wBh5m3BGGC5IJ446V0lQ3drFfWU9pcoHhnjaORT/ErDBH5GlK9tNxq19TB8V+LoNA+Ht74mszHcqtqJbQdVmd8CIcdQWZenrXM3XiXx7c+Nbfw1pH/CPQXUeiw6hePe287L5rOUdU2yDC5HGcn3rkPC5udYvNA+Gd+zNJ4X1OWfUMjO+3tyGts+zGSP8A74roda0CTxD+0BcwRa3qujmPw7E5l0yZI3f/AEhhtYsrcc5qtG01s729OVtfjv6E6qLT3W/rzJfl+Z0Or+JPEnhu18LQ6uNKnv8AVdYSxu2tYpFiWNg5ygZ8hsKOSSOvFdvXl/j+0TQLbwDBeapc3aW3iSAve6jKpkYbZDl2AUcZx0HAr0Wx1XTtT3/2bf2t55eN/wBnmWTbnpnB46Ghap+v6IHo16fqzite8R+MZviXJ4Y8JnQ4o4dLS/eXU4JnJJkZMAo49B29a1fAHiu+8T6bqKa1ZQ2mp6TfyafeLbOWhd0AO+MnnaQw4PIrjfEVvBcfHy4W58TXXh1f+EdixPbTwxGT9+3ykyow9+MHiuZjurux+GXxJ0Lw3eNq1hpsqSR61B80t2JcPch3XiR0XILj15xUxfu38n/6Vb7rFtXnbzX4r/M9usfFGgapqMlhpuuabeXsed9tb3ccki465UHIxUura/o2gRxya7q1jpiSkrG15cpCHI6gFiM15B43HggeFvDSfD/+yDrY1G0/sj+zthm4cb87fm27c7t3frzWt5nh1/jn4nXxyNOEiWFoNK/tTZsNvtYy+Xv4++Tnv+tV/wAH8En+v4MhO6v5J/e7HRa34slsPiV4ctE1OCLQ7zTbu6uGYp5b7PLKP5h6ABj0IBzXV6frGm6vYfbtK1G0vrTJH2i2nWSPjr8ykjivLNT0jwrr3xQ8BQWNnp99ocen38lrFGqvb5VkAKr90gHOO3p2rR8K2FvpvxM+IunaVbR21qbeymW2gQKgkeKTcQo4BOB061LdoX9fwbKSvL7vxS/zPQG1vSk0Yau+p2a6YUEgvTcKISp4Db87cHPXNLe61pemsF1HUrO0YxNOBPOqExrjc/J+6MjJ6DIrwnUvFGh/8Mm2+mHVLX+0DYxWv2PzQZhIkg3KUHzDAUk5HA5rtfFmkafrPxo8E2+rWkV5AmnXsoimXchZfKwSp4ODzz3we1W173Ku7/BNkJ+4pP8ArVL9Tt28XeG00hNVfxBpS6dI/lpeG9jELN/dD7sE+2a1Y5EmiWSJ1eNwGVlOQwPQg15R4U8D+GZPil49SbQ7GaOGS2EUUkCtHEJYA0m1D8q7iOSBmtv4IsT8I9LQklYpbmJATnaq3EiqPwAApLVfc/vK1387HfUUUUgCqmrf8gW9/wCveT/0E1bqpq3/ACBb3/r3k/8AQTSexM/hZ5hRRRXAfOBRRRQAUUUUAFFFFAGL4s1W80fw+91pqwNcmaKKP7QpKZeRUyQCD/F60ukL4mW7b+3ptJe32HaLKKVX3ZGMlmIxjP6VPr0Gk3elm21+WKO0lkUfvJzDlwdy4YEHORng9q5Kwmt7H4j2WneGdUmvLKa1le/tjePcpBjGxwWYlWJOMZ6Y4q46q3r+RuknA1odY8Qa7c3Uvh5NOt9Pt5ngSW9R5GuXQ4YgKwCrnIzyTjOKbrOv6zb3tzaaalisthpwvrk3CuyyElhsTBG37jfMc9RxXE6bZeFIPBGq/wBuvAusWEtyjGaciaOQOxQxgnK54I29TnrzXT3VtaN4I0nUPE9jLd6s9pFbLCsrxyXMjgYibBG4E8kNkD5jjrTt2/q6NZQjGdraXa+636dTZfxHNeTaVaaPChu72JLqcSglbW3IyWbGMsT8qjucnoDXQ15y8epaLqF5bDV47C8OnNqd1crCjCeUEqIxvBxEiqAAMHBHI791pF3Lf6JY3dzH5U1xbxyyJjG1mUEj8zSkla6/r+rGE48qX9f1uXKKKKgyCiiigAooooAK1/Dn/IRk/wCuR/mKyK1/Dn/IRk/65H+YqofEjWl/ER0tFFFdZ6oUUUUAFedeJ/FXjvwzp1z4hu9L0QaNayjzbITSNdmItt3CQYTdyDtweO5Nei15fr2uaZ8QtcOg/wBqWlt4a0+4B1KaW4VDfyoQRBHk/wCrBGWbvjA9aS+JIqNt3t/X9f8AAOu1lvFtzJbzeE5tFitXiDOupwTM+488bHAAxjg1yVh4+8UR6b4kuNUh0i6/s29h020ms0kjiluHZVfdudiVQuucYJwRXWeN/Ey+GvBF3qlltmuHQRWKoNwlmk+WMADqMkH6Co/Dngux034e23hvU4lu42hze7yT5srHc7Z6/fJIPUYHpT79v6/T80HRX/r+n+pUsvGVxpg8QQ+LmtTJophJnsYnVZ1lXKKsbMxD7vlxuOcjpmuh0CbVbnRIJ9fggtr6UF3t4ckQgnKoSSdzAYBI4JzgYryu+hgh0a/8UaBCItJ0y5H9ny3Ujzm6uS6wveyM7EukakiPJx8pPAxXc+EtR1JvEOu6Nf6mdXh0/wCzvDetFGjkyIS0beWApIwCMAcMM5p9L/1/X9b3QSVv6/r+vS51lFFFIkKKKKALFn/rj/u1dqlZ/wCuP+7V2qRtDYKKKKZYUUUUAFFFFABSE4Uk549BS0UAcFoPjrW9X+JK6LfaGNK02bS3vrdbkn7W+JVQF1BxGDk/IctwMkdK1NdTx7/acjeHbrw3Fp4UbBqFvO0oOOclHAxn2rmpdf0c/tBWs41axMI8OSRmT7Sm3f8AaVO3OevtWv8AFXV7m28Kx6Jo741bxFOum2hAzsD/AOsk46BU3HPY4pa8kbb6/wDpTS/QrTnae35aJsw9B+IPinVPCtlc3EOkfbdX1p9O065iikFuYUDEzMhcs2fLfADLnjkVsW3j66t/Ct/NqdrDca3a6lLpVvbWeVS+uB9wIGJKgggnJO0BiTxWzdeF/D1r4Jt9I1GJU0nSoUZJGmaJoBEvEgkUhlYAE7gQetecR2stlb6N4g05f7EttS1BNP0kzL5j2NtMWeS5bzMgzzFQNz5wGUHJyDWjly/L8kvm9fvv0sT05vn+bf3afd5nsGnC9Gm2/wDazQNfeWvnm2UrHvxztBJOM+pqzXLeA9V1DUrHVYNUuxftpupzWUV6I1Q3CKFIYhcLuBYqcADK9K6mh6699fvFtp2/QKKKKQwooooAKKKKACuW8T/8hOP/AK4j+Zrqa5bxP/yE4/8AriP5mubFfwzKp8JjUUUV5RzBWD4z1y58O+GJtRskikmjliQLMCVw0iqehB6H1rerjviou/4e3ihiu6a3G5eo/fJyKuCvOK81+Y46s1PGmt3Phzwld6pYpFJPAYwqzAlTukVTkAg9GPetS81Cz020+06ldwWkAwDLPII1BPuTivOPiB4Ul07wRe3TeJddvRG0OYLq4jaN8yoOQEB7569RWnr508/FLSV8SmD+zhpshsxd48o3O8bvvcFtmMf/AKqtQTirPq/wSZXKrX/rodraahZ39oLqxu4Lm3OcTQyh046/MDiq0fiDRpbmC3i1exee5UPBEtyhaVT0KjOWHB5FcZoH2E+PfFB8N+T/AGT9hjE5tseT9p+bO3Hy529cd+vNc6fD2kj4A2V4tjCt0fImNwq4kLmZVJ39ehx14FNU039343DlSdv62X+Z63batp17dzWtnf2txcW5xNDFMrPH2+YA5H41Hf65pOlzRxanqlnZySDKJcXCRl/oCRmuR1PR9O0T4g+DRo9jBZBzdQP5EYXeghyAcdeeeayLG2ubzxP4rju9Q0OC5+2sssep2Rmka3Kjy8EyL8m3tjrmlyReqfS/42Hyrd/1v/kepghgCDkHkEd6WsPwbYx6b4P0+0g1GPUoooyI7qIfK67jjbyeAOByelblZySUmkZhRRRUgKOlLSDpS1jLc+wwX+7w9AoooqTrCuD0/XPG+tyapNpC6CLeyv5rRIriOZXcI2OWDEAkH0rvK4LwRrWl6XZ+IP7S1K0tNuuXbETzqmBuHPJrWns3bp+qMqv2Ve13+jNzw54tt9a0W6u7+MaXPp8rw38M8gxbuvXL8Arjnd0rVt9X027nmhtNQtZ5bcAzRxTKzRg9CwB4/GvOFJv/AAJ4+1+NHS01UTPal1K+ZEkWwPggHBINbr2+ieFPhcb1dEt5oF0+PzoFjUefkDh2IORk5JOe5q501r30082v8yIVJOy9dfJOy+9HT2GuaTqsskWl6pZXskQzIltcJIU+oUnFTLqVi9rNdJe27W9uWWaUSqUjK/eDHOBjvnpXmMN1dn4meFBPF4ftdyzhItJnLyCIwkhX+UDbkcY4znFW9Rh+w65rfhUHbFr15b3EC5HKSHFwAPpGx/4FTdHVLv8A52/4IlXdm+3+X9I9DfUbGO1huZLy3S3nKiKVpVCyFvuhTnBz2x1qzXmuio1/qei+GZCWTw/d3EtwM5+WI7bcH6iRSP8Adr0qspxUduv5dDWE3K9+n59QooorM0CkPWlpD1q4bnm5n/u79UJRRRWp8sFYPjPXLnw74Ym1GySKSaOWJAswJXDSKp6EHofWt6uO+Ki7/h7eKGK7prcbl6j98nIq4K84rzX5jjqzU8aa3c+HPCV3qlikUk8BjCrMCVO6RVOQCD0Y961LzULPTbT7TqV3BaQDAMs8gjUE+5OK84+IHhSXTvBF7dN4l129EbQ5guriNo3zKg5AQHvnr1FaevnTz8UtJXxKYP7OGmyGzF3jyjc7xu+9wW2Yx/8Aqq1BOKs+r/BJlcqtf+uh2tpqFnf2gurG7gubc5xNDKHTjr8wOKrR+INGluYLeLV7F57lQ8ES3KFpVPQqM5YcHkVxmgfYT498UHw35P8AZP2GMTm2x5P2n5s7cfLnb1x3681zp8PaSPgDZXi2MK3R8iY3CriQuZlUnf16HHXgU1TTf3fjcOVJ2/rZf5nrdtq2nXt3Na2d/a3FxbnE0MUys8fb5gDkfjUd/rmk6XNHFqeqWdnJIMolxcJGX+gJGa5HU9H07RPiD4NGj2MFkHN1A/kRhd6CHIBx1555rIsba5vPE/iuO71DQ4Ln7ayyx6nZGaRrcqPLwTIvybe2OuaXJF6p9L/jYfKt3/W/+R6mCGAIOQeQR3paw/BtjHpvg/T7SDUY9SiijIjuoh8rruONvJ4A4HJ6VuVnJJSaRmFFFFSB0vg//l8/4B/7NXTVzPg//l8/4B/7NXTV6+H/AISOyn8CCiiitzQKKKKAOBHjrUz8eD4K8i0/s0aX9s83Y3nb84xndtx/wHPvRP461OP48W/gpYLT+zZdLN40pRvOD5YYzu244H8OfeuB8TeHv+Em/aobT/7X1XSP+JGsn2nSbnyJuD93dg8HPI9qbonhxvC/7U1rYJrGq6wx0N5BcavdefKCdw27sD5Rjp7mlF6Jv+987c3+QS0vby/9tPaNQ8V+HtJvlstV17TLG6fG2C5vI45Gz0wrEGrd3q2nWEltHfaha2z3j7LZZplQzt/dQE/MfYV80+CH8Bt8PfGD/Ek6a/ij7Vdfaf7QK/bC23jyt3zZ3bvud6iu9Oub74YfCHTvEsMjpc6x5TRTFgzW7SgKPUAoRjHbFOKbS/7d9Pe/yB6N/wDb34H0fb+LvDd3bXVxa+INKngs/wDj5ljvY2WDt85Bwv41d07U7DV7JbzSb22vrV8hZ7aVZEbHXDKSK8IuvBHhgftT2WkLoVgumHRftDWSwAQvICwDMg+U9BwRjIz1rBt4rzTPh98ZtN8Nq8EFpquyOCAHEUJkKyBQOg8tcH2FS37vN5N/c7DSvJR80vvVz6L0/wAT6Dq99JZaVrem311CCZILa7jkdMHByqkkc1qV8peGtLN7qPga70/V/h7ps1rdW/lrpEs41G4DbQyTLtYsxGQSwABJ5ANfVtaONkTe7CiiipGFFFFAHm3jb/ku3ww/7i3/AKTLXpNebeNv+S7fDD/uLf8ApMtek0AFFFFABXm3jb/ku3ww/wC4t/6TLXpNebeNv+S7fDD/ALi3/pMtAHpNFFFABRRRQAUUUUAFFFFABRRRQAUUUUAFV4LCztbq5ura0ghuLoq1xNHGFeYqMAsRy2BwM9BViigCnb6Rptpp8lha6fawWcu/zLeOBVjff97KgYOcnPrmo7rw/o19pMWlXukWNzp0IUR2c1sjwoFGFAQjAwOnHFaFFAFGx0PSdMDjTdLsrQSRrE/2e3SPcighVOByBk4HQZNImhaTFb2UEel2SQ2D77SNbdAts2CMxjGEOCeRjqav0UAVzp9mdRGoG0gN6sRhFyYh5gjJyU3YztyM46ZrJtvAnhCzvI7uz8K6JBcxOJI5otOhV0YchgwXIPvW9RRsAUUjMqKWchVUZJJwAKhsr211GzivNPuYbu2mXdHPBIHRx6hhwRQBPRRRQAUUUUAFFFFABRRRQAUUUUAFFFFABRRRQAUUUUAVIdK0631OfUoLC1ivrlQs90kKiWUDgBnAywGBjJp4sLNdSbUBaQC9aIQtciMeYYwchN3XbnnHTNWKKAKOq6JpWu2y22uaZZ6lAj71ivLdJlVsYyAwIzgnn3qPSPDeh+H/ADf7B0bT9M87Hm/YrVIfMxnG7aBnGT19TWlRQBkar4S8Oa7dLc634f0vUbhUCLLeWUcrhQc4ywJxyePer9jp9nplmlpptpBZ20YwkNvEI0X6KBgVYpssscELyzOscaKWd3OAoHUk9hRsg3Zmaf4X8P6TfPe6Voem2V1JnfPbWcccjZ65ZQCak1bw7ouvrENd0ew1MQkmMXlqk2zPXG4HFNg8TaDdaPLq1trenTabCSJbyO7jaGPHXLg7R1HU96t2N/Z6pZR3mmXcF5ayjMc9vIJEcdOGGQaAuMXStOS4trhbC1Wa0jMVvIIVDQocZVDjKg4HA44FPisLOC+uL2C0gjurkKJ50jAeULwoZhy2MnGemasUUAY7eEfDbz3cz+H9KaW9BW6kNlGWnBOSHO35uQDzmtB9PspL6G9ktIHu7dGSGdogZI1bG4K2MgHAyB1xQt/ZvqL2CXcDXkcYle2EgMioTgMV6gEgjPTirFAEENjaW91cXUFrDFcXRUzzJGA8xUYXcRy2BwM9BSWNhZ6ZaLa6baQWdupJWG3jEaAkkkhRxySSfc1YooAKKKKACqmqgnRr0AZJt5MD/gJq3Ve//wCQbc/9cX/kaT2Jl8LPMPIl/wCeT/8AfJo8iX/nk/8A3ya2KK4+U8P2aMfyJf8Ank//AHyaPIl/55P/AN8mtiijlD2aMfyJf+eT/wDfJo8iX/nk/wD3ya2KKOUPZox/Il/55P8A98mjyJf+eT/98mtiijlD2aMG70yO/t2t76yW5hb70c0QdT9QRio7DRbXS4mi0zTYbONjlkt4BGCfXAAroqKLD9npa5zU3h6wuNQW+uNItpbxcbbh7ZWkGOmGIzViTT1luIp5bQPNDnypGiy0eRg7TjjI9K3aKLByeZzt7otrqXl/2jpsN35Tbo/PgD7D6jI4NWvIl/55P/3ya2KKOUXs/Mx/Il/55P8A98mjyJf+eT/98mtiijlD2aMfyJf+eT/98mjyJf8Ank//AHya2KKOUPZox/Il/wCeT/8AfJo8iX/nk/8A3ya2KKOUPZox/Il/55P/AN8mtbw9G6ag5dGUeUeSMdxTqu6Z/wAfTf7h/mKcVqXTppTTNSiiiuk9AKKKKACsBvAXg93LP4U0NmY5JOnQkk/981v0Uguyo+k6dLDawy2Fq8VmyvbI0KlYGUYUoMfKQOAR0qxNDHcQPDPGksUilXR1DKynggg9RT6Ke4ES2lslkLNLeJbUR+UIAgCBMY27emMcYqLTtK0/R7X7LpFha2FvuLeVawrEmT1OFAGatUUAFFFFABRRRQBPasqSkuwUbe5xVvzov+eif99Cst/u/jTKL2GpuOhr+dF/z0T/AL6FHnRf89E/76FZFFHMP2rNfzov+eif99Cjzov+eif99CsiijmD2rNfzov+eif99Cjzov8Anon/AH0KyKKOYPas1/Oi/wCeif8AfQo86L/non/fQrIoo5g9qymfAXgUtk+FPDxOc5/s6D/4mtqW002e9t7yaC1kurUMLed0UvCGGGCt1XI4OOtUaKfMw9qzQvILDUbR7XUIra6t5Mb4Z1V0bByMg8HkA0Xlvp+o2UlnqEVtdWso2yQTqro49Cp4NZ9FLmD2rL9lb6fptnHaadFbWltEMRwQKqIg9Ao4FWPOi/56J/30KyKKfMxe1fY1/Oi/56J/30KPOi/56J/30KyKKXMP2rNfzov+eif99Cjzov8Anon/AH0KyKKOYPas1/Oi/wCeif8AfQo86L/non/fQrIoo5g9qzX86L/non/fQrl/ErK+pRlGDDyR0Oe5rRrG1f8A4/F/65j+ZrnxLvTJlNyVihRRRXmGQVDdWltfW5gvbeK5hYgmOZA6kg5BweOCM1NRQBDdWltfWzW99bxXMD43RTIHVsHIyDx1ANMvtOstTtvs+pWdvdwZB8q4iWRc+uCMVZophcr2thZ2NoLWxtILa3GcQwxhEH4Dimf2Xp/9nLp/2G2+xKAFtvJXyxg5Hy4xwRmrdFF2BDLZ209xDcTW8Uk1uSYZHQFoyRg7T1GRxxVa/wBD0nVZUl1TS7K9kjGEe4t0kKj2LA4q/RRdjuxFVUUKgCqowABgAUtFFIQUUUUAKOlLSDpS1jLc+wwX+7w9AoooqTrCslvCvh57xrt9B0xrlnMhmNnGXLZzu3YznPetaimm1sJpPRkU9tBdWr21zDHNBIpR4pEDKynqCDwR7UvkQ/Z/s/lJ5OzZ5e0bduMYx0xjtUlFAzOs/D2i6eyNYaRYWpjcuhhtkTaxG0sMDg44z6VZksLOa9hvJrWCS6gBEU7RgvGD1Ct1GfarFFHM27i5UlaxXi0+zgvpryG0gjupwBNOkQDyAdNzYyce9WKKKBhRRRSAKQ0tFNOzOfEUFXp8jdhuKMU6ir52eb/ZEP5mNxUN1Z299bmC9t4rmFiCY5kDqSDkHB44IzViijnY/wCyIfzMr3Vnb31s1vfW8VzA+N0UyB1bByMg8dQDTL7TrLU7b7PqVnBdwZB8q4iWRc+uCMVboo9ow/smH8zKtrp9pY2gtbG0gtrcZxDDEEQfgBim/wBlWH9nLp/2C2+xKAFtvJXyxg5Hy4xwRmrlFP2jD+yYfzMry2dtPcQ3E1tFJNbkmGR4wWjJGDtPUZHHFVr/AELSdVlSXVNLs72SMYR7i3SQqPYsDitGil7Rh/ZMP5mMVAihUUKqjAAGABS4p1FHOxf2RD+ZjcUYp1FHOw/siH8zOk8H/wDL5/wD/wBmrpa5vwj/AMvn/AP/AGaukr2cK70U/wCtziq0VRm6ad7BRRRXSZhRRRQBT/sfTP7Y/tb+zrT+0vL8r7b5C+ds/u78bse2cUHR9MbWF1ZtOtDqSx+Ut6YF84J/d343Y5PGcVcooAybzwp4d1DUhqF/oGl3V6uMXM9nG8gx0+YjNWr7SNN1OS2k1LT7W7e0kEts1xAshhcdGQkfKeByOauUUAUzo+mNrC6s2nWh1JY/KW9MC+cE/u78bscnjOKLPR9M06a6m0/TrS1lvH8y5eCBUad+fmcgfMeTyfWrlFAGTYeFPDul37X2maDplndtndcW9nHHIc9csADWtRRQAUUUUAFFFFAHm3jb/ku3ww/7i3/pMtek15t42/5Lt8MP+4t/6TLXpNABRRRQAV5t42/5Lt8MP+4t/wCky16TXm3jb/ku3ww/7i3/AKTLQB6TRRRQAUUUUAFFFFABRRRQAV5/8UP+Qp4F/wCxmt//AECSvQK5L4h+GtR8Q6Rp8+gSwpqukahFqNolxkRzMmQY2I6Ahjz64+tF7NPs1+aDeLXdP8jN+Mn/ACJth/2GrD/0etT634+1Sy8cXHhbQfC0us3sdlFeLILxYIgrOynezL8uNoxjcWJ6DBNZd9aeMviBcaXYa74Yj8N6VaXkN7eSS6hHcyTmJtwijEfQFgMsSDjtW7Z6HqMXxk1TXJLfGmz6PBbRz71+aRZXZl253DAI5xiiK6Pu/wD0n/NA31XZf+lf5Myb3xlY+JvhD4mv9b0CUHTY7i21PR5bnafMjGWjEqdiCMMB36VdvvGzaVBoWjeGdAk1XVr+xW5hsFuRFHb26qoLSTMDgDIUcEk1jN4O10+BfiTp4sf9K1u/vJtPj85P3ySRIqHO7C5IP3se9T32geJdB8QaF4o0HSY9Xmh0VdKv9NN0kEgAIcOjt8hw24EEj2z2FrvpdR/Jv87LyB+Xn+a/S/qbfhvx1Lq93q2l6zo0uja3pMSzTWTzrMkkbAlXjkUAMDjB4GDxXMWvxk1SXwvZeKrjwPdW/hyUR/ab5r+MvDubaWWLALoGIG47c9cY5rU8OeHvEF/4q13xd4ksItLur6wXT7PTY7hZmjiUlsyOPlLMx6DgDvWXP4L19/2Zo/Ci2GdbFikRtfOj++JAxG/dt6D1pru/L83+lvQas5JdNf0/W56sCGAI5B6V8xyr8N4dE8bXfiOa2h8UR6zf/YnjnZLpW3/uiu0jHzdzx1zxX01ECsKA9QoBryXRIvGvhu38Q6Unw/OrW+o6td3UU8up2yQvHK3G5SxbGOSMZ9qiS1fo/wA116BF3ir91+TOjHiy/wDDfgfwxDf2z6x4k1K2iijt0mVBNKIg0jtIcqqgZJbnqMA5q1ofji5vNY1DRdd0ddM1S0tPtqJDdi5huIc43LIFUghhggqCMg81xM/wn1Ky8D+DYZrKx8S3vh15jc6bdMBFcxzZLRxlxjKHbt3YHy9uldV4V0CO2bUZrT4f6f4V8y2MKMjwG4mJ6giIFQnT+PJPYVdRu82vP/gW/ryFBJKK9Pz/AMiHwl481nxzoQ1E+EpdM0e6spHW8mvkZi4GCFjCglCc4c4zjoM1zPhK5022+HPwpGo6V9ummu1itJftDR/ZZCkh8zA4fgEbTxzXceAND1HRPhLpWi6nb+RqFvYmKWHerbX543AkHr2NctpXgrxBbeD/AIaWM1htuNDv0m1BPOjPkII5ATndhuWH3c9ap2U2lteP5sjVwTe9pfkjWuviNrs/iPXdF8NeC5tXn0WdEllbUEt4nVow4wzL9/JxtAPAySMgV1PhLxLa+L/C1lrljFJDFdKcxSj5o2VirKcdwwIrI8JaFqOmeMvGd9fW/lW2p30Mto+9W8xVgVScA5HII5xS/C3Q9R8OfD2z0zWbf7NeRz3DvHvV8B53ZeVJHKsD1qF8OvZflqW/Lu/u1OvooooAKKKKACiiigAooooAKKKKACvLfjP4F8NXvgfxH4jutIgk1iKxZkuyW3qVGFPXHAr1KuZ+I2kX2vfDfXdK0mD7Re3dm8UMW9V3segyxAH4ms6ivB23Lg/eVzl7n4fW2h/C/U5Phvpcen69faYirLbyMkkhwCQGJ4Y84PHJqr8Movh62sq3haK90LX7eArf6RdSyxTPxz5sbkiQgnO8ZPIye1d7ef23YeEYRoVpa3OpwQxAW11KUR8Y3rvGcHGQDyM4zxXHJpPifxh8QPD2ua54Zh8NW+hGWRne9juJ7ouhXy1MeQEGcncefStpP95K39b/AIeRlH+Gr/09P8tzA0iy0Dxr4Vu/iD8TJLjUbCa7lFlZfvnhsYVlMSgQx8s5IyWweo6YNdv8M5fBr6Rex/D+e4awhudstvMbgCCTaCVVZuVBBBwOKxdK03xj8N5rrSvD3h+LxL4dluJLiyWK+jtp7IOSzRMJMKy7icEHPr6VrfDbQda0yTxFqniKzh0+51vUjeLZx3AnMC7FXDOAATx2pR8trf5b9+upUt/m/u1+7oY/xD1/S/DXxb8E6nrt5HZWcdvfq80mcAlEAHHvVG68beHPGHxo8DDw1q0OoG1W/wDO8oH5N0K4zkDrtP5V12u6FqN58VPCmsW1vvsNPgvUuZt6jyzIihBgnJyQegOO9HiPQtRv/ib4O1a0t/MstNF6LuXeo8vzIlVOCcnJB6A470oact/P/wBuB9bf1oVb7x9rFzruo6f4L8JvryaVJ5N7dSX6WkYmwCY49ynewB56AHHPNc38QvF8ni34D3up6FYH7Pc/6PfR3U5hltCsqqyFQrbjn5SMjg59q0rW08ZeBtc1+LQvDEfiLTtXv5NRt5o9Qjtmt5JAN0ciydRuGQVzx27CtJ8PtbtPgjq2iBYbzXtUuWvp44HCx+bJMrsqlyBgAdT1xSSvHXy+/S69Nx7S07/h39dv8ih8QYtYTw34ZsW8IaRa28+t2ols4tR/dSMrYjjYCEAqwUZJHGAMGuw1DxbdaJJpmh6b4dt5tdvIWuZLCK8WK3tYw2GdpinQs3GEyxzxVjxzouoaxB4eXTbfzjZ63a3U/wA6rsiQnc3JGcZ6DmsLx74Jl1Dxxp3iePw1ZeKbeOyaxu9MuWjVwN+9JYjJ8mQSwIJHB/Jp6a93/wCkr9dBL9F+b/TUvJ8SmTwv4mvb/RWtdV8NxGS60/7UrpINhdCkwXlWA67QRg5FVrb4namt9o0us+DrrTNE1qeO3tL+S8jeQSSDMYkhAygY5wc56ZAJxUFx4UuLj4Y+KtP0fwTYeHLrUrSSG2s7aWHzJzsIHmFAEU5JwNzD3FXvFXhrVtS8K+ELOytPMn03VNPuLpPMQeXHF/rDknBx6DJPbNNfFr/d/Hd/1sLp/wCBfpb+uph6nq+q6X8ftUXQtAm1q7m0C2AjE6QRRgTSZLyNnHXgAEn0rptJ+JFldeCNU8QazZT6VJo00lvqNkzCV4pkxlFI4fO5cHjORUlnoeoxfGTVNckt8abPo8FtHPvX5pFldmXbncMAjnGK5w/DvVNX8G/EDRb6NLOTW9Ymu7CSR1ZHXEbRs23OFLJggjOO1Qr8lvJ/+lf5O5ejn8193Ka1r8QtVg1PSovE3hgaVZ6tOLe3uItRS4aKVslEmQKNm7HUFgDwaqQ+JtN8PSfEfVNP0LZcaRKs9232xj9vcQBweQRHx8vAI71W8NeGFj1TTmm+EujaPcW7hp9R822KIV/ihCBnJzyNwTHrSal4O124034oxRWO59eA/s4ecg8//Rgn975fmGPmxTlom12f5q36/wBImOrV+6/W/wCn9MfP8W9U09tKutU8CalDpesER2EsNzHLcSysu5EaDjZu5wS31A5A3fDXje/1PxVc+HPEnh59C1NLUXsCC7S5SeHdtJ3KBhgxwV5+tV9f8O6re6P4IgtbXfJpWqWdxeL5ijyo44mVzyecEjgZPpVmXQtRb41W+vC3zpiaDJZtPvXiUzqwXbnd90E5xj3q9FK3S7XySun9+n/BJV+W/WyfzvZ/hqdhVe//AOQbc/8AXF/5GrFV7/8A5Btz/wBcX/kah7BLZnEUUUVynkBRRRQAUUUUAFFFFAGdr2sw6BolxqNwpkEQAjiX70rk4RB7sxA/GuF8EaXdaX8TtU/tSXzdRu9KhurxgflEryPlV/2VACj2Wuw8TeFoPE8Vmtxf31k1lP8AaIpLKRUYOAQCdysOMnFczpHgXUtO+JM2py6xrFxZLZxhJ57mNjO4ZsxOAoO0Ag9ByetVCyev9af1+Brdezav/V0c/wCOdP8ACltJLDot9JN42lu0FtMLt2uElLD7xztRApPHAA6Ctzxtpsl3rNw2q6Td6pFJpPlad9lgaVYLvc24jH+rY5TDnAAXqMU/xJH4x8R6DeeHrrwrYlrkGL+0TfqbdPSQIR5gI7DHHrXQapY6yPD9houlzOZZES3utTLKGhjVQHcAnJdsYGAcE5J45NeVL+tVb5F81mv67P8Apevc56LUrfV7nTofEWp2tvpmlOkbvcXCoNSv0UbgCx+dI2/N/wDd59Drgta8LT2F+f7F0OPUbCTRjpkVuJUX7M24ncd5GVbIyQS3y9DXX6JYyaZoGn2E8nmyWttHC8n94qoBP6U201f+uv8AwP6RlK2li9RRRUEBRRRQAUUUUAFXdM/4+m/3D/MVSq7pn/H03+4f5inHcqHxI1KKKK3OwKKKKACvIfid4L0PQvDM2taf9sPiqa8iXT743cj3Mk7uAEXnGNpI2gYAFevV5RD/AMJrL4zm8Qa74EuNQltmeLS4k1O1WKziPBYAvkyN3Y9uAAKS+JFR0V/6/wCGOz1zwT4c8RiC88V6ZbXtxbwBGmlJUKByehGBnJrzTw54XWT4e+JNc8MabLbQa3eR/Z7K2yHewikCsqjrudfMOM87gK9C8b2uva94HGmaRZm3u9V8u3uy0qH7HC/+tJOfmIXK/LnOeK6K2tYtH0aK00+3ZobOARwwRkAlVXCqMkDPGOSPrT2u/wCu7/T8QT0S/ry/ryR5jp+oyeH7nVrPwtYPpUWsTJ/ZVteQNbx2qpEPtF00TYMca8dQNzAeua73wdDotr4agt/DmoQ6laxEh7uKdZjNKTl3d1JBYkkn61zF/wCDNW1jwfrF1qKQv4j1by3eBpP3cUMcgdLQN024BBOMFmJORitfwlpd9H4h13Wr3TDpCaj9nSOyZ42f92hBkYxllyd2BgnhRnFP+v6/r8LCdraf1/X9atnWUUUUhBRRRQA1/u/jTKe/3fxplIh7hRRRSEFFFFABRRRQAUyVPNheMOyblK70OCue496fUN39p+xT/YPK+1eW3k+dnZvx8u7HOM4zih7DW54xe2HhG28Z+H7X4e3pm8TLqSm9uEvJJGeBSfP892JBzgcdc8AV0b6FY+PviV4hg8Txte6doiW9vaWTSMsavIm95CFIy3OAfSovEdh4y8c2lnpN74XttFaG7infVm1COYQ7HB3Qqo37iB329cE96076x8R+GfHGqaz4e0Rdds9Zih8+BbxLeSCaNSu75+CpXHQ5z2qlt73n+n3dfmaddOy/Pv8A1octb211/Zl7oEsV5quiaF4kEc9soe4keyMe9Iyoy0io7L8vPAHBxVmxvp7PRbrw1bSvodrdXM900103knSdMZ8D73+rdzuCKcbQSSBtrqPDOka54d8O6zqd5aR3uv6rdSXzWUEqhEZgFSLe2BhQBlvrjPGaV94Lv7bQdPuFjTWNXj1WLVNTXcqfbWUEFU3YUBMjYDgYQcg80LtLyv8Ahf12/PvdF1uvO34/5/l2Oy0RdMTQ7SPQHt5NNjiCW7Wzh4yg4GGGQenWr9cz4J0i70uz1Oa9tRYtqOoy3iWYZW8hWCgAlSV3HbuOCRlutdNSfcy20CiiikAUUUUAFFFFABWNq/8Ax+L/ANcx/M1s1jav/wAfi/8AXMfzNYYj+GBQooorzRBXHfFR1j+Ht47naqzW5JPYecldjXN+PdKvda8IT2WmQ+fcPNCypvC5Cyqx5JA6A1dPScX5r8yo76nJ/EDx54Y1jwRe2GmaxBcXUzQ7IkDZbEqE9R6A11+ueJpdM1C00rSdMfVdUuYzKtuJREkcakAu7kHaMnA4OTTfH2lXut+Cb6w0yHz7qVoike4LnEqseSQOgNVNd07WLHxda+JNDsU1M/YjY3NmZ1ifbv3q6s3y8HOQcf4aLkcUvN/krFaNf15FvRPFcmo3GoWGp6ZJpuqaeglltmlEiujAlWRx94cY6DBrAj+J17/YNnr8/hW5j0aYostwLlWkQsduVjxl13YGeCfT10dF0fWLvX9W8Ra3aR2E91aLZ21kkwkZI1ycuw+XJJ7dKonwzq3/AApe00H7J/xMo44A0HmJwVmVj82dvQE9aaUL6+X63/QXu3t/XT9bmrYeL72TxFaaZrOgTaUuoI7WMr3CSGTaNxV1X7jbecZNF34uvpNSvbbw/oq6lHYN5c80t6tuDIACUQFTuIB5JwM8ZqbXtKvb3xl4YvraHfbWMtw1w+9RsDRFV4Jycn0zXNy+EDpviDVpZ/B1n4jt7+5a6guC0IkhLAbo38zHG7JBGeDUpQdvT9f8hpR3/rr/AMD7zuND1i31/RLXU7MOsNwm4LIMMpBwVPuCCK0Ko6Na/YtHtrf7DbaeUTm1tTmOIk5wDgZ+uBV6s5W5nYzCiiipAUdKWkHSlrGW59hgv93h6BRRRUnWFeX+Nre78QeINQvtMdy3hKCKeBFbiS5LCRwfXEagY9Wr06VmSF2jQyMqkqgIBY+nPFcR4d8A28ukNdeJoLpNWvpZLi8SHUZkUM7EhcRuFOFwMj0ralJRfP22/r7zKrHnXJ0e/p/VvxNi/wDF0NrpOjapBB59lqlxDE0pk2+Qso+Vzwc84GOOvWlHiqP/AITw+GzbEf6N5ouvM4MnXytuOu35s5rD07wnqI8A6x4Xu4zHHDNKulTGRWzHnfCeuQVbjn0qI6L4h/sGPWRp3/FRDUvtrWnnx/dKeSU352n93g9etXy07v8AD52t92tzPmq2V/n8r3+/Sxv2nia61DTdRu9N0d7v7NePaW6RzqPtG07S5LYCruyO/Tv0pumeJr6fXLjRdW0hLHUVtftUCpd+dFMmdp+faCpDYBG33rN1Lw3q9r8OdP0rRXlNzbtE93HFceTJcrnMqrJ/CWJJzn155qh4U8K3em+P/wC1otBk0nT20+SArPqP2mQyeYpG7LNjIB4Ukcc4JxQow97Xv+C336/MHOp7u/T8Xtt0XmjZXx3Cfh/J4lazIljJiax83LCcPs8rdjruxzjoc4rqYWd4UaVBHIVBZA2dpxyM9682fRrh/izJo0extIeZNfmT+7IFMYUj3kAf8K9MqKiikmuuv/A++5dOUnJp9NP6+VvxCiiisTYKKKKACiiigAoopsrMkLtGhkZVJVAQCx9OeKBnmPja3u/EHiDUL7THct4SgingRW4kuSwkcH1xGoGPVq6+/wDF0NrpOjapBB59lqlxDE0pk2+Qso+Vzwc84GOOvWsfw74Bt5dIa68TQXSatfSyXF4kOozIoZ2JC4jcKcLgZHpTNO8J6iPAOseF7uMxxwzSrpUxkVsx53wnrkFW459K6m4WUX9n+nbv5HGlNyc19q//ANrddPPzNweKo/8AhPD4bNsR/o3mi68zgydfK2467fmzmm2nia61DTdRu9N0d7v7NePaW6RzqPtG07S5LYCruyO/Tv0rAOi+If7Bj1kad/xUQ1L7a1p58f3SnklN+dp/d4PXrVvUvDer2vw50/StFeU3Nu0T3ccVx5Mlyucyqsn8JYknOfXnmpcYd+y/zfp0KU5vVp9X/kvXqaWmeJr6fXLjRdW0hLHUVtftUCpd+dFMmdp+faCpDYBG33quvjuE/D+TxK1mRLGTE1j5uWE4fZ5W7HXdjnHQ5xWN4U8K3em+P/7Wi0GTSdPbT5ICs+o/aZDJ5ikbss2MgHhSRxzgnFQPo1w/xZk0aPY2kPMmvzJ/dkCmMKR7yAP+FVyU3K3lf7nr1fTUnnqKN/O33rTouun/AAx6TCzvCjSoI5CoLIGztOORnvT6KK5jrWwUUUUgOl8I/wDL5/wD/wBmrpK5vwj/AMvn/AP/AGaukr3cJ/BX9dT5/Gfx5fL8gooorpOQKKKKAPA/E3ivRfBv7VDap4kvfsVl/Yaxeb5TyfMTwMICex7UmheLdE8Z/tU2eqeGr37bZrojwmXynjw4LEjDgHoR2rsh4S1v/hpA+KfsX/Em/sf7N9q81P8AWZ+7szu/HGKS78Ia1P8AtG23ib7FnRF0Y2r3PnJxIS3y7d27uOcYpRulH/t7/wBu/r5hLXmt/d/9tKcvxo1LUF1O/wDBvge817QtLkdLnUhepBu2DLGOMgs4A5456cCres/GzT7Dw34W1zS9Iu9UtfEVwYEiiYLPEwOCoTBDtuyuMgZ71y/h/wANfEr4f+H9Z8H6D4as9XsbyeZrLVzqMcQgWQbcvGw3MQADgd89aluvhNrmkeHfhvpGlxLqJ0LV1vNSnSVUVAZA7EByCwHIGBk46c046pL/AA/j8X3BLRv/ALe/4HzNaP4z64niabwxffDvUIfELwiaysYr+KRZkOfmeTAWMYHX5uRjrWroHxh07UPB2v63r2mz6LN4dmaDULJnErI44Cq3AYlvlGcc+3NQ3HhLW3/aQtfFK2WdGj0c2zXXmpxJlvl2Z3dxzjFc3D8Kde1bSPifpt/Clh/wkGp/atNmklV1kCyM6khCSoPA5GRnpxUtvlv1s/8A0q35ajSXMk9rr7mrv8dDd0z4x3x1XRY/FPgy70HTdfcR6ZqD3iTCRmxsEiAAx5BHXJ/DJr1Kvnrwd8Jrq21nR11D4W2GmzWM0UlxrMniCWZZNhBLxwI+QxIyA3yjuMcV9C1o7W0/r+vkTrf+v6/MKKKKkYUUUUAebeNv+S7fDD/uLf8ApMtek15t42/5Lt8MP+4t/wCky16TQAUUUUAFebeNv+S7fDD/ALi3/pMtek15t42/5Lt8MP8AuLf+ky0Aek0UUUAFFFFABRRRQAUUUUAFFFc94w8ZWvg20sZruwv9Qe/u1tILewjR5GkZSQMMyj+E96AOhorntA8WHW0u5LvQNY0KK1QO0mrwxxK45yQVdumOc4xkVhRfF3S7r/SNP8P+Jb7St2Bq1tpbPbsB1Yc72UeoQjijrYDvqKAcgEdDXK3nxD0Sx+Iln4MmFydSu4vMWVYx5MZKsyozZyGIRiBg0dbB0udVRRRQAUUUUAFFYF/4o+w+PNH8N/Y/M/tO2uLj7R5uPL8rbxtxznd1yMY71v0dL/12DrYKKKKACiiigAooooAKKKKACiiigAooooAKKKKACiuBT4sQ3N3fQ6Z4P8U6kljdyWklxaWkLRmSNsMATKD+YFdT/bh/tmw086VqQN7btP8Aafs+YbfGPkkfPyuc8DnODQtVdA9HY1aKKz9W13TtD+xf2pceR9uuks7f5GbfM+dq/KDjODycD3oA0KKKKACiio7iX7Payzbd3loWxnGcDNJtJXY0m3ZElFYng3xH/wAJd4N0zXvsv2T7fCJfI8zzPL5IxuwM9PQVbvNd06w1rT9Ju7jy77UvM+yRbGPmeWoZ+QMDAI6kZ7VTTTsyU01dGhRTZHEcbO3RQScVwehfFaLxGlnNpng7xS9neOFjvDaQ+SAW2liwlPyg5ycdqS1dh7K531FFFABRRRQAUVgeD/FH/CWabe3f2P7J9l1C4stnm793lOV3ZwMZxnHb1NU/EPjC/wBP8V2fh3QNC/te/ntXvJvMuxbRwwqwXO4q25ixwFwPcgUdvP8Ayv8AkHfy/wCGOrooHTniigAqG9XdYXC9MxMP0qtrmuad4b0ebVNauPs1lAVEkuxn27mCjhQT1YDpVm6ObKYj/nm38qOgpbHI/Yv+mn/jtH2L/pp/47VqiueyPO5IlX7F/wBNP/HaPsX/AE0/8dq1RRZByRKv2L/pp/47R9i/6af+O1aoosg5IlX7F/00/wDHaPsX/TT/AMdq1RRZByRKv2L/AKaf+O0fYv8App/47UOt6zbaDpj3t2k8qhgiRW0LSySuTgKqjkk1leHvHFjr+sT6S2n6lpWpQRCc2mpW4id4iQN64JBGTjr1pqN9g5Fa5t/Yv+mn/jtH2L/pp/47XKX3xR0nTrhmutM1pdNSbyH1b7CRaq2cZ3E7tueNwXGe9aeveMrPQbp7c2V9fyQ2xu7gWUat9nhyRvbcy9cNgLljtPFLlVrj9nraxsfYv+mn/jtH2L/pp/47VK+8S2FlBpjr5t02qypHZxW6gvLuG7dgkYULliT0A9cCteny2FyRKv2L/pp/47R9i/6af+O1aopWQckSr9i/6af+O0fYv+mn/jtWqKLIOSJV+xf9NP8Ax2j7F/00/wDHatUUWQckSr9i/wCmn/jtWbG28qcndn5cdPcUtS23+sP0ppK44xSZZxRilorQ2ExRilooATFGKWuGvvivo+nTM91peuJpazeQ+sGwItFbOMliQ23PG4LjPehauw7HcYoxWN4g8U6f4ctrd7kT3U94/l2lnZx+bNctjJCKOwHJJIA7mqv/AAmcEGiXup6rpGq6Wloyr5N3AvmTMxAVY9jMrEkgdep5xQFtvM6PFGKxdF8U2msLqCy211plxprAXdvfKitECu4MSrMpUjnIY9DnFWtB1qDxDo0OqWcM8VtcZaEzoFaRM8OBk/Kw5GcHBHAoCxoYoxS0UCExRilooAr3cvkQhsbstjGcVT+3/wDTP/x6rGp/8ey/74/kay6zk2mYTbTLn2//AKZ/+PUfb/8Apn/49VOip5mRzMufb/8Apn/49R9v/wCmf/j1U6KOZhzMufb/APpn/wCPUfb/APpn/wCPVToo5mHMy59v/wCmf/j1H2//AKZ/+PVToo5mHMy59v8A+mf/AI9R9v8A+mf/AI9XI6p410zSvFWn+H5kuJb2+IAMKApDnO3eSRjO1sAAng0virxvo3g+28zVJZJJiu9bW2TfKy5wWxxhf9okDtnNO7ZXv3sdb9v/AOmf/j1H2/8A6Z/+PVgazrlvotpBLNDPcS3Mqw29tbqDJM5ydoyQOgJJJAAB5qvbeLNNn8O3esz+bZwWLSJdR3KhZIXQ4ZSASCfTBOcjFLmYk5O1up0/2/8A6Z/+PUfb/wDpn/49WXY3RvbCC5NvNbGZA/kzgCRMjOGAJAPtmrFO7QuZlz7f/wBM/wDx6j7f/wBM/wDx6qdFLmYczLn2/wD6Z/8Aj1H2/wD6Z/8Aj1U6KOZhzMufb/8Apn/49R9v/wCmf/j1U6KOZhzMufb/APpn/wCPVnahL59wrY24XGM57mparXH+sH0rnxMn7M9DL6ca1fkqaqxDijFLRXmczPov7Owv8v4v/MTFGKWijmYf2dhf5fxf+YmKMVg6/wCM9L8Oatpunah5xm1GQIhiQFYhuC7nJIwuWAzzW/VXkkn0J+oYRtx5dV5v/MTFGKWip5mV/Z2F/l/F/wCYmKMUtFHMw/s7C/y/i/8AMTFGKWijmYf2dhf5fxf+YmKMUtFHMw/s7C/y/i/8wAxRRRS3OyEI04qMdkFFFFIoKKKwNf8AGel+HNW03TtQ84zajIEQxICsQ3BdzkkYXLAZ5qoxcnZbilJRXNLY36KKKkYUUUUAUrbSLG01W81KCDbeXoQTyl2O8IMKME4AHtirtFFO7YWS2CiiikAUUUUAFFFFABRRRQAUVga/4z0vw5q2m6dqHnGbUZAiGJAViG4LuckjC5YDPNb9VytJPoxcybceqCiiipGFUrbSLG01W81KCDbeXoQTyl2O8IMKME4AHtirtFO7QWT3CiiikAUUUUAdL4R/5fP+Af8As1dJXN+Ef+Xz/gH/ALNXSV7uE/gr+up8/jP48vl+QUUUV0nIFFFFABRXP+NvGWneAvC82u6xFczWsLohS1RWcljgYDED9a5a1+OPh77XbRa/pHiHw1FdECC61rTjBDIT0AcM31yePehauyB6bnpNFAORkciigAooooAKKKKACiiigAooooA828bf8l2+GH/cW/8ASZa9Jrzbxt/yXb4Yf9xb/wBJlr0mgAooooAK828bf8l2+GH/AHFv/SZa9Jrzbxt/yXb4Yf8AcW/9JloA9JooooAKKKKACiiigAooooAK82+MRvgfBp0hbd77/hIoPIW6ZliL7JMbioJA+gr0msfXvDVn4iuNJlvZJ0bSr5L6AQsAGkUEANkHK/MemD70dV6r8w6NeT/I4L4iv40b4LeK/wDhIoNIim+zL5X9lTTSZi3jzd29Vx8uenvmvSNF+yf2DYf2Zs+x/Zo/s/l42+XtG3GOMYxVmeCK6tpLe5jWWGVCkkbjKspGCCPQiuDt/hBptmn2Wx8SeKLXSd2V0qHVWW3Vf7gOPMC+wehbtd7f1/XmD2Xlf8bf5HfSypDC8srBURSzMegA6mvnW71n+1vBmseJodI17+3rnV11vT500e4eJY4MLCvmhNpUxKcnOPnNe963osWueHLzRpbi5tYbuAwPLbOBKqkYO1mB5xxkg1Pp+m2umaPbaZaRhbS2gW3jjPOEVdoH5Clqm2t+n33/ADSGnok/n+X6s4nxB4kOoXHw81DSL6WKz1bUlLiKUqssbW0jBGwfmGccHuKsTaheD4922ni7nFk3hySY23mnyzILhQH29N2DjPXFP/4VXog8E2XhlLvUo7fTrk3Nhdxzhbm0fczDy3C8AbiBkHj1p+j/AA5sfD+vSeIbW/1PUtZNi9o0+pXXm+cCwYbvlGMFQAFwACeMnNO6Tutrt/fGyX3is7W8kvud7/ceS3OunxJoiSQeL9fl8aXGrmIaVp2oSxReULgrtCR4URCIbvNHcZLdq7PxlHfaP4kuLrxNe+KIfC0NpElne6LePizKj949yqfO5yAdzBxjOa5PTNN1XTfBI07TbLx/Y+LYy6xW9u0y2EcxYsApYm38gE9Scke5r1K/8AS67C/9s+JdcRb2CNNQsLS7VbaUhArhQULorc5Csucn1o5Wo2XT7tv6+bG2uZv/AIff+vkjm/GVg/iH4teCodO1u6sYZ9LvXN5ZFfNliIiOFcg7d2R8wGfTHWrfhh9T8PeN/E/hSTWb/VrCDTotQtJ9QnMs9uz71aMyHkjK5Geg/E1v6/8ADfRvEF5pl1JPf2E2k2z29g+n3HktbhtvzKQM5ATAzxgkEHNWvC/gfTfC326WK4vNSvtRYNeX+pTCaecAYVScAbQOAAAKGvdaXn+Ldvzv/wAOxLR3fl+Fr/5HA3+uaov7KMWrx6pdjUjpkLm9W4bzt5dQTvzuz1Gc1qeNYdT1f4neFNDtPEGpaRZXmn3cl2LCYo0wTyyBn+E5P3gMgZAxmpbj4IeH7nSbjSZdX186TISYNO+3/wCj2hJzmNNvY5wG3AZzjPNdfc+GLK68VaZr8ks4u9Mt5beFFYeWyybdxYYyT8oxgiqbTlzeb/J/qKzUFFf1qv0R594v1Cz0LxZonhrxF4t1TTNBj0qSY3S37Rzzzhwq+dOvzgbdxHIDH1IxW18Hbe7HhO6vLy+1i+jub6b7HPq1zLJJLbKxET7XPybl54AzwayPG2nyj4qR6lq1j4lXSzpYt4Lvw2Zy7v5hZln8g7wBxt4wdxyfTf8AhlHrq2mqvqzat/Zkl2DpKa2QbxYto3GTuAXztDfMAOeopQvytvz/APSvz7eQ576eX/pP5d/M7iiiikAUUUUAFFFFABRRRQAUUUUAeN/D2TxusviMeHLbw/Jpv/CSXu9r+4nSbPmDdgIhXGMY5rrdbv7yL40+FrGK7nS0n0++eW3WQiORl8vaWXoSMnBPTNQJ8J4ba7vptM8YeKdNS+u5LuS3tLuFYxJI2WIBiJ/Mmujk8K2k3iTSdcmubqS80q1ltotzrtkWQLuZ/lyW+UcgjqeKI6KN+i/9tt+Ypbyt1f8A7df8jynTdK1vXvBfijX7jxr4gt7jS9Q1H7BFbXZSOIRSMyhxyZBkYwxwF4AHWrHjWI+K/CPw01nULq9iudQ1HTxMLW7khUGSNmZgqkAOD0YcjoDXpGneC9O0zw3quiW8101tqk1zNM7updTOSX2kLgAZOMg++ar6h8P9K1LwNp/heW4vorfTVg+yXcMwS4heEAJIGxjdx6Y56UR0Sv05fw+L7ynrfz5vx2OU8U6Tfv8AEPwj4W03xLrenafNYXjXTxXrvNOqmMgGRyTuyfv/AHgMgEZq34vk0nRv7I0O+1/xddXEVszR2GjvLJd3ag482WSJd5x/vKD6GultPBNpbaxo2qTajqV7eaRbTW8U11MrtMJSCzSHaMn5RjGAPSk8QeCLXXdbt9Yg1PU9H1OGBrY3WmyojSQk52MHRlIB5HGQe9D2S9b/AHu36f8ADiW7+X5L/gnnGk+P9Y074K+LtRS4vnudG1GSwsJ9WjxcxoxjEZmDDll83nd1xzXbaT4In8Pwy3zeLPEGqO1pItxDqF550MrFc7lQj92Qem0gY45q3pXw50LTPD2s6I/2u/sdanee7W+uDK7M6qrfP97+EHJJOec9Kh0H4cW2h3KyN4i8RanHFC0Nvb6hqHmRQKw2/KoUZIBwC27ApS1i0t7fpr+P3/IcXZp+b/NW+48n0rTNX8Pfs96X40sfFmsre6fbxzQWaTBLPy/N2+U0IGHGCfmbJzz7V2Pjzw/b6r8YvBDS3upwfbYr0P8AZtQmi8vZCpHl7WGwnPO3G7vmutf4d6TJ8M18DG4vf7MWBYBMHTztoYMDnbtzkf3aseKvBNl4rTTmmvtQ02702UyWt7p04jmjJXawyVIwR14q5Nc113f46ERTUUutv+GNpoRb6WYVZ3WOHYGkcuxAXGSx5J9z1ryj4NSeOf8AhAfDq29t4eOhYOXkuJxdeX5jbjtCbN3XAzjpXrMNqIdPjtDLLKEiEXmStud8DGWPcnufWqHhfw7aeEvDNnoenSTS21mpWN52BcgsW5IAHU+lLZt+n6j6Jf10OA0XStS8T/FDxd9t8U63bWGk6jb/AGWxs7sxRhjCjHceSUP9zheScZNZnj7XLD7V4gl0zXPG15qdirBf7GSb7Hp0qLuCPsURsM4Lby3GeRXqGkeGrPRda1nU7WSd5tZnSe4WRgVVlQIAuACBgdyeawb74XaZeXeqNDrGt2Flq0jTXun2d2I4JZGXDP8Ad3gnqQGAOOQRkVDT5Ul0X42X9f8AALTV233/AA1Ob8Ra3rmt+FvhrPZ6xc6Td65d24up7TAyHtmZhtPynnkAggHBxxWj4bgv/Cvxek8Mrruq6tpt5oxvwuq3JuJIZVlEZ2ueQpB6dM10f/CCaZ/Z3hmy8+78vwzJHJZneuZCkZjHmfLzwecY5q83hqzfxrH4nMk/22OwawEe4eX5ZcOTjGd2R64x2rVtc7a2u/utp+Jmr8tn2X331/A8Y8F6re6lrz+DWvLnQtPutb1K7a9hkMcuolJzm2hdTlMZ3MchsDAwDmusuvC9rP8AtAoTf6umdFN1+71OdcMLgDZw3+r9U+6T2roZvhfoc/hq40Z5r0JJqT6pFdLKqz2twz798TBcLgk4yDx1zW1H4btk8VReIHuLiS9j0/7B8xXYybw+4gKPmyO2B7VEdOTy/wDkbfn/AJ9ypa83n/8AJX/L/LsYfgzULq68Y+OLe5u5po7XU4kgjkkLCFDbRnCg/dBJJwO+a4F9d12T9m611C31u9h1STVREt+ZmeVQb8oMknLALxtPBHHSvQNV+Geman4iutXi1TWdMe+VVv7bTr3yYrzaMAyADOdvGVKnFOj+GWiQ+ArfwjDNeJptvdC5jYOnmBhP5wXO3G3dx0zjvnmhdL/3fw3CWzt5/in/AJnGfFXwYmkfB3VDNr2valKtxBMXvdRdgzNLGpG0YG3uFxgHkYr03TdIi0TQZbS3ub65Xaz+ZfXclxJkjpvck446dKk8RaDY+KPDt7ouqq7Wl5EY5NjbWHcEHsQQCPpVfR9CPh7w7LYnVdS1UgO32jUpxLL93GMgAYGPT1ovo/67f5ClsvmZ9FFFYHAFFFFABRRRQAUUUUAQXrXa2Up05IZLoL+6SdyiFv8AaYAkD6A157pUuowfGON/GcNvDqN5pzw6V9gkLwCNG3yBiwDF+hyVC4HHNdtr+g23iLThaXc11blJBLFPaTtDLE4BAZWHfBI9OazNE8C2Gkaz/a9xfalq+pLGYo7rU7nzWhQ9VQABVz6gZ688mnHR3/rb+vkVdctv63Od+KK+I5/Dt8l1aWJ8NRusl81tOxvHt1IZtqsqop4/vHjpzV7xDpVvdafN4m0/Xk0mwu9JWC7kltvN3W3LKUyw2PhyATuzkcE1JN8LdKuFa1m1fXm0p2y2lHUW+zkf3em/b/s7sV0Oo+HbHU10+G43rZ2EqypZx4WKRkHybhjJCnBABAyBkHApK3Lb+trMrmSat/XVf16djz7Sr+/0jVDdJoLXd/FpQmgs57kQnTtOU7UjHytumcoWYcDIA3DAr0zTNQh1bSbTUbXd5F3Ck8e7rtZQRn86ytd8IWmu3v2s3t9YTvbNaTPZyKvnwk5MbblbjJOCMMMnBratbWGys4bW1jEcEEaxxoOiqBgD8hVXutf63/4HzuQ7aW/rb/g/KxLRRRUiCiiigAooooAKltv9YfpUVS23+sP0poa3LVFFFWahRRRQAV598Rpn8VY8AaLiS7vtj6lOOVsLYMGLN/ttjCr35PA5r0GuAtPhPBp893Lp/i/xRateTtPOYruEeY56knysn8aXVX2Ki7a9Sn4hstRuvjJothpepjSki0OYxTfZ1mYfvUDBA3yhsBeSDxnjmltotU8Q6n4l8Da7q7Xj2Atby01RbZEkQlvMUOi4VirIvQDIzXSa74Gsdfg0w3F/qVvqGmLtttUtbgR3IyAGy2MHdgZBXBqfw/4PsfDdnepYXN5JeXzb7nUbmUS3Mr4wGLMMcDoMbR6U+mvS/wCd/l/XcLrp5fL/AD/rsec64skV1rj6jdNrFrHNAdcltYRAl1INqQWEYLNtG5g0hLHhgO5A9E8OeIbjUtQ1HSdU0xNN1DTREXihuPOiaOQEoyttU/wsCCowR3py+C9IXwe/hspM1nICZJDIfOeQtvMpfrv3/Nn1/Kp9C8OQ6HLd3H2y71C8vWUz3d4yGRwo2qvyKqgAZ6AdSTmn0t/X9fp56ibT/r+v68jYooopCCiiigCnqf8Ax7L/AL4/kay61NT/AOPZf98fyNZdZS3Oap8QUUUVJmFFFFABRRRQAVQ1vVoNB0K91W7DGGzhaVwgyWwOg9z0q/RSew1ZPU8JbxX4cW48Oajc61bT6nPrAv8AVJE3EQgxMqoCR91AVUfie9d98UY7WX4Ya1f28cRee2iHnqg3OnmKVBPUj5iQPc10uraDbaxd6ZcXTzI+m3QuoRGQAzbSuGyDkYY9MVm+K/BUPi5DFe6zq1pavGI5LWzmRY5MNuyQyEk9O/YVpzLT1/y/yNozXPGT6f53Lmu6G+tWti9rdizvLG4W5t5mi8xQwUqQyZGQQxHUH3rz9C0d1FIAdYtDq5EWSII9S1FiSXz822GIIQPvZZf4toz3tt4ba38P3OlSa5q1yLjIN3PMhnjUgAqrBAAODzjIycHph974X0660S00yESWUViyPZvasFe3ZOFZSQR0JHIIOTnNJOzv/Xn+X369DOLtHlf9f1f7r9x3h3XG1u1uvtFobO7srl7W5g8wSBXUA5VsDKkMCCQDz0rXrO0XRYNDs5IYJJp3mmaeeedgZJpG6s2AB6DAAAAHFaNSyXa7sFFFFAgooooAKKKKACq1x/rB9Ks1WuP9YPpXNif4Z6uVf7yvRkVFFFeYfWhRRTZUMkLoHaMspG9Oq+4z3oGeUand2viS+8WSXVjqkwmQadYTWmnzTIohJYsHVSOZff8AhFa114ivdR+G2j+Jre4mimsLiGXUIkYpvCtsmRwOwyWwfQV2Wg6La+HdEt9LsTI0MAIDysC7kkksxAGSSSaq2fhTT7Kz1e0jMz22rTSTTwuwKo0gw4TjgHrznmun2kVoulrfL/PqcvspPV9b3+f+WyOfGsXg+JQu/tch0Z5DpQi8w+WJRF53mY6Z6rmmWmpA+BbrWNb1q/sYdVvmkge3ZnkWJm2xRRAhiNygH5Rn5ieOtbB8C6efCS6B9sv/AC1m88Xfmr5/mbt27dtxnt06Vd1LwvYanoNtpUhmgitDG1tLA+ySBoxhWU4xkfTFJyht6L5dfxBRqbvzfz2S9LHIeFdUkfx5caNbv4gTT7jTWnMes+YJUkDhd0bP82CG9etQ/wBuarH4KufDf2yY6+mpjSEuTKfMYMdyzbuv+qyc+ozXXaZ4PttN18azJqOpX999na3Ml5MGBQsG+6FAXGP4QB1yCeayINAF58Y7vWmsp4YbKyjRZXQqk87BhvXs22M7c+9WpQb+X4p/qtPmQ4VIx03v+DVvwevyO0hj8mFIwzNsULudsk4HUk9TT6KK5TsSsrBRRRSAKKKKACiiigArybU7u18SX3iyS6sdUmEyDTrCa00+aZFEJLFg6qRzL7/wivV5UMkLoHaMspG9Oq+4z3qhoOi2vh3RLfS7EyNDACA8rAu5JJLMQBkkkmtISUbvr/X9fMzqRcrLp/X9fI4268RXuo/DbR/E1vcTRTWFxDLqESMU3hW2TI4HYZLYPoKsDWLwfEoXf2uQ6M8h0oReYfLEoi87zMdM9VzXQWfhTT7Kz1e0jMz22rTSTTwuwKo0gw4TjgHrznmqh8C6efCS6B9sv/LWbzxd+avn+Zu3bt23Ge3TpWnPC7/re1/u6GXs52Wu36Xt9/Ux7TUgfAt1rGt61f2MOq3zSQPbszyLEzbYoogQxG5QD8oz8xPHWqvhXVJH8eXGjW7+IE0+401pzHrPmCVJA4XdGz/NghvXrXX6l4XsNT0G20qQzQRWhja2lgfZJA0YwrKcYyPpioNM8H22m6+NZk1HUr+++ztbmS8mDAoWDfdCgLjH8IA65BPNNSh73z/LQHCpePy/O7OR/tzVY/BVz4b+2THX01MaQlyZT5jBjuWbd1/1WTn1Ga9Lhj8mFIwzNsULudsk4HUk9TXFwaALz4x3etNZTww2VlGiyuhVJ52DDevZtsZ25967eoqNNK3XV/1+PzKpRak77LRf1+HyCiiisTcKKKKACiiigAoopsqGSF0DtGWUjenVfcZ70DPKNTu7XxJfeLJLqx1SYTINOsJrTT5pkUQksWDqpHMvv/CK1rrxFe6j8NtH8TW9xNFNYXEMuoRIxTeFbZMjgdhktg+grstB0W18O6Jb6XYmRoYAQHlYF3JJJZiAMkkk1Vs/Cmn2Vnq9pGZnttWmkmnhdgVRpBhwnHAPXnPNdPtIrRdLW+X+fU5fZSer63v8/wDLZHPjWLwfEoXf2uQ6M8h0oReYfLEoi87zMdM9VzTLTUgfAt1rGt61f2MOq3zSQPbszyLEzbYoogQxG5QD8oz8xPHWtg+BdPPhJdA+2X/lrN54u/NXz/M3bt27bjPbp0q7qXhew1PQbbSpDNBFaGNraWB9kkDRjCspxjI+mKTlDb0Xy6/iCjU3fm/nsl6WOQ8K6pI/jy40a3fxAmn3GmtOY9Z8wSpIHC7o2f5sEN69ah/tzVY/BVz4b+2THX01MaQlyZT5jBjuWbd1/wBVk59Rmuu0zwfbabr41mTUdSv777O1uZLyYMChYN90KAuMfwgDrkE81kQaALz4x3etNZTww2VlGiyuhVJ52DDevZtsZ2596tSg38vxT/VafMhwqRjpvf8ABq34PX5HaQx+TCkYZm2KF3O2ScDqSepp9FFcp2JWVgooopAdL4R/5fP+Af8As1dJXN+Ef+Xz/gH/ALNXSV7uE/gr+up8/jP48vl+QUUUV0nIFFFFAHlH7SX/ACRe9/6+oP8A0MVN8YfsX/DO9/8Ab9uPsdv5O7GfM3Jtx7/0zXY+NvBunePfC82haxLcw2szo5e1dVcFTkYLAj9K5e1+B/h77XbS6/q/iDxLFaENBa61qJnhjI6EIFUfgePapUbxlF9WvyKvaUZdl+pw2oXXiibWPhZ4ftvEOoaQ+qaNsvXgc5IEaknafl37QQGIJUnNbPj+4ttAn0bws/i/xzeXCWpdbHQVEuo3PzEiaSfAyAARt74zXoureB9N1jxpovie5mukvdFWRbeOJlETBxg7gVJPXjBFUfF3wz0rxdrVrrL6jq+j6rbRGBb3SLvyJWjJJ2E4PGSemDzVSfNr5tv8bfmRFW+5L8r/AJHj2g674s8RfCHx5ZW+s67He+H7sS2M93K0N+kSks0cpU5LbUbIJPJx2FQ+I/ivrmoal4Q1nRb64j07SdPtb3XEiuCEkaWVY3R1BAbGOM9Nx6V7V4N+G2ieB11ZNJkvJo9WcSXCXkwl5AIODjJzuJOSetY+hfA/wp4f8N69olo19Lba6gS4eeRGeNRnaEIQAYJyMg84ovaV10s/mlZ/f+gWvGz818m7/h+pV+Geq6h4p+InjfXG1O6m0eC8XTrC2M7NApjA3uq52gnCnI/vH1r1Cuf8EeC9M8A+GItD0Vp5LaOR5DJcMrSOzHJJKgA9h06AV0FN2SSXRBq22+v9fkFFFFIYUUUUAebeNv8Aku3ww/7i3/pMtek15t42/wCS7fDD/uLf+ky16TQAUUUUAFebeNv+S7fDD/uLf+ky16TXm3jb/ku3ww/7i3/pMtAHpNFFFABRRRQAUUUUAFFFeT6z4916z+KKywXMSeD7DUINGvkMaktcTRlvM3kZUIzRKeQOaFq0v6/q9l8weib7HrFFY/iLxZofhK3t5/Eeox6fDcyGKKSUNtLhS2MgHHCnr16dSBWefiT4STRLPV5tYW3sL2d7eGe4hkiBkUMzA71BXhTy2B+YoA6iiuLh+L/gSezuLlPEESi3dY3hkglSYswyAsLKHbI5+VT3q3feK9M1n4cX+v8Ah/xHHZ2YtnddVS2M/wBm2jljCRkkf3SM+1J6JvsC1djqaK5i/wDHnhzw3ZaePEOuRxyXVn9oileFl+0KoXcwUD7xLrhOpzgA4qzovi7RPFui3d54b1VZUg3xySeUyvbuB/FG4DDHXBHNOWl/II628zeorj9L8aaRpfgLSNV1vxKuppeIFivxZNFJfOc/ct0BbP8Asgdq2vD3inRvFNrNPod59oW3kMUyNG8UkTj+F0cBlP1Ap21a7CTuk+5rUVw3xO1XWrCPw5Z+HtVbSptU1mKyluUgjmKoyOThXBHUCq3hvVfEuk/E+bwjr+tR+ILeXS/7RiuzapbywESBNjKmFIPUHANKOr+/8Ff8hvT+u7t+Z6FRXKeH/Ednb+F9S1TV/FEepWtle3CTX0tr9lWAI+PK2/xbT8u7+L3q1oPjvw54mvnstI1Bnu1iE32ee3lt5GjP8arIqll9xkULXYDoaK8++HviIW/gzXdV8S6owt7PWr5WubyYsIo1mIVck8AcAAewFbujfEDw1r1xNb6ZqDvcQwfaGt5bSaGVov76I6BnHuoPajpfyT/C4Wf42/Gx0lFeUfD7X4PFfj3W9QudZ1154b+WKysTFcw2a2yIANyMgTeSxJDfPkDgd+sh+J3g+41VNPi1lDLJObaOUwSiCSX+4s5Xy2b2Dc0LVLz1Dv5HV0VxFjqF43x01ewe7nNlHodvKlsZD5auZZAWC9ASABn2rmPiX8WvDdz4B1208MeJ9mrRoFgltjJFuYSLuEU2ArHBPCsTjNC1St1/zsNL3ren4q569RTIiTChPJ2in0Ep3VwooooGFFFFABRRRQAUUUUAFFeeT6z4p8aeK9W0rwlqUOg6Tosy21zqbWq3E1xcYDNHGr/KqqCASQeSMV0Hh7TvEei/az4l8Sx65a7d8UjWC28sWPvA+WdrDH+yDRpa7HbWx0dFcv4f+JHhPxVqKWPh/V1vp5IfPAjgkCheMgsVChhkZUncPSmQ/E7wfcaqmnxayhlknNtHKYJRBJL/AHFnK+WzewbmnZ3sLpc6uiqMWtWE2vXGixz51C3gS4lh2N8sblgrbsYOSrcA54rn/EXxA0zTfCHiHVdLmNzPo7TWzr9kmdUukTcEYKuduSuWHygH7wqW0lf+u356DSbdjrqK8i8UfEI6x8GoNasLy6068SfTzeSpDPaKheVPMCs4G5MbgSCRjqea7fQviL4U8TaxJpeiazFdXiIZBHsdPMUHBZGYASD3UkVVndrt/kn+pKaaT/rqjpqK5rXPiH4Y8Oai9jq2pFLmKMSzRw20s/kIejSGNWCDvlscc1Pq/jjw1oWlWOp6rrFvBYagdtrdZLRy/IXGGUEcqpwT16dSBS6XKszeorN0HxBpvibSU1LRZ2ntHZlV3heI5BwRtcBh+VcFE3i/xP8AETxXp+neM59FstImt44IItOt5siSEMfmdCeue/ejW9v6/rUXS56fRXMXk91DeaBoA8TtDq5IuZ3awVzqEEWBKpwAke4upyOR2HWpdC1VY9S1vStQ17+1L+wm+0yr9j8n7JBKC0UeQMPgKfmBJPfFGm/9f1/kw1/r+vT70dFRXHWHxY8GatvGk6u18UtzckW1lPJhOM/dQ/MMjKfeHcVyEPxNm8W/AnW9SSSey1yHS7mZ3tLW4gjiKlgpjlYYJxg/K5IOelKXupvtr+f+Q0rteZ7BRXD+Fvid4U1T+ytFi1+K41Wa2QAEOVmkCDcBKRsZs9QGJzXcVclZkxd1cKp6uxXRL5lJDC3kIIPT5TVyqesf8gK//wCvaT/0E1D2FP4WeXfbrv8A5+pv+/ho+3Xf/P1N/wB/DUFFeddnzPNLuT/brv8A5+pv+/ho+3Xf/P1N/wB/DUFFF2HNLuT/AG67/wCfqb/v4aPt13/z9Tf9/DUFFF2HNLuT/brv/n6m/wC/ho+3Xf8Az9Tf9/DUFFF2HNLuT/brv/n6m/7+Gj7dd/8AP1N/38NYPibWZND0R7m3SOS5kkSC3SQ4UyOwVdx9BnJ9hVHw/NLcX2f+Ewt9ZManz7aFIdqk9CNnzKAfUmqV2rmlpcvNc6z7dd/8/U3/AH8NH267/wCfqb/v4a4i61fxBF450e1uBDZ6beTXEa264eSVUjJDs3RcnBCjn1Pal8SatqEWq3tva6mumR2OmG9VjGjee2WGG3A/KNo+7g/N16Ua6FezndK/9Xt+Z23267/5+pv+/ho+3Xf/AD9Tf9/DXJprN9q91p9jpx+zSiKK51KUKG8hWXIiAORvY+vRcnqRXS0NNbmb5lbUn+3Xf/P1N/38NH267/5+pv8Av4agoqbsnml3J/t13/z9Tf8Afw0fbrv/AJ+pv+/hqCii7Dml3J/t13/z9Tf9/DR9uu/+fqb/AL+GoKKLsOaXcn+3Xf8Az9Tf9/DWz4XuZ5tUkWaaSRfJJwzEjO5a5+tzwn/yFpf+uB/9CWrg3zI2oyftEdfijFFFdh7AYoxRRQAYoxRXmHja58d+FNBvfFb+J7N47OVXOjpp6iB4i4UJ5pPmbuQc5HPGKOo0m9Een4oxXB+LNQ1q48UeH9M0rX28PRXtncXE7/Z4ZSWTy9q/vAQPvnpU2tXOu+Efh/d3Nxr51a9eeJI7+e1ijFukjpGW2oApC5LZP48Uf1+Ngte1jtsUYrz6y8YXWgyeIbTVb6TXjYXFvDYOscaTXU00e4W+ECqWB5yAMKcnpmuv8PwarBokC+IbtLrUWBedokCxoxOdiYAyq9ATycZNAv6/r+v1NLFGKKKADFGKKKAJbaKOWQrLGrjGcMoNWvsNp/z6w/8AfsVBZf64/wC7V6rilY2gk0QfYbT/AJ9Yf+/Yo+w2n/PrD/37FT0VVkXyrsQfYbT/AJ9Yf+/Yo+w2n/PrD/37FT0UWQcq7EH2G0/59Yf+/Yo+w2n/AD6w/wDfsVPRRZByrsQfYbT/AJ9Yf+/Yo+w2n/PrD/37FT0hOFJAycdB3pWQcq7EP2G0/wCfWH/v2KPsNp/z6w/9+xXn+g+IvF8/xcTSvEgtbGyuNGkvYtMtwJDARMiDfLj5nwTnbhee+M1s+P8AxDf6ZYW2leHHVdd1VmS1dkDi3jQbpZ2B4IRex6syjvSdlFS/re36DUE5cv8AXc6f7Daf8+sP/fsUfYbT/n1h/wC/YrzPT/F+u33wu8FXU2pi2vtfuYre71PyY8xAh23KpHlhiUCjII+boTVjT/HGqx+G7qwSePWNffVbnS9KlKKguvLP+vkCcBIwTvKgD5cAZIqmrNq23/A/zRKUWk+//B/yZ6J9htP+fWH/AL9ij7Daf8+sP/fsU3ToLm10y2gv7xr65jjVZblkVDK2OW2qABk9hVmiyBJdiD7Daf8APrD/AN+xR9htP+fWH/v2Knoosh8q7EH2G0/59Yf+/Yo+w2n/AD6w/wDfsVPRRZByrsQfYbT/AJ9Yf+/Yo+w2n/PrD/37FT0UWQcq7EH2G0/59Yf+/YrmPEsUcOpRrFGqDyQcKuO5rrq5PxT/AMhSP/riP/QmrixqXsjuwKSrGLRRRXiHvBRRXN+PtVvdE8G3N9pk3kXMckKq+xWwGkVTwQR0JqoxcpKK66ClJRi5PodJRXOePtVvNE8EX+oaZN5F1CY9kmwNjMiqeCCOhNX9Z8RaV4etIp9ZvFt1lO2Ndpd5D6KqgsfwFCi2rrvb8v8AMTkk7M1KKy9H8SaRr9nLc6RepcRwkrKNrK0Z9GVgGH4isuL4k+EZpraOPWoc3WPLYxuEyRkBmK7UPsxBp8kr2sL2kErto6iisPSvGfh7W9UfT9L1OK4ukUsECsA6g4JRiAHHupNGq+MdC0W8a01C+Kzxp5kiRQSSmJf7z7FOwe7Yo5JXtYfPFq9zcoqK2uYLy1jubSVJoJVDxyRtuVlPQg1LU7FJ31QUUUUgCiiigAooooAKK5vx9qt7ong25vtMm8i5jkhVX2K2A0iqeCCOhNL4+1W80TwRf6hpk3kXUJj2SbA2MyKp4II6E1cYOVrdXb8v8yHNJtdlf8/8jo6Ky9Z8RaV4etIp9ZvFt1lO2Ndpd5D6KqgsfwFGj+JNI1+zludIvUuI4SVlG1laM+jKwDD8RS5XbmtoPmi2lfU1KK5eL4k+EZpraOPWoc3WPLYxuEyRkBmK7UPsxBq5pXjPw9reqPp+l6nFcXSKWCBWAdQcEoxADj3Umn7Oa6MSq03tJG5RWHqvjHQtFvGtNQvis8aeZIkUEkpiX+8+xTsHu2K17a5gvLWO5tJUmglUPHJG25WU9CDS5WlexXMr2uS0UUVIwooooAKKKKACiiub8fare6J4Nub7TJvIuY5IVV9itgNIqnggjoTVRi5SUV10FKSjFyfQ6Siuc8fareaJ4Iv9Q0ybyLqEx7JNgbGZFU8EEdCav6z4i0rw9aRT6zeLbrKdsa7S7yH0VVBY/gKFFtXXe35f5icknZmpRWXo/iTSNfs5bnSL1LiOElZRtZWjPoysAw/EVlxfEnwjNNbRx61Dm6x5bGNwmSMgMxXah9mINPkle1he0gldtHUUVh6V4z8Pa3qj6fpepxXF0ilggVgHUHBKMQA491Jo1XxjoWi3jWmoXxWeNPMkSKCSUxL/AHn2Kdg92xRySvaw+eLV7m5RUVtcwXlrHc2kqTQSqHjkjbcrKehBqWp2KTvqgooopAdL4R/5fP8AgH/s1dJXN+Ef+Xz/AIB/7NXSV7uE/gr+up8/jP48vl+QUUUV0nIFFFFABRXn/wAbfFGr+EPhhd6t4euhaXyTwok3lLJtDOAeGBHT2rltd1L4nfD7wvH4uuvFFn4r06NY3vLC40yO0dEcgZR4+pBYdfrg0k07+TsNp6Jbs9pork7r4neEdOstNudU1iOyTU7L7dbecjYaIAE/MARnkDGck8AGotQ+LPgfS9CsdYv/ABBBFZ6gnmWp8uQySrnG4Rhd+MgjJFN6Oz/r+rEp32/r+rnY0VyQ+KPg0+EH8UJrccmjxyiGS4jhkcxuTgKyBd6nkdQOo9a0NR8a+HtK1PSNPv8AUkiudaONPTY7Cfp/EAQPvDqRnNHWw/M3aKyLPxVo1/4ov/DtpeeZqunxrJdQCJx5asAV+cjac7hwCTWvR0uHkFFFFABRRRQB5t42/wCS7fDD/uLf+ky16TXm3jb/AJLt8MP+4t/6TLXpNABRRRQAV5t42/5Lt8MP+4t/6TLXpNeSfFfxDpfhX4sfDjWdeufsmn239qebN5bPt3QIg+VQSfmYDgd6APW6K82/4aD+GP8A0M3/AJIXP/xuj/hoP4Y/9DN/5IXP/wAboA9Jorzb/hoP4Y/9DN/5IXP/AMbo/wCGg/hj/wBDN/5IXP8A8boA9Jorzb/hoP4Y/wDQzf8Akhc//G6P+Gg/hj/0M3/khc//ABugDt/Eet23hvw1qGs3rYgsbd5m98DgfUnA/GvKdN+G/i7V/hPNp9x4isIv7bibULm3l0lmmE8p83Bl8/7wbA3beNo44rf/AOGg/hj/ANDN/wCSFz/8bo/4aD+GP/Qzf+SFz/8AG6Vt/P8Ar/L7h3tby/r/AD+85+615PGegfC3Ub2FWmfXEjuopFztnjilV8g99y5H4V0/xPhin8QeAY540lQ+IUJV1BGRDIRwfcA1B/w0H8Mf+hm/8kLn/wCN0f8ADQfwx/6Gb/yQuf8A43VX1v53/L/Ii2lvK35/5liOytj+0ZNcG3jMw8MowkKAsD9oZcg9uOPpXJ4CfC/4wIgCquqahhRwBmFCf1NdJ/w0H8Mf+hm/8kLn/wCN0f8ADQfwx/6Gb/yQuf8A43UNXjy+TX3u5onaXN5p/crFMQxS/FD4bmWNHMehXLoWUHa3lxDI9DyefermigJ8WfiQFAUNZWDEDufJk5+vAo/4aD+GP/Qzf+SFz/8AG6P+Gg/hj/0M3/khc/8Axuqn76a73/F3Jh7n4fhb/L8TltG8Vaj4a+DngCOyubPSrW/iaK51q+t2misQASvyggbmPALHHBzWp8Ibye/+InjW5uNYGtedFYOt8libRJxskAZUJORgYDAkNjI4rV/4aD+GP/Qzf+SFz/8AG6P+Gg/hj/0M3/khc/8Axuqcrycu4krQUe1iv8cZNNisfCcmuzGDTl8QQm5lWV4yieXJk7kIYfUHNY3hGfQj8W7GT4VXN1faZdW8v/CQyySTTwrtUeQfNmyfM3HGAx47V0P/AA0H8Mf+hm/8kLn/AON0f8NB/DH/AKGb/wAkLn/43Ux91/f+KsOWv3W/Fs4eaxvbv4U3k9n9q8mw8az3d59jiEsogW4bcyoVYMVJD4II+Wuv8L/8I94g8caXqNn451TxRe6fFM0K+RF5UKuu1hI8cK7SeMKzAkjpxVn/AIaD+GP/AEM3/khc/wDxuj/hoP4Y/wDQzf8Akhc//G6I+6rf1sl+gS11/rdv9Th5rG9u/hTeT2f2rybDxrPd3n2OISyiBbhtzKhVgxUkPggj5a6/wv8A8I94g8caXqNn451TxRe6fFM0K+RF5UKuu1hI8cK7SeMKzAkjpxVn/hoP4Y/9DN/5IXP/AMbo/wCGg/hj/wBDN/5IXP8A8boj7qt/WyX6BLXX+t2/1G+F7S61Dw38RbPTn8u7uNZ1CKB842u0ShT+ZFcToaaBq/gnTPDOueNtet7lUht5/Di2UImhlQr8gRbfzAAwzu9OSetdx/w0H8Mf+hm/8kLn/wCN0f8ADQfwx/6Gb/yQuf8A43RH3beiX3A9b+rf3lXVbW6vfix4wtNOZlu5/CMccDA8hy8oX9cVxHiPxn4cu/2dv+EWtbW4OsWVjDDc6f8AYn3WMkZXe8hKgIMg/MTkk8c5r0H/AIaD+GP/AEM3/khc/wDxuj/hoP4Y/wDQzf8Akhc//G6I6K39bt/qO9pX/rZL9D0aH/UR/wC6P5U+vNv+Gg/hj/0M3/khc/8Axuj/AIaD+GP/AEM3/khc/wDxugmKskj0mivNv+Gg/hj/ANDN/wCSFz/8bo/4aD+GP/Qzf+SFz/8AG6BnpNFebf8ADQfwx/6Gb/yQuf8A43R/w0H8Mf8AoZv/ACQuf/jdAHpNFebf8NB/DH/oZv8AyQuf/jdH/DQfwx/6Gb/yQuf/AI3QB6TRXm3/AA0H8Mf+hm/8kLn/AON0f8NB/DH/AKGb/wAkLn/43QBkR32l/DzXvFmi+O7eWPQPEd9Jf2+otC8lvIJlCyQSMo+RgRxnqOc9Kq/DW00EeNfGV54FtTH4bk06COGaOGRIZJQH3hS4G4jPUevvXQ/8NB/DH/oZv/JC5/8AjdH/AA0H8Mf+hm/8kLn/AON1LjdW8rfhbX0Kvrfzv+Nxnw502W6/ZwsLLSAlvdXWkSrEyAL+9cOA31yc5ritDTQNX8E6Z4Z1zxtr1vcqkNvP4cWyhE0MqFfkCLb+YAGGd3pyT1ruP+Gg/hj/ANDN/wCSFz/8bo/4aD+GP/Qzf+SFz/8AG60crzcu/wCl/wDMzStBR7f1+hBq3iTTfBPxpvb/AMTzPY2GpaNBDa3TRO6SSxySFoxtB+bDg4rN8I+br/gH4ofYrW4SW/1K/wDIgmiKSEvbJtBTqCcjjrzWz/w0H8Mf+hm/8kLn/wCN0f8ADQfwx/6Gb/yQuf8A43WdvdcfJr73c0TtJNd0/uVjktY8R6L4m/Z506z0+dbp7GTSrW+heJh5T+bGrRsGGCeDkc/rXa+MkWP4tfDoxqqkTXyAqMfL9mPH04HHtVf/AIaD+GP/AEM3/khc/wDxuj/hoP4Y/wDQzf8Akhc//G60crtvzv8AgkZpWVvK35/5nKwTReHPGXiy18T+NdS8LTXmpvd24WCDyr2B1XYUeSFi5UfIVB4x061oanoml6bo/wAL9N077Vdaemuq8R1GDZIwKSuCyFV28nIG0Y4ra/4aD+GP/Qzf+SFz/wDG6P8AhoP4Y/8AQzf+SFz/APG6mOiS7W/AqWrb73/E9JryDTPBGg+Lfi148k161nna3uLNY/KvZoMA24zxG656DrWt/wANB/DH/oZv/JC5/wDjdH/DQfwx/wChm/8AJC5/+N0db/10DpYi8X32n+B/iF4Q1XU/MtNBttPutPN2++RYWbyjGrty3IQjJ/Oq3gzWLbX/AIi/EHUrBJxaz2NiYXnhaIyqI5RvCtg7TjgkDI5q9/w0H8Mf+hm/8kLn/wCN0f8ADQfwx/6Gb/yQuf8A43SavFxfn+Oo07O68vwt/kX/AILwRw/Bfw4sMaRh7TcwVQMsWJJPuT3rz7RNc08fs4+IvCrTldb0jTb5b2zaNlaH94/UkY5yMf8A1jXZf8NB/DH/AKGb/wAkLn/43R/w0H8Mf+hm/wDJC5/+N06nvuXn/S/MUPcS8rFLxlBDb+BPh4tvEkSxa1pQjCKFCA8cY6cV6tXm3/DQfwx/6Gb/AMkLn/43R/w0H8Mf+hm/8kLn/wCN1Tldvzbf32/yJSskuyt+f+Z6TVPWP+QFf/8AXtJ/6Ca4L/hoP4Y/9DN/5IXP/wAbqtqXx9+GlxpN3DD4l3SSQOij7BcjJKkD/lnUPYJ/CzNorj/+FreDP+gz/wCSs3/xFH/C1vBn/QZ/8lZv/iK4OSXY+d9jV/lf3HYUVx//AAtbwZ/0Gf8AyVm/+Io/4Wt4M/6DP/krN/8AEUckuwexq/yv7jsKK4//AIWt4M/6DP8A5Kzf/EUf8LW8Gf8AQZ/8lZv/AIijkl2D2NX+V/cdhRXH/wDC1vBn/QZ/8lZv/iKP+FreDP8AoM/+Ss3/AMRRyS7B7Gr/ACv7iX4iWZuvDUU32VryOzvIbmaBU3+ZGrfONvfgnisqK/0vxF410GfwkiyR2Ila7uYbcxokZTCxkkDkk/d7da0P+FreDP8AoM/+Ss3/AMRR/wALW8Gf9Bn/AMlZv/iKqKklaxso1VG3I+v4mZ4l8W6FH480AvqUQGnz3K3XB/dExlcHj14rf8RXmnXGnWM8Fjaare3ZH9mLLEHyxGfMyQSFUfMT6D1Iqn/wtbwZ/wBBn/yVm/8AiKP+FreDP+gz/wCSs3/xFHK7LR6A4zumoPRf5vt5mRqtsmgXT2l9q15axvYvcpdRStE13fFjuJ2/ebATEZ4wcYOOO70l7qTRbJ9RXbdtboZxjGH2jd+ua5v/AIWt4M/6DP8A5Kzf/EUf8LW8Gf8AQZ/8lZv/AIihqTVrEzhVml7j+47CiuP/AOFreDP+gz/5Kzf/ABFH/C1vBn/QZ/8AJWb/AOIqeSXYz9jV/lf3HYUVx/8AwtbwZ/0Gf/JWb/4ij/ha3gz/AKDP/krN/wDEUckuwexq/wAr+47CiuP/AOFreDP+gz/5Kzf/ABFH/C1vBn/QZ/8AJWb/AOIo5Jdg9jV/lf3HYVueE/8AkLS/9cD/AOhLXmf/AAtbwZ/0Gf8AyVm/+IrV8PfGLwJY6g8t1rvloYioP2Oc85HontVQjLmWhrRpVFUTcX9x7NRXnn/C9/hv/wBDH/5I3H/xuj/he/w3/wChj/8AJG4/+N11nrcr7HodFeef8L3+G/8A0Mf/AJI3H/xuj/he/wAN/wDoY/8AyRuP/jdAcr7HodeK6p8RPCfjHxWIdf1y3sfDuj3O5LSXdv1KdTw7gDiJT0U/ePJGMCun/wCF7/Df/oY//JG4/wDjdH/C9/hv/wBDH/5I3H/xuhXTTGk7NWL3irxB8PSlhJ4xGm3Ec8Pn2ct/Y+chRu6MyEAnA4znpxWN8M7ezEPiu5t7ZrbwZc3Ak0+G9jMcRj8v986o/SInnnA68Dmrf/C9/hv/ANDH/wCSNx/8bo/4Xv8ADf8A6GP/AMkbj/43R0fmHvWSMO8sJZvCd94r0Ow/sq0tl26JaWVqIzBA7qs94EC/6x49xXglVA7sa6fwBeC51fXYtK1W51bQImg+xXVxctc/vChMqLKxJYD5DyTgkjiqn/C9/hv/ANDH/wCSNx/8bo/4Xv8ADf8A6GP/AMkbj/43T/r+v6/yBpvoeh0V55/wvf4b/wDQx/8Akjcf/G6P+F7/AA3/AOhj/wDJG4/+N0hcr7HodFeef8L3+G//AEMf/kjcf/G6P+F7/Df/AKGP/wAkbj/43QHK+x6XZf64/wC7V6vLbX49/DWOUl/EmBjH/Hjc/wDxurX/AA0D8Mf+hm/8kLn/AON1cdjaGiPSKK83/wCGgfhj/wBDN/5IXP8A8bo/4aB+GP8A0M3/AJIXP/xuqLPSKK83/wCGgfhj/wBDN/5IXP8A8bo/4aB+GP8A0M3/AJIXP/xugD0iivN/+Ggfhj/0M3/khc//ABuj/hoH4Y/9DN/5IXP/AMboA9Io6V5v/wANA/DH/oZv/JC5/wDjdH/DQPwx/wChm/8AJC5/+N0Ac5L8UPBZ+Olvqg8QWv2FNBktGnw20Sm4VgnTrgE1u6voXj238X674g01fDl3b3VsLe1a9uJ1kt7dVyUCrGRlmJYnJzx2GKm/4aB+GP8A0M3/AJIXP/xuj/hoH4Y/9DN/5IXP/wAbqWk48vr+N/8AP7ir+9f0/C3+RnfDGZIfgHaTeO7fSZNChsw8SlTN5kQJ/wBYjrgvu4AXOTjvVS/0u60zQ9P8R6jHJoEd/eQWtxFZjyf7F0olmEQZMeWS4QyOMEFsZAUGtz/hoH4Y/wDQzf8Akhc//G6P+Ggfhj/0M3/khc//ABurk7y5v6/p7el+5EVaPL/X9Lf7uxrfDW7uLvRdRJvrjUdOj1KaPS7y5kMjzWw24O88uA28BiSSAOTXZV5v/wANA/DH/oZv/JC5/wDjdH/DQPwx/wChm/8AJC5/+N0rjPSKK83/AOGgfhj/ANDN/wCSFz/8bo/4aB+GP/Qzf+SFz/8AG6APSKK83/4aB+GP/Qzf+SFz/wDG6P8AhoH4Y/8AQzf+SFz/APG6APSKK83/AOGgfhj/ANDN/wCSFz/8bo/4aB+GP/Qzf+SFz/8AG6APSK5PxT/yFI/+uI/9CasP/hoH4Y/9DN/5IXP/AMbrntf+N3w9vb9JLbxBvQRBSfsVwOcn1j965MXFypWirnZg5RjVvJ2OjoriP+FxeBP+g7/5Jz//ABFH/C4vAn/Qd/8AJOf/AOIrx/Y1P5X9x7Xt6X8y+87euO+Kyh/hzfI3RpYAcHH/AC2Sof8AhcXgT/oO/wDknP8A/EUf8Li8Cf8AQd/8k5//AIiqjTqRkpcr0a6Ezq0pRcedaruY3xB8CeH9I8DX99YWs8dxCYijNezuBmVQflZyDwe4rV8Q3tv4f+I2m65rgZNL/s17aO6MZdLecuDzgHbuXjPt9ak/4XF4E/6Dv/knP/8AEUf8Li8Cf9B3/wAk5/8A4itF7ayUot79+qsZP2GvLJLbt0dytoFxHrnjnX/EGkI/9kyafHbfaDGUW6mUkllyAWCr8uaxDa27fs3WimGPaY4XI2jBY3C5P15NdJ/wuLwJ/wBB3/yTn/8AiKP+FxeBP+g7/wCSc/8A8RTXtE1aD0a/C/8AmJ+ye811/G3n5EviWKOHx94KWFFjCy3SKFGML5B4HtwOK5uOSPRPFHiGDXfE97oElzfNcQYii8u6iZRtKs8bFiPukA8Y6Vv/APC4vAn/AEHf/JOf/wCIo/4XF4E/6Dv/AJJz/wDxFTFVErOD2tt537FSlSbupr7/ACt3N7wjp9ppfhWytdNkuZLVVLRtdR7JCGYtyu1cdeBgcYrZriP+FxeBP+g7/wCSc/8A8RR/wuLwJ/0Hf/JOf/4iolTqyk3yv7jSNWlGKjzL7zt6K4j/AIXF4E/6Dv8A5Jz/APxFH/C4vAn/AEHf/JOf/wCIqfY1P5X9xXt6X8y+87eiuI/4XF4E/wCg7/5Jz/8AxFH/AAuLwJ/0Hf8AyTn/APiKPY1P5X9we3pfzL7zt6K4j/hcXgT/AKDv/knP/wDEUf8AC4vAn/Qd/wDJOf8A+Io9jU/lf3B7el/MvvJvisof4c3yN0aWAHBx/wAtkrA+IPgTw/pHga/vrC1njuITEUZr2dwMyqD8rOQeD3FbP/C4vAn/AEHf/JOf/wCIo/4XF4E/6Dv/AJJz/wDxFbU1Wha0Xo79fLT8DGboTbbktrdPP/Mj8Q3tv4f+I2m65rgZNL/s17aO6MZdLecuDzgHbuXjPt9ai0C4j1zxzr/iDSEf+yZNPjtvtBjKLdTKSSy5ALBV+XNWf+FxeBP+g7/5Jz//ABFH/C4vAn/Qd/8AJOf/AOIqeWpy25XezX3jU6SlfnVrp/dbz8jmza27fs3WimGPaY4XI2jBY3C5P15NdT4lijh8feClhRYwst0ihRjC+QeB7cDiov8AhcXgT/oO/wDknP8A/EUf8Li8Cf8AQd/8k5//AIirftXJvke7f3qxEfZRjy862S6dDAjkj0TxR4hg13xPe6BJc3zXEGIovLuomUbSrPGxYj7pAPGOld74R0+00vwrZWumyXMlqqlo2uo9khDMW5XauOvAwOMVg/8AC4vAn/Qd/wDJOf8A+Io/4XF4E/6Dv/knP/8AEVMo1JRtyvp07adioypRk5c669e7v3/Q7eiuI/4XF4E/6Dv/AJJz/wDxFH/C4vAn/Qd/8k5//iKy9jU/lf3G3t6X8y+87eiuI/4XF4E/6Dv/AJJz/wDxFH/C4vAn/Qd/8k5//iKPY1P5X9we3pfzL7zt6K4j/hcXgT/oO/8AknP/APEUf8Li8Cf9B3/yTn/+Io9jU/lf3B7el/MvvO3rjvisof4c3yN0aWAHBx/y2Sof+FxeBP8AoO/+Sc//AMRR/wALi8Cf9B3/AMk5/wD4iqjTqRkpcr0a6Ezq0pRcedaruY3xB8CeH9I8DX99YWs8dxCYijNezuBmVQflZyDwe4rV8Q3tv4f+I2m65rgZNL/s17aO6MZdLecuDzgHbuXjPt9ak/4XF4E/6Dv/AJJz/wDxFH/C4vAn/Qd/8k5//iK0XtrJSi3v36qxk/Ya8sktu3R3K2gXEeueOdf8QaQj/wBkyafHbfaDGUW6mUkllyAWCr8uaxDa27fs3WimGPaY4XI2jBY3C5P15NdJ/wALi8Cf9B3/AMk5/wD4ij/hcXgT/oO/+Sc//wARTXtE1aD0a/C/+Yn7J7zXX8befkS+JYo4fH3gpYUWMLLdIoUYwvkHge3A4rm45I9E8UeIYNd8T3ugSXN81xBiKLy7qJlG0qzxsWI+6QDxjpW//wALi8Cf9B3/AMk5/wD4ij/hcXgT/oO/+Sc//wARUxVRKzg9rbed+xUpUm7qa+/yt3N7wjp9ppfhWytdNkuZLVVLRtdR7JCGYtyu1cdeBgcYrZriP+FxeBP+g7/5Jz//ABFH/C4vAn/Qd/8AJOf/AOIqJU6spN8r+40jVpRio8y+87eiuI/4XF4E/wCg7/5Jz/8AxFH/AAuLwJ/0Hf8AyTn/APiKn2NT+V/cV7el/MvvPXPCP/L5/wAA/wDZq6SvG/Dnxy+HVh9p+1+IfL37dv8AoVwc4znpH71t/wDDQfwx/wChm/8AJC5/+N17OGTjSSf9anh4uSlWbT/qx6TRXm3/AA0H8Mf+hm/8kLn/AON0f8NB/DH/AKGb/wAkLn/43XQcp6TRXm3/AA0H8Mf+hm/8kLn/AON0f8NB/DH/AKGb/wAkLn/43QBS/aRBPwWviATi5tyfb5xXN+MPiZpPjn4bHwd8PkvNf1nUIIrdo4LSRUt1BXczs6gAcEZ6c5JFdj/w0H8Mf+hm/wDJC5/+N0f8NB/DH/oZv/JC5/8AjdJRVnF7NjvqpLdHH634ch0r4s/CPQb1I7pbCwkibeu5WeOPhsH/AGlyPwrR+LvjDVPDnj7SrdNRtvCumz2bE+I20j7dLv3EmBRg8HCkj3zW/wD8NB/DH/oZv/JC5/8AjdH/AA0H8Mf+hm/8kLn/AON0227X7t/eSkl9yX3Hmvww8PS+MPB3xQ0a7lkuJr25Dxyz2v2ZnlId0kMXSPLBTt7VyNoNY8deGZvE5jnW48B6XaQQBm+/LFLudsdyI15/CveP+Gg/hj/0M3/khc//ABuj/hoP4Y/9DN/5IXP/AMbo1TuvL70rXHbSz7v7m72M/wCBCSa1aeJPHF1F5cviLU3eENyywR8KufYlh+Fes15t/wANB/DH/oZv/JC5/wDjdH/DQfwx/wChm/8AJC5/+N03bRLpp9wl1b6npNFebf8ADQfwx/6Gb/yQuf8A43R/w0H8Mf8AoZv/ACQuf/jdIZ6TRXm3/DQfwx/6Gb/yQuf/AI3R/wANB/DH/oZv/JC5/wDjdAB42/5Lt8MP+4t/6TLXpNeJXHxB8MeO/jt8O/8AhFNT+3/Yv7T+0f6PLFs323y/fVc52N0z0r22gAooooAKKKKACiiigAooooAKKKKACiiigAooooAKKKKACiiigAooooAKKKKACiiigAooooAKKKKACiiigAooooAKKKKACiiigAooooAKKKKACiiigAooooAKKKKACiiigAooooAKKKKACiiigAooooAKKKKACiiigAooooAKKKKACiiigAooooAKKKKACiiigAooooAKKKKACiiigAooooAKKKKACiiigAooooAKKKKACiiigAooooAKKKKACiiigAooooAKKKKACiiigAooooAKKKKACiiigAooooAKKKKACiiigAooooAKKKKACiiigAooooAKKKKACiiigAooooAKKKKACiiigAooooAKKKKACiiigAooooAKKKKACiiigAooooAKKKKACiiigAooooAKKKKACiiigAooooAKKKKACiiigAooooAKKKKACiiigAooooAKKKKACiiigAooooAKKKKACiiigAooooAKKKKACiiigD//2Q==)"
      ],
      "metadata": {
        "id": "w2JsZuGuNHWC"
      }
    },
    {
      "cell_type": "markdown",
      "source": [
        "* use more specific data (if the star player is injured, or who is playing on the field)\n",
        "\n",
        "* go more in depth and check on odds for betting websites\n",
        "\n",
        "* see if halftime predictions are worth pursuing\n",
        "\n",
        "* more in depth error-analysis"
      ],
      "metadata": {
        "id": "Gk8qMFFfrXvo"
      }
    }
  ],
  "metadata": {
    "accelerator": "GPU",
    "colab": {
      "collapsed_sections": [],
      "name": "sport_prediction_alex_presentation_ipynb",
      "provenance": [],
      "toc_visible": true
    },
    "kernelspec": {
      "display_name": "Python 3 (ipykernel)",
      "language": "python",
      "name": "python3"
    },
    "language_info": {
      "codemirror_mode": {
        "name": "ipython",
        "version": 3
      },
      "file_extension": ".py",
      "mimetype": "text/x-python",
      "name": "python",
      "nbconvert_exporter": "python",
      "pygments_lexer": "ipython3",
      "version": "3.8.10"
    }
  },
  "nbformat": 4,
  "nbformat_minor": 0
}